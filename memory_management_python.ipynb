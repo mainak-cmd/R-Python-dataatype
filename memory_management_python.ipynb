{
 "cells": [
  {
   "cell_type": "markdown",
   "id": "9ea8097f",
   "metadata": {},
   "source": [
    "#### Use context managers and the \"with\" statement"
   ]
  },
  {
   "cell_type": "markdown",
   "id": "4172bbb8",
   "metadata": {},
   "source": [
    "Use context managers and the \"with\" statement: Context managers, combined with the \"with\" statement, can help ensure that resources are properly released when they are no longer needed. For example, when working with files or network connections, using a context manager ensures that the resource is properly closed even if an exception is raised.\n",
    "\n"
   ]
  },
  {
   "cell_type": "markdown",
   "id": "e3e47638",
   "metadata": {},
   "source": [
    "The \"with\" statement in Python provides a convenient way to manage resources and ensure that they are properly released when they are no longer needed. The general syntax of the \"with\" statement is as follows:"
   ]
  },
  {
   "cell_type": "code",
   "execution_count": null,
   "id": "232c1971",
   "metadata": {},
   "outputs": [],
   "source": [
    "#with <context> as <variable>:\n",
    "    # code block\n",
    "    \n",
    "    "
   ]
  },
  {
   "cell_type": "code",
   "execution_count": 4,
   "id": "6e1d0ede",
   "metadata": {},
   "outputs": [],
   "source": [
    "with open('file.txt', 'w') as f:\n",
    "    f.write('This is the first line.\\n')\n",
    "    f.write('This is the second line.\\n')\n",
    "    f.write('This is the third line.\\n')"
   ]
  },
  {
   "cell_type": "code",
   "execution_count": 5,
   "id": "7befe403",
   "metadata": {},
   "outputs": [
    {
     "name": "stdout",
     "output_type": "stream",
     "text": [
      "This is the first line.\n",
      "This is the second line.\n",
      "This is the third line.\n",
      "\n"
     ]
    }
   ],
   "source": [
    "with open('file.txt', 'r') as f:\n",
    "    contents = f.read()\n",
    "    print(contents)\n"
   ]
  },
  {
   "cell_type": "code",
   "execution_count": 6,
   "id": "dd00dfd1",
   "metadata": {},
   "outputs": [
    {
     "name": "stdout",
     "output_type": "stream",
     "text": [
      "This is the first line.\n",
      "\n",
      "This is the second line.\n",
      "\n",
      "This is the third line.\n",
      "\n"
     ]
    }
   ],
   "source": [
    "with open('file.txt', 'r') as f:\n",
    "    for line in f:\n",
    "        print(line)"
   ]
  },
  {
   "cell_type": "markdown",
   "id": "c1b61b35",
   "metadata": {},
   "source": [
    "Avoid unnecessary object creation: Creating unnecessary objects can quickly consume memory. Use built-in types when possible and avoid creating new objects unnecessarily.\n"
   ]
  },
  {
   "cell_type": "markdown",
   "id": "116c7ba1",
   "metadata": {},
   "source": [
    "#### generators and iterators"
   ]
  },
  {
   "cell_type": "markdown",
   "id": "c41aed64",
   "metadata": {},
   "source": [
    "Use generators and iterators: Generators and iterators are a memory-efficient way to process large amounts of data. Instead of loading all data into memory at once, they generate data on-the-fly, which reduces memory usage."
   ]
  },
  {
   "cell_type": "markdown",
   "id": "c671b39d",
   "metadata": {},
   "source": [
    "generators and iterators"
   ]
  },
  {
   "cell_type": "markdown",
   "id": "24c7af3b",
   "metadata": {},
   "source": [
    "In Python, generators and iterators are used to iterate over sequences of data, such as lists or files. They are both powerful tools for working with large datasets, as they allow you to process the data one item at a time, rather than loading the entire dataset into memory at once."
   ]
  },
  {
   "cell_type": "markdown",
   "id": "30346c6f",
   "metadata": {},
   "source": [
    "Iterators are objects that represent a stream of data. They have two main methods: \"iter\" and \"next\". The \"iter\" method returns the iterator object itself, and the \"next\" method returns the next item in the stream."
   ]
  },
  {
   "cell_type": "code",
   "execution_count": 9,
   "id": "35011938",
   "metadata": {},
   "outputs": [
    {
     "name": "stdout",
     "output_type": "stream",
     "text": [
      "1\n",
      "2\n",
      "3\n",
      "4\n",
      "5\n"
     ]
    }
   ],
   "source": [
    "class MyIterator:\n",
    "    def __init__(self, data):\n",
    "        self.index = 0\n",
    "        self.data = data\n",
    "\n",
    "    def __iter__(self):\n",
    "        return self\n",
    "\n",
    "    def __next__(self):\n",
    "        if self.index >= len(self.data):\n",
    "            raise StopIteration\n",
    "\n",
    "        result = self.data[self.index]\n",
    "        self.index += 1\n",
    "        return result\n",
    "\n",
    "numbers = [1, 2, 3, 4, 5]\n",
    "it = MyIterator(numbers)\n",
    "\n",
    "for num in it:\n",
    "    print(num)"
   ]
  },
  {
   "cell_type": "markdown",
   "id": "68bf2585",
   "metadata": {},
   "source": [
    "Generators are a type of iterator that are defined using a function. They use the \"yield\" keyword to return each item in the stream one at a time. "
   ]
  },
  {
   "cell_type": "markdown",
   "id": "2f24d02f",
   "metadata": {},
   "source": [
    "When a yield statement is encountered in a generator function, the function's state is saved and the yielded value is returned to the caller. The function is then paused until the next value is requested by the caller, a"
   ]
  },
  {
   "cell_type": "code",
   "execution_count": 10,
   "id": "722b28e9",
   "metadata": {},
   "outputs": [
    {
     "name": "stdout",
     "output_type": "stream",
     "text": [
      "1\n",
      "2\n",
      "3\n",
      "4\n",
      "5\n"
     ]
    }
   ],
   "source": [
    "def my_generator(data):\n",
    "    for num in data:\n",
    "        yield num\n",
    "\n",
    "numbers = [1, 2, 3, 4, 5]\n",
    "gen = my_generator(numbers)\n",
    "\n",
    "for num in gen:\n",
    "    print(num)"
   ]
  },
  {
   "cell_type": "markdown",
   "id": "ae6dfab7",
   "metadata": {},
   "source": [
    "#### Use \"del\" to remove objects from memory"
   ]
  },
  {
   "cell_type": "markdown",
   "id": "0b144015",
   "metadata": {},
   "source": [
    "Use \"del\" to remove objects from memory: The \"del\" keyword can be used to remove objects from memory when they are no longer needed. This frees up memory that can be used by other parts of the program."
   ]
  },
  {
   "cell_type": "code",
   "execution_count": 11,
   "id": "e977b7f6",
   "metadata": {},
   "outputs": [],
   "source": [
    "my_list = [1, 2, 3, 4, 5]\n",
    "del my_list"
   ]
  },
  {
   "cell_type": "markdown",
   "id": "5ab5baff",
   "metadata": {},
   "source": [
    "e create a list called my_list and then use the del statement to remove it from memory. After this statement executes, the name my_list is no longer defined, and the list object it was referring to will be garbage collected if there are no other references to it."
   ]
  },
  {
   "cell_type": "markdown",
   "id": "9434b0d4",
   "metadata": {},
   "source": [
    "It's important to note that del only removes the reference to the object, not the object itself. If the object still has other references, it will not be garbage collected until all references to it have been removed."
   ]
  },
  {
   "cell_type": "markdown",
   "id": "a5ba4355",
   "metadata": {},
   "source": [
    "### Use the \"gc\" module to manage garbage collection"
   ]
  },
  {
   "cell_type": "markdown",
   "id": "8e8c5b1d",
   "metadata": {},
   "source": [
    "Use the \"gc\" module to manage garbage collection: The \"gc\" module provides functions for managing the garbage collector, including disabling it or manually triggering garbage collection."
   ]
  },
  {
   "cell_type": "markdown",
   "id": "074a4c63",
   "metadata": {},
   "source": [
    "#### Getting information about the garbage collector:"
   ]
  },
  {
   "cell_type": "code",
   "execution_count": 13,
   "id": "7024a959",
   "metadata": {},
   "outputs": [
    {
     "name": "stdout",
     "output_type": "stream",
     "text": [
      "1\n",
      "2\n",
      "3\n",
      "4\n",
      "5\n",
      "(529, 2, 3)\n",
      "(700, 10, 10)\n"
     ]
    }
   ],
   "source": [
    "import gc\n",
    "def my_generator(data):\n",
    "    for num in data:\n",
    "        yield num\n",
    "\n",
    "numbers = [1, 2, 3, 4, 5]\n",
    "gen = my_generator(numbers)\n",
    "\n",
    "for num in gen:\n",
    "    print(num)\n",
    "    \n",
    "print(gc.get_count())\n",
    "print(gc.get_threshold())"
   ]
  },
  {
   "cell_type": "markdown",
   "id": "f598b5f6",
   "metadata": {},
   "source": [
    "This code gets information about the current state of the garbage collector. The gc.get_count() function returns a tuple containing the number of objects that have been created since the last garbage collection, the number of objects that have been collected, and the total number of objects that currently exist."
   ]
  },
  {
   "cell_type": "markdown",
   "id": "1c50588d",
   "metadata": {},
   "source": [
    "#### This code sets the threshold for automatic garbage collection"
   ]
  },
  {
   "cell_type": "markdown",
   "id": "e1840a88",
   "metadata": {},
   "source": [
    "This code sets the threshold for automatic garbage collection. The first argument is the number of objects (1000) that can be created before garbage collection is triggered, and the second argument is the number of collections (10) that must occur before the threshold is reset."
   ]
  },
  {
   "cell_type": "code",
   "execution_count": 14,
   "id": "65c5e795",
   "metadata": {},
   "outputs": [],
   "source": [
    "import gc\n",
    "gc.set_threshold(1000, 10)"
   ]
  },
  {
   "cell_type": "code",
   "execution_count": null,
   "id": "d9d7b66a",
   "metadata": {},
   "outputs": [],
   "source": [
    "Manually triggering garbage collection:"
   ]
  },
  {
   "cell_type": "code",
   "execution_count": 15,
   "id": "ccbc8cf8",
   "metadata": {},
   "outputs": [
    {
     "data": {
      "text/plain": [
       "5420"
      ]
     },
     "execution_count": 15,
     "metadata": {},
     "output_type": "execute_result"
    }
   ],
   "source": [
    "import gc\n",
    "gc.collect()"
   ]
  },
  {
   "cell_type": "markdown",
   "id": "b26a20c0",
   "metadata": {},
   "source": [
    "#### Disabling automatic garbage collection:"
   ]
  },
  {
   "cell_type": "code",
   "execution_count": 16,
   "id": "58823883",
   "metadata": {},
   "outputs": [
    {
     "name": "stdout",
     "output_type": "stream",
     "text": [
      "1\n",
      "2\n",
      "3\n",
      "4\n",
      "5\n"
     ]
    }
   ],
   "source": [
    "import gc\n",
    "gc.disable()\n",
    "\n",
    "def my_generator(data):\n",
    "    for num in data:\n",
    "        yield num\n",
    "\n",
    "numbers = [1, 2, 3, 4, 5]\n",
    "gen = my_generator(numbers)\n",
    "\n",
    "for num in gen:\n",
    "    print(num)\n",
    "\n",
    "gc.enable()"
   ]
  },
  {
   "cell_type": "markdown",
   "id": "8a9018bc",
   "metadata": {},
   "source": [
    "This code disables automatic garbage collection before executing your code, which can be useful if you want to manage garbage collection manually. It then re-enables automatic garbage collection after your code has executed."
   ]
  },
  {
   "cell_type": "markdown",
   "id": "db94532b",
   "metadata": {},
   "source": [
    "#### Use memory profiling tools"
   ]
  },
  {
   "cell_type": "markdown",
   "id": "ace928e1",
   "metadata": {},
   "source": [
    "Use memory profiling tools: Memory profiling tools can help identify areas of the code that are using the most memory. Tools like memory_profiler and pympler can be used to identify memory leaks and optimize memory usage."
   ]
  },
  {
   "cell_type": "markdown",
   "id": "c46fd590",
   "metadata": {},
   "source": [
    "memory_profiler is a Python module that allows you to monitor memory usage in your Python code. It is particularly useful for identifying memory leaks and optimizing memory usage in your code."
   ]
  },
  {
   "cell_type": "code",
   "execution_count": 17,
   "id": "eca01579",
   "metadata": {},
   "outputs": [
    {
     "name": "stdout",
     "output_type": "stream",
     "text": [
      "ERROR: Could not find file C:\\Users\\MY PC\\AppData\\Local\\Temp\\ipykernel_7396\\2187805370.py\n",
      "1\n",
      "2\n",
      "3\n",
      "4\n",
      "5\n"
     ]
    }
   ],
   "source": [
    "from memory_profiler import profile\n",
    "\n",
    "@profile\n",
    "def my_generator(data):\n",
    "    for num in data:\n",
    "        yield num\n",
    "        \n",
    "numbers = [1, 2, 3, 4, 5]\n",
    "gen = my_generator(numbers)\n",
    "\n",
    "for num in gen:\n",
    "    print(num)\n",
    "        "
   ]
  },
  {
   "cell_type": "code",
   "execution_count": 29,
   "id": "727c082f",
   "metadata": {},
   "outputs": [],
   "source": [
    "file_path= \"D:/DataSCIENCE/metirials/Prograamming language/R-Python-dataatype/\"\n",
    "file_name = \"memory_alocation.py\""
   ]
  },
  {
   "cell_type": "code",
   "execution_count": 30,
   "id": "817afcba",
   "metadata": {},
   "outputs": [],
   "source": [
    "python_code= \"\"\"\"\n",
    "from memory_profiler import profile\n",
    "\n",
    "@profile\n",
    "def my_function():\n",
    "    for num in data:\n",
    "        yield num\"\"\""
   ]
  },
  {
   "cell_type": "code",
   "execution_count": 31,
   "id": "948e3e51",
   "metadata": {},
   "outputs": [],
   "source": [
    "with open(file_path + file_name, \"w\") as f:\n",
    "    f.write(python_code)"
   ]
  },
  {
   "cell_type": "code",
   "execution_count": null,
   "id": "9d3f3ac2",
   "metadata": {},
   "outputs": [],
   "source": []
  }
 ],
 "metadata": {
  "kernelspec": {
   "display_name": "Python 3 (ipykernel)",
   "language": "python",
   "name": "python3"
  },
  "language_info": {
   "codemirror_mode": {
    "name": "ipython",
    "version": 3
   },
   "file_extension": ".py",
   "mimetype": "text/x-python",
   "name": "python",
   "nbconvert_exporter": "python",
   "pygments_lexer": "ipython3",
   "version": "3.10.9"
  }
 },
 "nbformat": 4,
 "nbformat_minor": 5
}
