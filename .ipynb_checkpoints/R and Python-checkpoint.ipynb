{
 "cells": [
  {
   "cell_type": "markdown",
   "id": "61ab6ab0",
   "metadata": {},
   "source": [
    "<h1 style=\"font-size:36px\">R data type</h1>"
   ]
  },
  {
   "cell_type": "markdown",
   "id": "0ec0fc19",
   "metadata": {},
   "source": [
    "Numeric: This data type includes numbers with decimal places or without decimal places. For example, 3.14 or 2.\n",
    "\n",
    "Integer: This data type includes whole numbers. For example, 4, 6, 7.\n",
    "\n",
    "Character: This data type includes text or strings. For example, \"Hello\", \"World\".\n",
    "\n",
    "Logical: This data type includes TRUE and FALSE values.\n",
    "\n",
    "Date: This data type includes dates in a specific format. For example, \"2023-03-02\".\n",
    "\n",
    "Time: This data type includes time in a specific format. For example, \"12:30:45\".\n",
    "\n",
    "Factor: This data type includes categorical variables. For example, \"Male\" or \"Female\".\n",
    "\n",
    "Complex: This data type includes complex numbers with real and imaginary parts.\n",
    "\n",
    "Raw: This data type includes raw bytes of data."
   ]
  },
  {
   "cell_type": "markdown",
   "id": "e718ed29",
   "metadata": {},
   "source": [
    "<h1 style=\"font-size:36px\">Python data type</h1>"
   ]
  },
  {
   "cell_type": "markdown",
   "id": "4c3c6849",
   "metadata": {},
   "source": [
    "Integer: Integers are whole numbers, such as 1, 2, 3, etc. In Python, integers are represented by the int data type.\n",
    "\n",
    "Float: Floats are numbers with decimal points, such as 1.0, 2.5, 3.14, etc. In Python, floats are represented by the float data type.\n",
    "\n",
    "Boolean: Booleans represent True or False values. In Python, booleans are represented by the bool data type.\n",
    "\n",
    "String: Strings are sequences of characters, such as \"hello\", \"world\", \"Python\", etc. In Python, strings are represented by the str data type.\n",
    "\n",
    "List: Lists are ordered collections of elements. The elements can be of any data type, and they can be added, removed, or modified. In Python, lists are represented by the list data type.\n",
    "\n",
    "Tuple: Tuples are similar to lists, but they are immutable, meaning their elements cannot be changed once they are created. In Python, tuples are represented by the tuple data type.\n",
    "\n",
    "Dictionary: Dictionaries are unordered collections of key-value pairs. The keys must be unique and immutable, and the values can be of any data type. In Python, dictionaries are represented by the dict data type.\n",
    "\n",
    "Set: Sets are unordered collections of unique elements. They can be used to perform mathematical set operations such as union, intersection, and difference. In Python, sets are represented by the set data type."
   ]
  },
  {
   "cell_type": "markdown",
   "id": "7960c39a",
   "metadata": {},
   "source": [
    "<h1 style=\"font-size:36px\">data structure of R</h1>"
   ]
  },
  {
   "cell_type": "markdown",
   "id": "5a59d096",
   "metadata": {},
   "source": [
    "Vectors: A vector is a one-dimensional array that can hold data of the same type, such as numbers or characters.\n",
    "\n",
    "Matrices: A matrix is a two-dimensional array that can hold data of the same type. It is similar to a vector but with rows and columns.\n",
    "\n",
    "Data frames: A data frame is a two-dimensional table-like structure where each column can contain different types of data. It is commonly used to store data in a spreadsheet format.\n",
    "\n",
    "Lists: A list is a collection of objects of different types, such as vectors, matrices, or data frames.\n",
    "\n",
    "Factors: A factor is a vector that contains categorical data, such as levels of a variable.\n",
    "\n",
    "Arrays: An array is a multidimensional data structure that can hold data of the same type.\n",
    "\n",
    "Tables: A table is a data structure used for counting and tabulating data. It is often used for frequency tables or contingency tables."
   ]
  },
  {
   "cell_type": "code",
   "execution_count": 41,
   "id": "34721ae1",
   "metadata": {},
   "outputs": [
    {
     "data": {
      "text/html": [
       "<table class=\"dataframe\">\n",
       "<caption>A matrix: 3 × 4 of type dbl</caption>\n",
       "<tbody>\n",
       "\t<tr><td>1</td><td>4</td><td>7</td><td>10</td></tr>\n",
       "\t<tr><td>2</td><td>5</td><td>8</td><td>11</td></tr>\n",
       "\t<tr><td>3</td><td>6</td><td>9</td><td>12</td></tr>\n",
       "</tbody>\n",
       "</table>\n"
      ],
      "text/latex": [
       "A matrix: 3 × 4 of type dbl\n",
       "\\begin{tabular}{llll}\n",
       "\t 1 & 4 & 7 & 10\\\\\n",
       "\t 2 & 5 & 8 & 11\\\\\n",
       "\t 3 & 6 & 9 & 12\\\\\n",
       "\\end{tabular}\n"
      ],
      "text/markdown": [
       "\n",
       "A matrix: 3 × 4 of type dbl\n",
       "\n",
       "| 1 | 4 | 7 | 10 |\n",
       "| 2 | 5 | 8 | 11 |\n",
       "| 3 | 6 | 9 | 12 |\n",
       "\n"
      ],
      "text/plain": [
       "     [,1] [,2] [,3] [,4]\n",
       "[1,] 1    4    7    10  \n",
       "[2,] 2    5    8    11  \n",
       "[3,] 3    6    9    12  "
      ]
     },
     "metadata": {},
     "output_type": "display_data"
    },
    {
     "data": {
      "text/html": [
       "8"
      ],
      "text/latex": [
       "8"
      ],
      "text/markdown": [
       "8"
      ],
      "text/plain": [
       "[1] 8"
      ]
     },
     "metadata": {},
     "output_type": "display_data"
    },
    {
     "data": {
      "text/html": [
       "<style>\n",
       ".list-inline {list-style: none; margin:0; padding: 0}\n",
       ".list-inline>li {display: inline-block}\n",
       ".list-inline>li:not(:last-child)::after {content: \"\\00b7\"; padding: 0 .5ex}\n",
       "</style>\n",
       "<ol class=list-inline><li>5.5</li><li>6.5</li><li>7.5</li></ol>\n"
      ],
      "text/latex": [
       "\\begin{enumerate*}\n",
       "\\item 5.5\n",
       "\\item 6.5\n",
       "\\item 7.5\n",
       "\\end{enumerate*}\n"
      ],
      "text/markdown": [
       "1. 5.5\n",
       "2. 6.5\n",
       "3. 7.5\n",
       "\n",
       "\n"
      ],
      "text/plain": [
       "[1] 5.5 6.5 7.5"
      ]
     },
     "metadata": {},
     "output_type": "display_data"
    },
    {
     "data": {
      "text/html": [
       "<style>\n",
       ".list-inline {list-style: none; margin:0; padding: 0}\n",
       ".list-inline>li {display: inline-block}\n",
       ".list-inline>li:not(:last-child)::after {content: \"\\00b7\"; padding: 0 .5ex}\n",
       "</style>\n",
       "<ol class=list-inline><li>'blue'</li><li>'green'</li><li>'red'</li></ol>\n"
      ],
      "text/latex": [
       "\\begin{enumerate*}\n",
       "\\item 'blue'\n",
       "\\item 'green'\n",
       "\\item 'red'\n",
       "\\end{enumerate*}\n"
      ],
      "text/markdown": [
       "1. 'blue'\n",
       "2. 'green'\n",
       "3. 'red'\n",
       "\n",
       "\n"
      ],
      "text/plain": [
       "[1] \"blue\"  \"green\" \"red\"  "
      ]
     },
     "metadata": {},
     "output_type": "display_data"
    },
    {
     "data": {
      "text/html": [
       "15"
      ],
      "text/latex": [
       "15"
      ],
      "text/markdown": [
       "15"
      ],
      "text/plain": [
       "[1] 15"
      ]
     },
     "metadata": {},
     "output_type": "display_data"
    },
    {
     "data": {
      "text/plain": [
       "       y\n",
       "x       large medium small\n",
       "  blue      2      1     0\n",
       "  green     0      2     0\n",
       "  red       1      1     2"
      ]
     },
     "metadata": {},
     "output_type": "display_data"
    }
   ],
   "source": [
    "#Vectors\n",
    "y <- c(\"apple\", \"banana\", \"orange\")\n",
    "#Matrices\n",
    "x <- matrix(c(1, 2, 3, 4, 5, 6, 7, 8, 9, 10, 11, 12), nrow=3, ncol=4);x\n",
    "x[2, 3]\n",
    "rowMeans(x)\n",
    "#Data frames\n",
    "df <- data.frame(\n",
    "  name = c(\"John\", \"Sarah\", \"Adam\", \"Lisa\"),\n",
    "  age = c(25, 30, 35, 40),\n",
    "  gender = c(\"Male\", \"Female\", \"Male\", \"Female\"),\n",
    "  salary = c(50000, 60000, 70000, 80000)\n",
    ")\n",
    "#Lists\n",
    "x <- list(c(1, 2, 3), c(\"apple\", \"banana\", \"orange\"), matrix(1:9, nrow=3))\n",
    "#Factors\n",
    "x <- factor(c(\"red\", \"green\", \"blue\", \"red\", \"blue\", \"green\"));levels(x)\n",
    "#Arrays:\n",
    "x <- array(1:24, dim=c(2, 3, 4))\n",
    "x[1, 2, 3]\n",
    "#Tables\n",
    "x <- c(\"red\", \"blue\", \"green\", \"red\", \"red\", \"green\", \"blue\", \"blue\", \"red\")\n",
    "y <- c(\"small\", \"medium\", \"medium\", \"large\", \"small\", \"medium\", \"large\", \"large\", \"medium\")\n",
    "table(x, y)"
   ]
  },
  {
   "cell_type": "markdown",
   "id": "749e20bb",
   "metadata": {},
   "source": [
    "<h1 style=\"font-size:36px\">data structure of python</h1>"
   ]
  },
  {
   "cell_type": "markdown",
   "id": "78400224",
   "metadata": {},
   "source": [
    "Lists: A list is a mutable, ordered collection of elements, which can be of any data type.\n",
    "\n",
    "Tuples: A tuple is an immutable, ordered collection of elements, which can be of any data type.\n",
    "\n",
    "Sets: A set is an unordered collection of unique elements, which can be of any data type.\n",
    "\n",
    "Dictionaries: A dictionary is an unordered collection of key-value pairs, which can be of any data type.\n",
    "\n",
    "Strings: A string is a sequence of characters, which is immutable in Python.\n",
    "\n",
    "Arrays: An array is a collection of elements of the same data type.\n",
    "\n",
    "Python also provides specialized data structures for working with specific types of data, such as:\n",
    "\n",
    "Deques: A deque is a double-ended queue that allows adding and removing elements from both ends efficiently.\n",
    "\n",
    "Stacks: A stack is a collection of elements that follows the LIFO (Last-In-First-Out) principle.\n",
    "\n",
    "Queues: A queue is a collection of elements that follows the FIFO (First-In-First-Out) principle.\n",
    "\n",
    "Heaps: A heap is a tree-based data structure that allows efficient insertion, deletion, and retrieval of the minimum or maximum element."
   ]
  },
  {
   "cell_type": "markdown",
   "id": "eb35a2ff",
   "metadata": {},
   "source": [
    "Heaps:"
   ]
  },
  {
   "cell_type": "markdown",
   "id": "ccd8ab03",
   "metadata": {},
   "source": [
    "In Python, a heap is a binary tree data structure that satisfies the heap property: the value of each node is greater than or equal to (in a max-heap) or less than or equal to (in a min-heap) the values of its children.\n",
    "Heaps are commonly used in algorithms such as heap sort, priority queues, and graph algorithms like Dijkstra's algorithm."
   ]
  },
  {
   "cell_type": "code",
   "execution_count": 4,
   "id": "21801004",
   "metadata": {},
   "outputs": [],
   "source": [
    "import heapq\n",
    "data = [3, 1, 4, 1, 5, 9, 2, 6, 5, 3, 5]\n",
    "# convert the list to a max-heap\n",
    "heapq.heapify(data)\n",
    "#to add the value 7 to the heap, you can use the heappush()\n",
    "heapq.heappush(data, 7)\n",
    "#You can then use the heappop() function to remove and return the top element of the heap:\n",
    "top_element = heapq.heappop(data)"
   ]
  },
  {
   "cell_type": "code",
   "execution_count": null,
   "id": "4c74a248",
   "metadata": {},
   "outputs": [],
   "source": [
    "Queues"
   ]
  },
  {
   "cell_type": "markdown",
   "id": "bd82e1bc",
   "metadata": {},
   "source": [
    "In Python, a queue is a data structure that allows elements to be inserted at one end (the rear) and removed from the other end (the front). The first element inserted is the first to be removed, following the principle of First-In-First-Out (FIFO).\n"
   ]
  },
  {
   "cell_type": "code",
   "execution_count": 7,
   "id": "1e08c099",
   "metadata": {},
   "outputs": [],
   "source": [
    "import queue\n",
    "# create a queue\n",
    "q = queue.Queue()\n",
    "\n",
    "q.put(1)\n",
    "q.put(2)\n",
    "q.put(3)\n",
    "\n",
    "x = q.get() # x = 1\n",
    "y = q.get() # y = 2\n",
    "z = q.get() # z = 3"
   ]
  },
  {
   "cell_type": "markdown",
   "id": "c93f579c",
   "metadata": {},
   "source": [
    "stack"
   ]
  },
  {
   "cell_type": "markdown",
   "id": "57cf5c67",
   "metadata": {},
   "source": [
    "In Python, a stack is a data structure that allows elements to be inserted and removed only from one end, called the top of the stack. The last element inserted is the first to be removed, following the principle of Last-In-First-Out (LIFO)."
   ]
  },
  {
   "cell_type": "markdown",
   "id": "77a6287c",
   "metadata": {},
   "source": [
    "Python provides several built-in modules for implementing stacks, including list and deque. The choice of module depends on the specific application and requirements."
   ]
  },
  {
   "cell_type": "code",
   "execution_count": 8,
   "id": "6c413a85",
   "metadata": {},
   "outputs": [],
   "source": [
    "# create an empty stack\n",
    "stack = []\n",
    "\n",
    "# push elements onto the stack\n",
    "stack.append(1)\n",
    "stack.append(2)\n",
    "stack.append(3)\n",
    "\n",
    "# pop elements from the stack\n",
    "x = stack.pop() # x = 3\n",
    "y = stack.pop() # y = 2\n",
    "z = stack.pop() # z = 1"
   ]
  },
  {
   "cell_type": "markdown",
   "id": "bcde30cb",
   "metadata": {},
   "source": [
    "Deques"
   ]
  },
  {
   "cell_type": "markdown",
   "id": "ed751f15",
   "metadata": {},
   "source": [
    "a deque is a data structure that allows elements to be inserted and removed from both ends of the sequence.\n",
    "The name \"deque\" stands for \"double-ended queue\", and it provides the benefits of both stacks and queues."
   ]
  },
  {
   "cell_type": "code",
   "execution_count": 11,
   "id": "2e23ccef",
   "metadata": {},
   "outputs": [],
   "source": [
    "from collections import deque\n",
    "# create an empty deque\n",
    "d = deque()\n",
    "d.append(1)\n",
    "d.append(2)\n",
    "d.append(3)\n",
    "d.appendleft(0)\n",
    "d\n",
    "x = d.pop() # x = 3\n",
    "y = d.popleft() # y = 0"
   ]
  },
  {
   "cell_type": "code",
   "execution_count": 12,
   "id": "712eb016",
   "metadata": {},
   "outputs": [
    {
     "data": {
      "text/plain": [
       "deque([1, 2])"
      ]
     },
     "execution_count": 12,
     "metadata": {},
     "output_type": "execute_result"
    }
   ],
   "source": [
    "d"
   ]
  },
  {
   "cell_type": "markdown",
   "id": "14ace0ab",
   "metadata": {},
   "source": [
    "Arrays"
   ]
  },
  {
   "cell_type": "markdown",
   "id": "a8647c9a",
   "metadata": {},
   "source": [
    "In Python, an array is a collection of elements of the same data type, which are stored in contiguous memory locations. \n",
    "unlike in other programming languages like C, arrays in Python are not a built-in data type. Instead"
   ]
  },
  {
   "cell_type": "markdown",
   "id": "a2273109",
   "metadata": {},
   "source": [
    "Python provides lists, tuples, and NumPy arrays to handle arrays."
   ]
  },
  {
   "cell_type": "markdown",
   "id": "0c3de7a9",
   "metadata": {},
   "source": [
    "### lists"
   ]
  },
  {
   "cell_type": "markdown",
   "id": "df16ff25",
   "metadata": {},
   "source": [
    "#### lists A list can contain elements of different data types, and it's mutable, which means you can change its elements after it's created. Lists are created using square brackets [] or the list() function.\n"
   ]
  },
  {
   "cell_type": "markdown",
   "id": "2700ebbb",
   "metadata": {},
   "source": [
    "Ordered: The items in a list are ordered, which means that they have a specific position or index within the list.\n",
    "\n",
    "Mutable: Lists are mutable, which means that you can change, add or remove items from them after they have been created.\n",
    "\n",
    "Heterogeneous: Lists can contain elements of different data types, such as integers, floats, strings, and even other lists.\n",
    "\n",
    "Nesting: You can nest lists within other lists to create more complex data structures.\n",
    "\n",
    "Dynamic: Lists are dynamic, which means that you can add or remove items from them as needed.\n",
    "\n",
    "Indexing and Slicing: You can access individual items in a list using their index, and you can extract a subset of a list using slicing.\n",
    "\n",
    "Built-in methods: Lists have a number of built-in methods for working with their contents, including append(), remove(), sort(), count(), and many others."
   ]
  },
  {
   "cell_type": "code",
   "execution_count": null,
   "id": "9eeac416",
   "metadata": {},
   "outputs": [],
   "source": [
    "my_list = [1, 2, 3, 4, 5]"
   ]
  },
  {
   "cell_type": "code",
   "execution_count": 26,
   "id": "d9f58450",
   "metadata": {},
   "outputs": [
    {
     "name": "stdout",
     "output_type": "stream",
     "text": [
      "apple\n",
      "orange\n",
      "['apple', 'banana']\n",
      "3\n"
     ]
    }
   ],
   "source": [
    "my_list = ['apple', 'banana', 'orange']\n",
    "print(my_list[0])\n",
    "print(my_list[-1]) \n",
    "print(my_list[0:2])\n",
    "print(len(my_list))"
   ]
  },
  {
   "cell_type": "code",
   "execution_count": 25,
   "id": "1d5a1a51",
   "metadata": {},
   "outputs": [
    {
     "name": "stdout",
     "output_type": "stream",
     "text": [
      "['apple', 'banana', 'orange', 'grape']\n"
     ]
    }
   ],
   "source": [
    "list1 = ['apple', 'banana']\n",
    "list2 = ['orange', 'grape']\n",
    "\n",
    "my_list = list1 + list2\n",
    "\n",
    "print(my_list)"
   ]
  },
  {
   "cell_type": "code",
   "execution_count": 33,
   "id": "c0800dbd",
   "metadata": {},
   "outputs": [
    {
     "name": "stdout",
     "output_type": "stream",
     "text": [
      "False\n",
      "apple\n",
      "orange\n",
      "pear\n",
      "wer\n",
      "['apple', 'orange', 'pear', 'wer']\n"
     ]
    }
   ],
   "source": [
    "my_list = ['apple', 'banana', 'orange']\n",
    "\n",
    "my_list.append('pear')\n",
    "my_list.insert(4, 'wer')\n",
    "my_list.remove('banana')\n",
    "print('banana' in my_list)\n",
    "\n",
    "for element in my_list:\n",
    "    print(element)\n",
    "\n",
    "print(my_list)"
   ]
  },
  {
   "cell_type": "code",
   "execution_count": 2,
   "id": "08cc2dc1",
   "metadata": {},
   "outputs": [
    {
     "name": "stdout",
     "output_type": "stream",
     "text": [
      "[1, 2, 3]\n",
      "5\n",
      "7\n"
     ]
    }
   ],
   "source": [
    "matrix = [\n",
    "    [1, 2, 3],\n",
    "    [4, 5, 6],\n",
    "    [7, 8, 9]\n",
    "]\n",
    "\n",
    "# access nested list values\n",
    "print(matrix[0])  # output: [1, 2, 3]\n",
    "print(matrix[1][1])  # output: 5\n",
    "print(matrix[2][0])  # output: 7"
   ]
  },
  {
   "cell_type": "markdown",
   "id": "111b94fb",
   "metadata": {},
   "source": [
    "#### Tuples"
   ]
  },
  {
   "cell_type": "markdown",
   "id": "a899634e",
   "metadata": {},
   "source": [
    "Tuples\n",
    "Tuples are similar to lists, but they are immutable, which means you cannot change their elements once they are created. Tuples are created using parentheses () or the tuple() function."
   ]
  },
  {
   "cell_type": "markdown",
   "id": "cdaca76a",
   "metadata": {},
   "source": [
    "Ordered: The items in a tuple are ordered, which means that they have a specific position or index within the tuple.\n",
    "\n",
    "Immutable: Tuples are immutable, which means that you cannot change the values of the elements in a tuple after it has been created. However, you can create a new tuple by concatenating existing tuples or by creating a slice.\n",
    "\n",
    "Heterogeneous: Tuples can contain elements of different data types, such as integers, floats, strings, and even other tuples.\n",
    "\n",
    "Nesting: You can nest tuples within other tuples to create more complex data structures.\n",
    "\n",
    "Packing and Unpacking: You can \"pack\" multiple values into a tuple using parentheses, and \"unpack\" the values into separate variables using multiple assignment.\n",
    "\n",
    "Functions and Methods: Tuples have a number of built-in functions and methods for working with their contents, such as len(), count(), and index()."
   ]
  },
  {
   "cell_type": "markdown",
   "id": "e857b655",
   "metadata": {},
   "source": [
    "In Python, you can \"pack\" multiple values into a tuple using parentheses, and \"unpack\" the values into separate variables using multiple assignment. "
   ]
  },
  {
   "cell_type": "code",
   "execution_count": 3,
   "id": "4d4fa053",
   "metadata": {},
   "outputs": [
    {
     "name": "stdout",
     "output_type": "stream",
     "text": [
      "(1, 2, 3)\n",
      "1\n",
      "2\n",
      "3\n"
     ]
    }
   ],
   "source": [
    "# packing values into a tuple\n",
    "my_tuple = 1, 2, 3\n",
    "print(my_tuple)  # output: (1, 2, 3)\n",
    "\n",
    "# unpacking values from a tuple\n",
    "x, y, z = my_tuple\n",
    "print(x)  # output: 1\n",
    "print(y)  # output: 2\n",
    "print(z)  # output: 3"
   ]
  },
  {
   "cell_type": "code",
   "execution_count": 14,
   "id": "004644cf",
   "metadata": {},
   "outputs": [],
   "source": [
    "my_tuple = (1, 2, 3, 4, 5)"
   ]
  },
  {
   "cell_type": "code",
   "execution_count": 22,
   "id": "dc4e215e",
   "metadata": {},
   "outputs": [
    {
     "name": "stdout",
     "output_type": "stream",
     "text": [
      "apple\n",
      "orange\n",
      "('apple', 'banana')\n",
      "3\n",
      "True\n"
     ]
    }
   ],
   "source": [
    "my_tuple = ('apple', 'banana', 'orange')\n",
    "print(my_tuple[0])\n",
    "print(my_tuple[-1])\n",
    "print(my_tuple[0:2]) \n",
    "print(len(my_tuple))\n",
    "print('banana' in my_tuple)"
   ]
  },
  {
   "cell_type": "code",
   "execution_count": 23,
   "id": "b39eeb1a",
   "metadata": {},
   "outputs": [
    {
     "name": "stdout",
     "output_type": "stream",
     "text": [
      "apple\n",
      "banana\n",
      "orange\n"
     ]
    }
   ],
   "source": [
    "for element in my_tuple:\n",
    "    print(element)"
   ]
  },
  {
   "cell_type": "code",
   "execution_count": 21,
   "id": "2d80959b",
   "metadata": {},
   "outputs": [
    {
     "name": "stdout",
     "output_type": "stream",
     "text": [
      "('apple', 'banana', 'orange', 'grape')\n"
     ]
    }
   ],
   "source": [
    "tuple1 = ('apple', 'banana')\n",
    "tuple2 = ('orange', 'grape')\n",
    "\n",
    "my_tuple = tuple1 + tuple2\n",
    "\n",
    "print(my_tuple)"
   ]
  },
  {
   "cell_type": "markdown",
   "id": "3bc30349",
   "metadata": {},
   "source": [
    "### NumPy "
   ]
  },
  {
   "cell_type": "markdown",
   "id": "75fa372d",
   "metadata": {},
   "source": [
    "NumPy Arrays: NumPy is a powerful library for scientific computing in Python.\n",
    "It provides a high-performance multidimensional array object, which is called ndarray.\n",
    "NumPy arrays are homogeneous,\n",
    "which means they can only contain elements of the same data type. "
   ]
  },
  {
   "cell_type": "code",
   "execution_count": 15,
   "id": "e87abda5",
   "metadata": {},
   "outputs": [],
   "source": [
    "import numpy as np\n",
    "my_array = np.array([1, 2, 3, 4, 5])"
   ]
  },
  {
   "cell_type": "markdown",
   "id": "053d83e7",
   "metadata": {},
   "source": [
    "Sets:\n",
    "a set is an unordered collection of unique elements.\n",
    "Sets are useful when you want to store unique values and perform set operations such as union, intersection, and difference."
   ]
  },
  {
   "cell_type": "code",
   "execution_count": 16,
   "id": "6ea9a9b3",
   "metadata": {},
   "outputs": [],
   "source": [
    "my_set = {1, 2, 3, 4, 5}\n",
    "my_set = set([1, 2, 3, 4, 5])"
   ]
  },
  {
   "cell_type": "markdown",
   "id": "6d820575",
   "metadata": {},
   "source": [
    "### Dictionaries:"
   ]
  },
  {
   "cell_type": "markdown",
   "id": "a827a5c9",
   "metadata": {},
   "source": [
    "a dictionary is a collection of key-value pairs, where each key is unique and mapped to a corresponding value. Dictionaries are useful when you want to store data that can be accessed quickly by a unique identifier."
   ]
  },
  {
   "cell_type": "code",
   "execution_count": 17,
   "id": "7786b4ae",
   "metadata": {},
   "outputs": [],
   "source": [
    "my_dict = {'apple': 1, 'banana': 2, 'orange': 3}\n",
    "my_dict = dict(apple=1, banana=2, orange=3)"
   ]
  },
  {
   "cell_type": "code",
   "execution_count": 36,
   "id": "19ae1d9a",
   "metadata": {},
   "outputs": [
    {
     "name": "stdout",
     "output_type": "stream",
     "text": [
      "1\n",
      "None\n"
     ]
    }
   ],
   "source": [
    "print(my_dict['apple'])\n",
    "print(my_dict.get('name')) \n",
    "my_dict['apple'] = 1\n",
    "del my_dict['banana']\n"
   ]
  },
  {
   "cell_type": "code",
   "execution_count": 37,
   "id": "e7d746ff",
   "metadata": {},
   "outputs": [
    {
     "name": "stdout",
     "output_type": "stream",
     "text": [
      "Age is present\n"
     ]
    }
   ],
   "source": [
    "my_dict = {'name': 'John', 'age': 25, 'city': 'New York'}\n",
    "\n",
    "if 'age' in my_dict:\n",
    "    print('Age is present')\n",
    "else:\n",
    "    print('Age is not present')"
   ]
  },
  {
   "cell_type": "code",
   "execution_count": 38,
   "id": "417fc88d",
   "metadata": {},
   "outputs": [
    {
     "name": "stdout",
     "output_type": "stream",
     "text": [
      "name John\n",
      "age 25\n",
      "city New York\n"
     ]
    }
   ],
   "source": [
    "my_dict = {'name': 'John', 'age': 25, 'city': 'New York'}\n",
    "\n",
    "for key, value in my_dict.items():\n",
    "    print(key, value)"
   ]
  },
  {
   "cell_type": "code",
   "execution_count": null,
   "id": "a48d07c6",
   "metadata": {},
   "outputs": [],
   "source": [
    "\n",
    "print(my_dict.get('name')) "
   ]
  },
  {
   "cell_type": "markdown",
   "id": "c7379625",
   "metadata": {},
   "source": [
    "Mutable: Dictionaries are mutable, which means you can modify, add or remove items from them after they have been created.\n",
    "\n",
    "Unordered: The items in a dictionary are unordered, which means that the items have no specific order.\n",
    "\n",
    "Unique Keys: The keys in a dictionary must be unique. If you add a key that already exists, the new value will replace the old one.\n",
    "\n",
    "Key-Value pairs: A dictionary is a collection of key-value pairs, where each key is associated with a value. You can access the value of a key by using the key as an index.\n",
    "\n",
    "Dynamic: Dictionaries are dynamic, which means that you can add or remove items from them as needed.\n",
    "\n",
    "Nesting: You can nest dictionaries within other dictionaries to create more complex data structures.\n",
    "\n",
    "Built-in methods: Dictionaries have a number of built-in methods for working with their contents, including keys(), values(), and items(), among others."
   ]
  },
  {
   "cell_type": "code",
   "execution_count": 4,
   "id": "22ab93b0",
   "metadata": {},
   "outputs": [
    {
     "name": "stdout",
     "output_type": "stream",
     "text": [
      "John Doe\n",
      "john.doe@example.com\n",
      "Anytown\n"
     ]
    }
   ],
   "source": [
    "# create a nested dictionary\n",
    "employee = {\n",
    "    \"name\": \"John Doe\",\n",
    "    \"age\": 30,\n",
    "    \"position\": \"Developer\",\n",
    "    \"contact_info\": {\n",
    "        \"email\": \"john.doe@example.com\",\n",
    "        \"phone\": \"555-1234\",\n",
    "        \"address\": {\n",
    "            \"street\": \"123 Main St\",\n",
    "            \"city\": \"Anytown\",\n",
    "            \"state\": \"CA\",\n",
    "            \"zip\": \"12345\"\n",
    "        }\n",
    "    }\n",
    "}\n",
    "\n",
    "# access nested dictionary values\n",
    "print(employee[\"name\"])  # output: John Doe\n",
    "print(employee[\"contact_info\"][\"email\"])  # output: john.doe@example.com\n",
    "print(employee[\"contact_info\"][\"address\"][\"city\"])  # output: Anytown"
   ]
  },
  {
   "cell_type": "markdown",
   "id": "d2690bea",
   "metadata": {},
   "source": [
    "### Strings"
   ]
  },
  {
   "cell_type": "markdown",
   "id": "34671fec",
   "metadata": {},
   "source": [
    "Immutable: Strings are immutable, which means that you cannot change the characters in a string after it has been created. However, you can create a new string by concatenating existing strings or by creating a slice.\n",
    "\n",
    "Indexing and Slicing: You can access individual characters or substrings within a string using indexing and slicing.\n",
    "\n",
    "Concatenation: You can concatenate two or more strings together using the + operator.\n",
    "\n",
    "Multiplication: You can repeat a string multiple times using the * operator.\n",
    "\n",
    "Formatting: You can format strings using placeholders and format specifiers to insert variables or values into a string.\n",
    "\n",
    "Functions and Methods: Strings have a number of built-in functions and methods for working with their contents, such as len(), split(), join(), and upper().\n",
    "\n",
    "Unicode: In Python 3.x, strings are Unicode by default, which means that they can represent characters from any language or writing system."
   ]
  },
  {
   "cell_type": "markdown",
   "id": "69adaeb2",
   "metadata": {},
   "source": [
    "A string is a sequence of characters enclosed in either single quotes ('...') or double quotes (\"...\"). Strings are immutable, "
   ]
  },
  {
   "cell_type": "code",
   "execution_count": 18,
   "id": "a1f05888",
   "metadata": {},
   "outputs": [
    {
     "name": "stdout",
     "output_type": "stream",
     "text": [
      "['Hello', ' world!']\n"
     ]
    }
   ],
   "source": [
    "my_string = 'Hello, world!'\n",
    "\n",
    "my_list = my_string.split(',')\n",
    "\n",
    "print(my_list) "
   ]
  },
  {
   "cell_type": "markdown",
   "id": "415279b4",
   "metadata": {},
   "source": [
    "### dataframe in R"
   ]
  },
  {
   "cell_type": "markdown",
   "id": "62aa41c1",
   "metadata": {},
   "source": [
    "In R, a dataframe is a two-dimensional data structure where the data is organized in rows and columns. "
   ]
  },
  {
   "cell_type": "code",
   "execution_count": 1,
   "id": "c18ad3b0",
   "metadata": {},
   "outputs": [],
   "source": [
    "df <- data.frame(\n",
    "  name = c(\"John\", \"Sarah\", \"Adam\", \"Lisa\"),\n",
    "  age = c(25, 30, 35, 40),\n",
    "  gender = c(\"Male\", \"Female\", \"Male\", \"Female\"),\n",
    "  salary = c(50000, 60000, 70000, 80000)\n",
    ")"
   ]
  },
  {
   "cell_type": "markdown",
   "id": "37db3d08",
   "metadata": {},
   "source": [
    "Subsetting:You can subset a dataframe to extract a subset of rows or columns based on specific criteria.\n",
    "df[row,colloumn]"
   ]
  },
  {
   "cell_type": "code",
   "execution_count": 14,
   "id": "accbfb10",
   "metadata": {},
   "outputs": [
    {
     "data": {
      "text/html": [
       "<table class=\"dataframe\">\n",
       "<caption>A data.frame: 2 × 4</caption>\n",
       "<thead>\n",
       "\t<tr><th></th><th scope=col>name</th><th scope=col>age</th><th scope=col>gender</th><th scope=col>salary</th></tr>\n",
       "\t<tr><th></th><th scope=col>&lt;chr&gt;</th><th scope=col>&lt;dbl&gt;</th><th scope=col>&lt;chr&gt;</th><th scope=col>&lt;dbl&gt;</th></tr>\n",
       "</thead>\n",
       "<tbody>\n",
       "\t<tr><th scope=row>1</th><td>John </td><td>25</td><td>Male  </td><td>50000</td></tr>\n",
       "\t<tr><th scope=row>2</th><td>Sarah</td><td>30</td><td>Female</td><td>60000</td></tr>\n",
       "</tbody>\n",
       "</table>\n"
      ],
      "text/latex": [
       "A data.frame: 2 × 4\n",
       "\\begin{tabular}{r|llll}\n",
       "  & name & age & gender & salary\\\\\n",
       "  & <chr> & <dbl> & <chr> & <dbl>\\\\\n",
       "\\hline\n",
       "\t1 & John  & 25 & Male   & 50000\\\\\n",
       "\t2 & Sarah & 30 & Female & 60000\\\\\n",
       "\\end{tabular}\n"
      ],
      "text/markdown": [
       "\n",
       "A data.frame: 2 × 4\n",
       "\n",
       "| <!--/--> | name &lt;chr&gt; | age &lt;dbl&gt; | gender &lt;chr&gt; | salary &lt;dbl&gt; |\n",
       "|---|---|---|---|---|\n",
       "| 1 | John  | 25 | Male   | 50000 |\n",
       "| 2 | Sarah | 30 | Female | 60000 |\n",
       "\n"
      ],
      "text/plain": [
       "  name  age gender salary\n",
       "1 John  25  Male   50000 \n",
       "2 Sarah 30  Female 60000 "
      ]
     },
     "metadata": {},
     "output_type": "display_data"
    },
    {
     "data": {
      "text/html": [
       "<style>\n",
       ".list-inline {list-style: none; margin:0; padding: 0}\n",
       ".list-inline>li {display: inline-block}\n",
       ".list-inline>li:not(:last-child)::after {content: \"\\00b7\"; padding: 0 .5ex}\n",
       "</style>\n",
       "<ol class=list-inline><li>'John'</li><li>'Sarah'</li></ol>\n"
      ],
      "text/latex": [
       "\\begin{enumerate*}\n",
       "\\item 'John'\n",
       "\\item 'Sarah'\n",
       "\\end{enumerate*}\n"
      ],
      "text/markdown": [
       "1. 'John'\n",
       "2. 'Sarah'\n",
       "\n",
       "\n"
      ],
      "text/plain": [
       "[1] \"John\"  \"Sarah\""
      ]
     },
     "metadata": {},
     "output_type": "display_data"
    },
    {
     "data": {
      "text/html": [
       "<style>\n",
       ".list-inline {list-style: none; margin:0; padding: 0}\n",
       ".list-inline>li {display: inline-block}\n",
       ".list-inline>li:not(:last-child)::after {content: \"\\00b7\"; padding: 0 .5ex}\n",
       "</style>\n",
       "<ol class=list-inline><li>'John'</li><li>'Sarah'</li><li>'Adam'</li><li>'Lisa'</li></ol>\n"
      ],
      "text/latex": [
       "\\begin{enumerate*}\n",
       "\\item 'John'\n",
       "\\item 'Sarah'\n",
       "\\item 'Adam'\n",
       "\\item 'Lisa'\n",
       "\\end{enumerate*}\n"
      ],
      "text/markdown": [
       "1. 'John'\n",
       "2. 'Sarah'\n",
       "3. 'Adam'\n",
       "4. 'Lisa'\n",
       "\n",
       "\n"
      ],
      "text/plain": [
       "[1] \"John\"  \"Sarah\" \"Adam\"  \"Lisa\" "
      ]
     },
     "metadata": {},
     "output_type": "display_data"
    },
    {
     "data": {
      "text/html": [
       "<table class=\"dataframe\">\n",
       "<caption>A data.frame: 4 × 4</caption>\n",
       "<thead>\n",
       "\t<tr><th></th><th scope=col>name</th><th scope=col>age</th><th scope=col>gender</th><th scope=col>salary</th></tr>\n",
       "\t<tr><th></th><th scope=col>&lt;chr&gt;</th><th scope=col>&lt;dbl&gt;</th><th scope=col>&lt;chr&gt;</th><th scope=col>&lt;dbl&gt;</th></tr>\n",
       "</thead>\n",
       "<tbody>\n",
       "\t<tr><th scope=row>1</th><td>John </td><td>25</td><td>Male  </td><td>50000</td></tr>\n",
       "\t<tr><th scope=row>2</th><td>Sarah</td><td>30</td><td>Female</td><td>60000</td></tr>\n",
       "\t<tr><th scope=row>3</th><td>Adam </td><td>35</td><td>Male  </td><td>70000</td></tr>\n",
       "\t<tr><th scope=row>4</th><td>Lisa </td><td>40</td><td>Female</td><td>80000</td></tr>\n",
       "</tbody>\n",
       "</table>\n"
      ],
      "text/latex": [
       "A data.frame: 4 × 4\n",
       "\\begin{tabular}{r|llll}\n",
       "  & name & age & gender & salary\\\\\n",
       "  & <chr> & <dbl> & <chr> & <dbl>\\\\\n",
       "\\hline\n",
       "\t1 & John  & 25 & Male   & 50000\\\\\n",
       "\t2 & Sarah & 30 & Female & 60000\\\\\n",
       "\t3 & Adam  & 35 & Male   & 70000\\\\\n",
       "\t4 & Lisa  & 40 & Female & 80000\\\\\n",
       "\\end{tabular}\n"
      ],
      "text/markdown": [
       "\n",
       "A data.frame: 4 × 4\n",
       "\n",
       "| <!--/--> | name &lt;chr&gt; | age &lt;dbl&gt; | gender &lt;chr&gt; | salary &lt;dbl&gt; |\n",
       "|---|---|---|---|---|\n",
       "| 1 | John  | 25 | Male   | 50000 |\n",
       "| 2 | Sarah | 30 | Female | 60000 |\n",
       "| 3 | Adam  | 35 | Male   | 70000 |\n",
       "| 4 | Lisa  | 40 | Female | 80000 |\n",
       "\n"
      ],
      "text/plain": [
       "  name  age gender salary\n",
       "1 John  25  Male   50000 \n",
       "2 Sarah 30  Female 60000 \n",
       "3 Adam  35  Male   70000 \n",
       "4 Lisa  40  Female 80000 "
      ]
     },
     "metadata": {},
     "output_type": "display_data"
    },
    {
     "data": {
      "text/html": [
       "<table class=\"dataframe\">\n",
       "<caption>A data.frame: 4 × 2</caption>\n",
       "<thead>\n",
       "\t<tr><th scope=col>name</th><th scope=col>gender</th></tr>\n",
       "\t<tr><th scope=col>&lt;chr&gt;</th><th scope=col>&lt;chr&gt;</th></tr>\n",
       "</thead>\n",
       "<tbody>\n",
       "\t<tr><td>John </td><td>Male  </td></tr>\n",
       "\t<tr><td>Sarah</td><td>Female</td></tr>\n",
       "\t<tr><td>Adam </td><td>Male  </td></tr>\n",
       "\t<tr><td>Lisa </td><td>Female</td></tr>\n",
       "</tbody>\n",
       "</table>\n"
      ],
      "text/latex": [
       "A data.frame: 4 × 2\n",
       "\\begin{tabular}{ll}\n",
       " name & gender\\\\\n",
       " <chr> & <chr>\\\\\n",
       "\\hline\n",
       "\t John  & Male  \\\\\n",
       "\t Sarah & Female\\\\\n",
       "\t Adam  & Male  \\\\\n",
       "\t Lisa  & Female\\\\\n",
       "\\end{tabular}\n"
      ],
      "text/markdown": [
       "\n",
       "A data.frame: 4 × 2\n",
       "\n",
       "| name &lt;chr&gt; | gender &lt;chr&gt; |\n",
       "|---|---|\n",
       "| John  | Male   |\n",
       "| Sarah | Female |\n",
       "| Adam  | Male   |\n",
       "| Lisa  | Female |\n",
       "\n"
      ],
      "text/plain": [
       "  name  gender\n",
       "1 John  Male  \n",
       "2 Sarah Female\n",
       "3 Adam  Male  \n",
       "4 Lisa  Female"
      ]
     },
     "metadata": {},
     "output_type": "display_data"
    }
   ],
   "source": [
    "df[1:2, ];df[1:2,1] ;df[1:4,1] ;df[1:4,];df[ ,c(\"name\",\"gender\")]"
   ]
  },
  {
   "cell_type": "markdown",
   "id": "f04a7c64",
   "metadata": {},
   "source": [
    "Filtering: You can filter a dataframe to extract rows based on specific conditions"
   ]
  },
  {
   "cell_type": "code",
   "execution_count": 15,
   "id": "00ef60c6",
   "metadata": {},
   "outputs": [
    {
     "data": {
      "text/html": [
       "<table class=\"dataframe\">\n",
       "<caption>A data.frame: 2 × 4</caption>\n",
       "<thead>\n",
       "\t<tr><th></th><th scope=col>name</th><th scope=col>age</th><th scope=col>gender</th><th scope=col>salary</th></tr>\n",
       "\t<tr><th></th><th scope=col>&lt;chr&gt;</th><th scope=col>&lt;dbl&gt;</th><th scope=col>&lt;chr&gt;</th><th scope=col>&lt;dbl&gt;</th></tr>\n",
       "</thead>\n",
       "<tbody>\n",
       "\t<tr><th scope=row>3</th><td>Adam</td><td>35</td><td>Male  </td><td>70000</td></tr>\n",
       "\t<tr><th scope=row>4</th><td>Lisa</td><td>40</td><td>Female</td><td>80000</td></tr>\n",
       "</tbody>\n",
       "</table>\n"
      ],
      "text/latex": [
       "A data.frame: 2 × 4\n",
       "\\begin{tabular}{r|llll}\n",
       "  & name & age & gender & salary\\\\\n",
       "  & <chr> & <dbl> & <chr> & <dbl>\\\\\n",
       "\\hline\n",
       "\t3 & Adam & 35 & Male   & 70000\\\\\n",
       "\t4 & Lisa & 40 & Female & 80000\\\\\n",
       "\\end{tabular}\n"
      ],
      "text/markdown": [
       "\n",
       "A data.frame: 2 × 4\n",
       "\n",
       "| <!--/--> | name &lt;chr&gt; | age &lt;dbl&gt; | gender &lt;chr&gt; | salary &lt;dbl&gt; |\n",
       "|---|---|---|---|---|\n",
       "| 3 | Adam | 35 | Male   | 70000 |\n",
       "| 4 | Lisa | 40 | Female | 80000 |\n",
       "\n"
      ],
      "text/plain": [
       "  name age gender salary\n",
       "3 Adam 35  Male   70000 \n",
       "4 Lisa 40  Female 80000 "
      ]
     },
     "metadata": {},
     "output_type": "display_data"
    }
   ],
   "source": [
    "subset(df, age > 30)"
   ]
  },
  {
   "cell_type": "markdown",
   "id": "3f2ea270",
   "metadata": {},
   "source": [
    "Sorting:You can sort a dataframe based on specific column(s) using the order() function"
   ]
  },
  {
   "cell_type": "code",
   "execution_count": 16,
   "id": "8936ca44",
   "metadata": {},
   "outputs": [
    {
     "data": {
      "text/html": [
       "<table class=\"dataframe\">\n",
       "<caption>A data.frame: 4 × 4</caption>\n",
       "<thead>\n",
       "\t<tr><th></th><th scope=col>name</th><th scope=col>age</th><th scope=col>gender</th><th scope=col>salary</th></tr>\n",
       "\t<tr><th></th><th scope=col>&lt;chr&gt;</th><th scope=col>&lt;dbl&gt;</th><th scope=col>&lt;chr&gt;</th><th scope=col>&lt;dbl&gt;</th></tr>\n",
       "</thead>\n",
       "<tbody>\n",
       "\t<tr><th scope=row>1</th><td>John </td><td>25</td><td>Male  </td><td>50000</td></tr>\n",
       "\t<tr><th scope=row>2</th><td>Sarah</td><td>30</td><td>Female</td><td>60000</td></tr>\n",
       "\t<tr><th scope=row>3</th><td>Adam </td><td>35</td><td>Male  </td><td>70000</td></tr>\n",
       "\t<tr><th scope=row>4</th><td>Lisa </td><td>40</td><td>Female</td><td>80000</td></tr>\n",
       "</tbody>\n",
       "</table>\n"
      ],
      "text/latex": [
       "A data.frame: 4 × 4\n",
       "\\begin{tabular}{r|llll}\n",
       "  & name & age & gender & salary\\\\\n",
       "  & <chr> & <dbl> & <chr> & <dbl>\\\\\n",
       "\\hline\n",
       "\t1 & John  & 25 & Male   & 50000\\\\\n",
       "\t2 & Sarah & 30 & Female & 60000\\\\\n",
       "\t3 & Adam  & 35 & Male   & 70000\\\\\n",
       "\t4 & Lisa  & 40 & Female & 80000\\\\\n",
       "\\end{tabular}\n"
      ],
      "text/markdown": [
       "\n",
       "A data.frame: 4 × 4\n",
       "\n",
       "| <!--/--> | name &lt;chr&gt; | age &lt;dbl&gt; | gender &lt;chr&gt; | salary &lt;dbl&gt; |\n",
       "|---|---|---|---|---|\n",
       "| 1 | John  | 25 | Male   | 50000 |\n",
       "| 2 | Sarah | 30 | Female | 60000 |\n",
       "| 3 | Adam  | 35 | Male   | 70000 |\n",
       "| 4 | Lisa  | 40 | Female | 80000 |\n",
       "\n"
      ],
      "text/plain": [
       "  name  age gender salary\n",
       "1 John  25  Male   50000 \n",
       "2 Sarah 30  Female 60000 \n",
       "3 Adam  35  Male   70000 \n",
       "4 Lisa  40  Female 80000 "
      ]
     },
     "metadata": {},
     "output_type": "display_data"
    }
   ],
   "source": [
    "df[order(df$age), ]"
   ]
  },
  {
   "cell_type": "markdown",
   "id": "df3886fb",
   "metadata": {},
   "source": [
    "Aggregating:The aggregate() function can be used to group data based on specific column(s) and apply the aggregation function(s). "
   ]
  },
  {
   "cell_type": "code",
   "execution_count": 19,
   "id": "f080ac39",
   "metadata": {},
   "outputs": [
    {
     "data": {
      "text/html": [
       "<table class=\"dataframe\">\n",
       "<caption>A data.frame: 2 × 2</caption>\n",
       "<thead>\n",
       "\t<tr><th scope=col>gender</th><th scope=col>salary</th></tr>\n",
       "\t<tr><th scope=col>&lt;chr&gt;</th><th scope=col>&lt;dbl&gt;</th></tr>\n",
       "</thead>\n",
       "<tbody>\n",
       "\t<tr><td>Female</td><td>80000</td></tr>\n",
       "\t<tr><td>Male  </td><td>70000</td></tr>\n",
       "</tbody>\n",
       "</table>\n"
      ],
      "text/latex": [
       "A data.frame: 2 × 2\n",
       "\\begin{tabular}{ll}\n",
       " gender & salary\\\\\n",
       " <chr> & <dbl>\\\\\n",
       "\\hline\n",
       "\t Female & 80000\\\\\n",
       "\t Male   & 70000\\\\\n",
       "\\end{tabular}\n"
      ],
      "text/markdown": [
       "\n",
       "A data.frame: 2 × 2\n",
       "\n",
       "| gender &lt;chr&gt; | salary &lt;dbl&gt; |\n",
       "|---|---|\n",
       "| Female | 80000 |\n",
       "| Male   | 70000 |\n",
       "\n"
      ],
      "text/plain": [
       "  gender salary\n",
       "1 Female 80000 \n",
       "2 Male   70000 "
      ]
     },
     "metadata": {},
     "output_type": "display_data"
    }
   ],
   "source": [
    "aggregate(salary ~ gender, data = df, max)"
   ]
  },
  {
   "cell_type": "code",
   "execution_count": null,
   "id": "48d8315a",
   "metadata": {},
   "outputs": [],
   "source": [
    "Reshaping: You can reshape a dataframe from wide to long format or vice versa using the"
   ]
  },
  {
   "cell_type": "code",
   "execution_count": null,
   "id": "09c57fe6",
   "metadata": {},
   "outputs": [],
   "source": []
  },
  {
   "cell_type": "code",
   "execution_count": 20,
   "id": "b55a4116",
   "metadata": {},
   "outputs": [
    {
     "ename": "ERROR",
     "evalue": "Error in loadNamespace(x): there is no package called 'idyr'\n",
     "output_type": "error",
     "traceback": [
      "Error in loadNamespace(x): there is no package called 'idyr'\nTraceback:\n",
      "1. loadNamespace(x)",
      "2. withRestarts(stop(cond), retry_loadNamespace = function() NULL)",
      "3. withOneRestart(expr, restarts[[1L]])",
      "4. doWithOneRestart(return(expr), restart)"
     ]
    }
   ],
   "source": [
    "idyr::gather(df, key = \"variable\", value = \"value\", -name)"
   ]
  },
  {
   "cell_type": "markdown",
   "id": "fbc26f94",
   "metadata": {},
   "source": [
    "Machine learning"
   ]
  },
  {
   "cell_type": "code",
   "execution_count": 21,
   "id": "ffc9719a",
   "metadata": {},
   "outputs": [],
   "source": [
    "data(mtcars)"
   ]
  },
  {
   "cell_type": "code",
   "execution_count": 22,
   "id": "b5789545",
   "metadata": {},
   "outputs": [],
   "source": [
    "mtcars$mpg_high <- ifelse(mtcars$mpg > 20, 1, 0)"
   ]
  },
  {
   "cell_type": "code",
   "execution_count": 24,
   "id": "584a6bf0",
   "metadata": {},
   "outputs": [
    {
     "data": {
      "text/html": [
       "<table class=\"dataframe\">\n",
       "<caption>A data.frame: 32 × 12</caption>\n",
       "<thead>\n",
       "\t<tr><th></th><th scope=col>mpg</th><th scope=col>cyl</th><th scope=col>disp</th><th scope=col>hp</th><th scope=col>drat</th><th scope=col>wt</th><th scope=col>qsec</th><th scope=col>vs</th><th scope=col>am</th><th scope=col>gear</th><th scope=col>carb</th><th scope=col>mpg_high</th></tr>\n",
       "\t<tr><th></th><th scope=col>&lt;dbl&gt;</th><th scope=col>&lt;dbl&gt;</th><th scope=col>&lt;dbl&gt;</th><th scope=col>&lt;dbl&gt;</th><th scope=col>&lt;dbl&gt;</th><th scope=col>&lt;dbl&gt;</th><th scope=col>&lt;dbl&gt;</th><th scope=col>&lt;dbl&gt;</th><th scope=col>&lt;dbl&gt;</th><th scope=col>&lt;dbl&gt;</th><th scope=col>&lt;dbl&gt;</th><th scope=col>&lt;dbl&gt;</th></tr>\n",
       "</thead>\n",
       "<tbody>\n",
       "\t<tr><th scope=row>Mazda RX4</th><td>21.0</td><td>6</td><td>160.0</td><td>110</td><td>3.90</td><td>2.620</td><td>16.46</td><td>0</td><td>1</td><td>4</td><td>4</td><td>1</td></tr>\n",
       "\t<tr><th scope=row>Mazda RX4 Wag</th><td>21.0</td><td>6</td><td>160.0</td><td>110</td><td>3.90</td><td>2.875</td><td>17.02</td><td>0</td><td>1</td><td>4</td><td>4</td><td>1</td></tr>\n",
       "\t<tr><th scope=row>Datsun 710</th><td>22.8</td><td>4</td><td>108.0</td><td> 93</td><td>3.85</td><td>2.320</td><td>18.61</td><td>1</td><td>1</td><td>4</td><td>1</td><td>1</td></tr>\n",
       "\t<tr><th scope=row>Hornet 4 Drive</th><td>21.4</td><td>6</td><td>258.0</td><td>110</td><td>3.08</td><td>3.215</td><td>19.44</td><td>1</td><td>0</td><td>3</td><td>1</td><td>1</td></tr>\n",
       "\t<tr><th scope=row>Hornet Sportabout</th><td>18.7</td><td>8</td><td>360.0</td><td>175</td><td>3.15</td><td>3.440</td><td>17.02</td><td>0</td><td>0</td><td>3</td><td>2</td><td>0</td></tr>\n",
       "\t<tr><th scope=row>Valiant</th><td>18.1</td><td>6</td><td>225.0</td><td>105</td><td>2.76</td><td>3.460</td><td>20.22</td><td>1</td><td>0</td><td>3</td><td>1</td><td>0</td></tr>\n",
       "\t<tr><th scope=row>Duster 360</th><td>14.3</td><td>8</td><td>360.0</td><td>245</td><td>3.21</td><td>3.570</td><td>15.84</td><td>0</td><td>0</td><td>3</td><td>4</td><td>0</td></tr>\n",
       "\t<tr><th scope=row>Merc 240D</th><td>24.4</td><td>4</td><td>146.7</td><td> 62</td><td>3.69</td><td>3.190</td><td>20.00</td><td>1</td><td>0</td><td>4</td><td>2</td><td>1</td></tr>\n",
       "\t<tr><th scope=row>Merc 230</th><td>22.8</td><td>4</td><td>140.8</td><td> 95</td><td>3.92</td><td>3.150</td><td>22.90</td><td>1</td><td>0</td><td>4</td><td>2</td><td>1</td></tr>\n",
       "\t<tr><th scope=row>Merc 280</th><td>19.2</td><td>6</td><td>167.6</td><td>123</td><td>3.92</td><td>3.440</td><td>18.30</td><td>1</td><td>0</td><td>4</td><td>4</td><td>0</td></tr>\n",
       "\t<tr><th scope=row>Merc 280C</th><td>17.8</td><td>6</td><td>167.6</td><td>123</td><td>3.92</td><td>3.440</td><td>18.90</td><td>1</td><td>0</td><td>4</td><td>4</td><td>0</td></tr>\n",
       "\t<tr><th scope=row>Merc 450SE</th><td>16.4</td><td>8</td><td>275.8</td><td>180</td><td>3.07</td><td>4.070</td><td>17.40</td><td>0</td><td>0</td><td>3</td><td>3</td><td>0</td></tr>\n",
       "\t<tr><th scope=row>Merc 450SL</th><td>17.3</td><td>8</td><td>275.8</td><td>180</td><td>3.07</td><td>3.730</td><td>17.60</td><td>0</td><td>0</td><td>3</td><td>3</td><td>0</td></tr>\n",
       "\t<tr><th scope=row>Merc 450SLC</th><td>15.2</td><td>8</td><td>275.8</td><td>180</td><td>3.07</td><td>3.780</td><td>18.00</td><td>0</td><td>0</td><td>3</td><td>3</td><td>0</td></tr>\n",
       "\t<tr><th scope=row>Cadillac Fleetwood</th><td>10.4</td><td>8</td><td>472.0</td><td>205</td><td>2.93</td><td>5.250</td><td>17.98</td><td>0</td><td>0</td><td>3</td><td>4</td><td>0</td></tr>\n",
       "\t<tr><th scope=row>Lincoln Continental</th><td>10.4</td><td>8</td><td>460.0</td><td>215</td><td>3.00</td><td>5.424</td><td>17.82</td><td>0</td><td>0</td><td>3</td><td>4</td><td>0</td></tr>\n",
       "\t<tr><th scope=row>Chrysler Imperial</th><td>14.7</td><td>8</td><td>440.0</td><td>230</td><td>3.23</td><td>5.345</td><td>17.42</td><td>0</td><td>0</td><td>3</td><td>4</td><td>0</td></tr>\n",
       "\t<tr><th scope=row>Fiat 128</th><td>32.4</td><td>4</td><td> 78.7</td><td> 66</td><td>4.08</td><td>2.200</td><td>19.47</td><td>1</td><td>1</td><td>4</td><td>1</td><td>1</td></tr>\n",
       "\t<tr><th scope=row>Honda Civic</th><td>30.4</td><td>4</td><td> 75.7</td><td> 52</td><td>4.93</td><td>1.615</td><td>18.52</td><td>1</td><td>1</td><td>4</td><td>2</td><td>1</td></tr>\n",
       "\t<tr><th scope=row>Toyota Corolla</th><td>33.9</td><td>4</td><td> 71.1</td><td> 65</td><td>4.22</td><td>1.835</td><td>19.90</td><td>1</td><td>1</td><td>4</td><td>1</td><td>1</td></tr>\n",
       "\t<tr><th scope=row>Toyota Corona</th><td>21.5</td><td>4</td><td>120.1</td><td> 97</td><td>3.70</td><td>2.465</td><td>20.01</td><td>1</td><td>0</td><td>3</td><td>1</td><td>1</td></tr>\n",
       "\t<tr><th scope=row>Dodge Challenger</th><td>15.5</td><td>8</td><td>318.0</td><td>150</td><td>2.76</td><td>3.520</td><td>16.87</td><td>0</td><td>0</td><td>3</td><td>2</td><td>0</td></tr>\n",
       "\t<tr><th scope=row>AMC Javelin</th><td>15.2</td><td>8</td><td>304.0</td><td>150</td><td>3.15</td><td>3.435</td><td>17.30</td><td>0</td><td>0</td><td>3</td><td>2</td><td>0</td></tr>\n",
       "\t<tr><th scope=row>Camaro Z28</th><td>13.3</td><td>8</td><td>350.0</td><td>245</td><td>3.73</td><td>3.840</td><td>15.41</td><td>0</td><td>0</td><td>3</td><td>4</td><td>0</td></tr>\n",
       "\t<tr><th scope=row>Pontiac Firebird</th><td>19.2</td><td>8</td><td>400.0</td><td>175</td><td>3.08</td><td>3.845</td><td>17.05</td><td>0</td><td>0</td><td>3</td><td>2</td><td>0</td></tr>\n",
       "\t<tr><th scope=row>Fiat X1-9</th><td>27.3</td><td>4</td><td> 79.0</td><td> 66</td><td>4.08</td><td>1.935</td><td>18.90</td><td>1</td><td>1</td><td>4</td><td>1</td><td>1</td></tr>\n",
       "\t<tr><th scope=row>Porsche 914-2</th><td>26.0</td><td>4</td><td>120.3</td><td> 91</td><td>4.43</td><td>2.140</td><td>16.70</td><td>0</td><td>1</td><td>5</td><td>2</td><td>1</td></tr>\n",
       "\t<tr><th scope=row>Lotus Europa</th><td>30.4</td><td>4</td><td> 95.1</td><td>113</td><td>3.77</td><td>1.513</td><td>16.90</td><td>1</td><td>1</td><td>5</td><td>2</td><td>1</td></tr>\n",
       "\t<tr><th scope=row>Ford Pantera L</th><td>15.8</td><td>8</td><td>351.0</td><td>264</td><td>4.22</td><td>3.170</td><td>14.50</td><td>0</td><td>1</td><td>5</td><td>4</td><td>0</td></tr>\n",
       "\t<tr><th scope=row>Ferrari Dino</th><td>19.7</td><td>6</td><td>145.0</td><td>175</td><td>3.62</td><td>2.770</td><td>15.50</td><td>0</td><td>1</td><td>5</td><td>6</td><td>0</td></tr>\n",
       "\t<tr><th scope=row>Maserati Bora</th><td>15.0</td><td>8</td><td>301.0</td><td>335</td><td>3.54</td><td>3.570</td><td>14.60</td><td>0</td><td>1</td><td>5</td><td>8</td><td>0</td></tr>\n",
       "\t<tr><th scope=row>Volvo 142E</th><td>21.4</td><td>4</td><td>121.0</td><td>109</td><td>4.11</td><td>2.780</td><td>18.60</td><td>1</td><td>1</td><td>4</td><td>2</td><td>1</td></tr>\n",
       "</tbody>\n",
       "</table>\n"
      ],
      "text/latex": [
       "A data.frame: 32 × 12\n",
       "\\begin{tabular}{r|llllllllllll}\n",
       "  & mpg & cyl & disp & hp & drat & wt & qsec & vs & am & gear & carb & mpg\\_high\\\\\n",
       "  & <dbl> & <dbl> & <dbl> & <dbl> & <dbl> & <dbl> & <dbl> & <dbl> & <dbl> & <dbl> & <dbl> & <dbl>\\\\\n",
       "\\hline\n",
       "\tMazda RX4 & 21.0 & 6 & 160.0 & 110 & 3.90 & 2.620 & 16.46 & 0 & 1 & 4 & 4 & 1\\\\\n",
       "\tMazda RX4 Wag & 21.0 & 6 & 160.0 & 110 & 3.90 & 2.875 & 17.02 & 0 & 1 & 4 & 4 & 1\\\\\n",
       "\tDatsun 710 & 22.8 & 4 & 108.0 &  93 & 3.85 & 2.320 & 18.61 & 1 & 1 & 4 & 1 & 1\\\\\n",
       "\tHornet 4 Drive & 21.4 & 6 & 258.0 & 110 & 3.08 & 3.215 & 19.44 & 1 & 0 & 3 & 1 & 1\\\\\n",
       "\tHornet Sportabout & 18.7 & 8 & 360.0 & 175 & 3.15 & 3.440 & 17.02 & 0 & 0 & 3 & 2 & 0\\\\\n",
       "\tValiant & 18.1 & 6 & 225.0 & 105 & 2.76 & 3.460 & 20.22 & 1 & 0 & 3 & 1 & 0\\\\\n",
       "\tDuster 360 & 14.3 & 8 & 360.0 & 245 & 3.21 & 3.570 & 15.84 & 0 & 0 & 3 & 4 & 0\\\\\n",
       "\tMerc 240D & 24.4 & 4 & 146.7 &  62 & 3.69 & 3.190 & 20.00 & 1 & 0 & 4 & 2 & 1\\\\\n",
       "\tMerc 230 & 22.8 & 4 & 140.8 &  95 & 3.92 & 3.150 & 22.90 & 1 & 0 & 4 & 2 & 1\\\\\n",
       "\tMerc 280 & 19.2 & 6 & 167.6 & 123 & 3.92 & 3.440 & 18.30 & 1 & 0 & 4 & 4 & 0\\\\\n",
       "\tMerc 280C & 17.8 & 6 & 167.6 & 123 & 3.92 & 3.440 & 18.90 & 1 & 0 & 4 & 4 & 0\\\\\n",
       "\tMerc 450SE & 16.4 & 8 & 275.8 & 180 & 3.07 & 4.070 & 17.40 & 0 & 0 & 3 & 3 & 0\\\\\n",
       "\tMerc 450SL & 17.3 & 8 & 275.8 & 180 & 3.07 & 3.730 & 17.60 & 0 & 0 & 3 & 3 & 0\\\\\n",
       "\tMerc 450SLC & 15.2 & 8 & 275.8 & 180 & 3.07 & 3.780 & 18.00 & 0 & 0 & 3 & 3 & 0\\\\\n",
       "\tCadillac Fleetwood & 10.4 & 8 & 472.0 & 205 & 2.93 & 5.250 & 17.98 & 0 & 0 & 3 & 4 & 0\\\\\n",
       "\tLincoln Continental & 10.4 & 8 & 460.0 & 215 & 3.00 & 5.424 & 17.82 & 0 & 0 & 3 & 4 & 0\\\\\n",
       "\tChrysler Imperial & 14.7 & 8 & 440.0 & 230 & 3.23 & 5.345 & 17.42 & 0 & 0 & 3 & 4 & 0\\\\\n",
       "\tFiat 128 & 32.4 & 4 &  78.7 &  66 & 4.08 & 2.200 & 19.47 & 1 & 1 & 4 & 1 & 1\\\\\n",
       "\tHonda Civic & 30.4 & 4 &  75.7 &  52 & 4.93 & 1.615 & 18.52 & 1 & 1 & 4 & 2 & 1\\\\\n",
       "\tToyota Corolla & 33.9 & 4 &  71.1 &  65 & 4.22 & 1.835 & 19.90 & 1 & 1 & 4 & 1 & 1\\\\\n",
       "\tToyota Corona & 21.5 & 4 & 120.1 &  97 & 3.70 & 2.465 & 20.01 & 1 & 0 & 3 & 1 & 1\\\\\n",
       "\tDodge Challenger & 15.5 & 8 & 318.0 & 150 & 2.76 & 3.520 & 16.87 & 0 & 0 & 3 & 2 & 0\\\\\n",
       "\tAMC Javelin & 15.2 & 8 & 304.0 & 150 & 3.15 & 3.435 & 17.30 & 0 & 0 & 3 & 2 & 0\\\\\n",
       "\tCamaro Z28 & 13.3 & 8 & 350.0 & 245 & 3.73 & 3.840 & 15.41 & 0 & 0 & 3 & 4 & 0\\\\\n",
       "\tPontiac Firebird & 19.2 & 8 & 400.0 & 175 & 3.08 & 3.845 & 17.05 & 0 & 0 & 3 & 2 & 0\\\\\n",
       "\tFiat X1-9 & 27.3 & 4 &  79.0 &  66 & 4.08 & 1.935 & 18.90 & 1 & 1 & 4 & 1 & 1\\\\\n",
       "\tPorsche 914-2 & 26.0 & 4 & 120.3 &  91 & 4.43 & 2.140 & 16.70 & 0 & 1 & 5 & 2 & 1\\\\\n",
       "\tLotus Europa & 30.4 & 4 &  95.1 & 113 & 3.77 & 1.513 & 16.90 & 1 & 1 & 5 & 2 & 1\\\\\n",
       "\tFord Pantera L & 15.8 & 8 & 351.0 & 264 & 4.22 & 3.170 & 14.50 & 0 & 1 & 5 & 4 & 0\\\\\n",
       "\tFerrari Dino & 19.7 & 6 & 145.0 & 175 & 3.62 & 2.770 & 15.50 & 0 & 1 & 5 & 6 & 0\\\\\n",
       "\tMaserati Bora & 15.0 & 8 & 301.0 & 335 & 3.54 & 3.570 & 14.60 & 0 & 1 & 5 & 8 & 0\\\\\n",
       "\tVolvo 142E & 21.4 & 4 & 121.0 & 109 & 4.11 & 2.780 & 18.60 & 1 & 1 & 4 & 2 & 1\\\\\n",
       "\\end{tabular}\n"
      ],
      "text/markdown": [
       "\n",
       "A data.frame: 32 × 12\n",
       "\n",
       "| <!--/--> | mpg &lt;dbl&gt; | cyl &lt;dbl&gt; | disp &lt;dbl&gt; | hp &lt;dbl&gt; | drat &lt;dbl&gt; | wt &lt;dbl&gt; | qsec &lt;dbl&gt; | vs &lt;dbl&gt; | am &lt;dbl&gt; | gear &lt;dbl&gt; | carb &lt;dbl&gt; | mpg_high &lt;dbl&gt; |\n",
       "|---|---|---|---|---|---|---|---|---|---|---|---|---|\n",
       "| Mazda RX4 | 21.0 | 6 | 160.0 | 110 | 3.90 | 2.620 | 16.46 | 0 | 1 | 4 | 4 | 1 |\n",
       "| Mazda RX4 Wag | 21.0 | 6 | 160.0 | 110 | 3.90 | 2.875 | 17.02 | 0 | 1 | 4 | 4 | 1 |\n",
       "| Datsun 710 | 22.8 | 4 | 108.0 |  93 | 3.85 | 2.320 | 18.61 | 1 | 1 | 4 | 1 | 1 |\n",
       "| Hornet 4 Drive | 21.4 | 6 | 258.0 | 110 | 3.08 | 3.215 | 19.44 | 1 | 0 | 3 | 1 | 1 |\n",
       "| Hornet Sportabout | 18.7 | 8 | 360.0 | 175 | 3.15 | 3.440 | 17.02 | 0 | 0 | 3 | 2 | 0 |\n",
       "| Valiant | 18.1 | 6 | 225.0 | 105 | 2.76 | 3.460 | 20.22 | 1 | 0 | 3 | 1 | 0 |\n",
       "| Duster 360 | 14.3 | 8 | 360.0 | 245 | 3.21 | 3.570 | 15.84 | 0 | 0 | 3 | 4 | 0 |\n",
       "| Merc 240D | 24.4 | 4 | 146.7 |  62 | 3.69 | 3.190 | 20.00 | 1 | 0 | 4 | 2 | 1 |\n",
       "| Merc 230 | 22.8 | 4 | 140.8 |  95 | 3.92 | 3.150 | 22.90 | 1 | 0 | 4 | 2 | 1 |\n",
       "| Merc 280 | 19.2 | 6 | 167.6 | 123 | 3.92 | 3.440 | 18.30 | 1 | 0 | 4 | 4 | 0 |\n",
       "| Merc 280C | 17.8 | 6 | 167.6 | 123 | 3.92 | 3.440 | 18.90 | 1 | 0 | 4 | 4 | 0 |\n",
       "| Merc 450SE | 16.4 | 8 | 275.8 | 180 | 3.07 | 4.070 | 17.40 | 0 | 0 | 3 | 3 | 0 |\n",
       "| Merc 450SL | 17.3 | 8 | 275.8 | 180 | 3.07 | 3.730 | 17.60 | 0 | 0 | 3 | 3 | 0 |\n",
       "| Merc 450SLC | 15.2 | 8 | 275.8 | 180 | 3.07 | 3.780 | 18.00 | 0 | 0 | 3 | 3 | 0 |\n",
       "| Cadillac Fleetwood | 10.4 | 8 | 472.0 | 205 | 2.93 | 5.250 | 17.98 | 0 | 0 | 3 | 4 | 0 |\n",
       "| Lincoln Continental | 10.4 | 8 | 460.0 | 215 | 3.00 | 5.424 | 17.82 | 0 | 0 | 3 | 4 | 0 |\n",
       "| Chrysler Imperial | 14.7 | 8 | 440.0 | 230 | 3.23 | 5.345 | 17.42 | 0 | 0 | 3 | 4 | 0 |\n",
       "| Fiat 128 | 32.4 | 4 |  78.7 |  66 | 4.08 | 2.200 | 19.47 | 1 | 1 | 4 | 1 | 1 |\n",
       "| Honda Civic | 30.4 | 4 |  75.7 |  52 | 4.93 | 1.615 | 18.52 | 1 | 1 | 4 | 2 | 1 |\n",
       "| Toyota Corolla | 33.9 | 4 |  71.1 |  65 | 4.22 | 1.835 | 19.90 | 1 | 1 | 4 | 1 | 1 |\n",
       "| Toyota Corona | 21.5 | 4 | 120.1 |  97 | 3.70 | 2.465 | 20.01 | 1 | 0 | 3 | 1 | 1 |\n",
       "| Dodge Challenger | 15.5 | 8 | 318.0 | 150 | 2.76 | 3.520 | 16.87 | 0 | 0 | 3 | 2 | 0 |\n",
       "| AMC Javelin | 15.2 | 8 | 304.0 | 150 | 3.15 | 3.435 | 17.30 | 0 | 0 | 3 | 2 | 0 |\n",
       "| Camaro Z28 | 13.3 | 8 | 350.0 | 245 | 3.73 | 3.840 | 15.41 | 0 | 0 | 3 | 4 | 0 |\n",
       "| Pontiac Firebird | 19.2 | 8 | 400.0 | 175 | 3.08 | 3.845 | 17.05 | 0 | 0 | 3 | 2 | 0 |\n",
       "| Fiat X1-9 | 27.3 | 4 |  79.0 |  66 | 4.08 | 1.935 | 18.90 | 1 | 1 | 4 | 1 | 1 |\n",
       "| Porsche 914-2 | 26.0 | 4 | 120.3 |  91 | 4.43 | 2.140 | 16.70 | 0 | 1 | 5 | 2 | 1 |\n",
       "| Lotus Europa | 30.4 | 4 |  95.1 | 113 | 3.77 | 1.513 | 16.90 | 1 | 1 | 5 | 2 | 1 |\n",
       "| Ford Pantera L | 15.8 | 8 | 351.0 | 264 | 4.22 | 3.170 | 14.50 | 0 | 1 | 5 | 4 | 0 |\n",
       "| Ferrari Dino | 19.7 | 6 | 145.0 | 175 | 3.62 | 2.770 | 15.50 | 0 | 1 | 5 | 6 | 0 |\n",
       "| Maserati Bora | 15.0 | 8 | 301.0 | 335 | 3.54 | 3.570 | 14.60 | 0 | 1 | 5 | 8 | 0 |\n",
       "| Volvo 142E | 21.4 | 4 | 121.0 | 109 | 4.11 | 2.780 | 18.60 | 1 | 1 | 4 | 2 | 1 |\n",
       "\n"
      ],
      "text/plain": [
       "                    mpg  cyl disp  hp  drat wt    qsec  vs am gear carb\n",
       "Mazda RX4           21.0 6   160.0 110 3.90 2.620 16.46 0  1  4    4   \n",
       "Mazda RX4 Wag       21.0 6   160.0 110 3.90 2.875 17.02 0  1  4    4   \n",
       "Datsun 710          22.8 4   108.0  93 3.85 2.320 18.61 1  1  4    1   \n",
       "Hornet 4 Drive      21.4 6   258.0 110 3.08 3.215 19.44 1  0  3    1   \n",
       "Hornet Sportabout   18.7 8   360.0 175 3.15 3.440 17.02 0  0  3    2   \n",
       "Valiant             18.1 6   225.0 105 2.76 3.460 20.22 1  0  3    1   \n",
       "Duster 360          14.3 8   360.0 245 3.21 3.570 15.84 0  0  3    4   \n",
       "Merc 240D           24.4 4   146.7  62 3.69 3.190 20.00 1  0  4    2   \n",
       "Merc 230            22.8 4   140.8  95 3.92 3.150 22.90 1  0  4    2   \n",
       "Merc 280            19.2 6   167.6 123 3.92 3.440 18.30 1  0  4    4   \n",
       "Merc 280C           17.8 6   167.6 123 3.92 3.440 18.90 1  0  4    4   \n",
       "Merc 450SE          16.4 8   275.8 180 3.07 4.070 17.40 0  0  3    3   \n",
       "Merc 450SL          17.3 8   275.8 180 3.07 3.730 17.60 0  0  3    3   \n",
       "Merc 450SLC         15.2 8   275.8 180 3.07 3.780 18.00 0  0  3    3   \n",
       "Cadillac Fleetwood  10.4 8   472.0 205 2.93 5.250 17.98 0  0  3    4   \n",
       "Lincoln Continental 10.4 8   460.0 215 3.00 5.424 17.82 0  0  3    4   \n",
       "Chrysler Imperial   14.7 8   440.0 230 3.23 5.345 17.42 0  0  3    4   \n",
       "Fiat 128            32.4 4    78.7  66 4.08 2.200 19.47 1  1  4    1   \n",
       "Honda Civic         30.4 4    75.7  52 4.93 1.615 18.52 1  1  4    2   \n",
       "Toyota Corolla      33.9 4    71.1  65 4.22 1.835 19.90 1  1  4    1   \n",
       "Toyota Corona       21.5 4   120.1  97 3.70 2.465 20.01 1  0  3    1   \n",
       "Dodge Challenger    15.5 8   318.0 150 2.76 3.520 16.87 0  0  3    2   \n",
       "AMC Javelin         15.2 8   304.0 150 3.15 3.435 17.30 0  0  3    2   \n",
       "Camaro Z28          13.3 8   350.0 245 3.73 3.840 15.41 0  0  3    4   \n",
       "Pontiac Firebird    19.2 8   400.0 175 3.08 3.845 17.05 0  0  3    2   \n",
       "Fiat X1-9           27.3 4    79.0  66 4.08 1.935 18.90 1  1  4    1   \n",
       "Porsche 914-2       26.0 4   120.3  91 4.43 2.140 16.70 0  1  5    2   \n",
       "Lotus Europa        30.4 4    95.1 113 3.77 1.513 16.90 1  1  5    2   \n",
       "Ford Pantera L      15.8 8   351.0 264 4.22 3.170 14.50 0  1  5    4   \n",
       "Ferrari Dino        19.7 6   145.0 175 3.62 2.770 15.50 0  1  5    6   \n",
       "Maserati Bora       15.0 8   301.0 335 3.54 3.570 14.60 0  1  5    8   \n",
       "Volvo 142E          21.4 4   121.0 109 4.11 2.780 18.60 1  1  4    2   \n",
       "                    mpg_high\n",
       "Mazda RX4           1       \n",
       "Mazda RX4 Wag       1       \n",
       "Datsun 710          1       \n",
       "Hornet 4 Drive      1       \n",
       "Hornet Sportabout   0       \n",
       "Valiant             0       \n",
       "Duster 360          0       \n",
       "Merc 240D           1       \n",
       "Merc 230            1       \n",
       "Merc 280            0       \n",
       "Merc 280C           0       \n",
       "Merc 450SE          0       \n",
       "Merc 450SL          0       \n",
       "Merc 450SLC         0       \n",
       "Cadillac Fleetwood  0       \n",
       "Lincoln Continental 0       \n",
       "Chrysler Imperial   0       \n",
       "Fiat 128            1       \n",
       "Honda Civic         1       \n",
       "Toyota Corolla      1       \n",
       "Toyota Corona       1       \n",
       "Dodge Challenger    0       \n",
       "AMC Javelin         0       \n",
       "Camaro Z28          0       \n",
       "Pontiac Firebird    0       \n",
       "Fiat X1-9           1       \n",
       "Porsche 914-2       1       \n",
       "Lotus Europa        1       \n",
       "Ford Pantera L      0       \n",
       "Ferrari Dino        0       \n",
       "Maserati Bora       0       \n",
       "Volvo 142E          1       "
      ]
     },
     "metadata": {},
     "output_type": "display_data"
    }
   ],
   "source": [
    "mtcars"
   ]
  },
  {
   "cell_type": "code",
   "execution_count": 26,
   "id": "6ab8df49",
   "metadata": {},
   "outputs": [
    {
     "name": "stderr",
     "output_type": "stream",
     "text": [
      "Loading required package: ggplot2\n",
      "\n",
      "Loading required package: lattice\n",
      "\n"
     ]
    }
   ],
   "source": [
    "library(caret)"
   ]
  },
  {
   "cell_type": "markdown",
   "id": "564a5243",
   "metadata": {},
   "source": [
    "Split the data: We'll split the data into a training set (80% of the data) and a testing set (20% of the data)."
   ]
  },
  {
   "cell_type": "code",
   "execution_count": 27,
   "id": "a6b24773",
   "metadata": {},
   "outputs": [],
   "source": [
    "set.seed(123)\n",
    "train_index <- createDataPartition(mtcars$mpg_high, p = 0.8, list = FALSE)\n",
    "train_data <- mtcars[train_index, ]\n",
    "test_data <- mtcars[-train_index, ]"
   ]
  },
  {
   "cell_type": "markdown",
   "id": "f31a9598",
   "metadata": {},
   "source": [
    "Train the model: We'll use logistic regression to train the model on the training set. We'll use the glm() function to fit a logistic regression model to the data."
   ]
  },
  {
   "cell_type": "code",
   "execution_count": 28,
   "id": "0a9bdab8",
   "metadata": {},
   "outputs": [
    {
     "name": "stderr",
     "output_type": "stream",
     "text": [
      "Warning message:\n",
      "\"glm.fit: algorithm did not converge\"\n",
      "Warning message:\n",
      "\"glm.fit: fitted probabilities numerically 0 or 1 occurred\"\n"
     ]
    }
   ],
   "source": [
    "model <- glm(mpg_high ~ hp + cyl, data = train_data, family = \"binomial\")"
   ]
  },
  {
   "cell_type": "code",
   "execution_count": 30,
   "id": "0710b9c5",
   "metadata": {},
   "outputs": [],
   "source": [
    "predictions <- predict(model, newdata = test_data, type = \"response\")\n"
   ]
  },
  {
   "cell_type": "code",
   "execution_count": 33,
   "id": "be3079f9",
   "metadata": {},
   "outputs": [
    {
     "ename": "ERROR",
     "evalue": "Error in `$<-.data.frame`(`*tmp*`, mpg_high, value = structure(c(NA_integer_, : replacement has 26 rows, data has 6\n",
     "output_type": "error",
     "traceback": [
      "Error in `$<-.data.frame`(`*tmp*`, mpg_high, value = structure(c(NA_integer_, : replacement has 26 rows, data has 6\nTraceback:\n",
      "1. `$<-`(`*tmp*`, mpg_high, value = structure(c(NA_integer_, NA_integer_, \n . NA_integer_, NA_integer_, NA_integer_, NA_integer_, NA_integer_, \n . NA_integer_, NA_integer_, NA_integer_, NA_integer_, NA_integer_, \n . NA_integer_, NA_integer_, NA_integer_, NA_integer_, NA_integer_, \n . NA_integer_, NA_integer_, NA_integer_, NA_integer_, NA_integer_, \n . NA_integer_, NA_integer_, NA_integer_, NA_integer_), .Label = character(0), class = \"factor\"))",
      "2. `$<-.data.frame`(`*tmp*`, mpg_high, value = structure(c(NA_integer_, \n . NA_integer_, NA_integer_, NA_integer_, NA_integer_, NA_integer_, \n . NA_integer_, NA_integer_, NA_integer_, NA_integer_, NA_integer_, \n . NA_integer_, NA_integer_, NA_integer_, NA_integer_, NA_integer_, \n . NA_integer_, NA_integer_, NA_integer_, NA_integer_, NA_integer_, \n . NA_integer_, NA_integer_, NA_integer_, NA_integer_, NA_integer_\n . ), .Label = character(0), class = \"factor\"))",
      "3. stop(sprintf(ngettext(N, \"replacement has %d row, data has %d\", \n .     \"replacement has %d rows, data has %d\"), N, nrows), domain = NA)"
     ]
    }
   ],
   "source": [
    "test_data$mpg_high <- factor(train_data$mpg_high, levels = levels(test_data$mpg_high))"
   ]
  },
  {
   "cell_type": "code",
   "execution_count": 31,
   "id": "ffd677f1",
   "metadata": {},
   "outputs": [
    {
     "ename": "ERROR",
     "evalue": "Error: `data` and `reference` should be factors with the same levels.\n",
     "output_type": "error",
     "traceback": [
      "Error: `data` and `reference` should be factors with the same levels.\nTraceback:\n",
      "1. confusionMatrix(predictions > 0.5, test_data$mpg_high)",
      "2. confusionMatrix.default(predictions > 0.5, test_data$mpg_high)",
      "3. stop(\"`data` and `reference` should be factors with the same levels.\", \n .     call. = FALSE)"
     ]
    }
   ],
   "source": [
    "confusionMatrix(predictions > 0.5, test_data$mpg_high)"
   ]
  },
  {
   "cell_type": "markdown",
   "id": "bf7ba692",
   "metadata": {},
   "source": [
    "### numpy"
   ]
  },
  {
   "cell_type": "code",
   "execution_count": 2,
   "id": "f8b2a423",
   "metadata": {},
   "outputs": [],
   "source": [
    "import numpy as np"
   ]
  },
  {
   "cell_type": "markdown",
   "id": "5af2ca7d",
   "metadata": {},
   "source": [
    "#### What’s the difference between a Python list and a NumPy array"
   ]
  },
  {
   "cell_type": "markdown",
   "id": "1703dbb0",
   "metadata": {},
   "source": [
    " NumPy arrays are more memory-efficient, faster, and more versatile than Python lists for numerical computations. However, Python lists are more flexible in terms of the types of data they can store,"
   ]
  },
  {
   "cell_type": "markdown",
   "id": "f18d224c",
   "metadata": {},
   "source": [
    "#### Data Types: "
   ]
  },
  {
   "cell_type": "markdown",
   "id": "cfe874f5",
   "metadata": {},
   "source": [
    "Python lists can contain elements of any data type, including mixed types. In contrast, NumPy arrays are homogeneous, meaning that all elements must be of the same data type."
   ]
  },
  {
   "cell_type": "markdown",
   "id": "60a4e268",
   "metadata": {},
   "source": [
    "##### Memory Usage:"
   ]
  },
  {
   "cell_type": "markdown",
   "id": "60453ac7",
   "metadata": {},
   "source": [
    " NumPy arrays are more memory-efficient than Python lists."
   ]
  },
  {
   "cell_type": "markdown",
   "id": "9cb4f810",
   "metadata": {},
   "source": [
    "In a Python list, each element is a complete Python object with its own memory allocation."
   ]
  },
  {
   "cell_type": "markdown",
   "id": "60c5ff3f",
   "metadata": {},
   "source": [
    " NumPy arrays store homogeneous data in a contiguous block of memory, which reduces memory usage and improves performance."
   ]
  },
  {
   "cell_type": "markdown",
   "id": "a05949b0",
   "metadata": {},
   "source": [
    "#### Performance:"
   ]
  },
  {
   "cell_type": "markdown",
   "id": "b8413c04",
   "metadata": {},
   "source": [
    " NumPy arrays are faster than Python lists for certain operations. NumPy is built using C and Fortran, which are faster than Python for numerical computations. NumPy also provides a number of optimized functions for performing common array operations."
   ]
  },
  {
   "cell_type": "markdown",
   "id": "9d375b21",
   "metadata": {},
   "source": [
    "#### Indexing and Slicing:"
   ]
  },
  {
   "cell_type": "markdown",
   "id": "d4bfed8b",
   "metadata": {},
   "source": [
    "NumPy arrays support more advanced indexing and slicing operations than Python lists."
   ]
  },
  {
   "cell_type": "markdown",
   "id": "b06db7c9",
   "metadata": {},
   "source": [
    "#### Mathematical Operations"
   ]
  },
  {
   "cell_type": "markdown",
   "id": "59bd4385",
   "metadata": {},
   "source": [
    "NumPy provides many built-in mathematical functions that can be performed on arrays. These functions are optimized for performance and can be used to perform operations on large arrays quickly and efficiently."
   ]
  },
  {
   "cell_type": "markdown",
   "id": "71341a5f",
   "metadata": {},
   "source": [
    "### How to create a basic array"
   ]
  },
  {
   "cell_type": "markdown",
   "id": "6e6581c0",
   "metadata": {},
   "source": [
    "#### one dimensonala aarrray"
   ]
  },
  {
   "cell_type": "markdown",
   "id": "a69600c1",
   "metadata": {},
   "source": [
    "A one-dimensional array in NumPy is a collection of elements that are arranged in a single row or a single column. It is also called a 1D array or a vector."
   ]
  },
  {
   "cell_type": "code",
   "execution_count": 10,
   "id": "76232bc4",
   "metadata": {},
   "outputs": [
    {
     "name": "stdout",
     "output_type": "stream",
     "text": [
      "[1 2 3]\n"
     ]
    }
   ],
   "source": [
    "a = np.array([1, 2, 3])\n",
    "print(a)"
   ]
  },
  {
   "cell_type": "markdown",
   "id": "3b3f6c51",
   "metadata": {},
   "source": [
    "#### two dimensonala aarrray"
   ]
  },
  {
   "cell_type": "markdown",
   "id": "3f88621a",
   "metadata": {},
   "source": [
    "A two-dimensional array in NumPy is a collection of elements that are arranged in a grid with rows and columns. It is also called a 2D array or a matrix."
   ]
  },
  {
   "cell_type": "code",
   "execution_count": 6,
   "id": "33e76a0a",
   "metadata": {},
   "outputs": [
    {
     "name": "stdout",
     "output_type": "stream",
     "text": [
      "[[1 2 3]\n",
      " [4 5 6]\n",
      " [7 8 9]\n",
      " [7 6 0]]\n"
     ]
    }
   ],
   "source": [
    "# create a 2D array\n",
    "a = np.array([[1, 2, 3], [4, 5, 6], [7, 8, 9],[7, 6,0]])\n",
    "print(a)"
   ]
  },
  {
   "cell_type": "markdown",
   "id": "c5ada572",
   "metadata": {},
   "source": [
    "In this example, we have a 3x3 array with three rows and three columns. Each element in the array can be accessed using"
   ]
  },
  {
   "cell_type": "markdown",
   "id": "1e39dfe5",
   "metadata": {},
   "source": [
    "it is arrange in stackwise "
   ]
  },
  {
   "cell_type": "markdown",
   "id": "0f0112d4",
   "metadata": {},
   "source": [
    "#### three dimensonala aarrray"
   ]
  },
  {
   "cell_type": "markdown",
   "id": "e6eacd32",
   "metadata": {},
   "source": [
    "A 3D ndarray can represent a 3D array or a set of 2D arrays. It has three dimensions, such as height, width, and depth."
   ]
  },
  {
   "cell_type": "code",
   "execution_count": 9,
   "id": "51944bf6",
   "metadata": {},
   "outputs": [
    {
     "name": "stdout",
     "output_type": "stream",
     "text": [
      "[[[ 1  2  3]\n",
      "  [ 4  5  6]\n",
      "  [ 7  8  9]]\n",
      "\n",
      " [[10 11 12]\n",
      "  [13 14 15]\n",
      "  [16 17 18]]\n",
      "\n",
      " [[19 20 21]\n",
      "  [22 23 24]\n",
      "  [25 26 27]]\n",
      "\n",
      " [[19 27 21]\n",
      "  [22 23 24]\n",
      "  [25 26 27]]]\n"
     ]
    }
   ],
   "source": [
    "my_array = np.array([\n",
    "    [[1, 2, 3], [4, 5, 6], [7, 8, 9]],\n",
    "    [[10, 11, 12], [13, 14, 15], [16, 17, 18]],\n",
    "    [[19, 20, 21], [22, 23, 24], [25, 26, 27]],[[19, 27, 21], [22, 23, 24], [25, 26, 27]]\n",
    "])\n",
    "\n",
    "print(my_array)"
   ]
  },
  {
   "cell_type": "markdown",
   "id": "e5046835",
   "metadata": {},
   "source": [
    "three separate 2D arrays stacked vertically"
   ]
  },
  {
   "cell_type": "markdown",
   "id": "860e601b",
   "metadata": {},
   "source": [
    "Nd array"
   ]
  },
  {
   "cell_type": "markdown",
   "id": "f1596af3",
   "metadata": {},
   "source": [
    "A stack is a data structure that follows the Last-In-First-Out (LIFO) principle, meaning that the last element added to the stack is the first element to be removed. In NumPy, we can use the numpy.ndarray data structure to represent a stack."
   ]
  },
  {
   "cell_type": "markdown",
   "id": "20d84b17",
   "metadata": {},
   "source": [
    "#### dimensions"
   ]
  },
  {
   "cell_type": "markdown",
   "id": "511c0acb",
   "metadata": {},
   "source": [
    "ndarray.ndim is an attribute of the NumPy ndarray object that returns the number of dimensions (i.e., the rank) of the array. For example, a 1D array would have a ndim of 1, a 2D array would have a ndim of 2, and so on."
   ]
  },
  {
   "cell_type": "markdown",
   "id": "f3cefa3d",
   "metadata": {},
   "source": [
    "#### size"
   ]
  },
  {
   "cell_type": "markdown",
   "id": "f2a969da",
   "metadata": {},
   "source": [
    "ndarray.size is an attribute of the NumPy ndarray object that returns the number of elements in the array. In other words, it returns the total size of the array, which is the product of the sizes of all its dimensions."
   ]
  },
  {
   "cell_type": "markdown",
   "id": "74203b03",
   "metadata": {},
   "source": [
    "#### shape"
   ]
  },
  {
   "cell_type": "markdown",
   "id": "84535eb3",
   "metadata": {},
   "source": [
    "return a tuple of integers representing the number of elements along each dimension of the array."
   ]
  },
  {
   "cell_type": "code",
   "execution_count": 11,
   "id": "c2393c5f",
   "metadata": {},
   "outputs": [
    {
     "name": "stdout",
     "output_type": "stream",
     "text": [
      "(2, 3)\n"
     ]
    }
   ],
   "source": [
    "\n",
    "arr = np.array([[1, 2, 3], [4, 5, 6]])\n",
    "print(arr.shape)"
   ]
  },
  {
   "cell_type": "markdown",
   "id": "f17d3850",
   "metadata": {},
   "source": [
    "In this case, arr is a 2-dimensional array with 2 rows and 3 columns. Therefore, arr.shape returns a tuple with two elements: (2, 3)."
   ]
  },
  {
   "cell_type": "code",
   "execution_count": 12,
   "id": "6f2da2e3",
   "metadata": {},
   "outputs": [
    {
     "name": "stdout",
     "output_type": "stream",
     "text": [
      "(4, 3, 3)\n"
     ]
    }
   ],
   "source": [
    "my_array = np.array([\n",
    "    [[1, 2, 3], [4, 5, 6], [7, 8, 9]],\n",
    "    [[10, 11, 12], [13, 14, 15], [16, 17, 18]],\n",
    "    [[19, 20, 21], [22, 23, 24], [25, 26, 27]],[[19, 27, 21], [22, 23, 24], [25, 26, 27]]\n",
    "])\n",
    "\n",
    "print(my_array.shape)"
   ]
  },
  {
   "cell_type": "markdown",
   "id": "31d0545d",
   "metadata": {},
   "source": [
    "In this case, my_array is a 3-dimensional NumPy array with 4 matrices, each of size 3x3. Therefore, my_array.shape returns a tuple with three elements: (4, 3, 3)."
   ]
  },
  {
   "cell_type": "markdown",
   "id": "db37c274",
   "metadata": {},
   "source": [
    "### Reshape an array and flattening "
   ]
  },
  {
   "cell_type": "markdown",
   "id": "5eab210e",
   "metadata": {},
   "source": [
    "will give a new shape to an array without changing the data. Just remember that when you use the reshape method, the array you want to produce needs to have the same number of elements as the original array. "
   ]
  },
  {
   "cell_type": "code",
   "execution_count": 20,
   "id": "75a05773",
   "metadata": {},
   "outputs": [
    {
     "name": "stdout",
     "output_type": "stream",
     "text": [
      "[0 1 2 3 4 5]\n",
      "[[0 1]\n",
      " [2 3]\n",
      " [4 5]]\n"
     ]
    }
   ],
   "source": [
    "a = np.arange(6)\n",
    "print(a)\n",
    "b = a.reshape(3, 2)\n",
    "print(b)"
   ]
  },
  {
   "cell_type": "code",
   "execution_count": 21,
   "id": "9b1d42d8",
   "metadata": {},
   "outputs": [
    {
     "name": "stdout",
     "output_type": "stream",
     "text": [
      "(4, 3, 3)\n"
     ]
    }
   ],
   "source": [
    "my_array = np.array([\n",
    "    [[1, 2, 3], [4, 5, 6], [7, 8, 9]],\n",
    "    [[10, 11, 12], [13, 14, 15], [16, 17, 18]],\n",
    "    [[19, 20, 21], [22, 23, 24], [25, 26, 27]],[[19, 27, 21], [22, 23, 24], [25, 26, 27]]\n",
    "])\n",
    "\n",
    "print(my_array.shape)"
   ]
  },
  {
   "cell_type": "code",
   "execution_count": 24,
   "id": "1f32baa0",
   "metadata": {},
   "outputs": [],
   "source": [
    "b =my_array.reshape(12,3) # 2d"
   ]
  },
  {
   "cell_type": "code",
   "execution_count": 26,
   "id": "7e1f80b7",
   "metadata": {},
   "outputs": [],
   "source": [
    "b =my_array.reshape(4,9) # 2d"
   ]
  },
  {
   "cell_type": "code",
   "execution_count": 28,
   "id": "1f07e64c",
   "metadata": {},
   "outputs": [],
   "source": [
    "b =my_array.reshape(36) # 1d"
   ]
  },
  {
   "cell_type": "code",
   "execution_count": 29,
   "id": "2cf0944e",
   "metadata": {},
   "outputs": [
    {
     "name": "stdout",
     "output_type": "stream",
     "text": [
      "[ 1  2  3  4  5  6  7  8  9 10 11 12 13 14 15 16 17 18 19 20 21 22 23 24\n",
      " 25 26 27 19 27 21 22 23 24 25 26 27]\n"
     ]
    }
   ],
   "source": [
    "print(b)"
   ]
  },
  {
   "cell_type": "code",
   "execution_count": 30,
   "id": "ded911b2",
   "metadata": {},
   "outputs": [
    {
     "name": "stdout",
     "output_type": "stream",
     "text": [
      "[[ 1  2  3  4  5  6  7  8  9 10 11 12]\n",
      " [13 14 15 16 17 18 19 20 21 22 23 24]\n",
      " [25 26 27 19 27 21 22 23 24 25 26 27]]\n"
     ]
    }
   ],
   "source": [
    "c=b.reshape(3,12) # 2d\n",
    "print(c)"
   ]
  },
  {
   "cell_type": "markdown",
   "id": "a4241940",
   "metadata": {},
   "source": [
    "for 3d we need consider number of matrix 1st of all"
   ]
  },
  {
   "cell_type": "code",
   "execution_count": 31,
   "id": "8ec12f44",
   "metadata": {},
   "outputs": [],
   "source": [
    "d=c.reshape(3,4,3)"
   ]
  },
  {
   "cell_type": "markdown",
   "id": "67b86f83",
   "metadata": {},
   "source": [
    "#### flatten()"
   ]
  },
  {
   "cell_type": "markdown",
   "id": "f0c80285",
   "metadata": {},
   "source": [
    "The flatten() function returns a copy of the array collapsed into one dimension. The original array remains unchanged. This means that any changes made to the flattened array will not affect the original array."
   ]
  },
  {
   "cell_type": "code",
   "execution_count": 48,
   "id": "7350964e",
   "metadata": {},
   "outputs": [
    {
     "name": "stdout",
     "output_type": "stream",
     "text": [
      "[1 2 3 4 5 6]\n"
     ]
    }
   ],
   "source": [
    "import numpy as np\n",
    "\n",
    "arr = np.array([[1, 2, 3], [4, 5, 6]])\n",
    "\n",
    "flattened_arr = arr.flatten()\n",
    "\n",
    "print(flattened_arr)  # output: [1 2 3 4 5 6]\n"
   ]
  },
  {
   "cell_type": "markdown",
   "id": "ff6cef94",
   "metadata": {},
   "source": [
    "the ravel() function also returns a flattened array, but it returns a view of the original array whenever possible. This means that any changes made to the flattened array will affect the original array as well."
   ]
  },
  {
   "cell_type": "code",
   "execution_count": 49,
   "id": "baad9c2d",
   "metadata": {},
   "outputs": [
    {
     "name": "stdout",
     "output_type": "stream",
     "text": [
      "[[0 2 3]\n",
      " [4 5 6]]\n"
     ]
    }
   ],
   "source": [
    "arr = np.array([[1, 2, 3], [4, 5, 6]])\n",
    "\n",
    "ravelled_arr = arr.ravel()\n",
    "\n",
    "ravelled_arr[0] = 0\n",
    "\n",
    "print(arr)  "
   ]
  },
  {
   "cell_type": "markdown",
   "id": "7e388e2a",
   "metadata": {},
   "source": [
    "### reverse an array"
   ]
  },
  {
   "cell_type": "markdown",
   "id": "e56ff104",
   "metadata": {},
   "source": [
    "The np.flip() function is a NumPy function that is used to reverse the order of elements in a NumPy array along a specified axis."
   ]
  },
  {
   "cell_type": "code",
   "execution_count": 50,
   "id": "1175ef19",
   "metadata": {},
   "outputs": [
    {
     "name": "stdout",
     "output_type": "stream",
     "text": [
      "[[6 5 4]\n",
      " [3 2 1]]\n"
     ]
    }
   ],
   "source": [
    "import numpy as np\n",
    "\n",
    "arr = np.array([[1, 2, 3], [4, 5, 6]])\n",
    "\n",
    "flipped_arr = np.flip(arr)\n",
    "\n",
    "print(flipped_arr)"
   ]
  },
  {
   "cell_type": "markdown",
   "id": "0f9e681f",
   "metadata": {},
   "source": [
    "The default axis value is -1, which means that the function reverses the order of the elements along the last axis"
   ]
  },
  {
   "cell_type": "markdown",
   "id": "cccb38ef",
   "metadata": {},
   "source": [
    "we pass axis=0 to the np.flip() function, which means that the function reverses the order of the elements along the first axis (i.e., the rows in this case)."
   ]
  },
  {
   "cell_type": "code",
   "execution_count": 71,
   "id": "322f9aa5",
   "metadata": {},
   "outputs": [
    {
     "name": "stdout",
     "output_type": "stream",
     "text": [
      "[[4 3 2 1]\n",
      " [9 6 5 4]]\n",
      "[[4 3 2 1]\n",
      " [9 6 5 4]]\n",
      "[[4 5 6 9]\n",
      " [1 2 3 4]]\n"
     ]
    }
   ],
   "source": [
    "arr = np.array([[1, 2, 3,4], [4, 5, 6,9]])\n",
    "\n",
    "flipped_arr_0 = np.flip(arr, axis=0) #pivot point row\n",
    "flipped_arr_1 = np.flip(arr, axis=1) #pivot point colloumn\n",
    "flipped_arr_3 = np.flip(arr, axis=-1) #pivot point \n",
    "\n",
    "\n",
    "print(flipped_arr_3)\n",
    "print(flipped_arr_1)\n",
    "print(flipped_arr_0)"
   ]
  },
  {
   "cell_type": "code",
   "execution_count": 78,
   "id": "28f56dc7",
   "metadata": {},
   "outputs": [
    {
     "name": "stdout",
     "output_type": "stream",
     "text": [
      "[[[ 1  2  3]\n",
      "  [ 4  5  6]\n",
      "  [ 7  8  9]]\n",
      "\n",
      " [[10 11 12]\n",
      "  [13 14 15]\n",
      "  [16 17 18]]\n",
      "\n",
      " [[19 20 21]\n",
      "  [22 23 24]\n",
      "  [25 26 27]]\n",
      "\n",
      " [[19 27 21]\n",
      "  [22 23 24]\n",
      "  [25 26 27]]]\n"
     ]
    }
   ],
   "source": [
    "my_array = np.array([\n",
    "    [[1, 2, 3], [4, 5, 6], [7, 8, 9]],\n",
    "    [[10, 11, 12], [13, 14, 15], [16, 17, 18]],\n",
    "    [[19, 20, 21], [22, 23, 24], [25, 26, 27]],[[19, 27, 21], [22, 23, 24], [25, 26, 27]]\n",
    "])\n",
    "\n",
    "flipped_arr_1 = np.flip(my_array, axis=0)\n",
    "\n",
    "print(my_array)\n"
   ]
  },
  {
   "cell_type": "code",
   "execution_count": 79,
   "id": "bfa93d1e",
   "metadata": {},
   "outputs": [
    {
     "name": "stdout",
     "output_type": "stream",
     "text": [
      "[[[19 27 21]\n",
      "  [22 23 24]\n",
      "  [25 26 27]]\n",
      "\n",
      " [[19 20 21]\n",
      "  [22 23 24]\n",
      "  [25 26 27]]\n",
      "\n",
      " [[10 11 12]\n",
      "  [13 14 15]\n",
      "  [16 17 18]]\n",
      "\n",
      " [[ 1  2  3]\n",
      "  [ 4  5  6]\n",
      "  [ 7  8  9]]]\n"
     ]
    }
   ],
   "source": [
    "print(flipped_arr_1)"
   ]
  },
  {
   "cell_type": "markdown",
   "id": "d251effa",
   "metadata": {},
   "source": [
    "## (number of matrix ,rows ,colloumn)"
   ]
  },
  {
   "cell_type": "code",
   "execution_count": 32,
   "id": "b1da6d62",
   "metadata": {},
   "outputs": [
    {
     "name": "stdout",
     "output_type": "stream",
     "text": [
      "[[[ 1  2  3]\n",
      "  [ 4  5  6]\n",
      "  [ 7  8  9]\n",
      "  [10 11 12]]\n",
      "\n",
      " [[13 14 15]\n",
      "  [16 17 18]\n",
      "  [19 20 21]\n",
      "  [22 23 24]]\n",
      "\n",
      " [[25 26 27]\n",
      "  [19 27 21]\n",
      "  [22 23 24]\n",
      "  [25 26 27]]]\n"
     ]
    }
   ],
   "source": [
    "print(d)"
   ]
  },
  {
   "cell_type": "markdown",
   "id": "fefe3684",
   "metadata": {},
   "source": [
    "#### Basic array operations"
   ]
  },
  {
   "cell_type": "code",
   "execution_count": 40,
   "id": "2ec75a8b",
   "metadata": {},
   "outputs": [
    {
     "name": "stdout",
     "output_type": "stream",
     "text": [
      "[1 2]\n",
      "[1 1]\n",
      "[1. 2.]\n"
     ]
    }
   ],
   "source": [
    "data = np.array([1, 2])\n",
    "ones = np.ones(2, dtype=int)\n",
    "sum=data + ones\n",
    "diff=data - ones\n",
    "multi=data * ones\n",
    "divi=data/ ones\n",
    "print(data)\n",
    "print(ones)\n",
    "print(divi)"
   ]
  },
  {
   "cell_type": "markdown",
   "id": "b3ac0a5a",
   "metadata": {},
   "source": [
    "### Broadcasting"
   ]
  },
  {
   "cell_type": "markdown",
   "id": "a6d8a363",
   "metadata": {},
   "source": [
    "Broadcasting is a concept in NumPy that allows arrays with different shapes to be used in arithmetic operations. In broadcasting, NumPy automatically adjusts the shapes of the arrays to make the arithmetic operation possible."
   ]
  },
  {
   "cell_type": "code",
   "execution_count": 42,
   "id": "a4b9ee97",
   "metadata": {},
   "outputs": [
    {
     "name": "stdout",
     "output_type": "stream",
     "text": [
      "[-1  0  1]\n"
     ]
    }
   ],
   "source": [
    "a = np.array([1, 2, 3])\n",
    "b = 2\n",
    "\n",
    "result = a + b\n",
    "result_1 = a * b\n",
    "result_2 = a / b\n",
    "result_3 = a - b\n",
    "print(result_3)"
   ]
  },
  {
   "cell_type": "markdown",
   "id": "bad04735",
   "metadata": {},
   "source": [
    "#### use of basic oparation"
   ]
  },
  {
   "cell_type": "code",
   "execution_count": null,
   "id": "af38860e",
   "metadata": {},
   "outputs": [],
   "source": [
    "this is the mean square error formula (a central formula used in supervised machine learning models that deal with regression"
   ]
  },
  {
   "cell_type": "code",
   "execution_count": 46,
   "id": "fb07a795",
   "metadata": {},
   "outputs": [
    {
     "name": "stdout",
     "output_type": "stream",
     "text": [
      "13\n"
     ]
    }
   ],
   "source": [
    "predictin=np.array([1,2,3,4,5,6,7,2,3,4,5,6,12])\n",
    "labels=np.array([18,2,39,4,59,69,7,2,93,49,5,6,12])\n",
    "count = np.count_nonzero(labels)\n",
    "mean_square_error=(1/count)*np.sum(np.square(predictin-labels))\n",
    "print(count)"
   ]
  },
  {
   "cell_type": "code",
   "execution_count": 47,
   "id": "17797f53",
   "metadata": {},
   "outputs": [
    {
     "data": {
      "text/plain": [
       "1430.3846153846155"
      ]
     },
     "execution_count": 47,
     "metadata": {},
     "output_type": "execute_result"
    }
   ],
   "source": [
    "mean_square_error"
   ]
  },
  {
   "cell_type": "code",
   "execution_count": null,
   "id": "3191fc32",
   "metadata": {},
   "outputs": [],
   "source": [
    "Descriptive"
   ]
  },
  {
   "cell_type": "markdown",
   "id": "b05a23cd",
   "metadata": {},
   "source": [
    "### matrices oparation "
   ]
  },
  {
   "cell_type": "markdown",
   "id": "1dbbd74c",
   "metadata": {},
   "source": [
    "Addition and Subtraction: Matrices of the same size can be added or subtracted by adding or subtracting the corresponding elements."
   ]
  },
  {
   "cell_type": "code",
   "execution_count": 3,
   "id": "a5aa6ec4",
   "metadata": {},
   "outputs": [
    {
     "name": "stdout",
     "output_type": "stream",
     "text": [
      "[[ 6  8]\n",
      " [10 12]]\n",
      "[[-4 -4]\n",
      " [-4 -4]]\n"
     ]
    }
   ],
   "source": [
    "matrix1 = np.array([[1, 2], [3, 4]])\n",
    "matrix2 = np.array([[5, 6], [7, 8]])\n",
    "\n",
    "addition = matrix1 + matrix2\n",
    "subtraction = matrix1 - matrix2\n",
    "\n",
    "print(addition)\n",
    "print(subtraction)"
   ]
  },
  {
   "cell_type": "markdown",
   "id": "891af0a2",
   "metadata": {},
   "source": [
    "Scalar Multiplication: A matrix can be multiplied by a scalar (a single number) by multiplying each element of the matrix by the scalar.\n"
   ]
  },
  {
   "cell_type": "code",
   "execution_count": 10,
   "id": "72adfd0d",
   "metadata": {},
   "outputs": [
    {
     "name": "stdout",
     "output_type": "stream",
     "text": [
      "[[2 4]\n",
      " [6 8]]\n"
     ]
    }
   ],
   "source": [
    "matrix = np.array([[1, 2], [3, 4]])\n",
    "\n",
    "# multiply the matrix by a scalar\n",
    "scalar = 2\n",
    "result = scalar * matrix\n",
    "\n",
    "print(result)"
   ]
  },
  {
   "cell_type": "markdown",
   "id": "f78e58ce",
   "metadata": {},
   "source": [
    "Matrix Multiplication: Two matrices can be multiplied together if the number of columns in the first matrix is equal to the number of rows in the second matrix. The resulting matrix has the same number of rows as the first matrix and the same number of columns as the second matrix."
   ]
  },
  {
   "cell_type": "code",
   "execution_count": 4,
   "id": "151f2645",
   "metadata": {},
   "outputs": [
    {
     "name": "stdout",
     "output_type": "stream",
     "text": [
      "[[19 22]\n",
      " [43 50]]\n"
     ]
    }
   ],
   "source": [
    "matrix1 = np.array([[1, 2], [3, 4]])\n",
    "matrix2 = np.array([[5, 6], [7, 8]])\n",
    "\n",
    "multiplication = np.dot(matrix1, matrix2)\n",
    "\n",
    "print(multiplication)"
   ]
  },
  {
   "cell_type": "markdown",
   "id": "b38730a5",
   "metadata": {},
   "source": [
    "Transpose: The transpose of a matrix is obtained by interchanging its rows and columns."
   ]
  },
  {
   "cell_type": "code",
   "execution_count": 5,
   "id": "08394627",
   "metadata": {},
   "outputs": [
    {
     "name": "stdout",
     "output_type": "stream",
     "text": [
      "[[1 4]\n",
      " [2 5]\n",
      " [3 6]]\n"
     ]
    }
   ],
   "source": [
    "matrix = np.array([[1, 2, 3], [4, 5, 6]])\n",
    "\n",
    "transpose = np.transpose(matrix)\n",
    "\n",
    "print(transpose)"
   ]
  },
  {
   "cell_type": "markdown",
   "id": "17369fc3",
   "metadata": {},
   "source": [
    "Inverse: The inverse of a square matrix is a matrix that, when multiplied by the original matrix, produces the identity matrix (a matrix with ones along the diagonal and zeros everywhere else). Not all matrices have inverses, and those that do not are called singular or non-invertible."
   ]
  },
  {
   "cell_type": "code",
   "execution_count": 6,
   "id": "d2f39602",
   "metadata": {},
   "outputs": [
    {
     "name": "stdout",
     "output_type": "stream",
     "text": [
      "[[-2.   1. ]\n",
      " [ 1.5 -0.5]]\n"
     ]
    }
   ],
   "source": [
    "matrix = np.array([[1, 2], [3, 4]])\n",
    "\n",
    "inverse = np.linalg.inv(matrix)\n",
    "\n",
    "print(inverse)"
   ]
  },
  {
   "cell_type": "markdown",
   "id": "2a3ed47f",
   "metadata": {},
   "source": [
    "Determinant: The determinant of a square matrix is a scalar value that can be computed from its elements. It has various applications in linear algebra and calculus."
   ]
  },
  {
   "cell_type": "code",
   "execution_count": 7,
   "id": "8bc2220a",
   "metadata": {},
   "outputs": [
    {
     "name": "stdout",
     "output_type": "stream",
     "text": [
      "-2.0000000000000004\n"
     ]
    }
   ],
   "source": [
    "import numpy as np\n",
    "\n",
    "# create a 2x2 matrix\n",
    "matrix = np.array([[1, 2], [3, 4]])\n",
    "\n",
    "# compute the determinant\n",
    "det = np.linalg.det(matrix)\n",
    "\n",
    "print(det)"
   ]
  },
  {
   "cell_type": "markdown",
   "id": "839ecbc4",
   "metadata": {},
   "source": [
    "Eigenvalues and Eigenvectors: Eigenvalues and eigenvectors are a pair of numbers and vectors, respectively, that are associated with a square matrix. They have many applications in physics, engineering, and computer science."
   ]
  },
  {
   "cell_type": "code",
   "execution_count": 9,
   "id": "6e151cde",
   "metadata": {},
   "outputs": [
    {
     "name": "stdout",
     "output_type": "stream",
     "text": [
      "Eigenvalues:\n",
      "[-0.37228132  5.37228132]\n",
      "Eigenvectors:\n",
      "[[-0.82456484 -0.41597356]\n",
      " [ 0.56576746 -0.90937671]]\n"
     ]
    }
   ],
   "source": [
    "# create a 2x2 matrix\n",
    "matrix = np.array([[1, 2], [3, 4]])\n",
    "\n",
    "# compute the eigenvalues and eigenvectors\n",
    "eigenvalues, eigenvectors = np.linalg.eig(matrix)\n",
    "\n",
    "print(\"Eigenvalues:\")\n",
    "print(eigenvalues)\n",
    "\n",
    "print(\"Eigenvectors:\")\n",
    "print(eigenvectors)"
   ]
  },
  {
   "cell_type": "markdown",
   "id": "b9cf950b",
   "metadata": {},
   "source": [
    "Note that the eigenvalues are returned as a one-dimensional NumPy array, while the eigenvectors are returned as a two-dimensional NumPy array, where each column represents an eigenvector. The eigenvectors are normalized to have unit length. Additionally, the eigenvalues and eigenvectors are sorted in ascending order by default, but you can specify a different sorting order using the sort() method of the eigenvalues array."
   ]
  },
  {
   "cell_type": "markdown",
   "id": "72387722",
   "metadata": {},
   "source": [
    "#### symetric  matrix"
   ]
  },
  {
   "cell_type": "markdown",
   "id": "35fc7030",
   "metadata": {},
   "source": [
    "In NumPy, a symmetric matrix is a square matrix that is equal to its transpose. In other words, if you flip the rows and columns of the matrix,it remains unchanged.( A^T = -A.)"
   ]
  },
  {
   "cell_type": "markdown",
   "id": "3cdefd05",
   "metadata": {},
   "source": [
    "#### Properties"
   ]
  },
  {
   "cell_type": "markdown",
   "id": "e3852f15",
   "metadata": {},
   "source": [
    "Real Eigenvalues: All eigenvalues of a symmetric matrix are real. This property is known as the spectral theorem."
   ]
  },
  {
   "cell_type": "markdown",
   "id": "5f60c474",
   "metadata": {},
   "source": [
    "Orthogonal Eigenvectors: A symmetric matrix has a set of orthogonal eigenvectors, which means that the dot product of any two distinct eigenvectors is zero."
   ]
  },
  {
   "cell_type": "markdown",
   "id": "1d839360",
   "metadata": {},
   "source": [
    "Diagonalization: A symmetric matrix can be diagonalized, which means that it can be expressed as a product of its eigenvectors and eigenvalues. This property is useful for various applications, including optimization problems, principal component analysis, and machine learning."
   ]
  },
  {
   "cell_type": "markdown",
   "id": "30143d86",
   "metadata": {},
   "source": [
    "Positive Definiteness: A symmetric matrix is positive definite if all its eigenvalues are positive. Positive definite matrices have many important applications in optimization, statistics, and machine learning."
   ]
  },
  {
   "cell_type": "markdown",
   "id": "2a4099ef",
   "metadata": {},
   "source": [
    "Positive Definite is a property of a symmetric matrix where all of its eigenvalues are positive. In other words, a symmetric matrix A is positive definite if and only if x^T A x > 0 for any non-zero column vector x. This property is denoted as A > 0."
   ]
  },
  {
   "cell_type": "markdown",
   "id": "bb17ab3c",
   "metadata": {},
   "source": [
    "Quadratic Forms: Symmetric matrices are useful for representing quadratic forms in mathematics and engineering. A quadratic form can be expressed as the dot product of a vector with a symmetric matrix multiplied by the same vector. This property is used in optimization problems and machine learning algorithms."
   ]
  },
  {
   "cell_type": "markdown",
   "id": "fa8c0173",
   "metadata": {},
   "source": [
    "Transposition: A symmetric matrix is equal to its own transpose. This property allows for efficient computations and simplifies many mathematical calculations involving symmetric matrices."
   ]
  },
  {
   "cell_type": "markdown",
   "id": "b92cf4f7",
   "metadata": {},
   "source": [
    "Symmetric Matrices form a Vector Space: The set of all symmetric matrices of size n form a vector space of dimension n(n+1)/2, which means that they can be combined and multiplied by scalars."
   ]
  },
  {
   "cell_type": "code",
   "execution_count": 13,
   "id": "1510256c",
   "metadata": {},
   "outputs": [],
   "source": [
    "import numpy as np\n",
    "n = 5  # size of the square matrix\n",
    "a = matrix = np.array([[1, 2], [3, 4]])  # generate a random square matrix\n",
    "symmetric_matrix = a + a.T  # add the transpose of the matrix to itself"
   ]
  },
  {
   "cell_type": "code",
   "execution_count": 14,
   "id": "4973302a",
   "metadata": {},
   "outputs": [
    {
     "name": "stdout",
     "output_type": "stream",
     "text": [
      "[[1 2]\n",
      " [3 4]]\n"
     ]
    }
   ],
   "source": [
    "print(a)"
   ]
  },
  {
   "cell_type": "code",
   "execution_count": 15,
   "id": "76813980",
   "metadata": {},
   "outputs": [
    {
     "name": "stdout",
     "output_type": "stream",
     "text": [
      "[[2 5]\n",
      " [5 8]]\n"
     ]
    }
   ],
   "source": [
    "print(symmetric_matrix )"
   ]
  },
  {
   "cell_type": "markdown",
   "id": "03e0670e",
   "metadata": {},
   "source": [
    "#### Uses"
   ]
  },
  {
   "cell_type": "markdown",
   "id": "df7e2b9f",
   "metadata": {},
   "source": [
    "Optimization: Many optimization problems in mathematics and engineering involve quadratic forms that can be represented using symmetric matrices. The properties of symmetric matrices, such as their positive-definiteness, make them useful in optimization algorithms."
   ]
  },
  {
   "cell_type": "markdown",
   "id": "50f2a785",
   "metadata": {},
   "source": [
    "Eigenvalue Problems: Eigenvalue problems for symmetric matrices have special properties that allow for efficient algorithms to solve them. These algorithms are used in many applications, including computer graphics, physics simulations, and data analysis."
   ]
  },
  {
   "cell_type": "markdown",
   "id": "95fb0ace",
   "metadata": {},
   "source": [
    "Principal Component Analysis: Principal Component Analysis (PCA) is a statistical technique used to reduce the dimensionality of high-dimensional data. The technique involves finding the eigenvectors of the covariance matrix, which is a symmetric matrix."
   ]
  },
  {
   "cell_type": "markdown",
   "id": "cae7e404",
   "metadata": {},
   "source": [
    "Machine Learning: Symmetric matrices are used in various machine learning techniques, including kernel methods and support vector machines. These methods involve finding the similarities or distances between data points, which can be represented using a symmetric matrix."
   ]
  },
  {
   "cell_type": "markdown",
   "id": "88a6bed5",
   "metadata": {},
   "source": [
    "#### skew symetric matrix"
   ]
  },
  {
   "cell_type": "markdown",
   "id": "5751fce7",
   "metadata": {},
   "source": [
    "A skew-symmetric matrix is also a square matrix, but it satisfies the condition that the transpose of the matrix is equal to its negative. In other words, if you flip the rows and columns of the matrix and negate all the values, it remains unchanged. ( A^T = -A.)"
   ]
  },
  {
   "cell_type": "code",
   "execution_count": null,
   "id": "7dfdc649",
   "metadata": {},
   "outputs": [],
   "source": []
  },
  {
   "cell_type": "markdown",
   "id": "d86dbe83",
   "metadata": {},
   "source": [
    "Eigenvalues: The eigenvalues of a skew-symmetric matrix are purely imaginary or zero. In particular, if λ is an eigenvalue of A, then -λ is also an eigenvalue."
   ]
  },
  {
   "cell_type": "markdown",
   "id": "4894514b",
   "metadata": {},
   "source": [
    "Diagonal: The diagonal entries of a skew-symmetric matrix are zero, since they are equal to their own negatives."
   ]
  },
  {
   "cell_type": "markdown",
   "id": "6a246da6",
   "metadata": {},
   "source": [
    "Orthogonal Matrix: The exponential of a skew-symmetric matrix A is an orthogonal matrix. That is, exp(A)^T exp(A) = exp(A) exp(A)^T = I, where I is the identity matrix."
   ]
  },
  {
   "cell_type": "markdown",
   "id": "41374a25",
   "metadata": {},
   "source": [
    "Cross Product: The cross product of two vectors in three dimensions can be expressed as the matrix product of a skew-symmetric matrix and a column vector. "
   ]
  },
  {
   "cell_type": "markdown",
   "id": "4770482a",
   "metadata": {},
   "source": [
    "Determinant: The determinant of a skew-symmetric matrix is always zero, except when the matrix is a 2x2 matrix."
   ]
  },
  {
   "cell_type": "markdown",
   "id": "67c7faaa",
   "metadata": {},
   "source": [
    "Rank: The rank of a skew-symmetric matrix is always even, since the determinant is zero"
   ]
  },
  {
   "cell_type": "code",
   "execution_count": 16,
   "id": "e4cf5463",
   "metadata": {},
   "outputs": [],
   "source": [
    "n = 5  # size of the square matrix\n",
    "a = matrix = np.array([[1, 2], [3, 4]])   # generate a random square matrix\n",
    "skew_symmetric_matrix = a - a.T  # subtract the transpose of the matrix from itself"
   ]
  },
  {
   "cell_type": "code",
   "execution_count": 17,
   "id": "fe448b61",
   "metadata": {},
   "outputs": [
    {
     "name": "stdout",
     "output_type": "stream",
     "text": [
      "[[1 2]\n",
      " [3 4]]\n"
     ]
    }
   ],
   "source": [
    "print(a)"
   ]
  },
  {
   "cell_type": "code",
   "execution_count": 18,
   "id": "67dcf89e",
   "metadata": {},
   "outputs": [
    {
     "name": "stdout",
     "output_type": "stream",
     "text": [
      "[[ 0 -1]\n",
      " [ 1  0]]\n"
     ]
    }
   ],
   "source": [
    "print(skew_symmetric_matrix)"
   ]
  },
  {
   "cell_type": "code",
   "execution_count": 3,
   "id": "0ee23353",
   "metadata": {},
   "outputs": [],
   "source": [
    "is_symmetric = np.allclose(symmetric_matrix, symmetric_matrix.T)\n",
    "is_skew_symmetric = np.allclose(skew_symmetric_matrix, -skew_symmetric_matrix.T)"
   ]
  },
  {
   "cell_type": "code",
   "execution_count": 4,
   "id": "d2b8cb98",
   "metadata": {},
   "outputs": [
    {
     "name": "stdout",
     "output_type": "stream",
     "text": [
      "True\n"
     ]
    }
   ],
   "source": [
    "print(is_symmetric)"
   ]
  },
  {
   "cell_type": "code",
   "execution_count": 5,
   "id": "09ea94e1",
   "metadata": {},
   "outputs": [
    {
     "name": "stdout",
     "output_type": "stream",
     "text": [
      "True\n"
     ]
    }
   ],
   "source": [
    "print(is_skew_symmetric)"
   ]
  },
  {
   "cell_type": "markdown",
   "id": "44af39e3",
   "metadata": {},
   "source": [
    "Rotation: Skew-symmetric matrices can be used to represent 3D rotations in computer graphics, robotics, and aerospace engineering. Specifically, a skew-symmetric matrix A with a small angle θ represents a rotation matrix R given by R = I + sin(θ)A + (1 - cos(θ))A^2, where I is the identity matrix."
   ]
  },
  {
   "cell_type": "markdown",
   "id": "c461c299",
   "metadata": {},
   "source": [
    "Angular Velocity: In physics, the angular velocity of a rotating object can be represented by a skew-symmetric matrix. The entries of the matrix correspond to the components of the angular velocity vector in a particular coordinate system."
   ]
  },
  {
   "cell_type": "markdown",
   "id": "a5f8b908",
   "metadata": {},
   "source": [
    "Lie Groups: Skew-symmetric matrices are used to define Lie algebras, which are used to study Lie groups. Lie groups are mathematical objects that arise in many areas of mathematics, physics, and engineering."
   ]
  },
  {
   "cell_type": "markdown",
   "id": "e370025a",
   "metadata": {},
   "source": [
    "Control Theory: Skew-symmetric matrices arise in the study of control theory, which is the mathematical study of controlling dynamical systems. Specifically, skew-symmetric matrices are used to model the dynamics of some systems, such as gyroscopes and rigid bodies."
   ]
  },
  {
   "cell_type": "markdown",
   "id": "14e40de7",
   "metadata": {},
   "source": [
    "Optimization: Skew-symmetric matrices play a role in optimization problems, particularly in the study of matrix optimization problems. For example, in the problem of finding the maximum determinant of a matrix with a given norm, skew-symmetric matrices can be used to construct the optimal matrix."
   ]
  },
  {
   "cell_type": "code",
   "execution_count": null,
   "id": "fa0e4a7a",
   "metadata": {},
   "outputs": [],
   "source": []
  }
 ],
 "metadata": {
  "kernelspec": {
   "display_name": "Python 3 (ipykernel)",
   "language": "python",
   "name": "python3"
  },
  "language_info": {
   "codemirror_mode": {
    "name": "ipython",
    "version": 3
   },
   "file_extension": ".py",
   "mimetype": "text/x-python",
   "name": "python",
   "nbconvert_exporter": "python",
   "pygments_lexer": "ipython3",
   "version": "3.10.9"
  }
 },
 "nbformat": 4,
 "nbformat_minor": 5
}
