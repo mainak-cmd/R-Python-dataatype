{
 "cells": [
  {
   "cell_type": "markdown",
   "id": "8537e33f",
   "metadata": {},
   "source": [
    "### core of processor"
   ]
  },
  {
   "cell_type": "markdown",
   "id": "c945addd",
   "metadata": {},
   "source": [
    "The core of a processor, also known as a CPU (Central Processing Unit) core, is the part of the processor that performs the actual computations and executes instructions."
   ]
  },
  {
   "cell_type": "markdown",
   "id": "5b935e5d",
   "metadata": {},
   "source": [
    "A processor can have multiple cores, which allows it to perform multiple computations at the same time. For example, a quad-core processor has four cores that can work simultaneously, which can result in faster processing and better performance when running multiple applications or performing complex tasks such as video rendering or scientific simulations."
   ]
  },
  {
   "cell_type": "markdown",
   "id": "03d1932f",
   "metadata": {},
   "source": [
    "Each core in a processor can handle a single thread of execution at a time. However, some processors support hyper-threading, which allows each core to handle two threads simultaneously, effectively doubling the number of logical processors available."
   ]
  },
  {
   "cell_type": "markdown",
   "id": "f0a46e1e",
   "metadata": {},
   "source": [
    "Overall, the number of cores in a processor is an important factor to consider when selecting a computer for a particular use case, as it can significantly impact the computer's performance and processing capabilities."
   ]
  },
  {
   "cell_type": "markdown",
   "id": "6a40329e",
   "metadata": {},
   "source": [
    "### core processor vs logical processor "
   ]
  },
  {
   "cell_type": "markdown",
   "id": "82175a92",
   "metadata": {},
   "source": [
    ", a core processor is a physical processing unit that can handle one or more threads of execution simultaneously, while a logical processor is a virtual processing unit created by dividing the resources of a physical core to execute multiple threads of execution simultaneously."
   ]
  },
  {
   "cell_type": "markdown",
   "id": "c9b21075",
   "metadata": {},
   "source": [
    "The number of cores in a processor determines the maximum number of independent threads of execution that can be executed simultaneously, while the number of logical processors depends on the processor's architecture and support for technologies such as hyper-threading"
   ]
  },
  {
   "cell_type": "markdown",
   "id": "51235b66",
   "metadata": {},
   "source": [
    "Get-WmiObject -Class Win32_Processor | Select-Object Name, NumberOfCores, NumberOfLogicalProcessors"
   ]
  },
  {
   "cell_type": "markdown",
   "id": "e3e83931",
   "metadata": {},
   "source": [
    "### Processor architecture"
   ]
  },
  {
   "cell_type": "markdown",
   "id": "1b25cb02",
   "metadata": {},
   "source": [
    "Processor architecture refers to the underlying hardware design of a computer's CPU (Central Processing Unit). It defines the way in which the CPU is organized, the instruction set it supports, the memory it can address, and the way it communicates with other components of the computer."
   ]
  },
  {
   "cell_type": "markdown",
   "id": "d5f338b9",
   "metadata": {},
   "source": [
    "x86: This is the most common processor architecture for Windows-based PCs. It is a CISC architecture and is used by most Intel and AMD processors.\n",
    "\n",
    "x64: This is an extension of the x86 architecture and is used by 64-bit versions of Windows. It allows the CPU to access more memory and provides improved performance for certain types of applications."
   ]
  },
  {
   "cell_type": "markdown",
   "id": "dcb05d40",
   "metadata": {},
   "source": [
    "This command retrieves information about the processor using WMI (Windows Management Instrumentation) and selects the \"Name\" and \"Architecture\" properties of the \"Win32_Processor\" class."
   ]
  },
  {
   "cell_type": "markdown",
   "id": "7c84833a",
   "metadata": {},
   "source": [
    "Get-WmiObject -Class Win32_Processor | Select-Object -Property Name, Architecture\n"
   ]
  },
  {
   "cell_type": "markdown",
   "id": "987bf2e3",
   "metadata": {},
   "source": [
    " that the processor is an Intel(R) Core(TM) i3-3240 CPU with an architecture value of 9. Architecture value 9 corresponds to x64 (64-bit) architecture. Therefore, your processor is a 64-bit processor."
   ]
  },
  {
   "cell_type": "markdown",
   "id": "aa96b63d",
   "metadata": {},
   "source": [
    " dual-core processor with a base clock speed of 3.4 GHz. It also supports hyper-threading, which allows each core to process two threads simultaneously, effectively providing four virtual cores. The processor has a thermal design power (TDP) of 55 watts and is built on a 22-nanometer manufacturing process. It also features Intel HD Graphics 2500, which is integrated graphics that can support up to three displays and provide improved video playback and graphics performance."
   ]
  },
  {
   "cell_type": "markdown",
   "id": "32165a7a",
   "metadata": {},
   "source": [
    "### GPU INFORMATION"
   ]
  },
  {
   "cell_type": "markdown",
   "id": "b62b0152",
   "metadata": {},
   "source": [
    "Using PowerShell: You can use the following PowerShell command to get information about the GPU:"
   ]
  },
  {
   "cell_type": "markdown",
   "id": "b81307ee",
   "metadata": {},
   "source": [
    "Get-CimInstance Win32_VideoController | Select-Object Name,AdapterCompatibility,AdapterRAM,DriverVersion"
   ]
  },
  {
   "cell_type": "code",
   "execution_count": null,
   "id": "e20f4527",
   "metadata": {},
   "outputs": [],
   "source": [
    "Name                  AdapterCompatibility AdapterRAM DriverVersion\n",
    "----                  -------------------- ---------- -------------\n",
    "NVIDIA GeForce GT 730 NVIDIA               2147483648 27.21.14.5671\n"
   ]
  },
  {
   "cell_type": "markdown",
   "id": "c6e20612",
   "metadata": {},
   "source": [
    "AdapterRAM is a property of the Win32_VideoController WMI class that provides information about the amount of video memory (in bytes) installed on the GPU (graphics processing unit)"
   ]
  },
  {
   "cell_type": "markdown",
   "id": "ad6c7527",
   "metadata": {},
   "source": [
    "The driver version can be helpful for troubleshooting graphics-related issues, checking for updates to the driver, or verifying that your system meets the minimum requirements for a specific application or game."
   ]
  },
  {
   "cell_type": "markdown",
   "id": "1b8755cf",
   "metadata": {},
   "source": [
    "### Dask "
   ]
  },
  {
   "cell_type": "markdown",
   "id": "bab91678",
   "metadata": {},
   "source": [
    "Dask is a parallel computing framework for Python that enables the parallelization of code across multiple CPU cores, clusters, and even cloud computing services. Dask can handle large datasets that do not fit into memory by creating a graph of computations that can be parallelized and scheduled across multiple workers."
   ]
  },
  {
   "cell_type": "markdown",
   "id": "c112f788",
   "metadata": {},
   "source": [
    "Dask uses task scheduling and lazy evaluation to optimize the use of computational resources. Tasks are scheduled dynamically as data becomes available, and computations are evaluated only when necessary. This approach can significantly improve the performance of data-intensive computations and reduce memory usage."
   ]
  },
  {
   "cell_type": "markdown",
   "id": "f24d0f62",
   "metadata": {},
   "source": [
    "Dask integrates seamlessly with other popular Python libraries such as NumPy, Pandas, and Scikit-learn, allowing users to parallelize existing code with minimal modifications. Dask also provides a dashboard that can be used to monitor the progress of computations and identify performance bottlenecks."
   ]
  },
  {
   "cell_type": "code",
   "execution_count": 5,
   "id": "ca3364bc",
   "metadata": {},
   "outputs": [
    {
     "name": "stdout",
     "output_type": "stream",
     "text": [
      "2023.3.1\n"
     ]
    }
   ],
   "source": [
    "import dask\n",
    "print(dask.__version__)"
   ]
  },
  {
   "cell_type": "markdown",
   "id": "d56092ff",
   "metadata": {},
   "source": [
    "Dask is a parallel computing library that can run on various computer resources, from a single machine to a cluster of machines. Here are some common computer resources that can be used with Dask:\n",
    "\n",
    "Single machine: Dask can be run on a single machine, utilizing all the available CPU cores for parallel computing. This is suitable for smaller datasets that can be processed on a single machine.\n",
    "\n",
    "Multi-machine cluster: Dask can also be run on a cluster of machines, allowing for even more parallelism and distributed computing. This is suitable for larger datasets that require more computing power than a single machine can provide.\n",
    "\n",
    "Cloud-based resources: Dask can be run on various cloud-based resources, such as Amazon Web Services (AWS), Microsoft Azure, and Google Cloud Platform (GCP). Cloud-based resources provide flexibility and scalability, allowing users to easily scale up or down their computing resources based on their needs.\n",
    "\n",
    "GPUs: Dask can also utilize GPUs for parallel computing, which can provide significant performance gains for certain types of data processing tasks, such as deep learning.\n",
    "\n",
    "To visualize these computer resources, imagine a diagram with four concentric circles, where the innermost circle represents a single machine, and the outermost circle represents cloud-based resources. The second circle represents a multi-machine cluster, and the third circle represents GPUs. Dask can run on any of these resources, and the size and complexity of the "
   ]
  },
  {
   "cell_type": "markdown",
   "id": "1e6799f0",
   "metadata": {},
   "source": [
    "#### Note that Dask has several optional dependencies that provide additional functionality. You can install these dependencies by running pip install dask[<extra>], where <extra> is the name of the optional dependency"
   ]
  },
  {
   "cell_type": "markdown",
   "id": "b9654f10",
   "metadata": {},
   "source": [
    "### to install the distributed extra, which provides support for distributed computing, you can run pip install dask[graphviz]."
   ]
  },
  {
   "cell_type": "markdown",
   "id": "8bf9a3d9",
   "metadata": {},
   "source": [
    "Here are some of the commonly used optional dependencies:\n",
    "\n",
    "numpy: provides support for parallelizing NumPy arrays using Dask.\n",
    "\n",
    "pandas: provides support for parallelizing Pandas dataframes using Dask.\n",
    "\n",
    "scikit-learn: provides support for parallelizing machine learning algorithms using Dask.\n",
    "\n",
    "distributed: provides support for distributed computing using Dask, allowing computations to be executed across multiple machines.\n",
    "\n",
    "matplotlib: provides support for parallelizing Matplotlib plots using Dask.\n",
    "\n",
    "bokeh: provides support for interactive visualizations of Dask computations in web browsers.\n",
    "\n",
    "fsspec: provides support for working with different file systems and data sources using Dask.\n",
    "\n",
    "blosc: provides support for compressing and decompressing data using the Blosc compression library.\n",
    "\n",
    "lz4: provides support for compressing and decompressing data using the LZ4 compression algorithm.\n",
    "\n",
    "zstd: provides support for compressing and decompressing data using the Zstandard compression algorithm."
   ]
  },
  {
   "cell_type": "markdown",
   "id": "cadbdbfb",
   "metadata": {},
   "source": [
    "### DASK ARRAY"
   ]
  },
  {
   "cell_type": "markdown",
   "id": "9081acd5",
   "metadata": {},
   "source": [
    "Dask arrays provide a way to work with large arrays that do not fit into memory by breaking them up into smaller, more manageable chunks and distributing the computation across multiple CPU cores or machines. Dask arrays use lazy evaluation, which means that computations are only executed when the results are needed, allowing for efficient use of system resources."
   ]
  },
  {
   "cell_type": "code",
   "execution_count": 18,
   "id": "d9b63d06",
   "metadata": {},
   "outputs": [
    {
     "name": "stdout",
     "output_type": "stream",
     "text": [
      "dask.array<random_sample, shape=(1000, 1000, 1000), dtype=float64, chunksize=(100, 100, 100), chunktype=numpy.ndarray>\n",
      "(1000, 1000)\n"
     ]
    }
   ],
   "source": [
    "import dask.array as da\n",
    "\n",
    "# create a random array with shape (1000, 1000)\n",
    "x = da.random.random((1000, 1000,1000), chunks=(100, 100,100))\n",
    "print(x)\n",
    "# compute the mean along the first axis\n",
    "y = x.mean(axis=0)\n",
    "\n",
    "# compute the result and print it\n",
    "print(y.compute().shape)"
   ]
  },
  {
   "cell_type": "code",
   "execution_count": 20,
   "id": "aa3ca735",
   "metadata": {},
   "outputs": [
    {
     "data": {
      "text/html": [
       "<table>\n",
       "    <tr>\n",
       "        <td>\n",
       "            <table style=\"border-collapse: collapse;\">\n",
       "                <thead>\n",
       "                    <tr>\n",
       "                        <td> </td>\n",
       "                        <th> Array </th>\n",
       "                        <th> Chunk </th>\n",
       "                    </tr>\n",
       "                </thead>\n",
       "                <tbody>\n",
       "                    \n",
       "                    <tr>\n",
       "                        <th> Bytes </th>\n",
       "                        <td> 7.45 GiB </td>\n",
       "                        <td> 126.51 MiB </td>\n",
       "                    </tr>\n",
       "                    \n",
       "                    <tr>\n",
       "                        <th> Shape </th>\n",
       "                        <td> (1000, 1000, 1000) </td>\n",
       "                        <td> (255, 255, 255) </td>\n",
       "                    </tr>\n",
       "                    <tr>\n",
       "                        <th> Dask graph </th>\n",
       "                        <td colspan=\"2\"> 64 chunks in 1 graph layer </td>\n",
       "                    </tr>\n",
       "                    <tr>\n",
       "                        <th> Data type </th>\n",
       "                        <td colspan=\"2\"> float64 numpy.ndarray </td>\n",
       "                    </tr>\n",
       "                </tbody>\n",
       "            </table>\n",
       "        </td>\n",
       "        <td>\n",
       "        <svg width=\"250\" height=\"240\" style=\"stroke:rgb(0,0,0);stroke-width:1\" >\n",
       "\n",
       "  <!-- Horizontal lines -->\n",
       "  <line x1=\"10\" y1=\"0\" x2=\"80\" y2=\"70\" style=\"stroke-width:2\" />\n",
       "  <line x1=\"10\" y1=\"30\" x2=\"80\" y2=\"101\" />\n",
       "  <line x1=\"10\" y1=\"61\" x2=\"80\" y2=\"131\" />\n",
       "  <line x1=\"10\" y1=\"91\" x2=\"80\" y2=\"162\" />\n",
       "  <line x1=\"10\" y1=\"120\" x2=\"80\" y2=\"190\" style=\"stroke-width:2\" />\n",
       "\n",
       "  <!-- Vertical lines -->\n",
       "  <line x1=\"10\" y1=\"0\" x2=\"10\" y2=\"120\" style=\"stroke-width:2\" />\n",
       "  <line x1=\"28\" y1=\"18\" x2=\"28\" y2=\"138\" />\n",
       "  <line x1=\"46\" y1=\"36\" x2=\"46\" y2=\"156\" />\n",
       "  <line x1=\"64\" y1=\"54\" x2=\"64\" y2=\"174\" />\n",
       "  <line x1=\"80\" y1=\"70\" x2=\"80\" y2=\"190\" style=\"stroke-width:2\" />\n",
       "\n",
       "  <!-- Colored Rectangle -->\n",
       "  <polygon points=\"10.0,0.0 80.58823529411765,70.58823529411765 80.58823529411765,190.58823529411765 10.0,120.0\" style=\"fill:#ECB172A0;stroke-width:0\"/>\n",
       "\n",
       "  <!-- Horizontal lines -->\n",
       "  <line x1=\"10\" y1=\"0\" x2=\"130\" y2=\"0\" style=\"stroke-width:2\" />\n",
       "  <line x1=\"28\" y1=\"18\" x2=\"148\" y2=\"18\" />\n",
       "  <line x1=\"46\" y1=\"36\" x2=\"166\" y2=\"36\" />\n",
       "  <line x1=\"64\" y1=\"54\" x2=\"184\" y2=\"54\" />\n",
       "  <line x1=\"80\" y1=\"70\" x2=\"200\" y2=\"70\" style=\"stroke-width:2\" />\n",
       "\n",
       "  <!-- Vertical lines -->\n",
       "  <line x1=\"10\" y1=\"0\" x2=\"80\" y2=\"70\" style=\"stroke-width:2\" />\n",
       "  <line x1=\"40\" y1=\"0\" x2=\"111\" y2=\"70\" />\n",
       "  <line x1=\"71\" y1=\"0\" x2=\"141\" y2=\"70\" />\n",
       "  <line x1=\"101\" y1=\"0\" x2=\"172\" y2=\"70\" />\n",
       "  <line x1=\"130\" y1=\"0\" x2=\"200\" y2=\"70\" style=\"stroke-width:2\" />\n",
       "\n",
       "  <!-- Colored Rectangle -->\n",
       "  <polygon points=\"10.0,0.0 130.0,0.0 200.58823529411765,70.58823529411765 80.58823529411765,70.58823529411765\" style=\"fill:#ECB172A0;stroke-width:0\"/>\n",
       "\n",
       "  <!-- Horizontal lines -->\n",
       "  <line x1=\"80\" y1=\"70\" x2=\"200\" y2=\"70\" style=\"stroke-width:2\" />\n",
       "  <line x1=\"80\" y1=\"101\" x2=\"200\" y2=\"101\" />\n",
       "  <line x1=\"80\" y1=\"131\" x2=\"200\" y2=\"131\" />\n",
       "  <line x1=\"80\" y1=\"162\" x2=\"200\" y2=\"162\" />\n",
       "  <line x1=\"80\" y1=\"190\" x2=\"200\" y2=\"190\" style=\"stroke-width:2\" />\n",
       "\n",
       "  <!-- Vertical lines -->\n",
       "  <line x1=\"80\" y1=\"70\" x2=\"80\" y2=\"190\" style=\"stroke-width:2\" />\n",
       "  <line x1=\"111\" y1=\"70\" x2=\"111\" y2=\"190\" />\n",
       "  <line x1=\"141\" y1=\"70\" x2=\"141\" y2=\"190\" />\n",
       "  <line x1=\"172\" y1=\"70\" x2=\"172\" y2=\"190\" />\n",
       "  <line x1=\"200\" y1=\"70\" x2=\"200\" y2=\"190\" style=\"stroke-width:2\" />\n",
       "\n",
       "  <!-- Colored Rectangle -->\n",
       "  <polygon points=\"80.58823529411765,70.58823529411765 200.58823529411765,70.58823529411765 200.58823529411765,190.58823529411765 80.58823529411765,190.58823529411765\" style=\"fill:#ECB172A0;stroke-width:0\"/>\n",
       "\n",
       "  <!-- Text -->\n",
       "  <text x=\"140.588235\" y=\"210.588235\" font-size=\"1.0rem\" font-weight=\"100\" text-anchor=\"middle\" >1000</text>\n",
       "  <text x=\"220.588235\" y=\"130.588235\" font-size=\"1.0rem\" font-weight=\"100\" text-anchor=\"middle\" transform=\"rotate(-90,220.588235,130.588235)\">1000</text>\n",
       "  <text x=\"35.294118\" y=\"175.294118\" font-size=\"1.0rem\" font-weight=\"100\" text-anchor=\"middle\" transform=\"rotate(45,35.294118,175.294118)\">1000</text>\n",
       "</svg>\n",
       "        </td>\n",
       "    </tr>\n",
       "</table>"
      ],
      "text/plain": [
       "dask.array<random_sample, shape=(1000, 1000, 1000), dtype=float64, chunksize=(255, 255, 255), chunktype=numpy.ndarray>"
      ]
     },
     "execution_count": 20,
     "metadata": {},
     "output_type": "execute_result"
    }
   ],
   "source": [
    "import dask.array as da\n",
    "x = da.random.random((1000, 1000,1000))\n",
    "x                     "
   ]
  },
  {
   "cell_type": "markdown",
   "id": "48b1ca71",
   "metadata": {},
   "source": [
    "In this example, we create a random Dask array with shape (1000, 1000) and chunk size (100, 100), meaning that the array is broken up into 100x100 chunks. We then compute the mean along the first axis, which returns a Dask array representing the result. Finally, we compute the result using the compute() method and print it."
   ]
  },
  {
   "cell_type": "markdown",
   "id": "81a598c4",
   "metadata": {},
   "source": [
    "### Dask Bag "
   ]
  },
  {
   "cell_type": "markdown",
   "id": "3041dbd7",
   "metadata": {},
   "source": [
    "Dask Bag is a high-level collection that represents a parallelizable unordered set of Python objects. It is part of the Dask library and is designed to handle large datasets that do not fit in memory. Dask Bag is built on top of Dask's task scheduler and can scale out to clusters of computers.\n",
    "\n",
    "A Dask Bag can be thought of as a distributed version of Python's built-in map function. It can be used to process large datasets in parallel by distributing the processing across multiple cores or nodes in a cluster"
   ]
  },
  {
   "cell_type": "markdown",
   "id": "a233415c",
   "metadata": {},
   "source": [
    " is a parallel and distributed version of Python's built-in map and filter functions. It is designed for working with unstructured or semi-structured data, such as JSON or text files, where the data is not organized into columns and rows like a tabl"
   ]
  },
  {
   "cell_type": "markdown",
   "id": "851760f7",
   "metadata": {},
   "source": [
    "### dask data frame"
   ]
  },
  {
   "cell_type": "markdown",
   "id": "8b80f060",
   "metadata": {},
   "source": [
    "Dask DataFrame is designed to work with the Dask distributed scheduler, which allows it to scale out computations to a cluster of machines. This makes it well-suited for working with large datasets that would not fit in memory on a single machine. Additionally, Dask DataFrame can leverage parallelism within a single machine, making it faster than Pandas for many operations on large datasets."
   ]
  },
  {
   "cell_type": "markdown",
   "id": "25da84c2",
   "metadata": {},
   "source": [
    "#### Dask DataFrame is designed for working with structured data that can be organized into columns and rows like a table, while Dask Bag is designed for working with unstructured or semi-structured data that cannot be easily organized into a table."
   ]
  },
  {
   "cell_type": "code",
   "execution_count": 8,
   "id": "37bd8ac9",
   "metadata": {},
   "outputs": [
    {
     "name": "stdout",
     "output_type": "stream",
     "text": [
      "[########################################] | 100% Completed | 24.32 s\n"
     ]
    }
   ],
   "source": [
    "import dask\n",
    "import dask.array as da\n",
    "import dask.diagnostics\n",
    "\n",
    "# create a large Dask array\n",
    "x = da.random.normal(size=(100000, 10000), chunks=(1000, 1000))\n",
    "\n",
    "# compute the mean of the array\n",
    "with dask.diagnostics.ProgressBar():\n",
    "    result = x.mean().compute()"
   ]
  },
  {
   "cell_type": "markdown",
   "id": "03fe9a2e",
   "metadata": {},
   "source": [
    "#### the resource usage of a Dask application"
   ]
  },
  {
   "cell_type": "code",
   "execution_count": 11,
   "id": "b04123ba",
   "metadata": {},
   "outputs": [
    {
     "name": "stdout",
     "output_type": "stream",
     "text": [
      "[########################################] | 100% Completed | 973.26 ms\n",
      "[ResourceData(time=1113950.4061022, mem=202.596352, cpu=0.0)]\n"
     ]
    }
   ],
   "source": [
    "import dask.array as da\n",
    "import dask.diagnostics as diag\n",
    "\n",
    "# Create a large random array\n",
    "x = da.random.random((10000, 10000), chunks=(1000, 1000))\n",
    "\n",
    "# Compute the mean along each row\n",
    "y = x.mean(axis=1)\n",
    "\n",
    "# Monitor resource usage during computation\n",
    "with diag.ProgressBar(), diag.ResourceProfiler(dt=0.25) as prof:\n",
    "    y.compute()\n",
    "\n",
    "# Print resource usage statistics\n",
    "print(prof.results)"
   ]
  },
  {
   "cell_type": "markdown",
   "id": "e438d428",
   "metadata": {},
   "source": [
    "time: the total amount of CPU time used by the Dask application so far (in seconds).\n",
    "\n",
    "mem: the amount of memory used by the Dask application (in MB).\n",
    "\n",
    "cpu: the fraction of CPU time used by the Dask application, as a percentage of the total available CPU time.\n",
    "\n",
    "These values can be useful in monitoring the resource usage of a Dask application and identifying any potential bottlenecks or areas for optimization."
   ]
  },
  {
   "cell_type": "markdown",
   "id": "000715fc",
   "metadata": {},
   "source": [
    "###  parallel computing "
   ]
  },
  {
   "cell_type": "markdown",
   "id": "f46c8f08",
   "metadata": {},
   "source": [
    "Dask is a library for parallel computing in Python, which allows users to execute computations in parallel across multiple CPU cores, multiple machines, or even on GPUs"
   ]
  },
  {
   "cell_type": "code",
   "execution_count": 25,
   "id": "31a8619c",
   "metadata": {},
   "outputs": [],
   "source": [
    "def add(x, y):\n",
    "    return x + y\n",
    "\n",
    "result = add(1, 2)\n",
    "\n",
    "from dask import delayed\n",
    "\n",
    "@delayed\n",
    "def add(x, y):\n",
    "    return x + y\n",
    "\n",
    "result = add(1, 2)\n"
   ]
  },
  {
   "cell_type": "code",
   "execution_count": 26,
   "id": "3871bbea",
   "metadata": {},
   "outputs": [
    {
     "ename": "ExecutableNotFound",
     "evalue": "failed to execute WindowsPath('dot'), make sure the Graphviz executables are on your systems' PATH",
     "output_type": "error",
     "traceback": [
      "\u001b[1;31m---------------------------------------------------------------------------\u001b[0m",
      "\u001b[1;31mFileNotFoundError\u001b[0m                         Traceback (most recent call last)",
      "File \u001b[1;32m~\\miniconda3\\envs\\hypothisis_test\\lib\\site-packages\\graphviz\\backend\\execute.py:79\u001b[0m, in \u001b[0;36mrun_check\u001b[1;34m(cmd, input_lines, encoding, quiet, **kwargs)\u001b[0m\n\u001b[0;32m     78\u001b[0m         kwargs[\u001b[38;5;124m'\u001b[39m\u001b[38;5;124mstdout\u001b[39m\u001b[38;5;124m'\u001b[39m] \u001b[38;5;241m=\u001b[39m kwargs[\u001b[38;5;124m'\u001b[39m\u001b[38;5;124mstderr\u001b[39m\u001b[38;5;124m'\u001b[39m] \u001b[38;5;241m=\u001b[39m subprocess\u001b[38;5;241m.\u001b[39mPIPE\n\u001b[1;32m---> 79\u001b[0m     proc \u001b[38;5;241m=\u001b[39m \u001b[43m_run_input_lines\u001b[49m\u001b[43m(\u001b[49m\u001b[43mcmd\u001b[49m\u001b[43m,\u001b[49m\u001b[43m \u001b[49m\u001b[43minput_lines\u001b[49m\u001b[43m,\u001b[49m\u001b[43m \u001b[49m\u001b[43mkwargs\u001b[49m\u001b[38;5;241;43m=\u001b[39;49m\u001b[43mkwargs\u001b[49m\u001b[43m)\u001b[49m\n\u001b[0;32m     80\u001b[0m \u001b[38;5;28;01melse\u001b[39;00m:\n",
      "File \u001b[1;32m~\\miniconda3\\envs\\hypothisis_test\\lib\\site-packages\\graphviz\\backend\\execute.py:99\u001b[0m, in \u001b[0;36m_run_input_lines\u001b[1;34m(cmd, input_lines, kwargs)\u001b[0m\n\u001b[0;32m     98\u001b[0m \u001b[38;5;28;01mdef\u001b[39;00m \u001b[38;5;21m_run_input_lines\u001b[39m(cmd, input_lines, \u001b[38;5;241m*\u001b[39m, kwargs):\n\u001b[1;32m---> 99\u001b[0m     popen \u001b[38;5;241m=\u001b[39m subprocess\u001b[38;5;241m.\u001b[39mPopen(cmd, stdin\u001b[38;5;241m=\u001b[39msubprocess\u001b[38;5;241m.\u001b[39mPIPE, \u001b[38;5;241m*\u001b[39m\u001b[38;5;241m*\u001b[39mkwargs)\n\u001b[0;32m    101\u001b[0m     stdin_write \u001b[38;5;241m=\u001b[39m popen\u001b[38;5;241m.\u001b[39mstdin\u001b[38;5;241m.\u001b[39mwrite\n",
      "File \u001b[1;32m~\\miniconda3\\envs\\hypothisis_test\\lib\\subprocess.py:971\u001b[0m, in \u001b[0;36mPopen.__init__\u001b[1;34m(self, args, bufsize, executable, stdin, stdout, stderr, preexec_fn, close_fds, shell, cwd, env, universal_newlines, startupinfo, creationflags, restore_signals, start_new_session, pass_fds, user, group, extra_groups, encoding, errors, text, umask, pipesize)\u001b[0m\n\u001b[0;32m    968\u001b[0m             \u001b[38;5;28mself\u001b[39m\u001b[38;5;241m.\u001b[39mstderr \u001b[38;5;241m=\u001b[39m io\u001b[38;5;241m.\u001b[39mTextIOWrapper(\u001b[38;5;28mself\u001b[39m\u001b[38;5;241m.\u001b[39mstderr,\n\u001b[0;32m    969\u001b[0m                     encoding\u001b[38;5;241m=\u001b[39mencoding, errors\u001b[38;5;241m=\u001b[39merrors)\n\u001b[1;32m--> 971\u001b[0m     \u001b[38;5;28;43mself\u001b[39;49m\u001b[38;5;241;43m.\u001b[39;49m\u001b[43m_execute_child\u001b[49m\u001b[43m(\u001b[49m\u001b[43margs\u001b[49m\u001b[43m,\u001b[49m\u001b[43m \u001b[49m\u001b[43mexecutable\u001b[49m\u001b[43m,\u001b[49m\u001b[43m \u001b[49m\u001b[43mpreexec_fn\u001b[49m\u001b[43m,\u001b[49m\u001b[43m \u001b[49m\u001b[43mclose_fds\u001b[49m\u001b[43m,\u001b[49m\n\u001b[0;32m    972\u001b[0m \u001b[43m                        \u001b[49m\u001b[43mpass_fds\u001b[49m\u001b[43m,\u001b[49m\u001b[43m \u001b[49m\u001b[43mcwd\u001b[49m\u001b[43m,\u001b[49m\u001b[43m \u001b[49m\u001b[43menv\u001b[49m\u001b[43m,\u001b[49m\n\u001b[0;32m    973\u001b[0m \u001b[43m                        \u001b[49m\u001b[43mstartupinfo\u001b[49m\u001b[43m,\u001b[49m\u001b[43m \u001b[49m\u001b[43mcreationflags\u001b[49m\u001b[43m,\u001b[49m\u001b[43m \u001b[49m\u001b[43mshell\u001b[49m\u001b[43m,\u001b[49m\n\u001b[0;32m    974\u001b[0m \u001b[43m                        \u001b[49m\u001b[43mp2cread\u001b[49m\u001b[43m,\u001b[49m\u001b[43m \u001b[49m\u001b[43mp2cwrite\u001b[49m\u001b[43m,\u001b[49m\n\u001b[0;32m    975\u001b[0m \u001b[43m                        \u001b[49m\u001b[43mc2pread\u001b[49m\u001b[43m,\u001b[49m\u001b[43m \u001b[49m\u001b[43mc2pwrite\u001b[49m\u001b[43m,\u001b[49m\n\u001b[0;32m    976\u001b[0m \u001b[43m                        \u001b[49m\u001b[43merrread\u001b[49m\u001b[43m,\u001b[49m\u001b[43m \u001b[49m\u001b[43merrwrite\u001b[49m\u001b[43m,\u001b[49m\n\u001b[0;32m    977\u001b[0m \u001b[43m                        \u001b[49m\u001b[43mrestore_signals\u001b[49m\u001b[43m,\u001b[49m\n\u001b[0;32m    978\u001b[0m \u001b[43m                        \u001b[49m\u001b[43mgid\u001b[49m\u001b[43m,\u001b[49m\u001b[43m \u001b[49m\u001b[43mgids\u001b[49m\u001b[43m,\u001b[49m\u001b[43m \u001b[49m\u001b[43muid\u001b[49m\u001b[43m,\u001b[49m\u001b[43m \u001b[49m\u001b[43mumask\u001b[49m\u001b[43m,\u001b[49m\n\u001b[0;32m    979\u001b[0m \u001b[43m                        \u001b[49m\u001b[43mstart_new_session\u001b[49m\u001b[43m)\u001b[49m\n\u001b[0;32m    980\u001b[0m \u001b[38;5;28;01mexcept\u001b[39;00m:\n\u001b[0;32m    981\u001b[0m     \u001b[38;5;66;03m# Cleanup if the child failed starting.\u001b[39;00m\n",
      "File \u001b[1;32m~\\miniconda3\\envs\\hypothisis_test\\lib\\subprocess.py:1440\u001b[0m, in \u001b[0;36mPopen._execute_child\u001b[1;34m(self, args, executable, preexec_fn, close_fds, pass_fds, cwd, env, startupinfo, creationflags, shell, p2cread, p2cwrite, c2pread, c2pwrite, errread, errwrite, unused_restore_signals, unused_gid, unused_gids, unused_uid, unused_umask, unused_start_new_session)\u001b[0m\n\u001b[0;32m   1439\u001b[0m \u001b[38;5;28;01mtry\u001b[39;00m:\n\u001b[1;32m-> 1440\u001b[0m     hp, ht, pid, tid \u001b[38;5;241m=\u001b[39m \u001b[43m_winapi\u001b[49m\u001b[38;5;241;43m.\u001b[39;49m\u001b[43mCreateProcess\u001b[49m\u001b[43m(\u001b[49m\u001b[43mexecutable\u001b[49m\u001b[43m,\u001b[49m\u001b[43m \u001b[49m\u001b[43margs\u001b[49m\u001b[43m,\u001b[49m\n\u001b[0;32m   1441\u001b[0m \u001b[43m                             \u001b[49m\u001b[38;5;66;43;03m# no special security\u001b[39;49;00m\n\u001b[0;32m   1442\u001b[0m \u001b[43m                             \u001b[49m\u001b[38;5;28;43;01mNone\u001b[39;49;00m\u001b[43m,\u001b[49m\u001b[43m \u001b[49m\u001b[38;5;28;43;01mNone\u001b[39;49;00m\u001b[43m,\u001b[49m\n\u001b[0;32m   1443\u001b[0m \u001b[43m                             \u001b[49m\u001b[38;5;28;43mint\u001b[39;49m\u001b[43m(\u001b[49m\u001b[38;5;129;43;01mnot\u001b[39;49;00m\u001b[43m \u001b[49m\u001b[43mclose_fds\u001b[49m\u001b[43m)\u001b[49m\u001b[43m,\u001b[49m\n\u001b[0;32m   1444\u001b[0m \u001b[43m                             \u001b[49m\u001b[43mcreationflags\u001b[49m\u001b[43m,\u001b[49m\n\u001b[0;32m   1445\u001b[0m \u001b[43m                             \u001b[49m\u001b[43menv\u001b[49m\u001b[43m,\u001b[49m\n\u001b[0;32m   1446\u001b[0m \u001b[43m                             \u001b[49m\u001b[43mcwd\u001b[49m\u001b[43m,\u001b[49m\n\u001b[0;32m   1447\u001b[0m \u001b[43m                             \u001b[49m\u001b[43mstartupinfo\u001b[49m\u001b[43m)\u001b[49m\n\u001b[0;32m   1448\u001b[0m \u001b[38;5;28;01mfinally\u001b[39;00m:\n\u001b[0;32m   1449\u001b[0m     \u001b[38;5;66;03m# Child is launched. Close the parent's copy of those pipe\u001b[39;00m\n\u001b[0;32m   1450\u001b[0m     \u001b[38;5;66;03m# handles that only the child should have open.  You need\u001b[39;00m\n\u001b[1;32m   (...)\u001b[0m\n\u001b[0;32m   1453\u001b[0m     \u001b[38;5;66;03m# pipe will not close when the child process exits and the\u001b[39;00m\n\u001b[0;32m   1454\u001b[0m     \u001b[38;5;66;03m# ReadFile will hang.\u001b[39;00m\n",
      "\u001b[1;31mFileNotFoundError\u001b[0m: [WinError 2] The system cannot find the file specified",
      "\nThe above exception was the direct cause of the following exception:\n",
      "\u001b[1;31mExecutableNotFound\u001b[0m                        Traceback (most recent call last)",
      "Cell \u001b[1;32mIn [26], line 1\u001b[0m\n\u001b[1;32m----> 1\u001b[0m \u001b[38;5;28mprint\u001b[39m(\u001b[43mresult\u001b[49m\u001b[38;5;241;43m.\u001b[39;49m\u001b[43mvisualize\u001b[49m\u001b[43m(\u001b[49m\u001b[43m)\u001b[49m)\n",
      "File \u001b[1;32m~\\miniconda3\\envs\\hypothisis_test\\lib\\site-packages\\dask\\base.py:240\u001b[0m, in \u001b[0;36mDaskMethodsMixin.visualize\u001b[1;34m(self, filename, format, optimize_graph, **kwargs)\u001b[0m\n\u001b[0;32m    196\u001b[0m \u001b[38;5;28;01mdef\u001b[39;00m \u001b[38;5;21mvisualize\u001b[39m(\u001b[38;5;28mself\u001b[39m, filename\u001b[38;5;241m=\u001b[39m\u001b[38;5;124m\"\u001b[39m\u001b[38;5;124mmydask\u001b[39m\u001b[38;5;124m\"\u001b[39m, \u001b[38;5;28mformat\u001b[39m\u001b[38;5;241m=\u001b[39m\u001b[38;5;28;01mNone\u001b[39;00m, optimize_graph\u001b[38;5;241m=\u001b[39m\u001b[38;5;28;01mFalse\u001b[39;00m, \u001b[38;5;241m*\u001b[39m\u001b[38;5;241m*\u001b[39mkwargs):\n\u001b[0;32m    197\u001b[0m     \u001b[38;5;124;03m\"\"\"Render the computation of this object's task graph using graphviz.\u001b[39;00m\n\u001b[0;32m    198\u001b[0m \n\u001b[0;32m    199\u001b[0m \u001b[38;5;124;03m    Requires ``graphviz`` to be installed.\u001b[39;00m\n\u001b[1;32m   (...)\u001b[0m\n\u001b[0;32m    238\u001b[0m \u001b[38;5;124;03m    https://docs.dask.org/en/latest/optimize.html\u001b[39;00m\n\u001b[0;32m    239\u001b[0m \u001b[38;5;124;03m    \"\"\"\u001b[39;00m\n\u001b[1;32m--> 240\u001b[0m     \u001b[38;5;28;01mreturn\u001b[39;00m visualize(\n\u001b[0;32m    241\u001b[0m         \u001b[38;5;28mself\u001b[39m,\n\u001b[0;32m    242\u001b[0m         filename\u001b[38;5;241m=\u001b[39mfilename,\n\u001b[0;32m    243\u001b[0m         \u001b[38;5;28mformat\u001b[39m\u001b[38;5;241m=\u001b[39m\u001b[38;5;28mformat\u001b[39m,\n\u001b[0;32m    244\u001b[0m         optimize_graph\u001b[38;5;241m=\u001b[39moptimize_graph,\n\u001b[0;32m    245\u001b[0m         \u001b[38;5;241m*\u001b[39m\u001b[38;5;241m*\u001b[39mkwargs,\n\u001b[0;32m    246\u001b[0m     )\n",
      "File \u001b[1;32m~\\miniconda3\\envs\\hypothisis_test\\lib\\site-packages\\dask\\base.py:796\u001b[0m, in \u001b[0;36mvisualize\u001b[1;34m(filename, traverse, optimize_graph, maxval, engine, *args, **kwargs)\u001b[0m\n\u001b[0;32m    793\u001b[0m \u001b[38;5;28;01mif\u001b[39;00m engine \u001b[38;5;241m==\u001b[39m \u001b[38;5;124m\"\u001b[39m\u001b[38;5;124mgraphviz\u001b[39m\u001b[38;5;124m\"\u001b[39m:\n\u001b[0;32m    794\u001b[0m     \u001b[38;5;28;01mfrom\u001b[39;00m \u001b[38;5;21;01mdask\u001b[39;00m\u001b[38;5;21;01m.\u001b[39;00m\u001b[38;5;21;01mdot\u001b[39;00m \u001b[38;5;28;01mimport\u001b[39;00m dot_graph\n\u001b[1;32m--> 796\u001b[0m     \u001b[38;5;28;01mreturn\u001b[39;00m dot_graph(dsk, filename\u001b[38;5;241m=\u001b[39mfilename, \u001b[38;5;241m*\u001b[39m\u001b[38;5;241m*\u001b[39mkwargs)\n\u001b[0;32m    797\u001b[0m \u001b[38;5;28;01melif\u001b[39;00m engine \u001b[38;5;129;01min\u001b[39;00m (\u001b[38;5;124m\"\u001b[39m\u001b[38;5;124mcytoscape\u001b[39m\u001b[38;5;124m\"\u001b[39m, \u001b[38;5;124m\"\u001b[39m\u001b[38;5;124mipycytoscape\u001b[39m\u001b[38;5;124m\"\u001b[39m):\n\u001b[0;32m    798\u001b[0m     \u001b[38;5;28;01mfrom\u001b[39;00m \u001b[38;5;21;01mdask\u001b[39;00m\u001b[38;5;21;01m.\u001b[39;00m\u001b[38;5;21;01mdot\u001b[39;00m \u001b[38;5;28;01mimport\u001b[39;00m cytoscape_graph\n",
      "File \u001b[1;32m~\\miniconda3\\envs\\hypothisis_test\\lib\\site-packages\\dask\\dot.py:274\u001b[0m, in \u001b[0;36mdot_graph\u001b[1;34m(dsk, filename, format, **kwargs)\u001b[0m\n\u001b[0;32m    236\u001b[0m \u001b[38;5;124;03m\"\"\"\u001b[39;00m\n\u001b[0;32m    237\u001b[0m \u001b[38;5;124;03mRender a task graph using dot.\u001b[39;00m\n\u001b[0;32m    238\u001b[0m \n\u001b[1;32m   (...)\u001b[0m\n\u001b[0;32m    271\u001b[0m \u001b[38;5;124;03mdask.dot.to_graphviz\u001b[39;00m\n\u001b[0;32m    272\u001b[0m \u001b[38;5;124;03m\"\"\"\u001b[39;00m\n\u001b[0;32m    273\u001b[0m g \u001b[38;5;241m=\u001b[39m to_graphviz(dsk, \u001b[38;5;241m*\u001b[39m\u001b[38;5;241m*\u001b[39mkwargs)\n\u001b[1;32m--> 274\u001b[0m \u001b[38;5;28;01mreturn\u001b[39;00m \u001b[43mgraphviz_to_file\u001b[49m\u001b[43m(\u001b[49m\u001b[43mg\u001b[49m\u001b[43m,\u001b[49m\u001b[43m \u001b[49m\u001b[43mfilename\u001b[49m\u001b[43m,\u001b[49m\u001b[43m \u001b[49m\u001b[38;5;28;43mformat\u001b[39;49m\u001b[43m)\u001b[49m\n",
      "File \u001b[1;32m~\\miniconda3\\envs\\hypothisis_test\\lib\\site-packages\\dask\\dot.py:291\u001b[0m, in \u001b[0;36mgraphviz_to_file\u001b[1;34m(g, filename, format)\u001b[0m\n\u001b[0;32m    288\u001b[0m \u001b[38;5;28;01mif\u001b[39;00m \u001b[38;5;28mformat\u001b[39m \u001b[38;5;129;01mis\u001b[39;00m \u001b[38;5;28;01mNone\u001b[39;00m:\n\u001b[0;32m    289\u001b[0m     \u001b[38;5;28mformat\u001b[39m \u001b[38;5;241m=\u001b[39m \u001b[38;5;124m\"\u001b[39m\u001b[38;5;124mpng\u001b[39m\u001b[38;5;124m\"\u001b[39m\n\u001b[1;32m--> 291\u001b[0m data \u001b[38;5;241m=\u001b[39m \u001b[43mg\u001b[49m\u001b[38;5;241;43m.\u001b[39;49m\u001b[43mpipe\u001b[49m\u001b[43m(\u001b[49m\u001b[38;5;28;43mformat\u001b[39;49m\u001b[38;5;241;43m=\u001b[39;49m\u001b[38;5;28;43mformat\u001b[39;49m\u001b[43m)\u001b[49m\n\u001b[0;32m    292\u001b[0m \u001b[38;5;28;01mif\u001b[39;00m \u001b[38;5;129;01mnot\u001b[39;00m data:\n\u001b[0;32m    293\u001b[0m     \u001b[38;5;28;01mraise\u001b[39;00m \u001b[38;5;167;01mRuntimeError\u001b[39;00m(\n\u001b[0;32m    294\u001b[0m         \u001b[38;5;124m\"\u001b[39m\u001b[38;5;124mGraphviz failed to properly produce an image. \u001b[39m\u001b[38;5;124m\"\u001b[39m\n\u001b[0;32m    295\u001b[0m         \u001b[38;5;124m\"\u001b[39m\u001b[38;5;124mThis probably means your installation of graphviz \u001b[39m\u001b[38;5;124m\"\u001b[39m\n\u001b[1;32m   (...)\u001b[0m\n\u001b[0;32m    298\u001b[0m         \u001b[38;5;124m\"\u001b[39m\u001b[38;5;124missues/485 for more information.\u001b[39m\u001b[38;5;124m\"\u001b[39m\n\u001b[0;32m    299\u001b[0m     )\n",
      "File \u001b[1;32m~\\miniconda3\\envs\\hypothisis_test\\lib\\site-packages\\graphviz\\piping.py:104\u001b[0m, in \u001b[0;36mPipe.pipe\u001b[1;34m(self, format, renderer, formatter, neato_no_op, quiet, engine, encoding)\u001b[0m\n\u001b[0;32m     55\u001b[0m \u001b[38;5;28;01mdef\u001b[39;00m \u001b[38;5;21mpipe\u001b[39m(\u001b[38;5;28mself\u001b[39m,\n\u001b[0;32m     56\u001b[0m          \u001b[38;5;28mformat\u001b[39m: typing\u001b[38;5;241m.\u001b[39mOptional[\u001b[38;5;28mstr\u001b[39m] \u001b[38;5;241m=\u001b[39m \u001b[38;5;28;01mNone\u001b[39;00m,\n\u001b[0;32m     57\u001b[0m          renderer: typing\u001b[38;5;241m.\u001b[39mOptional[\u001b[38;5;28mstr\u001b[39m] \u001b[38;5;241m=\u001b[39m \u001b[38;5;28;01mNone\u001b[39;00m,\n\u001b[1;32m   (...)\u001b[0m\n\u001b[0;32m     61\u001b[0m          engine: typing\u001b[38;5;241m.\u001b[39mOptional[\u001b[38;5;28mstr\u001b[39m] \u001b[38;5;241m=\u001b[39m \u001b[38;5;28;01mNone\u001b[39;00m,\n\u001b[0;32m     62\u001b[0m          encoding: typing\u001b[38;5;241m.\u001b[39mOptional[\u001b[38;5;28mstr\u001b[39m] \u001b[38;5;241m=\u001b[39m \u001b[38;5;28;01mNone\u001b[39;00m) \u001b[38;5;241m-\u001b[39m\u001b[38;5;241m>\u001b[39m typing\u001b[38;5;241m.\u001b[39mUnion[\u001b[38;5;28mbytes\u001b[39m, \u001b[38;5;28mstr\u001b[39m]:\n\u001b[0;32m     63\u001b[0m     \u001b[38;5;124;03m\"\"\"Return the source piped through the Graphviz layout command.\u001b[39;00m\n\u001b[0;32m     64\u001b[0m \n\u001b[0;32m     65\u001b[0m \u001b[38;5;124;03m    Args:\u001b[39;00m\n\u001b[1;32m   (...)\u001b[0m\n\u001b[0;32m    102\u001b[0m \u001b[38;5;124;03m        '<?xml version='\u001b[39;00m\n\u001b[0;32m    103\u001b[0m \u001b[38;5;124;03m    \"\"\"\u001b[39;00m\n\u001b[1;32m--> 104\u001b[0m     \u001b[38;5;28;01mreturn\u001b[39;00m \u001b[38;5;28;43mself\u001b[39;49m\u001b[38;5;241;43m.\u001b[39;49m\u001b[43m_pipe_legacy\u001b[49m\u001b[43m(\u001b[49m\u001b[38;5;28;43mformat\u001b[39;49m\u001b[43m,\u001b[49m\n\u001b[0;32m    105\u001b[0m \u001b[43m                             \u001b[49m\u001b[43mrenderer\u001b[49m\u001b[38;5;241;43m=\u001b[39;49m\u001b[43mrenderer\u001b[49m\u001b[43m,\u001b[49m\n\u001b[0;32m    106\u001b[0m \u001b[43m                             \u001b[49m\u001b[43mformatter\u001b[49m\u001b[38;5;241;43m=\u001b[39;49m\u001b[43mformatter\u001b[49m\u001b[43m,\u001b[49m\n\u001b[0;32m    107\u001b[0m \u001b[43m                             \u001b[49m\u001b[43mneato_no_op\u001b[49m\u001b[38;5;241;43m=\u001b[39;49m\u001b[43mneato_no_op\u001b[49m\u001b[43m,\u001b[49m\n\u001b[0;32m    108\u001b[0m \u001b[43m                             \u001b[49m\u001b[43mquiet\u001b[49m\u001b[38;5;241;43m=\u001b[39;49m\u001b[43mquiet\u001b[49m\u001b[43m,\u001b[49m\n\u001b[0;32m    109\u001b[0m \u001b[43m                             \u001b[49m\u001b[43mengine\u001b[49m\u001b[38;5;241;43m=\u001b[39;49m\u001b[43mengine\u001b[49m\u001b[43m,\u001b[49m\n\u001b[0;32m    110\u001b[0m \u001b[43m                             \u001b[49m\u001b[43mencoding\u001b[49m\u001b[38;5;241;43m=\u001b[39;49m\u001b[43mencoding\u001b[49m\u001b[43m)\u001b[49m\n",
      "File \u001b[1;32m~\\miniconda3\\envs\\hypothisis_test\\lib\\site-packages\\graphviz\\_tools.py:171\u001b[0m, in \u001b[0;36mdeprecate_positional_args.<locals>.decorator.<locals>.wrapper\u001b[1;34m(*args, **kwargs)\u001b[0m\n\u001b[0;32m    162\u001b[0m     wanted \u001b[38;5;241m=\u001b[39m \u001b[38;5;124m'\u001b[39m\u001b[38;5;124m, \u001b[39m\u001b[38;5;124m'\u001b[39m\u001b[38;5;241m.\u001b[39mjoin(\u001b[38;5;124mf\u001b[39m\u001b[38;5;124m'\u001b[39m\u001b[38;5;132;01m{\u001b[39;00mname\u001b[38;5;132;01m}\u001b[39;00m\u001b[38;5;124m=\u001b[39m\u001b[38;5;132;01m{\u001b[39;00mvalue\u001b[38;5;132;01m!r}\u001b[39;00m\u001b[38;5;124m'\u001b[39m\n\u001b[0;32m    163\u001b[0m                        \u001b[38;5;28;01mfor\u001b[39;00m name, value \u001b[38;5;129;01min\u001b[39;00m deprecated\u001b[38;5;241m.\u001b[39mitems())\n\u001b[0;32m    164\u001b[0m     warnings\u001b[38;5;241m.\u001b[39mwarn(\u001b[38;5;124mf\u001b[39m\u001b[38;5;124m'\u001b[39m\u001b[38;5;124mThe signature of \u001b[39m\u001b[38;5;132;01m{\u001b[39;00mfunc\u001b[38;5;241m.\u001b[39m\u001b[38;5;18m__name__\u001b[39m\u001b[38;5;132;01m}\u001b[39;00m\u001b[38;5;124m will be reduced\u001b[39m\u001b[38;5;124m'\u001b[39m\n\u001b[0;32m    165\u001b[0m                   \u001b[38;5;124mf\u001b[39m\u001b[38;5;124m'\u001b[39m\u001b[38;5;124m to \u001b[39m\u001b[38;5;132;01m{\u001b[39;00msupported_number\u001b[38;5;132;01m}\u001b[39;00m\u001b[38;5;124m positional args\u001b[39m\u001b[38;5;124m'\u001b[39m\n\u001b[0;32m    166\u001b[0m                   \u001b[38;5;124mf\u001b[39m\u001b[38;5;124m'\u001b[39m\u001b[38;5;124m \u001b[39m\u001b[38;5;132;01m{\u001b[39;00m\u001b[38;5;28mlist\u001b[39m(supported)\u001b[38;5;132;01m}\u001b[39;00m\u001b[38;5;124m: pass \u001b[39m\u001b[38;5;132;01m{\u001b[39;00mwanted\u001b[38;5;132;01m}\u001b[39;00m\u001b[38;5;124m'\u001b[39m\n\u001b[0;32m    167\u001b[0m                   \u001b[38;5;124m'\u001b[39m\u001b[38;5;124m as keyword arg(s)\u001b[39m\u001b[38;5;124m'\u001b[39m,\n\u001b[0;32m    168\u001b[0m                   stacklevel\u001b[38;5;241m=\u001b[39mstacklevel,\n\u001b[0;32m    169\u001b[0m                   category\u001b[38;5;241m=\u001b[39mcategory)\n\u001b[1;32m--> 171\u001b[0m \u001b[38;5;28;01mreturn\u001b[39;00m func(\u001b[38;5;241m*\u001b[39margs, \u001b[38;5;241m*\u001b[39m\u001b[38;5;241m*\u001b[39mkwargs)\n",
      "File \u001b[1;32m~\\miniconda3\\envs\\hypothisis_test\\lib\\site-packages\\graphviz\\piping.py:121\u001b[0m, in \u001b[0;36mPipe._pipe_legacy\u001b[1;34m(self, format, renderer, formatter, neato_no_op, quiet, engine, encoding)\u001b[0m\n\u001b[0;32m    112\u001b[0m \u001b[38;5;129m@_tools\u001b[39m\u001b[38;5;241m.\u001b[39mdeprecate_positional_args(supported_number\u001b[38;5;241m=\u001b[39m\u001b[38;5;241m2\u001b[39m)\n\u001b[0;32m    113\u001b[0m \u001b[38;5;28;01mdef\u001b[39;00m \u001b[38;5;21m_pipe_legacy\u001b[39m(\u001b[38;5;28mself\u001b[39m,\n\u001b[0;32m    114\u001b[0m                  \u001b[38;5;28mformat\u001b[39m: typing\u001b[38;5;241m.\u001b[39mOptional[\u001b[38;5;28mstr\u001b[39m] \u001b[38;5;241m=\u001b[39m \u001b[38;5;28;01mNone\u001b[39;00m,\n\u001b[1;32m   (...)\u001b[0m\n\u001b[0;32m    119\u001b[0m                  engine: typing\u001b[38;5;241m.\u001b[39mOptional[\u001b[38;5;28mstr\u001b[39m] \u001b[38;5;241m=\u001b[39m \u001b[38;5;28;01mNone\u001b[39;00m,\n\u001b[0;32m    120\u001b[0m                  encoding: typing\u001b[38;5;241m.\u001b[39mOptional[\u001b[38;5;28mstr\u001b[39m] \u001b[38;5;241m=\u001b[39m \u001b[38;5;28;01mNone\u001b[39;00m) \u001b[38;5;241m-\u001b[39m\u001b[38;5;241m>\u001b[39m typing\u001b[38;5;241m.\u001b[39mUnion[\u001b[38;5;28mbytes\u001b[39m, \u001b[38;5;28mstr\u001b[39m]:\n\u001b[1;32m--> 121\u001b[0m     \u001b[38;5;28;01mreturn\u001b[39;00m \u001b[38;5;28;43mself\u001b[39;49m\u001b[38;5;241;43m.\u001b[39;49m\u001b[43m_pipe_future\u001b[49m\u001b[43m(\u001b[49m\u001b[38;5;28;43mformat\u001b[39;49m\u001b[43m,\u001b[49m\n\u001b[0;32m    122\u001b[0m \u001b[43m                             \u001b[49m\u001b[43mrenderer\u001b[49m\u001b[38;5;241;43m=\u001b[39;49m\u001b[43mrenderer\u001b[49m\u001b[43m,\u001b[49m\n\u001b[0;32m    123\u001b[0m \u001b[43m                             \u001b[49m\u001b[43mformatter\u001b[49m\u001b[38;5;241;43m=\u001b[39;49m\u001b[43mformatter\u001b[49m\u001b[43m,\u001b[49m\n\u001b[0;32m    124\u001b[0m \u001b[43m                             \u001b[49m\u001b[43mneato_no_op\u001b[49m\u001b[38;5;241;43m=\u001b[39;49m\u001b[43mneato_no_op\u001b[49m\u001b[43m,\u001b[49m\n\u001b[0;32m    125\u001b[0m \u001b[43m                             \u001b[49m\u001b[43mquiet\u001b[49m\u001b[38;5;241;43m=\u001b[39;49m\u001b[43mquiet\u001b[49m\u001b[43m,\u001b[49m\n\u001b[0;32m    126\u001b[0m \u001b[43m                             \u001b[49m\u001b[43mengine\u001b[49m\u001b[38;5;241;43m=\u001b[39;49m\u001b[43mengine\u001b[49m\u001b[43m,\u001b[49m\n\u001b[0;32m    127\u001b[0m \u001b[43m                             \u001b[49m\u001b[43mencoding\u001b[49m\u001b[38;5;241;43m=\u001b[39;49m\u001b[43mencoding\u001b[49m\u001b[43m)\u001b[49m\n",
      "File \u001b[1;32m~\\miniconda3\\envs\\hypothisis_test\\lib\\site-packages\\graphviz\\piping.py:161\u001b[0m, in \u001b[0;36mPipe._pipe_future\u001b[1;34m(self, format, renderer, formatter, neato_no_op, quiet, engine, encoding)\u001b[0m\n\u001b[0;32m    159\u001b[0m     \u001b[38;5;28;01melse\u001b[39;00m:\n\u001b[0;32m    160\u001b[0m         \u001b[38;5;28;01mreturn\u001b[39;00m raw\u001b[38;5;241m.\u001b[39mdecode(encoding)\n\u001b[1;32m--> 161\u001b[0m \u001b[38;5;28;01mreturn\u001b[39;00m \u001b[38;5;28mself\u001b[39m\u001b[38;5;241m.\u001b[39m_pipe_lines(\u001b[38;5;241m*\u001b[39margs, input_encoding\u001b[38;5;241m=\u001b[39m\u001b[38;5;28mself\u001b[39m\u001b[38;5;241m.\u001b[39mencoding, \u001b[38;5;241m*\u001b[39m\u001b[38;5;241m*\u001b[39mkwargs)\n",
      "File \u001b[1;32m~\\miniconda3\\envs\\hypothisis_test\\lib\\site-packages\\graphviz\\backend\\piping.py:161\u001b[0m, in \u001b[0;36mpipe_lines\u001b[1;34m(engine, format, input_lines, input_encoding, renderer, formatter, neato_no_op, quiet)\u001b[0m\n\u001b[0;32m    155\u001b[0m cmd \u001b[38;5;241m=\u001b[39m dot_command\u001b[38;5;241m.\u001b[39mcommand(engine, \u001b[38;5;28mformat\u001b[39m,\n\u001b[0;32m    156\u001b[0m                           renderer\u001b[38;5;241m=\u001b[39mrenderer,\n\u001b[0;32m    157\u001b[0m                           formatter\u001b[38;5;241m=\u001b[39mformatter,\n\u001b[0;32m    158\u001b[0m                           neato_no_op\u001b[38;5;241m=\u001b[39mneato_no_op)\n\u001b[0;32m    159\u001b[0m kwargs \u001b[38;5;241m=\u001b[39m {\u001b[38;5;124m'\u001b[39m\u001b[38;5;124minput_lines\u001b[39m\u001b[38;5;124m'\u001b[39m: (line\u001b[38;5;241m.\u001b[39mencode(input_encoding) \u001b[38;5;28;01mfor\u001b[39;00m line \u001b[38;5;129;01min\u001b[39;00m input_lines)}\n\u001b[1;32m--> 161\u001b[0m proc \u001b[38;5;241m=\u001b[39m execute\u001b[38;5;241m.\u001b[39mrun_check(cmd, capture_output\u001b[38;5;241m=\u001b[39m\u001b[38;5;28;01mTrue\u001b[39;00m, quiet\u001b[38;5;241m=\u001b[39mquiet, \u001b[38;5;241m*\u001b[39m\u001b[38;5;241m*\u001b[39mkwargs)\n\u001b[0;32m    162\u001b[0m \u001b[38;5;28;01mreturn\u001b[39;00m proc\u001b[38;5;241m.\u001b[39mstdout\n",
      "File \u001b[1;32m~\\miniconda3\\envs\\hypothisis_test\\lib\\site-packages\\graphviz\\backend\\execute.py:84\u001b[0m, in \u001b[0;36mrun_check\u001b[1;34m(cmd, input_lines, encoding, quiet, **kwargs)\u001b[0m\n\u001b[0;32m     82\u001b[0m \u001b[38;5;28;01mexcept\u001b[39;00m \u001b[38;5;167;01mOSError\u001b[39;00m \u001b[38;5;28;01mas\u001b[39;00m e:\n\u001b[0;32m     83\u001b[0m     \u001b[38;5;28;01mif\u001b[39;00m e\u001b[38;5;241m.\u001b[39merrno \u001b[38;5;241m==\u001b[39m errno\u001b[38;5;241m.\u001b[39mENOENT:\n\u001b[1;32m---> 84\u001b[0m         \u001b[38;5;28;01mraise\u001b[39;00m ExecutableNotFound(cmd) \u001b[38;5;28;01mfrom\u001b[39;00m \u001b[38;5;21;01me\u001b[39;00m\n\u001b[0;32m     85\u001b[0m     \u001b[38;5;28;01mraise\u001b[39;00m\n\u001b[0;32m     87\u001b[0m \u001b[38;5;28;01mif\u001b[39;00m \u001b[38;5;129;01mnot\u001b[39;00m quiet \u001b[38;5;129;01mand\u001b[39;00m proc\u001b[38;5;241m.\u001b[39mstderr:\n",
      "\u001b[1;31mExecutableNotFound\u001b[0m: failed to execute WindowsPath('dot'), make sure the Graphviz executables are on your systems' PATH"
     ]
    }
   ],
   "source": [
    "print(result.visualize())"
   ]
  },
  {
   "cell_type": "code",
   "execution_count": 24,
   "id": "e4bc883e",
   "metadata": {},
   "outputs": [
    {
     "data": {
      "text/plain": [
       "3"
      ]
     },
     "execution_count": 24,
     "metadata": {},
     "output_type": "execute_result"
    }
   ],
   "source": [
    "result.compute()"
   ]
  },
  {
   "cell_type": "code",
   "execution_count": null,
   "id": "1847a15c",
   "metadata": {},
   "outputs": [],
   "source": []
  }
 ],
 "metadata": {
  "kernelspec": {
   "display_name": "Python 3 (ipykernel)",
   "language": "python",
   "name": "python3"
  },
  "language_info": {
   "codemirror_mode": {
    "name": "ipython",
    "version": 3
   },
   "file_extension": ".py",
   "mimetype": "text/x-python",
   "name": "python",
   "nbconvert_exporter": "python",
   "pygments_lexer": "ipython3",
   "version": "3.10.9"
  }
 },
 "nbformat": 4,
 "nbformat_minor": 5
}
