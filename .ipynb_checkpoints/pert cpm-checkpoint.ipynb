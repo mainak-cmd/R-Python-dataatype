{
 "cells": [
  {
   "cell_type": "code",
   "execution_count": 6,
   "id": "234dc897",
   "metadata": {},
   "outputs": [],
   "source": [
    "# Load the CSV file into a data frame\n",
    "my_data <- read.csv(\"Activity.csv\")"
   ]
  },
  {
   "cell_type": "code",
   "execution_count": 7,
   "id": "a061a1fe",
   "metadata": {},
   "outputs": [
    {
     "data": {
      "text/html": [
       "<table class=\"dataframe\">\n",
       "<caption>A data.frame: 11 × 5</caption>\n",
       "<thead>\n",
       "\t<tr><th scope=col>Activity</th><th scope=col>Form</th><th scope=col>TO</th><th scope=col>Duration</th><th scope=col>Type</th></tr>\n",
       "\t<tr><th scope=col>&lt;chr&gt;</th><th scope=col>&lt;chr&gt;</th><th scope=col>&lt;chr&gt;</th><th scope=col>&lt;int&gt;</th><th scope=col>&lt;chr&gt;</th></tr>\n",
       "</thead>\n",
       "<tbody>\n",
       "\t<tr><td>A1 </td><td>A1</td><td>A2 </td><td> 7</td><td>FS</td></tr>\n",
       "\t<tr><td>A2 </td><td>A1</td><td>A3 </td><td>10</td><td>SS</td></tr>\n",
       "\t<tr><td>A3 </td><td>A2</td><td>A4 </td><td>13</td><td>FS</td></tr>\n",
       "\t<tr><td>A4 </td><td>A2</td><td>A5 </td><td>16</td><td>FS</td></tr>\n",
       "\t<tr><td>A5 </td><td>A3</td><td>A5 </td><td>19</td><td>FF</td></tr>\n",
       "\t<tr><td>A6 </td><td>A4</td><td>A6 </td><td>22</td><td>FS</td></tr>\n",
       "\t<tr><td>A7 </td><td>A6</td><td>A7 </td><td>25</td><td>FS</td></tr>\n",
       "\t<tr><td>A8 </td><td>A6</td><td>A8 </td><td>28</td><td>FS</td></tr>\n",
       "\t<tr><td>A9 </td><td>A7</td><td>A9 </td><td>31</td><td>FS</td></tr>\n",
       "\t<tr><td>A10</td><td>A8</td><td>A9 </td><td>34</td><td>FS</td></tr>\n",
       "\t<tr><td>   </td><td>A9</td><td>A10</td><td>37</td><td>FS</td></tr>\n",
       "</tbody>\n",
       "</table>\n"
      ],
      "text/latex": [
       "A data.frame: 11 × 5\n",
       "\\begin{tabular}{lllll}\n",
       " Activity & Form & TO & Duration & Type\\\\\n",
       " <chr> & <chr> & <chr> & <int> & <chr>\\\\\n",
       "\\hline\n",
       "\t A1  & A1 & A2  &  7 & FS\\\\\n",
       "\t A2  & A1 & A3  & 10 & SS\\\\\n",
       "\t A3  & A2 & A4  & 13 & FS\\\\\n",
       "\t A4  & A2 & A5  & 16 & FS\\\\\n",
       "\t A5  & A3 & A5  & 19 & FF\\\\\n",
       "\t A6  & A4 & A6  & 22 & FS\\\\\n",
       "\t A7  & A6 & A7  & 25 & FS\\\\\n",
       "\t A8  & A6 & A8  & 28 & FS\\\\\n",
       "\t A9  & A7 & A9  & 31 & FS\\\\\n",
       "\t A10 & A8 & A9  & 34 & FS\\\\\n",
       "\t     & A9 & A10 & 37 & FS\\\\\n",
       "\\end{tabular}\n"
      ],
      "text/markdown": [
       "\n",
       "A data.frame: 11 × 5\n",
       "\n",
       "| Activity &lt;chr&gt; | Form &lt;chr&gt; | TO &lt;chr&gt; | Duration &lt;int&gt; | Type &lt;chr&gt; |\n",
       "|---|---|---|---|---|\n",
       "| A1  | A1 | A2  |  7 | FS |\n",
       "| A2  | A1 | A3  | 10 | SS |\n",
       "| A3  | A2 | A4  | 13 | FS |\n",
       "| A4  | A2 | A5  | 16 | FS |\n",
       "| A5  | A3 | A5  | 19 | FF |\n",
       "| A6  | A4 | A6  | 22 | FS |\n",
       "| A7  | A6 | A7  | 25 | FS |\n",
       "| A8  | A6 | A8  | 28 | FS |\n",
       "| A9  | A7 | A9  | 31 | FS |\n",
       "| A10 | A8 | A9  | 34 | FS |\n",
       "| <!----> | A9 | A10 | 37 | FS |\n",
       "\n"
      ],
      "text/plain": [
       "   Activity Form TO  Duration Type\n",
       "1  A1       A1   A2   7       FS  \n",
       "2  A2       A1   A3  10       SS  \n",
       "3  A3       A2   A4  13       FS  \n",
       "4  A4       A2   A5  16       FS  \n",
       "5  A5       A3   A5  19       FF  \n",
       "6  A6       A4   A6  22       FS  \n",
       "7  A7       A6   A7  25       FS  \n",
       "8  A8       A6   A8  28       FS  \n",
       "9  A9       A7   A9  31       FS  \n",
       "10 A10      A8   A9  34       FS  \n",
       "11          A9   A10 37       FS  "
      ]
     },
     "metadata": {},
     "output_type": "display_data"
    }
   ],
   "source": [
    "my_data"
   ]
  },
  {
   "cell_type": "code",
   "execution_count": 15,
   "id": "e58a9019",
   "metadata": {},
   "outputs": [
    {
     "ename": "ERROR",
     "evalue": "Error: package or namespace load failed for 'igraph' in inDL(x, as.logical(local), as.logical(now), ...):\n unable to load shared object 'C:/Users/MY PC/miniconda3/envs/hypothisis_test/lib/R/library/igraph/libs/x64/igraph.dll':\n  LoadLibrary failure:  The specified procedure could not be found.\n\n",
     "output_type": "error",
     "traceback": [
      "Error: package or namespace load failed for 'igraph' in inDL(x, as.logical(local), as.logical(now), ...):\n unable to load shared object 'C:/Users/MY PC/miniconda3/envs/hypothisis_test/lib/R/library/igraph/libs/x64/igraph.dll':\n  LoadLibrary failure:  The specified procedure could not be found.\n\nTraceback:\n",
      "1. library(igraph)",
      "2. tryCatch({\n .     attr(package, \"LibPath\") <- which.lib.loc\n .     ns <- loadNamespace(package, lib.loc)\n .     env <- attachNamespace(ns, pos = pos, deps, exclude, include.only)\n . }, error = function(e) {\n .     P <- if (!is.null(cc <- conditionCall(e))) \n .         paste(\" in\", deparse(cc)[1L])\n .     else \"\"\n .     msg <- gettextf(\"package or namespace load failed for %s%s:\\n %s\", \n .         sQuote(package), P, conditionMessage(e))\n .     if (logical.return && !quietly) \n .         message(paste(\"Error:\", msg), domain = NA)\n .     else stop(msg, call. = FALSE, domain = NA)\n . })",
      "3. tryCatchList(expr, classes, parentenv, handlers)",
      "4. tryCatchOne(expr, names, parentenv, handlers[[1L]])",
      "5. value[[3L]](cond)",
      "6. stop(msg, call. = FALSE, domain = NA)"
     ]
    }
   ],
   "source": [
    "library(igraph)"
   ]
  },
  {
   "cell_type": "code",
   "execution_count": 4,
   "id": "cb25f322",
   "metadata": {},
   "outputs": [],
   "source": [
    "activity<-c(my_data['Activity'])\n",
    "Duration<-c(my_data['Duration'])"
   ]
  },
  {
   "cell_type": "code",
   "execution_count": 8,
   "id": "a4b655b0",
   "metadata": {},
   "outputs": [],
   "source": [
    "relationships <- data.frame(\n",
    "    from = c(my_data['Form']),\n",
    "    to = c(my_data['TO']),\n",
    "    type =c(my_data['Type'])\n",
    ")"
   ]
  },
  {
   "cell_type": "code",
   "execution_count": 14,
   "id": "680d6921",
   "metadata": {},
   "outputs": [
    {
     "ename": "ERROR",
     "evalue": "Error in graph_from_data_frame(relationships, directed = TRUE): could not find function \"graph_from_data_frame\"\n",
     "output_type": "error",
     "traceback": [
      "Error in graph_from_data_frame(relationships, directed = TRUE): could not find function \"graph_from_data_frame\"\nTraceback:\n"
     ]
    }
   ],
   "source": [
    "graph <- graph_from_data_frame(relationships, directed = TRUE)\n"
   ]
  },
  {
   "cell_type": "code",
   "execution_count": null,
   "id": "3b4fe3ea",
   "metadata": {},
   "outputs": [],
   "source": []
  }
 ],
 "metadata": {
  "kernelspec": {
   "display_name": "R",
   "language": "R",
   "name": "ir"
  },
  "language_info": {
   "codemirror_mode": "r",
   "file_extension": ".r",
   "mimetype": "text/x-r-source",
   "name": "R",
   "pygments_lexer": "r",
   "version": "4.1.3"
  }
 },
 "nbformat": 4,
 "nbformat_minor": 5
}
