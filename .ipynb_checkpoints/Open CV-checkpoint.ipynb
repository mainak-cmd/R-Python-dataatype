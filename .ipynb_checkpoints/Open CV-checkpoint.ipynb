{
 "cells": [
  {
   "cell_type": "markdown",
   "id": "7e0c2e4b",
   "metadata": {},
   "source": [
    "OpenCV has a modular structure, which means that the package includes several shared or static libraries. "
   ]
  },
  {
   "cell_type": "markdown",
   "id": "f961173f",
   "metadata": {},
   "source": [
    "Yes, OpenCV has a modular structure that allows users to selectively import and use only the necessary modules for their applications. This modular structure allows users to optimize their application by reducing the overall memory usage and improving the application's performance."
   ]
  },
  {
   "cell_type": "markdown",
   "id": "2cfaab85",
   "metadata": {},
   "source": [
    "Core: This module provides the basic data structures and functions used throughout OpenCV, such as arrays, matrices, and mathematical operations.\n",
    "\n"
   ]
  },
  {
   "cell_type": "markdown",
   "id": "929cddc1",
   "metadata": {},
   "source": [
    "Image Processing: This module provides functions for image filtering, transformation, and color space conversion."
   ]
  },
  {
   "cell_type": "markdown",
   "id": "15397503",
   "metadata": {},
   "source": [
    "Video I/O: This module provides functions for reading and writing video files, as well as for capturing video from cameras."
   ]
  },
  {
   "cell_type": "markdown",
   "id": "d15ff331",
   "metadata": {},
   "source": [
    "Object Detection: This module provides functions for object detection and recognition, including Haar cascades and HOG descriptors."
   ]
  },
  {
   "cell_type": "markdown",
   "id": "1d9e1df0",
   "metadata": {},
   "source": [
    "Machine Learning: This module provides functions for machine learning tasks, such as classification, clustering, and regression."
   ]
  },
  {
   "cell_type": "markdown",
   "id": "9f6b5d40",
   "metadata": {},
   "source": [
    "GUI: This module provides functions for creating graphical user interfaces, including displaying images and videos."
   ]
  },
  {
   "cell_type": "markdown",
   "id": "b13f4a36",
   "metadata": {},
   "source": [
    "### There are many different file formats used for digital images"
   ]
  },
  {
   "cell_type": "markdown",
   "id": "d92db164",
   "metadata": {},
   "source": [
    "JPEG: This is a widely used compressed image format that is ideal for photographs and complex images with many colors. JPEG files are relatively small in size and are compatible with most web browsers and image editing software.\n",
    "\n",
    "PNG: This is a lossless image format that supports transparency and is ideal for images with simple shapes and fewer colors, such as logos and icons. PNG files are typically larger than JPEG files but retain all of the original image data.\n",
    "\n",
    "GIF: This is a popular format for animated images and simple graphics. GIF files can be animated, and they support transparency, making them ideal for small animations and icons.\n",
    "\n",
    "BMP: This is a bitmap image format that is used primarily on Windows operating systems. BMP files are uncompressed, which means that they can be quite large in size. They are not as widely used as other formats, but they are useful for certain applications.\n",
    "\n",
    "TIFF: This is a flexible image format that supports both lossy and lossless compression. TIFF files are commonly used in the publishing industry and in high-end graphics applications.\n",
    "\n",
    "RAW: This is a format used by many digital cameras to store the unprocessed image data captured by the camera's sensor. RAW files are not compressed, which means that they contain a large amount of data and require special software to edit."
   ]
  },
  {
   "cell_type": "markdown",
   "id": "ccc72e5b",
   "metadata": {},
   "source": [
    "### Images can be classified into different types based on their color properties. "
   ]
  },
  {
   "cell_type": "markdown",
   "id": "23b09675",
   "metadata": {},
   "source": [
    "#### Grayscale images"
   ]
  },
  {
   "cell_type": "markdown",
   "id": "928208bf",
   "metadata": {},
   "source": [
    "Grayscale images: These images consist of shades of gray, ranging from black to white. They are often used for simplicity, as they only require one color channel. Grayscale images are common in medical and scientific imaging, as well as in digital art.\n",
    "These images can be represented as a 2D array, where each element represents the intensity of the pixel. The range of pixel values can vary depending on the image format, but typically ranges from 0 (black) to 255 (white)."
   ]
  },
  {
   "cell_type": "markdown",
   "id": "23878ed2",
   "metadata": {},
   "source": [
    "#### Binary images"
   ]
  },
  {
   "cell_type": "markdown",
   "id": "777c3550",
   "metadata": {},
   "source": [
    "Binary images: These images consist of only black and white pixels, with no intermediate shades of gray. They are used to represent simple shapes or to isolate specific features in an image. Binary images are often used in computer vision applications such as image segmentation.These images can be represented as a 2D array of boolean values, where each element represents whether the pixel is black or white."
   ]
  },
  {
   "cell_type": "markdown",
   "id": "82c84083",
   "metadata": {},
   "source": [
    "#### Color images:"
   ]
  },
  {
   "cell_type": "markdown",
   "id": "9968a68f",
   "metadata": {},
   "source": [
    "Color images: These images contain three color channels, typically red, green, and blue (RGB). The three color channels combine to create a full spectrum of colors. Color images are commonly used in photography, digital art, and graphic design.These images can be represented as a 3D array, where each element represents the color value of the pixel in the RGB format. The shape of the array would typically be (height, width, 3), where the third dimension represents the red, green, and blue color channels."
   ]
  },
  {
   "cell_type": "markdown",
   "id": "1e1713a6",
   "metadata": {},
   "source": [
    " the intensity of a specific color (red, green, or blue) at a particular pixel is represented by the corresponding element in the 3D array. For example, if the shape of the array is (height, width, 3), then the intensity of the red color at pixel (i, j) would be represented by array[i, j, 0], the intensity of the green color would be represented by array[i, j, 1], and the intensity of the blue color would be represented by array[i, j, 2]. The intensity of each color channel typically ranges from 0 (no contribution of that color) to 255 (maximum contribution of that color).\n",
    "\n",
    "In indexed color images, the intensity of a pixel's color is represented by the "
   ]
  },
  {
   "cell_type": "markdown",
   "id": "61f9c403",
   "metadata": {},
   "source": [
    "#### Indexed color images"
   ]
  },
  {
   "cell_type": "markdown",
   "id": "935bbf9c",
   "metadata": {},
   "source": [
    "Indexed color images: These images use a color table to represent a limited number of colors. The color table contains a list of colors used in the image, and each pixel in the image is represented by an index into the color table. Indexed color images are commonly used in web design and computer graphics.These images can be represented as a 2D array of integers, where each element represents an index into a color table. The color table is typically a 1D array of RGB values, where each element represents a color used in the image."
   ]
  },
  {
   "cell_type": "markdown",
   "id": "62a8afb9",
   "metadata": {},
   "source": [
    "#### Duotone images"
   ]
  },
  {
   "cell_type": "markdown",
   "id": "62fdc0b6",
   "metadata": {},
   "source": [
    "Duotone images: These images use two colors to create a grayscale image with a tint. The two colors are typically chosen to create a specific mood or effect. Duotone images are often used in advertising and editorial design.These images can be represented as a 2D array of grayscale values, where each element represents the intensity of the pixel with a specific tint. The tint is typically represented as a combination of two colors."
   ]
  },
  {
   "cell_type": "markdown",
   "id": "4d2f4f8c",
   "metadata": {},
   "source": [
    "## cv Namespace"
   ]
  },
  {
   "cell_type": "markdown",
   "id": "a73d55de",
   "metadata": {},
   "source": [
    "In OpenCV, the cv namespace is used to group all of the functions, classes, and variables related to computer vision. The cv namespace is included in the OpenCV library and is used to organize the functions and classes into a logical hierarchy."
   ]
  },
  {
   "cell_type": "markdown",
   "id": "b3629ac0",
   "metadata": {},
   "source": [
    "cv.imread: A function for reading an image from a file.\n",
    "\n",
    "cv.imshow: A function for displaying an image on the screen.\n",
    "\n",
    "cv.VideoCapture: A class for capturing video from a camera or file.\n",
    "\n",
    "cv.CascadeClassifier: A class for detecting objects in an image using a Haar cascade classifier.\n",
    "\n",
    "cv.matchTemplate: A function for template matching in an image.\n",
    "\n",
    "cv.SIFT: A class for extracting SIFT (Scale-Invariant Feature Transform) keypoints and descriptors from an image."
   ]
  },
  {
   "cell_type": "markdown",
   "id": "e351a7e5",
   "metadata": {},
   "source": [
    "The cv namespace is typically used by including the OpenCV header file in a C++ program:"
   ]
  },
  {
   "cell_type": "markdown",
   "id": "6f575302",
   "metadata": {},
   "source": [
    "### Basic Operations on Images"
   ]
  },
  {
   "cell_type": "markdown",
   "id": "0acaf0b9",
   "metadata": {},
   "source": [
    "Learn to read and edit pixel values, working with image ROI and other basic operations."
   ]
  },
  {
   "cell_type": "markdown",
   "id": "9620f530",
   "metadata": {},
   "source": [
    "In digital image processing, a pixel is the smallest unit of an image. Each pixel is represented by a value, which corresponds to the brightness or color of that particular pixel. The pixel values are typically represented as a matrix of numbers, where each number represents the value of the pixel at that location."
   ]
  },
  {
   "cell_type": "code",
   "execution_count": null,
   "id": "43eb63dc",
   "metadata": {},
   "outputs": [],
   "source": [
    "beautiful-rain-forest"
   ]
  },
  {
   "cell_type": "code",
   "execution_count": 19,
   "id": "75825bca",
   "metadata": {},
   "outputs": [
    {
     "data": {
      "text/plain": [
       "True"
      ]
     },
     "execution_count": 19,
     "metadata": {},
     "output_type": "execute_result"
    }
   ],
   "source": [
    "import numpy as np\n",
    "import cv2 as cv\n",
    "img = cv.imread('beautiful-rain.jpg')\n",
    "# Access the pixel value of the pixel at (0,0)\n",
    "pixel = img[0, 0]\n",
    "\n",
    "# Modify the pixel value to be red (BGR format)\n",
    "img[0, 0] = [255, 0,255]\n",
    "\n",
    "# Save the modified image\n",
    "cv.imwrite('modified_example.jpg', img)\n"
   ]
  },
  {
   "cell_type": "code",
   "execution_count": 20,
   "id": "f30b78e0",
   "metadata": {},
   "outputs": [],
   "source": [
    "import cv2\n",
    "\n",
    "# Read the image file in grayscale format\n",
    "img = cv2.imread('beautiful-rain.jpg', cv2.IMREAD_GRAYSCALE)\n",
    "\n",
    "# Display the image\n",
    "cv2.imshow('Image', img)\n",
    "cv2.waitKey(0)\n",
    "cv2.destroyAllWindows()"
   ]
  },
  {
   "cell_type": "markdown",
   "id": "66710073",
   "metadata": {},
   "source": [
    "### ROI"
   ]
  },
  {
   "cell_type": "markdown",
   "id": "e791986e",
   "metadata": {},
   "source": [
    "ROI (Region of Interest) refers to a portion of an image that is of interest to you. In OpenCV, you can define a ROI using a rectangular window or a polygonal region."
   ]
  },
  {
   "cell_type": "markdown",
   "id": "c5468dc5",
   "metadata": {},
   "source": [
    "you can use the cv2.rectangle() function to draw a rectangle on the image. The function takes as arguments the image, the coordinates of the top-left and bottom-right corners of the rectangle, the color of the rectangle, and the thickness of the border (if any)."
   ]
  },
  {
   "cell_type": "code",
   "execution_count": 30,
   "id": "d80ab5bb",
   "metadata": {},
   "outputs": [],
   "source": [
    "import cv2\n",
    "\n",
    "# Load an image\n",
    "img = cv2.imread('beautiful-rain.jpg')\n",
    "\n",
    "# Define a ROI as a rectangle\n",
    "x, y, w, h = 0, 0, 200, 200\n",
    "roi = img[y:y+h, x:x+w]\n",
    "\n",
    "# Draw a rectangle around the ROI\n",
    "cv2.rectangle(img, (x, y), (x+w, y+h), (255, 3, 255), 2)\n",
    "\n",
    "# Display the original image and the ROI\n",
    "cv2.imshow('Image', img)\n",
    "cv2.imshow('ROI', roi)\n",
    "cv2.waitKey(0)\n",
    "cv2.destroyAllWindows()"
   ]
  },
  {
   "cell_type": "markdown",
   "id": "a62fd577",
   "metadata": {},
   "source": [
    "### Splitting and Merging Image Channels"
   ]
  },
  {
   "cell_type": "markdown",
   "id": "f8660176",
   "metadata": {},
   "source": [
    "Image channels are used to represent the different color components of an image. Typically, images are represented in RGB format, where each pixel is composed of a red, green, and blue component. However, images can also be represented in other color spaces, such as CMYK, HSV, and LAB."
   ]
  },
  {
   "cell_type": "markdown",
   "id": "badb4efb",
   "metadata": {},
   "source": [
    "Splitting image channels refers to separating the different color components of an image into their own separate channels. This can be useful for analyzing and manipulating individual color components."
   ]
  },
  {
   "cell_type": "code",
   "execution_count": 31,
   "id": "d4efe1a4",
   "metadata": {},
   "outputs": [
    {
     "data": {
      "text/plain": [
       "-1"
      ]
     },
     "execution_count": 31,
     "metadata": {},
     "output_type": "execute_result"
    }
   ],
   "source": [
    "import cv2\n",
    "\n",
    "# Load an image\n",
    "img = cv2.imread('beautiful-rain.jpg')\n",
    "\n",
    "# Split the channels\n",
    "b, g, r = cv2.split(img)\n",
    "\n",
    "# Display each channel\n",
    "cv2.imshow('Blue Channel', b)\n",
    "cv2.imshow('Green Channel', g)\n",
    "cv2.imshow('Red Channel', r)\n",
    "cv2.waitKey(0)"
   ]
  },
  {
   "cell_type": "markdown",
   "id": "f61e3522",
   "metadata": {},
   "source": [
    "Merging image channels refers to combining the different color components of an image into a single image. This is often necessary after manipulating individual color components."
   ]
  },
  {
   "cell_type": "code",
   "execution_count": 2,
   "id": "74575475",
   "metadata": {},
   "outputs": [
    {
     "data": {
      "text/plain": [
       "-1"
      ]
     },
     "execution_count": 2,
     "metadata": {},
     "output_type": "execute_result"
    }
   ],
   "source": [
    "import cv2\n",
    "import numpy as np\n",
    "\n",
    "# Load an image\n",
    "img = cv2.imread('beautiful-rain.jpg')\n",
    "\n",
    "# Split the channels\n",
    "b, g, r = cv2.split(img)\n",
    "\n",
    "# Modify the blue channel\n",
    "b = np.zeros_like(b)\n",
    "\n",
    "# Merge the channels\n",
    "img_merged = cv2.merge((b, g, r))\n",
    "\n",
    "# Display the merged image\n",
    "cv2.imshow('Merged Image', img_merged)\n",
    "cv2.waitKey(0)"
   ]
  },
  {
   "cell_type": "markdown",
   "id": "aaa714e1",
   "metadata": {},
   "source": [
    "In image processing, np.zeros_like(b) creates a new numpy array of zeros with the same shape and data type as the input array b.\n",
    "\n",
    "The function np.zeros_like() takes an array as input and returns an array of the same shape and data type, but with all elements set to 0. This is often used when you want to create a new array of the same shape as an existing array, but with all elements initialized to zero.\n",
    "\n",
    "In the context of arithmetic operations on images, b = np.zeros_like(b) is used to create a new image where the blue channel has been set to 0. This can be used, for example, to create a black and white version of an image by setting all color channels except for one to 0."
   ]
  },
  {
   "cell_type": "markdown",
   "id": "c3fc0494",
   "metadata": {},
   "source": [
    "### arithmetic operations "
   ]
  },
  {
   "cell_type": "markdown",
   "id": "984ca4b1",
   "metadata": {},
   "source": [
    "Arithmetic operations on images involve mathematical operations performed on the pixel values of two or more images to create a new image. These operations can be used for a variety of purposes, including adjusting brightness and contrast, combining multiple images, and creating special effects."
   ]
  },
  {
   "cell_type": "markdown",
   "id": "ba922c7d",
   "metadata": {},
   "source": [
    "\n",
    "#### Addition and subtraction of images can be used to adjust the brightness and contrast of an image."
   ]
  },
  {
   "cell_type": "code",
   "execution_count": 3,
   "id": "c3cc80e6",
   "metadata": {},
   "outputs": [
    {
     "data": {
      "text/plain": [
       "-1"
      ]
     },
     "execution_count": 3,
     "metadata": {},
     "output_type": "execute_result"
    }
   ],
   "source": [
    "import cv2\n",
    "import numpy as np\n",
    "\n",
    "# Load two images\n",
    "img1 = cv2.imread('beautiful-rain.jpg')\n",
    "img2 = cv2.imread('modified_example.jpg')\n",
    "\n",
    "# Add the images\n",
    "add_img = cv2.add(img1, img2)\n",
    "\n",
    "# Subtract the images\n",
    "sub_img = cv2.subtract(img1, img2)\n",
    "\n",
    "# Display the images\n",
    "cv2.imshow('Addition', add_img)\n",
    "cv2.imshow('Subtraction', sub_img)\n",
    "cv2.waitKey(0)"
   ]
  },
  {
   "cell_type": "markdown",
   "id": "6fa97d4e",
   "metadata": {},
   "source": [
    "### Image blending "
   ]
  },
  {
   "cell_type": "markdown",
   "id": "095da41c",
   "metadata": {},
   "source": [
    "Image blending is a technique used to combine two images together to create a new image. The resulting image is a mixture of the two original images, with each contributing a specified amount to the final result. Blending is commonly used in image processing for a variety of applications, including creating special effects, compositing images, and adjusting the brightness and contrast of an image."
   ]
  },
  {
   "cell_type": "markdown",
   "id": "676aafa5",
   "metadata": {},
   "source": [
    "The cv2.addWeighted() function is used to blend two images together with a specified weighting. Here's an example:"
   ]
  },
  {
   "cell_type": "code",
   "execution_count": 4,
   "id": "820b521d",
   "metadata": {},
   "outputs": [
    {
     "data": {
      "text/plain": [
       "-1"
      ]
     },
     "execution_count": 4,
     "metadata": {},
     "output_type": "execute_result"
    }
   ],
   "source": [
    "import cv2\n",
    "import numpy as np\n",
    "\n",
    "# Load two images\n",
    "img1 = cv2.imread('beautiful-rain.jpg')\n",
    "img2 = cv2.imread('modified_example.jpg')\n",
    "\n",
    "# Blend the images\n",
    "blended = cv2.addWeighted(img1, 0.5, img2, 0.5, 0)\n",
    "\n",
    "# Display the blended image\n",
    "cv2.imshow('Blended Image', blended)\n",
    "cv2.waitKey(0)"
   ]
  },
  {
   "cell_type": "markdown",
   "id": "2ba4a305",
   "metadata": {},
   "source": [
    "In this case, img1 and img2 are blended together with 0.7 weight for img1 and 0.3 weight for img2. This means that img1 will contribute more to the final result than img2.\n",
    "\n",
    "The last parameter, gamma, is set to 0. This means that no scalar value is added to the weighted sum."
   ]
  },
  {
   "cell_type": "code",
   "execution_count": null,
   "id": "752d4baa",
   "metadata": {},
   "outputs": [],
   "source": []
  },
  {
   "cell_type": "markdown",
   "id": "3d0bf1a9",
   "metadata": {},
   "source": [
    "This includes the bitwise AND, OR, NOT, and XOR operations. They will be highly useful while extracting any part of the image (as we will see in coming chapters), defining and working with non-rectangular ROI's, and etc. Below we will see an example of how to change a particular region of an image."
   ]
  },
  {
   "cell_type": "markdown",
   "id": "9145c026",
   "metadata": {},
   "source": [
    "Bitwise operations are operations that are performed on individual bits of a binary number. In image processing, bitwise operations are often used to perform masking, thresholding, and other image segmentation techniques."
   ]
  },
  {
   "cell_type": "markdown",
   "id": "152d01fb",
   "metadata": {},
   "source": [
    "In Python, the OpenCV library provides bitwise operations for images. The bitwise operations that are available in OpenCV include:\n",
    "\n",
    "AND: cv2.bitwise_and()\n",
    "OR: cv2.bitwise_or()\n",
    "XOR: cv2.bitwise_xor()\n",
    "NOT: cv2.bitwise_not()"
   ]
  },
  {
   "cell_type": "markdown",
   "id": "4ee7a24e",
   "metadata": {},
   "source": [
    "Masking"
   ]
  },
  {
   "cell_type": "markdown",
   "id": "3468f8c9",
   "metadata": {},
   "source": [
    "The mask is a binary image where the region of interest is set to white (pixel value of 255) and the rest of the image is set to black (pixel value of 0)."
   ]
  },
  {
   "cell_type": "code",
   "execution_count": 6,
   "id": "eeea8ff6",
   "metadata": {},
   "outputs": [
    {
     "data": {
      "text/plain": [
       "-1"
      ]
     },
     "execution_count": 6,
     "metadata": {},
     "output_type": "execute_result"
    }
   ],
   "source": [
    "import cv2\n",
    "import numpy as np\n",
    "\n",
    "# Load an image and create a mask\n",
    "img = cv2.imread('beautiful-rain.jpg')\n",
    "mask = np.zeros_like(img)\n",
    "mask[100:300, 100:300] = 255\n",
    "\n",
    "# Apply the mask to the image\n",
    "masked_image = cv2.bitwise_and(img, mask)\n",
    "\n",
    "# Display the original image and the masked image\n",
    "cv2.imshow('Original Image', img)\n",
    "cv2.imshow('Masked Image', masked_image)\n",
    "cv2.waitKey(0)"
   ]
  },
  {
   "cell_type": "markdown",
   "id": "3ab73d3b",
   "metadata": {},
   "source": [
    "Here's a brief explanation of what this line of code does:\n",
    "\n",
    "mask[100:300, 100:300] selects a rectangular subarray in the mask array, spanning rows 100 to 300 and columns 100 to 300. This subarray represents the region of interest or the ROI in the image.\n"
   ]
  },
  {
   "cell_type": "markdown",
   "id": "b45a9f83",
   "metadata": {},
   "source": [
    "= 255 assigns a value of 255 to all the pixels within the selected subarray. A value of 255 in a binary image represents a white pixel, while a value of 0 represents a black pixel."
   ]
  },
  {
   "cell_type": "code",
   "execution_count": null,
   "id": "80009ae2",
   "metadata": {},
   "outputs": [],
   "source": []
  }
 ],
 "metadata": {
  "kernelspec": {
   "display_name": "Python 3 (ipykernel)",
   "language": "python",
   "name": "python3"
  },
  "language_info": {
   "codemirror_mode": {
    "name": "ipython",
    "version": 3
   },
   "file_extension": ".py",
   "mimetype": "text/x-python",
   "name": "python",
   "nbconvert_exporter": "python",
   "pygments_lexer": "ipython3",
   "version": "3.10.9"
  }
 },
 "nbformat": 4,
 "nbformat_minor": 5
}
