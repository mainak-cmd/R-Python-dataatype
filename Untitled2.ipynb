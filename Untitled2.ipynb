{
 "cells": [
  {
   "cell_type": "markdown",
   "id": "8c2eeab0",
   "metadata": {},
   "source": [
    "## complete CNN project in python"
   ]
  },
  {
   "cell_type": "markdown",
   "id": "bc7c204b",
   "metadata": {},
   "source": [
    "Data preparation:\n",
    "\n",
    "Load and preprocess the image data using libraries such as NumPy, Pandas, and OpenCV.\n",
    "\n",
    "Split the data into training, validation, and testing sets.\n",
    "\n",
    "Apply data augmentation techniques to increase the size of the training dataset."
   ]
  },
  {
   "cell_type": "code",
   "execution_count": null,
   "id": "3615e00f",
   "metadata": {},
   "outputs": [],
   "source": [
    "import cv2\n",
    "import os\n",
    "import numpy as np\n",
    "\n",
    "# Set the path to the dataset directory\n",
    "dataset_dir = '/path/to/dataset'\n",
    "\n",
    "# Define the classes of the dataset\n",
    "classes = ['class1', 'class2', 'class3']\n",
    "\n",
    "# Define the size of the images\n",
    "img_size = (128, 128)\n",
    "\n",
    "# Load the images and labels\n",
    "data = []\n",
    "labels = []\n",
    "for i, class_name in enumerate(classes):\n",
    "    class_path = os.path.join(dataset_dir, class_name)\n",
    "    for file_name in os.listdir(class_path):\n",
    "        file_path = os.path.join(class_path, file_name)\n",
    "        img = cv2.imread(file_path)\n",
    "        img = cv2.resize(img, img_size)\n",
    "        data.append(img)\n",
    "        labels.append(i)\n",
    "\n",
    "# Convert the data and labels to numpy arrays\n",
    "data = np.array(data)\n",
    "labels = np.array(labels)\n",
    "\n",
    "# Split the data into train and test sets\n",
    "from sklearn.model_selection import train_test_split\n",
    "\n",
    "train_data, test_data, train_labels, test_labels = train_test_split(data, labels, test_size=0.2, random_state=42)\n",
    "\n",
    "# Print the shapes of the data\n",
    "print('Train data shape:', train_data.shape)\n",
    "print('Train labels shape:', train_labels.shape)\n",
    "print('Test data shape:', test_data.shape)\n",
    "print('Test labels shape:', test_labels.shape)"
   ]
  }
 ],
 "metadata": {
  "kernelspec": {
   "display_name": "Python 3 (ipykernel)",
   "language": "python",
   "name": "python3"
  },
  "language_info": {
   "codemirror_mode": {
    "name": "ipython",
    "version": 3
   },
   "file_extension": ".py",
   "mimetype": "text/x-python",
   "name": "python",
   "nbconvert_exporter": "python",
   "pygments_lexer": "ipython3",
   "version": "3.10.9"
  }
 },
 "nbformat": 4,
 "nbformat_minor": 5
}
