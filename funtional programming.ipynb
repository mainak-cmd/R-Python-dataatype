{
 "cells": [
  {
   "cell_type": "markdown",
   "id": "5ef76049",
   "metadata": {},
   "source": [
    "### Funtions in python"
   ]
  },
  {
   "cell_type": "markdown",
   "id": "3f11cd30",
   "metadata": {},
   "source": [
    "Functional programming is a programming paradigm that emphasizes the use of functions to solve problems. "
   ]
  },
  {
   "cell_type": "markdown",
   "id": "0fde344a",
   "metadata": {},
   "source": [
    "functional programming involves using functions as first-class objects, meaning that functions can be assigned to variables, passed as arguments to other functions, and returned as values from functions."
   ]
  },
  {
   "cell_type": "markdown",
   "id": "4083b21f",
   "metadata": {},
   "source": [
    "Pure functions: A pure function is a function that doesn't have any side effects, meaning that it doesn't modify any global state or mutate any input arguments. A pure function always returns the same output given the same input. This makes it easier to reason about the function's behavior and to test it."
   ]
  },
  {
   "cell_type": "markdown",
   "id": "ee55aa8b",
   "metadata": {},
   "source": [
    "They are easier to reason about: Since pure functions don't have side effects, they are easier to understand and test. You can be sure that the function always returns the same output given the same input."
   ]
  },
  {
   "cell_type": "markdown",
   "id": "b251732b",
   "metadata": {},
   "source": [
    "They are more composable: Pure functions can be combined to create more complex functions without worrying about side effects. This makes it easier to build complex programs from simple building blocks."
   ]
  },
  {
   "cell_type": "markdown",
   "id": "f0eeec6f",
   "metadata": {},
   "source": [
    "They are more efficient: Since pure functions don't modify global state, they can be parallelized more easily. This can lead to faster and more efficient code."
   ]
  },
  {
   "cell_type": "code",
   "execution_count": 1,
   "id": "38b1e1ce",
   "metadata": {},
   "outputs": [],
   "source": [
    "def add_numbers(a, b):\n",
    "    return a + b"
   ]
  },
  {
   "cell_type": "markdown",
   "id": "0a653426",
   "metadata": {},
   "source": [
    "#### Impure funtion"
   ]
  },
  {
   "cell_type": "code",
   "execution_count": 2,
   "id": "9889707f",
   "metadata": {},
   "outputs": [],
   "source": [
    "total = 0\n",
    "\n",
    "def add_to_total(n):\n",
    "    global total\n",
    "    total += n"
   ]
  },
  {
   "cell_type": "markdown",
   "id": "3f515f1e",
   "metadata": {},
   "source": [
    "#### Higher-order functions"
   ]
  },
  {
   "cell_type": "markdown",
   "id": "009a8f29",
   "metadata": {},
   "source": [
    "Higher-order functions: A higher-order function is a function that takes one or more functions as arguments, or returns a function as its result. This allows for more flexible and reusable code, since you can pass different functions as arguments to the same higher-order function to get different behavior."
   ]
  },
  {
   "cell_type": "markdown",
   "id": "0fd12f92",
   "metadata": {},
   "source": [
    "Map function: The map function applies a given function to each item of an iterable and returns an iterator of the results. It takes two arguments: a function and an iterable."
   ]
  },
  {
   "cell_type": "code",
   "execution_count": 3,
   "id": "47075f2a",
   "metadata": {},
   "outputs": [
    {
     "name": "stdout",
     "output_type": "stream",
     "text": [
      "[1, 4, 9, 16, 25]\n"
     ]
    }
   ],
   "source": [
    "def square(x):\n",
    "    return x ** 2\n",
    "\n",
    "numbers = [1, 2, 3, 4, 5]\n",
    "squares = map(square, numbers)\n",
    "print(list(squares)) # Output: [1, 4, 9, 16, 25]"
   ]
  },
  {
   "cell_type": "markdown",
   "id": "0fdde684",
   "metadata": {},
   "source": [
    "Filter function: The filter function returns an iterator of the elements from an iterable for which a given function returns true. It takes two arguments: a function and an iterable."
   ]
  },
  {
   "cell_type": "code",
   "execution_count": 4,
   "id": "17c52d68",
   "metadata": {},
   "outputs": [
    {
     "name": "stdout",
     "output_type": "stream",
     "text": [
      "[2, 4, 6]\n"
     ]
    }
   ],
   "source": [
    "def is_even(x):\n",
    "    return x % 2 == 0\n",
    "\n",
    "numbers = [1, 2, 3, 4, 5, 6]\n",
    "even_numbers = filter(is_even, numbers)\n",
    "print(list(even_numbers)) # Output: [2, 4, 6]"
   ]
  },
  {
   "cell_type": "markdown",
   "id": "46cf5ace",
   "metadata": {},
   "source": [
    "Reduce function: The reduce function applies a function of two arguments cumulatively to the items of an iterable from left to right, so as to reduce the iterable to a single value. It takes two arguments: a function and an iterable."
   ]
  },
  {
   "cell_type": "code",
   "execution_count": 5,
   "id": "03499d16",
   "metadata": {},
   "outputs": [
    {
     "name": "stdout",
     "output_type": "stream",
     "text": [
      "15\n"
     ]
    }
   ],
   "source": [
    "from functools import reduce\n",
    "\n",
    "def add(x, y):\n",
    "    return x + y\n",
    "\n",
    "numbers = [1, 2, 3, 4, 5]\n",
    "sum = reduce(add, numbers)\n",
    "print(sum) # Output: 15"
   ]
  },
  {
   "cell_type": "markdown",
   "id": "a1a451fa",
   "metadata": {},
   "source": [
    "To create a higher-order function that returns a function as its result, you can use a function that defines and returns a new function, such as a closure. Here is an example:"
   ]
  },
  {
   "cell_type": "code",
   "execution_count": 18,
   "id": "1b0b9322",
   "metadata": {},
   "outputs": [
    {
     "name": "stdout",
     "output_type": "stream",
     "text": [
      "48\n"
     ]
    }
   ],
   "source": [
    "def make_adder(n):\n",
    "    \"\"\"Return a function that adds n to its argument\"\"\"\n",
    "    def adder(x,y):\n",
    "        return (x + n)*y\n",
    "    return adder\n",
    "\n",
    "add_3 = make_adder(3)\n",
    "result = add_3(5,6)\n",
    "print(result) # Output: 8"
   ]
  },
  {
   "cell_type": "markdown",
   "id": "fb0be835",
   "metadata": {},
   "source": [
    "### Lambda Funtion"
   ]
  },
  {
   "cell_type": "markdown",
   "id": "3a394306",
   "metadata": {},
   "source": [
    "Anonymous Functions (Lambda Functions): These are functions that are defined without a name and are used for small, one-time operations. Lambda functions are created using the lambda keyword, followed by a set of parameters and a colon, followed by the function body. Here is an example:"
   ]
  },
  {
   "cell_type": "code",
   "execution_count": 19,
   "id": "3ab1499a",
   "metadata": {},
   "outputs": [
    {
     "name": "stdout",
     "output_type": "stream",
     "text": [
      "8\n"
     ]
    }
   ],
   "source": [
    "add = lambda x, y: x + y\n",
    "result = add(3, 5)\n",
    "print(result) "
   ]
  },
  {
   "cell_type": "markdown",
   "id": "562fd3c1",
   "metadata": {},
   "source": [
    "Lambda functions can also be used as arguments to higher-order functions like map(), filter(), and reduce(). Here is an example of using a lambda function with map() to square a list of numbers:"
   ]
  },
  {
   "cell_type": "code",
   "execution_count": 20,
   "id": "23805239",
   "metadata": {},
   "outputs": [
    {
     "name": "stdout",
     "output_type": "stream",
     "text": [
      "[1, 4, 9, 16, 25]\n"
     ]
    }
   ],
   "source": [
    "numbers = [1, 2, 3, 4, 5]\n",
    "squares = list(map(lambda x: x**2, numbers))\n",
    "print(squares) # Output: [1, 4, 9, 16, 25]"
   ]
  },
  {
   "cell_type": "markdown",
   "id": "e6bb7c6a",
   "metadata": {},
   "source": [
    "### Recursive Functions:"
   ]
  },
  {
   "cell_type": "markdown",
   "id": "4cc59dc0",
   "metadata": {},
   "source": [
    "Recursive Functions: These are functions that call themselves to solve a problem. Recursive functions are useful for solving problems that can be broken down into smaller subproblems that are similar in structure to the original problem. Here is an example:"
   ]
  },
  {
   "cell_type": "code",
   "execution_count": 29,
   "id": "b3dc9082",
   "metadata": {},
   "outputs": [
    {
     "name": "stdout",
     "output_type": "stream",
     "text": [
      "1\n",
      "1\n",
      "2\n",
      "6\n",
      "24\n",
      "120\n",
      "720\n",
      "5040\n",
      "40320\n",
      "362880\n"
     ]
    }
   ],
   "source": [
    "def factorial(n):\n",
    "    \"\"\"Compute the factorial of a number\"\"\"\n",
    "    if n == 0:\n",
    "        return 1\n",
    "    else:\n",
    "        return n * factorial(n-1)\n",
    "    \n",
    "for i in range(10):\n",
    "    print(factorial(i))"
   ]
  },
  {
   "cell_type": "markdown",
   "id": "5342a581",
   "metadata": {},
   "source": [
    "Recursive functions can be a powerful tool in Python for solving problems that can be broken down into smaller subproblems. However, they should be used judiciously, as recursive functions can be inefficient and may consume a lot of memory if the recursion depth is too large."
   ]
  },
  {
   "cell_type": "markdown",
   "id": "6ffd68af",
   "metadata": {},
   "source": [
    "Fibonacci Sequence: The Fibonacci sequence is a series of numbers in which each number is the sum of the two preceding numbers. The sequence starts with 0 and 1, and the next number in the sequence is always the sum of the previous two numbers. Here's a recursive function to generate the Fibonacci sequence:"
   ]
  },
  {
   "cell_type": "code",
   "execution_count": 9,
   "id": "ec7a73a3",
   "metadata": {},
   "outputs": [
    {
     "name": "stdout",
     "output_type": "stream",
     "text": [
      "0\n",
      "1\n",
      "1\n",
      "2\n",
      "3\n",
      "5\n",
      "8\n",
      "13\n",
      "21\n",
      "34\n"
     ]
    }
   ],
   "source": [
    "def fibonacci(n):\n",
    "    if n == 0:\n",
    "        return 0\n",
    "    elif n == 1:\n",
    "        return 1\n",
    "    else:\n",
    "        return fibonacci(n-1) + fibonacci(n-2)\n",
    "    \n",
    "for i in range(10):\n",
    "    print(fibonacci(i))"
   ]
  },
  {
   "cell_type": "markdown",
   "id": "0706387e",
   "metadata": {},
   "source": [
    "The base cases are when n is 0 or 1, in which case the function returns n. For all other values of n, the function calculates the nth number in the sequence by recursively calling itself with arguments n-1 and n-2, and adding the results of those two calls together.\n",
    "\n"
   ]
  },
  {
   "cell_type": "markdown",
   "id": "e2a0c15c",
   "metadata": {},
   "source": [
    "### Arguments"
   ]
  },
  {
   "cell_type": "markdown",
   "id": "a9c7c45f",
   "metadata": {},
   "source": [
    "In Python, a function can accept one or more arguments, which are used to provide input to the function. There are several types of arguments that you can use in a function:"
   ]
  },
  {
   "cell_type": "markdown",
   "id": "d2eb89e1",
   "metadata": {},
   "source": [
    "Positional Arguments: These are arguments that are passed to a function in a specific order. The order in which the arguments are passed determines which parameter they correspond to. For example:"
   ]
  },
  {
   "cell_type": "code",
   "execution_count": 30,
   "id": "108cd57a",
   "metadata": {},
   "outputs": [
    {
     "name": "stdout",
     "output_type": "stream",
     "text": [
      "Hello, Alice!\n"
     ]
    }
   ],
   "source": [
    "def greet(name, message):\n",
    "    print(f\"{message}, {name}!\")\n",
    "\n",
    "greet(\"Alice\", \"Hello\") # prints \"Hello, Alice!\""
   ]
  },
  {
   "cell_type": "markdown",
   "id": "7c2de0e2",
   "metadata": {},
   "source": [
    "Keyword Arguments: These are arguments that are passed to a function using their parameter names. This allows you to pass the arguments in any order you like, as long as you specify their names."
   ]
  },
  {
   "cell_type": "code",
   "execution_count": 31,
   "id": "2410831d",
   "metadata": {},
   "outputs": [
    {
     "name": "stdout",
     "output_type": "stream",
     "text": [
      "Hello, Alice!\n"
     ]
    }
   ],
   "source": [
    "def greet(name, message):\n",
    "    print(f\"{message}, {name}!\")\n",
    "\n",
    "greet(message=\"Hello\", name=\"Alice\") # prints \"Hello, Alice!\""
   ]
  },
  {
   "cell_type": "markdown",
   "id": "e828d8ad",
   "metadata": {},
   "source": [
    "Default Arguments: These are arguments that have a default value specified in the function definition. If an argument is not provided when the function is called, its default value is used instead. "
   ]
  },
  {
   "cell_type": "code",
   "execution_count": 32,
   "id": "44ef25cf",
   "metadata": {},
   "outputs": [
    {
     "name": "stdout",
     "output_type": "stream",
     "text": [
      "Hello, Alice!\n"
     ]
    }
   ],
   "source": [
    "def greet(name, message=\"Hello\"):\n",
    "    print(f\"{message}, {name}!\")\n",
    "\n",
    "greet(\"Alice\") # prints \"Hello, Alice!\"\n"
   ]
  },
  {
   "cell_type": "markdown",
   "id": "9fd7817e",
   "metadata": {},
   "source": [
    "Variable-Length Arguments: These are arguments that allow you to pass a variable number of arguments to a function. There are two types of variable-length arguments in Python:"
   ]
  },
  {
   "cell_type": "markdown",
   "id": "7a457e14",
   "metadata": {},
   "source": [
    "*args: This is a special syntax that allows you to pass a variable number of positional arguments to a function. The arguments are collected into a tuple, which can be accessed within the function using the * operator."
   ]
  },
  {
   "cell_type": "code",
   "execution_count": 33,
   "id": "8736d395",
   "metadata": {},
   "outputs": [
    {
     "data": {
      "text/plain": [
       "6"
      ]
     },
     "execution_count": 33,
     "metadata": {},
     "output_type": "execute_result"
    }
   ],
   "source": [
    "def add(*args):\n",
    "    total = 0\n",
    "    for arg in args:\n",
    "        total += arg\n",
    "    return total\n",
    "\n",
    "add(1, 2, 3) # returns 6"
   ]
  },
  {
   "cell_type": "markdown",
   "id": "98d5d0fb",
   "metadata": {},
   "source": [
    "**kwargs: This is a special syntax that allows you to pass a variable number of keyword arguments to a function. The arguments are collected into a dictionary, which can be accessed within the function using the ** operator. For example:"
   ]
  },
  {
   "cell_type": "code",
   "execution_count": 34,
   "id": "46a8acb0",
   "metadata": {},
   "outputs": [
    {
     "name": "stdout",
     "output_type": "stream",
     "text": [
      "name: Alice\n",
      "message: Hello\n"
     ]
    }
   ],
   "source": [
    "def greet(**kwargs):\n",
    "    for key, value in kwargs.items():\n",
    "        print(f\"{key}: {value}\")\n",
    "\n",
    "greet(name=\"Alice\", message=\"Hello\") # prints \"name: Alice\" and \"message: Hello\""
   ]
  },
  {
   "cell_type": "markdown",
   "id": "5901459a",
   "metadata": {},
   "source": [
    "### Decorator"
   ]
  },
  {
   "cell_type": "markdown",
   "id": "ebdfe7ff",
   "metadata": {},
   "source": [
    "The functools module is a built-in Python module that provides higher-order functions for working with functions and callable objects."
   ]
  },
  {
   "cell_type": "markdown",
   "id": "e70872a1",
   "metadata": {},
   "source": [
    "In Python, a decorator is a function that takes another function as input and extends its behavior without modifying its code directly. Decorators provide a way to modify or add functionality to a function, class or method at runtime."
   ]
  },
  {
   "cell_type": "code",
   "execution_count": 4,
   "id": "7bbd1ef1",
   "metadata": {},
   "outputs": [
    {
     "name": "stdout",
     "output_type": "stream",
     "text": [
      "Calling function: add_numbers\n",
      "Function returned: 6\n",
      "Calling function: wrapper\n",
      "Calling function: add_numbers\n",
      "Function returned: 6\n",
      "Function returned: 6\n"
     ]
    },
    {
     "data": {
      "text/plain": [
       "6"
      ]
     },
     "execution_count": 4,
     "metadata": {},
     "output_type": "execute_result"
    }
   ],
   "source": [
    "def log_decorator(func):\n",
    "    def wrapper(*args, **kwargs):\n",
    "        print(f\"Calling function: {func.__name__}\")\n",
    "        result = func(*args, **kwargs)\n",
    "        print(f\"Function returned: {result}\")\n",
    "        return result\n",
    "    return wrapper\n",
    "\n",
    "@log_decorator\n",
    "def add_numbers(x, y):\n",
    "    return x * y\n",
    "\n",
    "add_numbers_1 = log_decorator(add_numbers)\n",
    "\n",
    "add_numbers(2, 3)\n",
    "add_numbers_1(2,3)\n",
    "# prints \"Calling function: add_numbers\" and \"Function returned: 5\""
   ]
  },
  {
   "cell_type": "markdown",
   "id": "4562dcd1",
   "metadata": {},
   "source": [
    "In this example, the log_decorator function is a decorator that takes another function func as input. It defines a new function wrapper that adds logging statements before and after calling the original function func. Finally, it returns the wrapper function."
   ]
  },
  {
   "cell_type": "markdown",
   "id": "6fa17803",
   "metadata": {},
   "source": [
    "The @log_decorator syntax is a shorthand for applying the log_decorator to the add_numbers function. This is equivalent to calling add_numbers = log_decorator(add_numbers)."
   ]
  },
  {
   "cell_type": "markdown",
   "id": "720e0248",
   "metadata": {},
   "source": [
    "When add_numbers is called with arguments (2, 3), the log_decorator is applied to it and the wrapper function is returned. The wrapper function then calls the original add_numbers function with the same arguments and returns its result."
   ]
  },
  {
   "cell_type": "code",
   "execution_count": 11,
   "id": "2a85a244",
   "metadata": {},
   "outputs": [],
   "source": [
    "def log_decorator(func):\n",
    "    def wrapper(*args, **kwargs):\n",
    "        print(f\"Calling function: {func.__name__}\")\n",
    "        result = func(*args, **kwargs)+345 #modefy the funtion\n",
    "        print(f\"Function returned: {result}\")\n",
    "        return result\n",
    "    return wrapper\n",
    "\n",
    "@log_decorator\n",
    "def add_numbers(x, y):\n",
    "    return x * y"
   ]
  },
  {
   "cell_type": "code",
   "execution_count": 12,
   "id": "afad841b",
   "metadata": {},
   "outputs": [
    {
     "name": "stdout",
     "output_type": "stream",
     "text": [
      "Calling function: add_numbers\n",
      "Function returned: 351\n"
     ]
    },
    {
     "data": {
      "text/plain": [
       "351"
      ]
     },
     "execution_count": 12,
     "metadata": {},
     "output_type": "execute_result"
    }
   ],
   "source": [
    "add_numbers(2, 3)"
   ]
  },
  {
   "cell_type": "markdown",
   "id": "9d6ede35",
   "metadata": {},
   "source": [
    "#### functools module"
   ]
  },
  {
   "cell_type": "markdown",
   "id": "9b4154bb",
   "metadata": {},
   "source": [
    "The functools module is a part of the Python Standard Library that provides functions for working with higher-order functions and functions that operate on other functions. "
   ]
  },
  {
   "cell_type": "markdown",
   "id": "f85a8adf",
   "metadata": {},
   "source": [
    "##### partial"
   ]
  },
  {
   "cell_type": "markdown",
   "id": "e12240eb",
   "metadata": {},
   "source": [
    "partial: This function allows you to create a new function by fixing some of the arguments of an existing function. The resulting function can be called with the remaining arguments later."
   ]
  },
  {
   "cell_type": "code",
   "execution_count": 7,
   "id": "c89ab245",
   "metadata": {},
   "outputs": [
    {
     "name": "stdout",
     "output_type": "stream",
     "text": [
      "24\n"
     ]
    }
   ],
   "source": [
    "from functools import partial\n",
    "\n",
    "# Define a function that takes three arguments\n",
    "def multiply(x, y, z):\n",
    "    return x * y * z\n",
    "\n",
    "# Create a new function that multiplies by 2 and 3\n",
    "double_triple = partial(multiply, 2, 3)\n",
    "\n",
    "# Call the new function with the remaining argument\n",
    "result = double_triple(4)\n",
    "\n",
    "print(result)  # Output: 24"
   ]
  },
  {
   "cell_type": "markdown",
   "id": "f58b0049",
   "metadata": {},
   "source": [
    "#### reduce:"
   ]
  },
  {
   "cell_type": "markdown",
   "id": "23b7261b",
   "metadata": {},
   "source": [
    "reduce: This function applies a binary function to the elements of an iterable in a cumulative way, returning a single result. It is equivalent to repeatedly applying the function to the first two elements of the iterable, then to the result and the next element, and so on."
   ]
  },
  {
   "cell_type": "code",
   "execution_count": 8,
   "id": "e1f3befc",
   "metadata": {},
   "outputs": [
    {
     "name": "stdout",
     "output_type": "stream",
     "text": [
      "120\n"
     ]
    }
   ],
   "source": [
    "from functools import reduce\n",
    "\n",
    "# Define a function that takes two arguments and returns their product\n",
    "def multiply(x, y):\n",
    "    return x * y\n",
    "\n",
    "# Create a list of numbers\n",
    "numbers = [1, 2, 3, 4, 5]\n",
    "\n",
    "# Use reduce to multiply all the numbers together\n",
    "product = reduce(multiply, numbers)\n",
    "\n",
    "print(product)  # Output: 120"
   ]
  },
  {
   "cell_type": "markdown",
   "id": "d64ed73f",
   "metadata": {},
   "source": [
    "By using reduce, we were able to apply a binary function (in this case, multiplication) to all the elements of an iterable in a cumulative way, resulting in a single return value. This can be useful for tasks like computing the sum of a list of numbers or finding the maximum value in a list."
   ]
  },
  {
   "cell_type": "markdown",
   "id": "46e39977",
   "metadata": {},
   "source": [
    "#### wraps"
   ]
  },
  {
   "cell_type": "markdown",
   "id": "c5ecf845",
   "metadata": {},
   "source": [
    "wraps: This function is a decorator that takes a function and returns a new function with the same name, documentation, and other attributes. It is useful for preserving metadata when creating new functions."
   ]
  },
  {
   "cell_type": "code",
   "execution_count": 11,
   "id": "f7f7015a",
   "metadata": {},
   "outputs": [
    {
     "name": "stdout",
     "output_type": "stream",
     "text": [
      "Hello, Alice!\n"
     ]
    }
   ],
   "source": [
    "from functools import wraps\n",
    "\n",
    "# Define a decorator function that adds a greeting to a function's output\n",
    "def add_greeting(func):\n",
    "    @wraps(func)\n",
    "    def wrapper(*args, **kwargs):\n",
    "        result = func(*args, **kwargs)\n",
    "        return \"Hello, \" + result + \"!\"\n",
    "    return wrapper\n",
    "\n",
    "# Define a function that returns a name\n",
    "@add_greeting\n",
    "def get_name():\n",
    "    return \"Alice\"\n",
    "\n",
    "# Call the function and print the result\n",
    "result = get_name()\n",
    "print(result)  # Output: \"Hello, Alice!\""
   ]
  },
  {
   "cell_type": "code",
   "execution_count": 10,
   "id": "3745f0d6",
   "metadata": {},
   "outputs": [
    {
     "data": {
      "text/plain": [
       "8"
      ]
     },
     "execution_count": 10,
     "metadata": {},
     "output_type": "execute_result"
    }
   ],
   "source": [
    "add(3, 5)"
   ]
  },
  {
   "cell_type": "markdown",
   "id": "e06e26e6",
   "metadata": {},
   "source": [
    "lru_cache: This function is a decorator that adds a cache to a function, so that its results are remembered and returned quickly if the same arguments are passed again. It can be useful for optimizing functions that are called repeatedly with the same arguments."
   ]
  },
  {
   "cell_type": "code",
   "execution_count": 12,
   "id": "c03414ef",
   "metadata": {},
   "outputs": [
    {
     "name": "stdout",
     "output_type": "stream",
     "text": [
      "120 120 120\n"
     ]
    }
   ],
   "source": [
    "from functools import lru_cache\n",
    "\n",
    "# Define a function that takes a number and returns its factorial\n",
    "@lru_cache(maxsize=None)\n",
    "def factorial(n):\n",
    "    if n == 0:\n",
    "        return 1\n",
    "    else:\n",
    "        return n * factorial(n - 1)\n",
    "\n",
    "# Call the function multiple times with the same argument\n",
    "result1 = factorial(5)\n",
    "result2 = factorial(5)\n",
    "result3 = factorial(5)\n",
    "\n",
    "print(result1, result2, result3)  # Output: 120 120 120"
   ]
  },
  {
   "cell_type": "markdown",
   "id": "5aa28de7",
   "metadata": {},
   "source": [
    "funtion inside a funtion"
   ]
  },
  {
   "cell_type": "code",
   "execution_count": 15,
   "id": "dc2c544e",
   "metadata": {},
   "outputs": [
    {
     "name": "stdout",
     "output_type": "stream",
     "text": [
      "Hello, Alice!\n"
     ]
    }
   ],
   "source": [
    "# Define a function that takes a name and returns a greeting\n",
    "def greeting(name):\n",
    "    # Define a nested function that formats the greeting string\n",
    "    def format_greeting():\n",
    "        return f\"Hello, {name}!\"\n",
    "\n",
    "    # Call the nested function and return its result\n",
    "    return format_greeting()\n",
    "\n",
    "# Call the outer function with a name argument\n",
    "result = greeting(\"Alice\")\n",
    "\n",
    "print(result)  # Output: Hello, Alice!"
   ]
  },
  {
   "cell_type": "markdown",
   "id": "abd8158a",
   "metadata": {},
   "source": [
    "### Funtion in R "
   ]
  },
  {
   "cell_type": "code",
   "execution_count": 1,
   "id": "7e1c0830",
   "metadata": {},
   "outputs": [
    {
     "name": "stdout",
     "output_type": "stream",
     "text": [
      "[1] \"Hello, Alice !\"\n"
     ]
    }
   ],
   "source": [
    "# Define a function that takes a name and returns a greeting\n",
    "greeting <- function(name) {\n",
    "  # Define a nested function that formats the greeting string\n",
    "  format_greeting <- function() {\n",
    "    return(paste(\"Hello,\", name, \"!\"))\n",
    "  }\n",
    "  \n",
    "  # Call the nested function and return its result\n",
    "  return(format_greeting())\n",
    "}\n",
    "\n",
    "# Call the outer function with a name argument\n",
    "result <- greeting(\"Alice\")\n",
    "\n",
    "print(result)  # Output: \"Hello, Alice!\""
   ]
  },
  {
   "cell_type": "markdown",
   "id": "c7177035",
   "metadata": {},
   "source": [
    "S3 methods: These are functions that are associated with a particular class of objects in R. They are used in object-oriented programming to define behavior for specific types of objects. For example, the summary() function has different behavior depending on the class of the object passed to it."
   ]
  },
  {
   "cell_type": "markdown",
   "id": "4402da36",
   "metadata": {},
   "source": [
    "Anonymous Functions: These are functions without a formal name, also known as lambda functions. Anonymous functions are defined using the function keyword and are typically used in combination with other functions such as apply(), lapply(), and sapply()."
   ]
  },
  {
   "cell_type": "code",
   "execution_count": 2,
   "id": "2af118eb",
   "metadata": {},
   "outputs": [
    {
     "name": "stdout",
     "output_type": "stream",
     "text": [
      "function(x) { x^2 }(5)\n"
     ]
    }
   ],
   "source": [
    "# Call an anonymous function directly\n",
    "result <- function(x) { x^2 }(5)\n",
    "\n",
    "print(result)  # Output: 25"
   ]
  },
  {
   "cell_type": "markdown",
   "id": "8260d69b",
   "metadata": {},
   "source": [
    "Higher-order Functions: These are functions that take one or more functions as arguments and/or return a function as its result. Higher-order functions are useful for creating more flexible and reusable code. An example of a higher-order function is the apply() family of functions, which applies a function to each element or row of a data structure."
   ]
  },
  {
   "cell_type": "markdown",
   "id": "9c911bf6",
   "metadata": {},
   "source": [
    "apply() is a higher-order function in R that applies a specified function to either the rows or columns of a matrix or array, or to a list."
   ]
  },
  {
   "cell_type": "code",
   "execution_count": 4,
   "id": "8c954864",
   "metadata": {},
   "outputs": [
    {
     "data": {
      "text/html": [
       "<table class=\"dataframe\">\n",
       "<caption>A matrix: 2 × 3 of type dbl</caption>\n",
       "<tbody>\n",
       "\t<tr><td>1</td><td>3</td><td>5</td></tr>\n",
       "\t<tr><td>2</td><td>4</td><td>6</td></tr>\n",
       "</tbody>\n",
       "</table>\n"
      ],
      "text/latex": [
       "A matrix: 2 × 3 of type dbl\n",
       "\\begin{tabular}{lll}\n",
       "\t 1 & 3 & 5\\\\\n",
       "\t 2 & 4 & 6\\\\\n",
       "\\end{tabular}\n"
      ],
      "text/markdown": [
       "\n",
       "A matrix: 2 × 3 of type dbl\n",
       "\n",
       "| 1 | 3 | 5 |\n",
       "| 2 | 4 | 6 |\n",
       "\n"
      ],
      "text/plain": [
       "     [,1] [,2] [,3]\n",
       "[1,] 1    3    5   \n",
       "[2,] 2    4    6   "
      ]
     },
     "metadata": {},
     "output_type": "display_data"
    },
    {
     "name": "stdout",
     "output_type": "stream",
     "text": [
      "[1]  3  7 11\n",
      "[1]  9 12\n"
     ]
    }
   ],
   "source": [
    "# Define a function that calculates the sum of a vector\n",
    "sum_vector <- function(x) {\n",
    "  return(sum(x))\n",
    "}\n",
    "\n",
    "# Create a matrix\n",
    "matrix_data <- matrix(c(1, 2, 3, 4, 5, 6), nrow = 2);matrix_data \n",
    "\n",
    "# Apply the sum_vector function to each column of the matrix\n",
    "column_sums <- apply(matrix_data, 2, sum_vector)\n",
    "\n",
    "print(column_sums)  # Output: 9 11 13\n",
    "\n",
    "# Apply the sum_vector function to each row of the matrix\n",
    "row_sums <- apply(matrix_data, 1, sum_vector)\n",
    "\n",
    "print(row_sums)  # Output: 6 15"
   ]
  },
  {
   "cell_type": "markdown",
   "id": "4c3a4bb3",
   "metadata": {},
   "source": [
    "lapply() is a higher-order function in R that applies a specified function to each element of a list and returns a list of the results."
   ]
  },
  {
   "cell_type": "code",
   "execution_count": 6,
   "id": "3b88b09f",
   "metadata": {},
   "outputs": [
    {
     "name": "stdout",
     "output_type": "stream",
     "text": [
      "[[1]]\n",
      "[1] 2\n",
      "\n",
      "[[2]]\n",
      "[1] 5\n",
      "\n"
     ]
    }
   ],
   "source": [
    "# Create a list of vectors\n",
    "lst <- list(c(1, 2, 3), c(4, 5, 6))\n",
    "\n",
    "# Apply the mean function to each element of the list\n",
    "lst_means <- lapply(lst, mean)\n",
    "\n",
    "print(lst_means)  "
   ]
  },
  {
   "cell_type": "markdown",
   "id": "fcbfafd3",
   "metadata": {},
   "source": [
    "sapply() is a higher-order function in R that applies a specified function to each element of a list or vector and simplifies the result into a vector, matrix or array. It is a variation of lapply() that automatically simplifies the output if possible. The basic syntax of sapply() is as follows:"
   ]
  },
  {
   "cell_type": "code",
   "execution_count": 12,
   "id": "61f500dd",
   "metadata": {},
   "outputs": [
    {
     "name": "stdout",
     "output_type": "stream",
     "text": [
      "[1] 1 2 3\n"
     ]
    }
   ],
   "source": [
    "vec <- c(1, 4, 9)\n",
    "\n",
    "# Apply the sqrt function to each element of the vector\n",
    "vec_sqrts <- sapply(vec, sqrt)\n",
    "\n",
    "print(vec_sqrts)"
   ]
  },
  {
   "cell_type": "code",
   "execution_count": null,
   "id": "c175cd6b",
   "metadata": {},
   "outputs": [],
   "source": []
  }
 ],
 "metadata": {
  "kernelspec": {
   "display_name": "Python 3 (ipykernel)",
   "language": "python",
   "name": "python3"
  },
  "language_info": {
   "codemirror_mode": {
    "name": "ipython",
    "version": 3
   },
   "file_extension": ".py",
   "mimetype": "text/x-python",
   "name": "python",
   "nbconvert_exporter": "python",
   "pygments_lexer": "ipython3",
   "version": "3.10.9"
  }
 },
 "nbformat": 4,
 "nbformat_minor": 5
}
