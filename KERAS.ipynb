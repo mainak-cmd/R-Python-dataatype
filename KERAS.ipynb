{
 "cells": [
  {
   "cell_type": "markdown",
   "id": "99c9099f",
   "metadata": {},
   "source": [
    "#### Keras vs Tensorflow"
   ]
  },
  {
   "cell_type": "markdown",
   "id": "d3da9f7b",
   "metadata": {},
   "source": [
    "Level of abstraction: Keras is a high-level API for building and training neural networks, whereas TensorFlow is a lower-level framework that provides more flexibility and control. Keras is easier to use and more user-friendly, while TensorFlow offers more customization options."
   ]
  },
  {
   "cell_type": "markdown",
   "id": "7de948d5",
   "metadata": {},
   "source": [
    "Ease of use: Keras is designed to be easy to use and can be learned quickly, even by those with little experience in deep learning. TensorFlow, on the other hand, has a steeper learning curve and requires more knowledge of the underlying concepts of deep learning."
   ]
  },
  {
   "cell_type": "markdown",
   "id": "b8ad60b1",
   "metadata": {},
   "source": [
    "Flexibility: TensorFlow is more flexible than Keras, allowing developers to customize and fine-tune every aspect of their models. Keras, on the other hand, is designed to be simple and easy to use, so it doesn't offer the same level of flexibility."
   ]
  },
  {
   "cell_type": "markdown",
   "id": "8fef0ea9",
   "metadata": {},
   "source": [
    "Deployment: Keras is designed to be more portable and easier to deploy than TensorFlow. Keras models can be easily converted to other formats, such as TensorFlow or ONNX, which makes it easier to use them in different environments and on different platforms."
   ]
  },
  {
   "cell_type": "markdown",
   "id": "8b54ddd9",
   "metadata": {},
   "source": [
    "### Model API"
   ]
  },
  {
   "cell_type": "markdown",
   "id": "9429d157",
   "metadata": {},
   "source": [
    "The Model API (Application Programming Interface) is a set of programming instructions and standards for building, training, and deploying machine learning models. In the context of deep learning, the Model API is typically used to build and train neural networks."
   ]
  },
  {
   "cell_type": "markdown",
   "id": "c7685e8e",
   "metadata": {},
   "source": [
    "The Model API typically provides a set of high-level functions and classes that make it easy to define, compile, and train a neural network."
   ]
  },
  {
   "cell_type": "markdown",
   "id": "6dc01191",
   "metadata": {},
   "source": [
    "### Neural Network Components"
   ]
  },
  {
   "cell_type": "markdown",
   "id": "a0fdbe57",
   "metadata": {},
   "source": [
    "Layers: A layer is a building block of a neural network, and the Model API provides a set of pre-defined layers, such as convolutional layers, pooling layers, and dense layers.\n",
    "\n",
    "Models: A model is a collection of layers that are stacked together to form a neural network. The Model API provides functions for creating and compiling models, and for training and evaluating them.\n",
    "\n",
    "Optimizers: An optimizer is an algorithm that is used to update the weights of the neural network during training. The Model API provides a set of pre-defined optimizers, such as stochastic gradient descent (SGD), Adam, and RMSprop.\n",
    "\n",
    "Loss functions: A loss function is used to measure how well the neural network is performing during training. The Model API provides a set of pre-defined loss functions, such as mean squared error (MSE), binary cross-entropy, and categorical cross-entropy.\n",
    "\n",
    "Metrics: A metric is used to evaluate the performance of the neural network during training and testing. The Model API provides a set of pre-defined metrics, such as accuracy, precision, and recall."
   ]
  },
  {
   "cell_type": "markdown",
   "id": "8a014b03",
   "metadata": {},
   "source": [
    "## Model class"
   ]
  },
  {
   "cell_type": "markdown",
   "id": "43b3e07b",
   "metadata": {},
   "source": [
    "In Keras, the Model class is a high-level API for defining and training neural network models. It is a subclass of the Container class, which is used to group layers together into a single model."
   ]
  },
  {
   "cell_type": "markdown",
   "id": "61f567f1",
   "metadata": {},
   "source": [
    "The Model class provides a simple and flexible way to define a neural network model using the functional API."
   ]
  },
  {
   "cell_type": "markdown",
   "id": "8edde0e2",
   "metadata": {},
   "source": [
    "To define a model using the Model class, you typically do the following:\n",
    "\n",
    "Define the input layer(s) of the model using the Input function.\n",
    "\n",
    "Define the layers of the model, connecting them to the input layer(s) using the functional API.\n",
    "\n",
    "Define the output layer(s) of the model, connecting them to the last layer(s) using the functional API.\n",
    "\n",
    "Create a new instance of the Model class, passing in the input layer(s) and output layer(s) as arguments.\n",
    "\n",
    "Compile the model, specifying the loss function, optimizer, and metrics to be used during training.\n",
    "\n",
    "Train the model on a dataset using the fit method."
   ]
  },
  {
   "cell_type": "markdown",
   "id": "f4c81774",
   "metadata": {},
   "source": [
    "### Data preprocessing is an important step in machine learning and it is not always necessary to use a neural network to perform data preprocessing. \n"
   ]
  },
  {
   "cell_type": "markdown",
   "id": "550fd3d3",
   "metadata": {},
   "source": [
    "#### Define the input layer(s)"
   ]
  },
  {
   "cell_type": "markdown",
   "id": "918339d5",
   "metadata": {},
   "source": [
    "In Keras, the input layer is the first layer in a neural network model. It defines the shape of the input data that will be fed into the model"
   ]
  },
  {
   "cell_type": "code",
   "execution_count": 12,
   "id": "9b3f13e5",
   "metadata": {},
   "outputs": [],
   "source": [
    "from keras.layers import Input\n",
    "\n",
    "# Define the input layer with a shape of (10,)\n",
    "inputs = Input(shape=(10,))"
   ]
  },
  {
   "cell_type": "markdown",
   "id": "2eae5b48",
   "metadata": {},
   "source": [
    "This means that the input data should be a 1D array of length 10. The Input class returns a symbolic tensor that will be used as a placeholder for the actual input data when the model is compiled and trained."
   ]
  },
  {
   "cell_type": "markdown",
   "id": "5604f6f7",
   "metadata": {},
   "source": [
    "Note that the input shape should match the shape of the input data that will be used to train the model."
   ]
  },
  {
   "cell_type": "markdown",
   "id": "25234e87",
   "metadata": {},
   "source": [
    "##### input data of any length along that dimension"
   ]
  },
  {
   "cell_type": "markdown",
   "id": "15dbc125",
   "metadata": {},
   "source": [
    "If you set the shape of a particular dimension to None, it means that the model can accept input data of any length along that dimension."
   ]
  },
  {
   "cell_type": "code",
   "execution_count": null,
   "id": "010582ff",
   "metadata": {},
   "outputs": [],
   "source": [
    "# Define the input layer with variable length\n",
    "inputs = Input(shape=(None, 1))\n"
   ]
  },
  {
   "cell_type": "markdown",
   "id": "96452044",
   "metadata": {},
   "source": [
    "we define an input layer with shape (None, 1), which means that the input data can have any length along the first dimension, but must have a length of 1 along the second dimension (i.e., it should be a 2D array where the second dimension has length 1) (n row and 1 colloumn)."
   ]
  },
  {
   "cell_type": "code",
   "execution_count": 16,
   "id": "be630754",
   "metadata": {},
   "outputs": [],
   "source": [
    "inputs = Input(shape=(None,None )) #(Row number ,colloumn number)\n",
    "inputs_1 = Input(shape=(None,None,3 )) #(depth ,row ,colloumn)\n",
    "inputs_2 = Input(shape=(None,3,None ))"
   ]
  },
  {
   "cell_type": "markdown",
   "id": "d21af042",
   "metadata": {},
   "source": [
    "#### Define the hidden layer"
   ]
  },
  {
   "cell_type": "markdown",
   "id": "7215b118",
   "metadata": {},
   "source": [
    "In a neural network, a hidden layer is a layer that is neither an input layer nor an output layer. Hidden layers are where most of the computation in a neural network takes place, as the neurons in these layers apply transformations to the input data in order to extract useful features."
   ]
  },
  {
   "cell_type": "markdown",
   "id": "c0987ad3",
   "metadata": {},
   "source": [
    "####  there are several types of hidden layers that can be used depending on the nature of the problem you are trying to solve"
   ]
  },
  {
   "cell_type": "markdown",
   "id": "1281f36f",
   "metadata": {},
   "source": [
    "Fully connected layer: Also known as a dense layer, this is the most basic type of hidden layer in which every neuron in the layer is connected to every neuron in the previous layer.\n",
    "\n",
    "\n",
    "IMage\n",
    "Convolutional layer: This is a type of layer used in convolutional neural networks (CNNs) for image and signal processing tasks. It applies a convolution operation to the input data, which involves sliding a filter over the input and computing dot products at each position.\n",
    "\n",
    "Pooling layer: This is a type of layer often used in conjunction with convolutional layers in CNNs. It reduces the spatial dimensions of the output from the previous layer by taking the maximum or average value over a small region.\n",
    "\n",
    "spatial dimensions:Spatial dimensions refer to the three-dimensional space in which we live, move and interact. They are often described as length, width, and height, and are commonly represented by the x, y, and z axes respectively.\n",
    "\n",
    "NLP\n",
    "\n",
    "Recurrent layer: This is a type of layer used in recurrent neural networks (RNNs) for processing sequential data. It applies a recurrent transformation to the input data, which allows the network to capture temporal dependencies in the data.\n",
    "\n",
    "\n",
    "Overfitting\n",
    "\n",
    "Dropout layer: This is a regularization technique that can be applied to any type of layer in a neural network. It randomly drops out some of the activations from the previous layer during training in order to prevent overfitting.\n",
    "\n",
    "\n",
    "\n",
    "Batch normalization layer: This is a type of layer that can be used to improve the training of deep neural networks. It normalizes the output of the previous layer to have zero mean and unit variance, which helps to prevent the values from becoming too large or too small during training.\n",
    "\n",
    "\n",
    "Note that in many cases, a combination of different types of layers may be used in a neural network architecture, depending on the specific requirements of the problem."
   ]
  },
  {
   "cell_type": "markdown",
   "id": "0bdc7bc1",
   "metadata": {},
   "source": [
    "#### Fully connected layer"
   ]
  },
  {
   "cell_type": "markdown",
   "id": "5a9cfb2e",
   "metadata": {},
   "source": [
    "Fully connected layer: Also known as a dense layer, this is the most basic type of hidden layer in which every neuron in the layer is connected to every neuron in the previous layer."
   ]
  },
  {
   "cell_type": "markdown",
   "id": "50893224",
   "metadata": {},
   "source": [
    "The weights and biases in a fully connected layer are learned during training using an optimization algorithm such as stochastic gradient descent (SGD)"
   ]
  },
  {
   "cell_type": "markdown",
   "id": "982cd1dd",
   "metadata": {},
   "source": [
    "SGD (Stochastic Gradient Descent): This is a simple optimizer that updates the parameters in the direction of the negative gradient of the loss function. It is computationally efficient and easy to implement, but can be slow to converge and can get stuck in local minima."
   ]
  },
  {
   "cell_type": "markdown",
   "id": "7ad26dc1",
   "metadata": {},
   "source": [
    "The backpropagation algorithm is used to compute the gradients of the loss function with respect to the weights and biases in the layer, which are then used to update the parameters."
   ]
  },
  {
   "cell_type": "markdown",
   "id": "b026231a",
   "metadata": {},
   "source": [
    "##### The input to a fully connected layer is a vector, and the output is another vector of a specified size."
   ]
  },
  {
   "cell_type": "markdown",
   "id": "76ab6196",
   "metadata": {},
   "source": [
    "The fully connected layer is typically used in the final stages of a neural network to map the output of the previous layer to the output of the network."
   ]
  },
  {
   "cell_type": "markdown",
   "id": "1b6438f8",
   "metadata": {},
   "source": [
    "For example, if you have a binary classification problem, you might use a single neuron in the output layer with a sigmoid activation function to output a probability of class membership."
   ]
  },
  {
   "cell_type": "markdown",
   "id": "fffca461",
   "metadata": {},
   "source": [
    "### USES"
   ]
  },
  {
   "cell_type": "markdown",
   "id": "955eff32",
   "metadata": {},
   "source": [
    "Fully connected layers are used in various neural network architectures and are a fundamental building block in deep learning. Here are some common use cases for fully connected layers:"
   ]
  },
  {
   "cell_type": "markdown",
   "id": "70f90348",
   "metadata": {},
   "source": [
    "Image Classification: In image classification tasks, fully connected layers are often used as the output layer to map the learned features from convolutional layers to class scores. For example, in the popular VGG16 architecture, the fully connected layers are used at the end to produce the final output probabilities for different classes.\n",
    "\n",
    "Language Modeling: Fully connected layers are also used in natural language processing tasks such as language modeling, where the input is a sequence of words and the output is a probability distribution over the next word. In this case, the fully connected layer is used as the output layer to predict the next word based on the learned representations from the previous layers.\n",
    "\n",
    "Regression: Fully connected layers can also be used for regression tasks, where the goal is to predict a continuous output variable. For example, in a housing price prediction problem, the fully connected layer can be used to map the learned features to a single output value representing the predicted price.\n",
    "\n",
    "Transfer Learning: Fully connected layers are often used in transfer learning, where a pre-trained model is used as a starting point for a new task. In this case, the fully connected layers of the pre-trained model can be frozen while the newly added layers are trained on the new task. This can save training time and improve the performance of the model on the new task."
   ]
  },
  {
   "cell_type": "markdown",
   "id": "3c173b53",
   "metadata": {},
   "source": [
    "A dense layer with 32 units means that the layer has 32 neurons, also known as nodes or units. Each of these neurons is fully connected to the neurons in the previous layer (or input data, if this is the first layer), and the output of each neuron is calculated as a weighted sum of the inputs, followed by an activation function."
   ]
  },
  {
   "cell_type": "markdown",
   "id": "c389c120",
   "metadata": {},
   "source": [
    "The weights and biases associated with each neuron are learned during the training process, so that the network can learn to produce appropriate output values for a given input. The number of units in a dense layer is a hyperparameter that can be tuned to optimize the performance of the network on a given task. In general, increasing the number of units in a dense layer can increase the capacity of the network to learn complex patterns in the data, but can also increase the risk of overfitting if the model becomes too complex."
   ]
  },
  {
   "cell_type": "markdown",
   "id": "4a794af8",
   "metadata": {},
   "source": [
    "### Regression"
   ]
  },
  {
   "cell_type": "code",
   "execution_count": 5,
   "id": "b7bb8898",
   "metadata": {},
   "outputs": [
    {
     "name": "stdout",
     "output_type": "stream",
     "text": [
      "Epoch 1/100\n",
      "4/4 - 2s - loss: 0.3312 - 2s/epoch - 518ms/step\n",
      "Epoch 2/100\n",
      "4/4 - 0s - loss: 0.3034 - 21ms/epoch - 5ms/step\n",
      "Epoch 3/100\n",
      "4/4 - 0s - loss: 0.2793 - 21ms/epoch - 5ms/step\n",
      "Epoch 4/100\n",
      "4/4 - 0s - loss: 0.2561 - 27ms/epoch - 7ms/step\n",
      "Epoch 5/100\n",
      "4/4 - 0s - loss: 0.2341 - 19ms/epoch - 5ms/step\n",
      "Epoch 6/100\n",
      "4/4 - 0s - loss: 0.2145 - 40ms/epoch - 10ms/step\n",
      "Epoch 7/100\n",
      "4/4 - 0s - loss: 0.1956 - 26ms/epoch - 7ms/step\n",
      "Epoch 8/100\n",
      "4/4 - 0s - loss: 0.1783 - 29ms/epoch - 7ms/step\n",
      "Epoch 9/100\n",
      "4/4 - 0s - loss: 0.1631 - 18ms/epoch - 4ms/step\n",
      "Epoch 10/100\n",
      "4/4 - 0s - loss: 0.1484 - 23ms/epoch - 6ms/step\n",
      "Epoch 11/100\n",
      "4/4 - 0s - loss: 0.1350 - 22ms/epoch - 6ms/step\n",
      "Epoch 12/100\n",
      "4/4 - 0s - loss: 0.1227 - 20ms/epoch - 5ms/step\n",
      "Epoch 13/100\n",
      "4/4 - 0s - loss: 0.1126 - 42ms/epoch - 10ms/step\n",
      "Epoch 14/100\n",
      "4/4 - 0s - loss: 0.1028 - 20ms/epoch - 5ms/step\n",
      "Epoch 15/100\n",
      "4/4 - 0s - loss: 0.0948 - 31ms/epoch - 8ms/step\n",
      "Epoch 16/100\n",
      "4/4 - 0s - loss: 0.0876 - 19ms/epoch - 5ms/step\n",
      "Epoch 17/100\n",
      "4/4 - 0s - loss: 0.0821 - 29ms/epoch - 7ms/step\n",
      "Epoch 18/100\n",
      "4/4 - 0s - loss: 0.0776 - 23ms/epoch - 6ms/step\n",
      "Epoch 19/100\n",
      "4/4 - 0s - loss: 0.0746 - 20ms/epoch - 5ms/step\n",
      "Epoch 20/100\n",
      "4/4 - 0s - loss: 0.0725 - 21ms/epoch - 5ms/step\n",
      "Epoch 21/100\n",
      "4/4 - 0s - loss: 0.0709 - 19ms/epoch - 5ms/step\n",
      "Epoch 22/100\n",
      "4/4 - 0s - loss: 0.0700 - 20ms/epoch - 5ms/step\n",
      "Epoch 23/100\n",
      "4/4 - 0s - loss: 0.0697 - 20ms/epoch - 5ms/step\n",
      "Epoch 24/100\n",
      "4/4 - 0s - loss: 0.0693 - 27ms/epoch - 7ms/step\n",
      "Epoch 25/100\n",
      "4/4 - 0s - loss: 0.0692 - 19ms/epoch - 5ms/step\n",
      "Epoch 26/100\n",
      "4/4 - 0s - loss: 0.0691 - 38ms/epoch - 9ms/step\n",
      "Epoch 27/100\n",
      "4/4 - 0s - loss: 0.0690 - 19ms/epoch - 5ms/step\n",
      "Epoch 28/100\n",
      "4/4 - 0s - loss: 0.0688 - 17ms/epoch - 4ms/step\n",
      "Epoch 29/100\n",
      "4/4 - 0s - loss: 0.0686 - 19ms/epoch - 5ms/step\n",
      "Epoch 30/100\n",
      "4/4 - 0s - loss: 0.0685 - 18ms/epoch - 4ms/step\n",
      "Epoch 31/100\n",
      "4/4 - 0s - loss: 0.0686 - 36ms/epoch - 9ms/step\n",
      "Epoch 32/100\n",
      "4/4 - 0s - loss: 0.0685 - 17ms/epoch - 4ms/step\n",
      "Epoch 33/100\n",
      "4/4 - 0s - loss: 0.0684 - 31ms/epoch - 8ms/step\n",
      "Epoch 34/100\n",
      "4/4 - 0s - loss: 0.0683 - 20ms/epoch - 5ms/step\n",
      "Epoch 35/100\n",
      "4/4 - 0s - loss: 0.0681 - 31ms/epoch - 8ms/step\n",
      "Epoch 36/100\n",
      "4/4 - 0s - loss: 0.0681 - 21ms/epoch - 5ms/step\n",
      "Epoch 37/100\n",
      "4/4 - 0s - loss: 0.0680 - 19ms/epoch - 5ms/step\n",
      "Epoch 38/100\n",
      "4/4 - 0s - loss: 0.0681 - 20ms/epoch - 5ms/step\n",
      "Epoch 39/100\n",
      "4/4 - 0s - loss: 0.0679 - 17ms/epoch - 4ms/step\n",
      "Epoch 40/100\n",
      "4/4 - 0s - loss: 0.0677 - 22ms/epoch - 6ms/step\n",
      "Epoch 41/100\n",
      "4/4 - 0s - loss: 0.0676 - 21ms/epoch - 5ms/step\n",
      "Epoch 42/100\n",
      "4/4 - 0s - loss: 0.0673 - 34ms/epoch - 9ms/step\n",
      "Epoch 43/100\n",
      "4/4 - 0s - loss: 0.0672 - 21ms/epoch - 5ms/step\n",
      "Epoch 44/100\n",
      "4/4 - 0s - loss: 0.0671 - 33ms/epoch - 8ms/step\n",
      "Epoch 45/100\n",
      "4/4 - 0s - loss: 0.0670 - 18ms/epoch - 5ms/step\n",
      "Epoch 46/100\n",
      "4/4 - 0s - loss: 0.0669 - 20ms/epoch - 5ms/step\n",
      "Epoch 47/100\n",
      "4/4 - 0s - loss: 0.0667 - 31ms/epoch - 8ms/step\n",
      "Epoch 48/100\n",
      "4/4 - 0s - loss: 0.0666 - 20ms/epoch - 5ms/step\n",
      "Epoch 49/100\n",
      "4/4 - 0s - loss: 0.0666 - 32ms/epoch - 8ms/step\n",
      "Epoch 50/100\n",
      "4/4 - 0s - loss: 0.0665 - 18ms/epoch - 5ms/step\n",
      "Epoch 51/100\n",
      "4/4 - 0s - loss: 0.0664 - 34ms/epoch - 8ms/step\n",
      "Epoch 52/100\n",
      "4/4 - 0s - loss: 0.0662 - 21ms/epoch - 5ms/step\n",
      "Epoch 53/100\n",
      "4/4 - 0s - loss: 0.0661 - 21ms/epoch - 5ms/step\n",
      "Epoch 54/100\n",
      "4/4 - 0s - loss: 0.0660 - 21ms/epoch - 5ms/step\n",
      "Epoch 55/100\n",
      "4/4 - 0s - loss: 0.0660 - 18ms/epoch - 4ms/step\n",
      "Epoch 56/100\n",
      "4/4 - 0s - loss: 0.0659 - 34ms/epoch - 8ms/step\n",
      "Epoch 57/100\n",
      "4/4 - 0s - loss: 0.0658 - 17ms/epoch - 4ms/step\n",
      "Epoch 58/100\n",
      "4/4 - 0s - loss: 0.0657 - 42ms/epoch - 11ms/step\n",
      "Epoch 59/100\n",
      "4/4 - 0s - loss: 0.0656 - 17ms/epoch - 4ms/step\n",
      "Epoch 60/100\n",
      "4/4 - 0s - loss: 0.0655 - 19ms/epoch - 5ms/step\n",
      "Epoch 61/100\n",
      "4/4 - 0s - loss: 0.0655 - 17ms/epoch - 4ms/step\n",
      "Epoch 62/100\n",
      "4/4 - 0s - loss: 0.0655 - 17ms/epoch - 4ms/step\n",
      "Epoch 63/100\n",
      "4/4 - 0s - loss: 0.0657 - 17ms/epoch - 4ms/step\n",
      "Epoch 64/100\n",
      "4/4 - 0s - loss: 0.0657 - 20ms/epoch - 5ms/step\n",
      "Epoch 65/100\n",
      "4/4 - 0s - loss: 0.0657 - 33ms/epoch - 8ms/step\n",
      "Epoch 66/100\n",
      "4/4 - 0s - loss: 0.0655 - 18ms/epoch - 4ms/step\n",
      "Epoch 67/100\n",
      "4/4 - 0s - loss: 0.0653 - 25ms/epoch - 6ms/step\n",
      "Epoch 68/100\n",
      "4/4 - 0s - loss: 0.0650 - 19ms/epoch - 5ms/step\n",
      "Epoch 69/100\n",
      "4/4 - 0s - loss: 0.0648 - 22ms/epoch - 6ms/step\n",
      "Epoch 70/100\n",
      "4/4 - 0s - loss: 0.0646 - 24ms/epoch - 6ms/step\n",
      "Epoch 71/100\n",
      "4/4 - 0s - loss: 0.0647 - 27ms/epoch - 7ms/step\n",
      "Epoch 72/100\n",
      "4/4 - 0s - loss: 0.0646 - 22ms/epoch - 6ms/step\n",
      "Epoch 73/100\n",
      "4/4 - 0s - loss: 0.0645 - 22ms/epoch - 5ms/step\n",
      "Epoch 74/100\n",
      "4/4 - 0s - loss: 0.0644 - 32ms/epoch - 8ms/step\n",
      "Epoch 75/100\n",
      "4/4 - 0s - loss: 0.0643 - 19ms/epoch - 5ms/step\n",
      "Epoch 76/100\n",
      "4/4 - 0s - loss: 0.0642 - 34ms/epoch - 9ms/step\n",
      "Epoch 77/100\n",
      "4/4 - 0s - loss: 0.0642 - 20ms/epoch - 5ms/step\n",
      "Epoch 78/100\n",
      "4/4 - 0s - loss: 0.0641 - 27ms/epoch - 7ms/step\n",
      "Epoch 79/100\n",
      "4/4 - 0s - loss: 0.0640 - 24ms/epoch - 6ms/step\n",
      "Epoch 80/100\n",
      "4/4 - 0s - loss: 0.0640 - 50ms/epoch - 12ms/step\n",
      "Epoch 81/100\n",
      "4/4 - 0s - loss: 0.0640 - 27ms/epoch - 7ms/step\n",
      "Epoch 82/100\n",
      "4/4 - 0s - loss: 0.0639 - 24ms/epoch - 6ms/step\n",
      "Epoch 83/100\n",
      "4/4 - 0s - loss: 0.0638 - 21ms/epoch - 5ms/step\n",
      "Epoch 84/100\n",
      "4/4 - 0s - loss: 0.0637 - 20ms/epoch - 5ms/step\n",
      "Epoch 85/100\n",
      "4/4 - 0s - loss: 0.0636 - 30ms/epoch - 8ms/step\n",
      "Epoch 86/100\n",
      "4/4 - 0s - loss: 0.0635 - 25ms/epoch - 6ms/step\n",
      "Epoch 87/100\n",
      "4/4 - 0s - loss: 0.0634 - 18ms/epoch - 4ms/step\n",
      "Epoch 88/100\n",
      "4/4 - 0s - loss: 0.0634 - 20ms/epoch - 5ms/step\n",
      "Epoch 89/100\n",
      "4/4 - 0s - loss: 0.0635 - 17ms/epoch - 4ms/step\n",
      "Epoch 90/100\n",
      "4/4 - 0s - loss: 0.0635 - 19ms/epoch - 5ms/step\n",
      "Epoch 91/100\n",
      "4/4 - 0s - loss: 0.0634 - 21ms/epoch - 5ms/step\n",
      "Epoch 92/100\n",
      "4/4 - 0s - loss: 0.0634 - 20ms/epoch - 5ms/step\n",
      "Epoch 93/100\n",
      "4/4 - 0s - loss: 0.0635 - 19ms/epoch - 5ms/step\n",
      "Epoch 94/100\n",
      "4/4 - 0s - loss: 0.0635 - 26ms/epoch - 6ms/step\n",
      "Epoch 95/100\n",
      "4/4 - 0s - loss: 0.0633 - 21ms/epoch - 5ms/step\n",
      "Epoch 96/100\n",
      "4/4 - 0s - loss: 0.0631 - 28ms/epoch - 7ms/step\n",
      "Epoch 97/100\n",
      "4/4 - 0s - loss: 0.0629 - 19ms/epoch - 5ms/step\n",
      "Epoch 98/100\n",
      "4/4 - 0s - loss: 0.0629 - 17ms/epoch - 4ms/step\n",
      "Epoch 99/100\n",
      "4/4 - 0s - loss: 0.0628 - 19ms/epoch - 5ms/step\n",
      "Epoch 100/100\n",
      "4/4 - 0s - loss: 0.0627 - 24ms/epoch - 6ms/step\n",
      "4/4 - 0s - loss: 0.0628 - 218ms/epoch - 54ms/step\n",
      "Mean Squared Error: 0.0628\n"
     ]
    }
   ],
   "source": [
    "import numpy as np\n",
    "from tensorflow import keras\n",
    "#from keras.layers import Input\n",
    "\n",
    "# generate random input data\n",
    "X = np.random.rand(100,5)\n",
    "\n",
    "# generate random output data\n",
    "y = np.random.rand(100, 1)\n",
    "\n",
    "# define the model architecture\n",
    "model = keras.Sequential([\n",
    "    keras.layers.Dense(10, input_shape=(5, ), activation='relu'),\n",
    "    keras.layers.Dense(3),\n",
    "    keras.layers.Dense(2),\n",
    "    keras.layers.Dense(1)\n",
    "])\n",
    "\n",
    "\"\"\"\"keras.layers.Dense is a function in the Keras API that creates a dense layer for a neural network. \n",
    "A dense layer is a type of fully connected layer, \n",
    "where each neuron in the layer is connected to every neuron in the previous layer.\n",
    "\n",
    "10 is the number of neurons in the dense layer.\n",
    "\n",
    "input_shape is a parameter that specifies the shape of the input data for the layer. \n",
    "In this case, the input shape is (5,), which means that the input data has 5 features. \n",
    "Note that input_shape is only used for the first layer of the network. For subsequent layers, \n",
    "the input shape is automatically inferred from the output shape of the previous layer.\n",
    "\n",
    "activation is a parameter that specifies the activation function for the layer.\n",
    "In this case, the activation function is ReLU (rectified linear unit),\n",
    "which is commonly used in neural networks to introduce non-linearity.\"\"\"\n",
    "\n",
    "# compile the model\n",
    "model.compile(loss='mse', optimizer='adam')\n",
    "\n",
    "# train the model\n",
    "model.fit(X, y, epochs=100, verbose=2)\n",
    "\n",
    "\"\"\"\"epochs is a parameter that specifies the number of epochs to train the model.\n",
    "An epoch is a single iteration over the entire input data. In this case, the model will be trained for 1000 epochs.\n",
    "\n",
    "verbose is a parameter that specifies how much output to display during training.\n",
    "A value of 0 means no output, a value of 1 means progress bars for each epoch,\n",
    "and a value of 2 means one line of output per epoch.\"\"\"\n",
    "\n",
    "\n",
    "# evaluate the model\n",
    "mse = model.evaluate(X, y, verbose=2)\n",
    "print(f\"Mean Squared Error: {mse:.4f}\")"
   ]
  },
  {
   "cell_type": "code",
   "execution_count": 7,
   "id": "73839214",
   "metadata": {},
   "outputs": [
    {
     "name": "stdout",
     "output_type": "stream",
     "text": [
      "1/1 [==============================] - 0s 53ms/step - loss: 0.0573\n"
     ]
    }
   ],
   "source": [
    "# Test the model\n",
    "test_data = np.random.rand(10,5)\n",
    "test_result = np.random.rand(10, 1)\n",
    "score = model.evaluate(test_data, test_result)\n",
    "#print('Test loss:', loss)\n",
    "#print(f'Test accuracy: {score[1]}')"
   ]
  },
  {
   "cell_type": "markdown",
   "id": "921216b4",
   "metadata": {},
   "source": [
    "# Type2"
   ]
  },
  {
   "cell_type": "code",
   "execution_count": 9,
   "id": "15a94459",
   "metadata": {
    "scrolled": false
   },
   "outputs": [
    {
     "name": "stdout",
     "output_type": "stream",
     "text": [
      "Epoch 1/100\n",
      "4/4 [==============================] - 2s 106ms/step - loss: 0.6948 - accuracy: 0.0000e+00 - val_loss: 0.6917 - val_accuracy: 0.0000e+00\n",
      "Epoch 2/100\n",
      "4/4 [==============================] - 0s 32ms/step - loss: 0.6927 - accuracy: 0.0000e+00 - val_loss: 0.6931 - val_accuracy: 0.0000e+00\n",
      "Epoch 3/100\n",
      "4/4 [==============================] - 0s 32ms/step - loss: 0.6915 - accuracy: 0.0000e+00 - val_loss: 0.6929 - val_accuracy: 0.0000e+00\n",
      "Epoch 4/100\n",
      "4/4 [==============================] - 0s 30ms/step - loss: 0.6908 - accuracy: 0.0000e+00 - val_loss: 0.6928 - val_accuracy: 0.0000e+00\n",
      "Epoch 5/100\n",
      "4/4 [==============================] - 0s 38ms/step - loss: 0.6905 - accuracy: 0.0000e+00 - val_loss: 0.6923 - val_accuracy: 0.0000e+00\n",
      "Epoch 6/100\n",
      "4/4 [==============================] - 0s 30ms/step - loss: 0.6896 - accuracy: 0.0000e+00 - val_loss: 0.6925 - val_accuracy: 0.0000e+00\n",
      "Epoch 7/100\n",
      "4/4 [==============================] - 0s 27ms/step - loss: 0.6891 - accuracy: 0.0000e+00 - val_loss: 0.6929 - val_accuracy: 0.0000e+00\n",
      "Epoch 8/100\n",
      "4/4 [==============================] - 0s 28ms/step - loss: 0.6885 - accuracy: 0.0000e+00 - val_loss: 0.6941 - val_accuracy: 0.0000e+00\n",
      "Epoch 9/100\n",
      "4/4 [==============================] - 0s 28ms/step - loss: 0.6883 - accuracy: 0.0000e+00 - val_loss: 0.6950 - val_accuracy: 0.0000e+00\n",
      "Epoch 10/100\n",
      "4/4 [==============================] - 0s 34ms/step - loss: 0.6879 - accuracy: 0.0000e+00 - val_loss: 0.6950 - val_accuracy: 0.0000e+00\n",
      "Epoch 11/100\n",
      "4/4 [==============================] - 0s 29ms/step - loss: 0.6876 - accuracy: 0.0000e+00 - val_loss: 0.6952 - val_accuracy: 0.0000e+00\n",
      "Epoch 12/100\n",
      "4/4 [==============================] - 0s 32ms/step - loss: 0.6875 - accuracy: 0.0000e+00 - val_loss: 0.6952 - val_accuracy: 0.0000e+00\n",
      "Epoch 13/100\n",
      "4/4 [==============================] - 0s 29ms/step - loss: 0.6870 - accuracy: 0.0000e+00 - val_loss: 0.6949 - val_accuracy: 0.0000e+00\n",
      "Epoch 14/100\n",
      "4/4 [==============================] - 0s 38ms/step - loss: 0.6865 - accuracy: 0.0000e+00 - val_loss: 0.6948 - val_accuracy: 0.0000e+00\n",
      "Epoch 15/100\n",
      "4/4 [==============================] - 0s 43ms/step - loss: 0.6863 - accuracy: 0.0000e+00 - val_loss: 0.6951 - val_accuracy: 0.0000e+00\n",
      "Epoch 16/100\n",
      "4/4 [==============================] - 0s 32ms/step - loss: 0.6858 - accuracy: 0.0000e+00 - val_loss: 0.6949 - val_accuracy: 0.0000e+00\n",
      "Epoch 17/100\n",
      "4/4 [==============================] - 0s 27ms/step - loss: 0.6854 - accuracy: 0.0000e+00 - val_loss: 0.6952 - val_accuracy: 0.0000e+00\n",
      "Epoch 18/100\n",
      "4/4 [==============================] - 0s 28ms/step - loss: 0.6850 - accuracy: 0.0000e+00 - val_loss: 0.6952 - val_accuracy: 0.0000e+00\n",
      "Epoch 19/100\n",
      "4/4 [==============================] - 0s 29ms/step - loss: 0.6850 - accuracy: 0.0000e+00 - val_loss: 0.6949 - val_accuracy: 0.0000e+00\n",
      "Epoch 20/100\n",
      "4/4 [==============================] - 0s 36ms/step - loss: 0.6844 - accuracy: 0.0000e+00 - val_loss: 0.6946 - val_accuracy: 0.0000e+00\n",
      "Epoch 21/100\n",
      "4/4 [==============================] - 0s 28ms/step - loss: 0.6842 - accuracy: 0.0000e+00 - val_loss: 0.6942 - val_accuracy: 0.0000e+00\n",
      "Epoch 22/100\n",
      "4/4 [==============================] - 0s 34ms/step - loss: 0.6844 - accuracy: 0.0000e+00 - val_loss: 0.6941 - val_accuracy: 0.0000e+00\n",
      "Epoch 23/100\n",
      "4/4 [==============================] - 0s 34ms/step - loss: 0.6842 - accuracy: 0.0000e+00 - val_loss: 0.6943 - val_accuracy: 0.0000e+00\n",
      "Epoch 24/100\n",
      "4/4 [==============================] - 0s 34ms/step - loss: 0.6834 - accuracy: 0.0000e+00 - val_loss: 0.6948 - val_accuracy: 0.0000e+00\n",
      "Epoch 25/100\n",
      "4/4 [==============================] - 0s 31ms/step - loss: 0.6824 - accuracy: 0.0000e+00 - val_loss: 0.6954 - val_accuracy: 0.0000e+00\n",
      "Epoch 26/100\n",
      "4/4 [==============================] - 0s 29ms/step - loss: 0.6815 - accuracy: 0.0000e+00 - val_loss: 0.6967 - val_accuracy: 0.0000e+00\n",
      "Epoch 27/100\n",
      "4/4 [==============================] - 0s 30ms/step - loss: 0.6817 - accuracy: 0.0000e+00 - val_loss: 0.6982 - val_accuracy: 0.0000e+00\n",
      "Epoch 28/100\n",
      "4/4 [==============================] - 0s 32ms/step - loss: 0.6814 - accuracy: 0.0000e+00 - val_loss: 0.6982 - val_accuracy: 0.0000e+00\n",
      "Epoch 29/100\n",
      "4/4 [==============================] - 0s 32ms/step - loss: 0.6814 - accuracy: 0.0000e+00 - val_loss: 0.6970 - val_accuracy: 0.0000e+00\n",
      "Epoch 30/100\n",
      "4/4 [==============================] - 0s 32ms/step - loss: 0.6801 - accuracy: 0.0000e+00 - val_loss: 0.6970 - val_accuracy: 0.0000e+00\n",
      "Epoch 31/100\n",
      "4/4 [==============================] - 0s 37ms/step - loss: 0.6808 - accuracy: 0.0000e+00 - val_loss: 0.6964 - val_accuracy: 0.0000e+00\n",
      "Epoch 32/100\n",
      "4/4 [==============================] - 0s 40ms/step - loss: 0.6798 - accuracy: 0.0000e+00 - val_loss: 0.6970 - val_accuracy: 0.0000e+00\n",
      "Epoch 33/100\n",
      "4/4 [==============================] - 0s 32ms/step - loss: 0.6785 - accuracy: 0.0000e+00 - val_loss: 0.6985 - val_accuracy: 0.0000e+00\n",
      "Epoch 34/100\n",
      "4/4 [==============================] - 0s 36ms/step - loss: 0.6796 - accuracy: 0.0000e+00 - val_loss: 0.7014 - val_accuracy: 0.0000e+00\n",
      "Epoch 35/100\n",
      "4/4 [==============================] - 0s 28ms/step - loss: 0.6801 - accuracy: 0.0000e+00 - val_loss: 0.7039 - val_accuracy: 0.0000e+00\n",
      "Epoch 36/100\n",
      "4/4 [==============================] - 0s 31ms/step - loss: 0.6812 - accuracy: 0.0000e+00 - val_loss: 0.7051 - val_accuracy: 0.0000e+00\n",
      "Epoch 37/100\n",
      "4/4 [==============================] - 0s 28ms/step - loss: 0.6813 - accuracy: 0.0000e+00 - val_loss: 0.7045 - val_accuracy: 0.0000e+00\n",
      "Epoch 38/100\n",
      "4/4 [==============================] - 0s 30ms/step - loss: 0.6802 - accuracy: 0.0000e+00 - val_loss: 0.7009 - val_accuracy: 0.0000e+00\n",
      "Epoch 39/100\n",
      "4/4 [==============================] - 0s 27ms/step - loss: 0.6774 - accuracy: 0.0000e+00 - val_loss: 0.6991 - val_accuracy: 0.0000e+00\n",
      "Epoch 40/100\n",
      "4/4 [==============================] - 0s 32ms/step - loss: 0.6786 - accuracy: 0.0000e+00 - val_loss: 0.6987 - val_accuracy: 0.0000e+00\n",
      "Epoch 41/100\n",
      "4/4 [==============================] - 0s 27ms/step - loss: 0.6776 - accuracy: 0.0000e+00 - val_loss: 0.6989 - val_accuracy: 0.0000e+00\n",
      "Epoch 42/100\n",
      "4/4 [==============================] - 0s 33ms/step - loss: 0.6782 - accuracy: 0.0000e+00 - val_loss: 0.6992 - val_accuracy: 0.0000e+00\n",
      "Epoch 43/100\n",
      "4/4 [==============================] - 0s 29ms/step - loss: 0.6774 - accuracy: 0.0000e+00 - val_loss: 0.6993 - val_accuracy: 0.0000e+00\n",
      "Epoch 44/100\n",
      "4/4 [==============================] - 0s 28ms/step - loss: 0.6761 - accuracy: 0.0000e+00 - val_loss: 0.6995 - val_accuracy: 0.0000e+00\n",
      "Epoch 45/100\n",
      "4/4 [==============================] - 0s 27ms/step - loss: 0.6753 - accuracy: 0.0000e+00 - val_loss: 0.6999 - val_accuracy: 0.0000e+00\n",
      "Epoch 46/100\n",
      "4/4 [==============================] - 0s 30ms/step - loss: 0.6749 - accuracy: 0.0000e+00 - val_loss: 0.7009 - val_accuracy: 0.0000e+00\n",
      "Epoch 47/100\n",
      "4/4 [==============================] - 0s 32ms/step - loss: 0.6745 - accuracy: 0.0000e+00 - val_loss: 0.7014 - val_accuracy: 0.0000e+00\n",
      "Epoch 48/100\n",
      "4/4 [==============================] - 0s 25ms/step - loss: 0.6745 - accuracy: 0.0000e+00 - val_loss: 0.7022 - val_accuracy: 0.0000e+00\n",
      "Epoch 49/100\n",
      "4/4 [==============================] - 0s 29ms/step - loss: 0.6739 - accuracy: 0.0000e+00 - val_loss: 0.7027 - val_accuracy: 0.0000e+00\n",
      "Epoch 50/100\n",
      "4/4 [==============================] - 0s 30ms/step - loss: 0.6736 - accuracy: 0.0000e+00 - val_loss: 0.7030 - val_accuracy: 0.0000e+00\n",
      "Epoch 51/100\n",
      "4/4 [==============================] - 0s 31ms/step - loss: 0.6732 - accuracy: 0.0000e+00 - val_loss: 0.7035 - val_accuracy: 0.0000e+00\n",
      "Epoch 52/100\n",
      "4/4 [==============================] - 0s 28ms/step - loss: 0.6734 - accuracy: 0.0000e+00 - val_loss: 0.7055 - val_accuracy: 0.0000e+00\n",
      "Epoch 53/100\n",
      "4/4 [==============================] - 0s 31ms/step - loss: 0.6723 - accuracy: 0.0000e+00 - val_loss: 0.7048 - val_accuracy: 0.0000e+00\n",
      "Epoch 54/100\n",
      "4/4 [==============================] - 0s 38ms/step - loss: 0.6717 - accuracy: 0.0000e+00 - val_loss: 0.7045 - val_accuracy: 0.0000e+00\n",
      "Epoch 55/100\n",
      "4/4 [==============================] - 0s 35ms/step - loss: 0.6710 - accuracy: 0.0000e+00 - val_loss: 0.7053 - val_accuracy: 0.0000e+00\n",
      "Epoch 56/100\n"
     ]
    },
    {
     "name": "stdout",
     "output_type": "stream",
     "text": [
      "4/4 [==============================] - 0s 27ms/step - loss: 0.6707 - accuracy: 0.0000e+00 - val_loss: 0.7053 - val_accuracy: 0.0000e+00\n",
      "Epoch 57/100\n",
      "4/4 [==============================] - 0s 30ms/step - loss: 0.6701 - accuracy: 0.0000e+00 - val_loss: 0.7049 - val_accuracy: 0.0000e+00\n",
      "Epoch 58/100\n",
      "4/4 [==============================] - 0s 26ms/step - loss: 0.6703 - accuracy: 0.0000e+00 - val_loss: 0.7044 - val_accuracy: 0.0000e+00\n",
      "Epoch 59/100\n",
      "4/4 [==============================] - 0s 28ms/step - loss: 0.6709 - accuracy: 0.0000e+00 - val_loss: 0.7043 - val_accuracy: 0.0000e+00\n",
      "Epoch 60/100\n",
      "4/4 [==============================] - 0s 27ms/step - loss: 0.6709 - accuracy: 0.0000e+00 - val_loss: 0.7042 - val_accuracy: 0.0000e+00\n",
      "Epoch 61/100\n",
      "4/4 [==============================] - 0s 49ms/step - loss: 0.6699 - accuracy: 0.0000e+00 - val_loss: 0.7047 - val_accuracy: 0.0000e+00\n",
      "Epoch 62/100\n",
      "4/4 [==============================] - 0s 24ms/step - loss: 0.6689 - accuracy: 0.0000e+00 - val_loss: 0.7057 - val_accuracy: 0.0000e+00\n",
      "Epoch 63/100\n",
      "4/4 [==============================] - 0s 26ms/step - loss: 0.6680 - accuracy: 0.0000e+00 - val_loss: 0.7069 - val_accuracy: 0.0000e+00\n",
      "Epoch 64/100\n",
      "4/4 [==============================] - 0s 29ms/step - loss: 0.6679 - accuracy: 0.0000e+00 - val_loss: 0.7083 - val_accuracy: 0.0000e+00\n",
      "Epoch 65/100\n",
      "4/4 [==============================] - 0s 28ms/step - loss: 0.6680 - accuracy: 0.0000e+00 - val_loss: 0.7103 - val_accuracy: 0.0000e+00\n",
      "Epoch 66/100\n",
      "4/4 [==============================] - 0s 29ms/step - loss: 0.6680 - accuracy: 0.0000e+00 - val_loss: 0.7117 - val_accuracy: 0.0000e+00\n",
      "Epoch 67/100\n",
      "4/4 [==============================] - 0s 29ms/step - loss: 0.6676 - accuracy: 0.0000e+00 - val_loss: 0.7103 - val_accuracy: 0.0000e+00\n",
      "Epoch 68/100\n",
      "4/4 [==============================] - 0s 28ms/step - loss: 0.6667 - accuracy: 0.0000e+00 - val_loss: 0.7089 - val_accuracy: 0.0000e+00\n",
      "Epoch 69/100\n",
      "4/4 [==============================] - 0s 46ms/step - loss: 0.6663 - accuracy: 0.0000e+00 - val_loss: 0.7092 - val_accuracy: 0.0000e+00\n",
      "Epoch 70/100\n",
      "4/4 [==============================] - 0s 37ms/step - loss: 0.6658 - accuracy: 0.0000e+00 - val_loss: 0.7093 - val_accuracy: 0.0000e+00\n",
      "Epoch 71/100\n",
      "4/4 [==============================] - 0s 32ms/step - loss: 0.6656 - accuracy: 0.0000e+00 - val_loss: 0.7093 - val_accuracy: 0.0000e+00\n",
      "Epoch 72/100\n",
      "4/4 [==============================] - 0s 48ms/step - loss: 0.6654 - accuracy: 0.0000e+00 - val_loss: 0.7090 - val_accuracy: 0.0000e+00\n",
      "Epoch 73/100\n",
      "4/4 [==============================] - 0s 30ms/step - loss: 0.6644 - accuracy: 0.0000e+00 - val_loss: 0.7069 - val_accuracy: 0.0000e+00\n",
      "Epoch 74/100\n",
      "4/4 [==============================] - 0s 27ms/step - loss: 0.6657 - accuracy: 0.0000e+00 - val_loss: 0.7059 - val_accuracy: 0.0000e+00\n",
      "Epoch 75/100\n",
      "4/4 [==============================] - 0s 30ms/step - loss: 0.6658 - accuracy: 0.0000e+00 - val_loss: 0.7059 - val_accuracy: 0.0000e+00\n",
      "Epoch 76/100\n",
      "4/4 [==============================] - 0s 28ms/step - loss: 0.6654 - accuracy: 0.0000e+00 - val_loss: 0.7065 - val_accuracy: 0.0000e+00\n",
      "Epoch 77/100\n",
      "4/4 [==============================] - 0s 29ms/step - loss: 0.6646 - accuracy: 0.0000e+00 - val_loss: 0.7073 - val_accuracy: 0.0000e+00\n",
      "Epoch 78/100\n",
      "4/4 [==============================] - 0s 38ms/step - loss: 0.6632 - accuracy: 0.0000e+00 - val_loss: 0.7100 - val_accuracy: 0.0000e+00\n",
      "Epoch 79/100\n",
      "4/4 [==============================] - 0s 38ms/step - loss: 0.6646 - accuracy: 0.0000e+00 - val_loss: 0.7124 - val_accuracy: 0.0000e+00\n",
      "Epoch 80/100\n",
      "4/4 [==============================] - 0s 35ms/step - loss: 0.6645 - accuracy: 0.0000e+00 - val_loss: 0.7102 - val_accuracy: 0.0000e+00\n",
      "Epoch 81/100\n",
      "4/4 [==============================] - 0s 30ms/step - loss: 0.6637 - accuracy: 0.0000e+00 - val_loss: 0.7092 - val_accuracy: 0.0000e+00\n",
      "Epoch 82/100\n",
      "4/4 [==============================] - 0s 33ms/step - loss: 0.6633 - accuracy: 0.0000e+00 - val_loss: 0.7082 - val_accuracy: 0.0000e+00\n",
      "Epoch 83/100\n",
      "4/4 [==============================] - 0s 34ms/step - loss: 0.6630 - accuracy: 0.0000e+00 - val_loss: 0.7075 - val_accuracy: 0.0000e+00\n",
      "Epoch 84/100\n",
      "4/4 [==============================] - 0s 33ms/step - loss: 0.6629 - accuracy: 0.0000e+00 - val_loss: 0.7076 - val_accuracy: 0.0000e+00\n",
      "Epoch 85/100\n",
      "4/4 [==============================] - 0s 36ms/step - loss: 0.6619 - accuracy: 0.0000e+00 - val_loss: 0.7079 - val_accuracy: 0.0000e+00\n",
      "Epoch 86/100\n",
      "4/4 [==============================] - 0s 45ms/step - loss: 0.6614 - accuracy: 0.0000e+00 - val_loss: 0.7088 - val_accuracy: 0.0000e+00\n",
      "Epoch 87/100\n",
      "4/4 [==============================] - 0s 35ms/step - loss: 0.6614 - accuracy: 0.0000e+00 - val_loss: 0.7104 - val_accuracy: 0.0000e+00\n",
      "Epoch 88/100\n",
      "4/4 [==============================] - 0s 50ms/step - loss: 0.6617 - accuracy: 0.0000e+00 - val_loss: 0.7114 - val_accuracy: 0.0000e+00\n",
      "Epoch 89/100\n",
      "4/4 [==============================] - 0s 40ms/step - loss: 0.6618 - accuracy: 0.0000e+00 - val_loss: 0.7114 - val_accuracy: 0.0000e+00\n",
      "Epoch 90/100\n",
      "4/4 [==============================] - 0s 34ms/step - loss: 0.6609 - accuracy: 0.0000e+00 - val_loss: 0.7115 - val_accuracy: 0.0000e+00\n",
      "Epoch 91/100\n",
      "4/4 [==============================] - 0s 44ms/step - loss: 0.6602 - accuracy: 0.0000e+00 - val_loss: 0.7101 - val_accuracy: 0.0000e+00\n",
      "Epoch 92/100\n",
      "4/4 [==============================] - 0s 50ms/step - loss: 0.6598 - accuracy: 0.0000e+00 - val_loss: 0.7092 - val_accuracy: 0.0000e+00\n",
      "Epoch 93/100\n",
      "4/4 [==============================] - 0s 57ms/step - loss: 0.6589 - accuracy: 0.0000e+00 - val_loss: 0.7083 - val_accuracy: 0.0000e+00\n",
      "Epoch 94/100\n",
      "4/4 [==============================] - 0s 44ms/step - loss: 0.6611 - accuracy: 0.0000e+00 - val_loss: 0.7086 - val_accuracy: 0.0000e+00\n",
      "Epoch 95/100\n",
      "4/4 [==============================] - 0s 38ms/step - loss: 0.6623 - accuracy: 0.0000e+00 - val_loss: 0.7087 - val_accuracy: 0.0000e+00\n",
      "Epoch 96/100\n",
      "4/4 [==============================] - 0s 38ms/step - loss: 0.6606 - accuracy: 0.0000e+00 - val_loss: 0.7089 - val_accuracy: 0.0000e+00\n",
      "Epoch 97/100\n",
      "4/4 [==============================] - 0s 41ms/step - loss: 0.6589 - accuracy: 0.0000e+00 - val_loss: 0.7091 - val_accuracy: 0.0000e+00\n",
      "Epoch 98/100\n",
      "4/4 [==============================] - 0s 29ms/step - loss: 0.6586 - accuracy: 0.0000e+00 - val_loss: 0.7100 - val_accuracy: 0.0000e+00\n",
      "Epoch 99/100\n",
      "4/4 [==============================] - 0s 36ms/step - loss: 0.6577 - accuracy: 0.0000e+00 - val_loss: 0.7109 - val_accuracy: 0.0000e+00\n",
      "Epoch 100/100\n",
      "4/4 [==============================] - 0s 38ms/step - loss: 0.6579 - accuracy: 0.0000e+00 - val_loss: 0.7123 - val_accuracy: 0.0000e+00\n"
     ]
    },
    {
     "data": {
      "text/plain": [
       "<keras.callbacks.History at 0x1fe0af873a0>"
      ]
     },
     "execution_count": 9,
     "metadata": {},
     "output_type": "execute_result"
    }
   ],
   "source": [
    "from keras.layers import Input, Dense\n",
    "from keras.models import Model\n",
    "\n",
    "X_train = np.random.rand(100,5)\n",
    "\n",
    "# generate random output data\n",
    "y_train = np.random.rand(100, 1)\n",
    "\n",
    "\n",
    "# generate random input data\n",
    "X_val = np.random.rand(100,5)\n",
    "# generate random output data\n",
    "y_val = np.random.rand(100, 1)\n",
    "\n",
    "\n",
    "input_layer = Input(shape=(5,)) #number of node == 1st element of shape== colloumn\n",
    "hidden_layer = Dense(50, activation='relu')(input_layer)\n",
    "hidden_layer = Dense(50, activation='relu')(hidden_layer)\n",
    "output_layer = Dense(1, activation='sigmoid')(hidden_layer)\n",
    "model = Model(inputs=input_layer, outputs=output_layer)\n",
    "model.compile(optimizer='adam', loss='binary_crossentropy', metrics=['accuracy'])\n",
    "\n",
    "\n",
    "model.fit(X_train, y_train, epochs=100, batch_size=32, validation_data=(X_val, y_val))"
   ]
  },
  {
   "cell_type": "code",
   "execution_count": 11,
   "id": "0f4ad877",
   "metadata": {},
   "outputs": [
    {
     "name": "stdout",
     "output_type": "stream",
     "text": [
      "4/4 [==============================] - 0s 7ms/step - loss: 0.7016 - accuracy: 0.0000e+00\n"
     ]
    }
   ],
   "source": [
    "# Test the model\n",
    "test_data = np.random.rand(100,5)\n",
    "test_labels = np.random.rand(100, 1)\n",
    "score = model.evaluate(test_data, test_labels)"
   ]
  },
  {
   "cell_type": "markdown",
   "id": "58bbf0fa",
   "metadata": {},
   "source": [
    "A dense layer with 10\n",
    "units means that the layer has 32 neurons, also known as nodes or units. Each of these neurons is fully connected to the neurons in the previous layer (or input data, if this is the first layer), and the output of each neuron is calculated as a weighted sum of the inputs, followed by an activation function."
   ]
  },
  {
   "cell_type": "markdown",
   "id": "fb119004",
   "metadata": {},
   "source": [
    "### Convolutional layer"
   ]
  },
  {
   "cell_type": "markdown",
   "id": "21647ab4",
   "metadata": {},
   "source": [
    "The convolution operation involves sliding a small filter, also known as a kernel or weight matrix, over the input image and computing a dot product between the filter and the corresponding patch of pixels. The result is a new matrix, called a feature map, that highlights the presence of certain patterns or structures in the input image."
   ]
  },
  {
   "cell_type": "markdown",
   "id": "50265530",
   "metadata": {},
   "source": [
    "Convolutional layers are often followed by pooling layers, which downsample the feature maps by either taking the maximum or average value over a local region. This reduces the size of the feature maps while retaining the most important information."
   ]
  },
  {
   "cell_type": "markdown",
   "id": "dd454c71",
   "metadata": {},
   "source": [
    "#### OParations of CNN"
   ]
  },
  {
   "cell_type": "markdown",
   "id": "408e1d29",
   "metadata": {},
   "source": [
    "Convolutional Layer: The input data, typically an image, is fed into the first convolutional layer. The convolutional layer applies a set of learnable filters (also called kernels) to the input data, performing a convolution operation. The output of the convolutional layer is a set of feature maps that capture different aspects of the input data."
   ]
  },
  {
   "cell_type": "markdown",
   "id": "e56eb924",
   "metadata": {},
   "source": [
    "Activation Function: Each element of the feature maps is then passed through a non-linear activation function, such as ReLU, to introduce non-linearity into the network."
   ]
  },
  {
   "cell_type": "markdown",
   "id": "e9d3edfa",
   "metadata": {},
   "source": [
    "Pooling Layer: The output of the activation function is then typically passed through a pooling layer, which reduces the spatial dimensions of the feature maps while retaining the most important information. Common pooling operations include max pooling and average pooling."
   ]
  },
  {
   "cell_type": "markdown",
   "id": "94ff8c64",
   "metadata": {},
   "source": [
    "In a CNN built using Keras, a pooling layer can be added to the model using the MaxPooling2D or AveragePooling2D layer classes."
   ]
  },
  {
   "cell_type": "markdown",
   "id": "092cefb2",
   "metadata": {},
   "source": [
    "The pool_size argument specifies the size of the pooling window as a tuple of two integers. In this case, the window is 2x2, meaning that the pooling operation is performed over non-overlapping 2x2 regions of the feature map. The MaxPooling2D layer computes the maximum value within each pooling window and passes it to the next layer in the model."
   ]
  },
  {
   "cell_type": "markdown",
   "id": "6e079faa",
   "metadata": {},
   "source": [
    "The pooling kernel/filter is a small matrix that is used to downsample the feature map produced by the previous convolutional layer. The filter is applied to the feature map in a sliding window manner, where the filter is moved across the input with a specific stride and a pooling operation is applied at each window location."
   ]
  },
  {
   "cell_type": "markdown",
   "id": "f62092eb",
   "metadata": {},
   "source": [
    "Downsampling can also refer to other techniques used to reduce the size of data, such as subsampling, decimation, or compression. In the context of CNNs, however, downsampling usually refers specifically to the process of reducing the spatial dimensionality of the feature maps."
   ]
  },
  {
   "cell_type": "markdown",
   "id": "5336363f",
   "metadata": {},
   "source": [
    " downsampling is an important technique in CNNs for reducing the computational cost and memory requirements of the model, while preserving the most important features in the data."
   ]
  },
  {
   "cell_type": "markdown",
   "id": "70e4a57b",
   "metadata": {},
   "source": [
    "a color image with dimensions 224x224 pixels and 3 color channels (red, green, and blue) would be represented as a 3-dimensional array with shape (224, 224, 3). The first two dimensions represent the height and width of the image, and the third dimension represents the color channels."
   ]
  },
  {
   "cell_type": "markdown",
   "id": "68f1baaf",
   "metadata": {},
   "source": [
    "#####  learnable filters"
   ]
  },
  {
   "cell_type": "markdown",
   "id": "24105c48",
   "metadata": {},
   "source": [
    "A filter is a small matrix of numbers that is convolved with the input data to produce a feature map. For example, a 3x3 filter can be used to extract edges or corners from an image, while a larger 5x5 filter can capture more complex features such as textures or shapes."
   ]
  },
  {
   "cell_type": "code",
   "execution_count": 8,
   "id": "d7b3d3ca",
   "metadata": {},
   "outputs": [
    {
     "name": "stdout",
     "output_type": "stream",
     "text": [
      "Model: \"sequential_6\"\n",
      "_________________________________________________________________\n",
      " Layer (type)                Output Shape              Param #   \n",
      "=================================================================\n",
      " conv2d_7 (Conv2D)           (None, 222, 222, 16)      448       \n",
      "                                                                 \n",
      " conv2d_8 (Conv2D)           (None, 220, 220, 16)      2320      \n",
      "                                                                 \n",
      " conv2d_9 (Conv2D)           (None, 218, 218, 16)      2320      \n",
      "                                                                 \n",
      " conv2d_10 (Conv2D)          (None, 216, 216, 16)      2320      \n",
      "                                                                 \n",
      " max_pooling2d (MaxPooling2D  (None, 108, 108, 16)     0         \n",
      " )                                                               \n",
      "                                                                 \n",
      "=================================================================\n",
      "Total params: 7,408\n",
      "Trainable params: 7,408\n",
      "Non-trainable params: 0\n",
      "_________________________________________________________________\n"
     ]
    }
   ],
   "source": [
    "from keras.models import Sequential\n",
    "from keras.layers import InputLayer, Conv2D , MaxPooling2D\n",
    "\n",
    "# Define the input shape of the image\n",
    "input_shape = (224, 224, 3)  # height, width, color channels\n",
    "\n",
    "# Create a Sequential model\n",
    "model = Sequential()\n",
    "\n",
    "# Add an input layer to the model\n",
    "model.add(InputLayer(input_shape=input_shape))\n",
    "\n",
    "# Add a convolutional layer to the model with ReLU activation\n",
    "model.add(Conv2D(filters=16, kernel_size=(3, 3), activation='relu'))\n",
    "# Example with sigmoid activation\n",
    "model.add(Conv2D(filters=16, kernel_size=(3, 3), activation='sigmoid'))\n",
    "\n",
    "# Example with tanh activation\n",
    "model.add(Conv2D(filters=16, kernel_size=(3, 3), activation='tanh'))\n",
    "\n",
    "# Example with softmax activation\n",
    "model.add(Conv2D(filters=16, kernel_size=(3, 3), activation='softmax'))\n",
    "\n",
    "# Add a max pooling layer to the model\n",
    "model.add(MaxPooling2D(pool_size=(2, 2)))\n",
    "\n",
    "# Print the model summary\n",
    "model.summary()"
   ]
  },
  {
   "cell_type": "markdown",
   "id": "64aafe74",
   "metadata": {},
   "source": [
    "#### Model description"
   ]
  },
  {
   "cell_type": "markdown",
   "id": "d624b552",
   "metadata": {},
   "source": [
    "#### Input Layers"
   ]
  },
  {
   "cell_type": "markdown",
   "id": "9c804583",
   "metadata": {},
   "source": [
    "filters=16: the number of filters to use in the layer. In this case, the layer will learn 16 filters, each of which will extract a different set of features from the input image."
   ]
  },
  {
   "cell_type": "markdown",
   "id": "bdfc097d",
   "metadata": {},
   "source": [
    "kernel_size=(3, 3): the size of the filters, specified as a tuple of two integers. In this case, the filters will be 3x3 in size."
   ]
  },
  {
   "cell_type": "markdown",
   "id": "fdac194b",
   "metadata": {},
   "source": [
    "activation='relu': the activation function to use after applying the filters. In this case, the Rectified Linear Unit (ReLU) function will be used, which has been shown to be effective in deep learning models."
   ]
  },
  {
   "cell_type": "markdown",
   "id": "21ec09b3",
   "metadata": {},
   "source": [
    "input_shape=input_shape: the shape of the input data, specified as a tuple of three integers. In this case, the input data is expected to have a height and width of 224 pixels, and 3 color channels (red, green, and blue)."
   ]
  },
  {
   "cell_type": "markdown",
   "id": "0a7c3b2b",
   "metadata": {},
   "source": [
    "Activation Function: Each element of the feature maps is then passed through a non-linear activation function, such as ReLU, to introduce non-linearity into the network.\n",
    "\n"
   ]
  },
  {
   "cell_type": "markdown",
   "id": "c7ea7633",
   "metadata": {},
   "source": [
    "Repeat Steps 1-3: The output of the pooling layer is then passed into another convolutional layer, followed by another activation function and pooling layer. This process is repeated for several layers, allowing the network to learn increasingly complex features."
   ]
  },
  {
   "cell_type": "markdown",
   "id": "4817758a",
   "metadata": {},
   "source": [
    "Fully Connected Layer: Once the feature maps have been extracted, they are flattened and passed through one or more fully connected layers, which perform a traditional neural network operation. The output of the final fully connected layer is the network's prediction for the input data."
   ]
  },
  {
   "cell_type": "markdown",
   "id": "b777461e",
   "metadata": {},
   "source": [
    "Loss Function: The output of the network is compared to the true label using a loss function, such as cross-entropy loss. The goal of training the network is to minimize this loss function by adjusting the learnable parameters in the network, such as the filter weights."
   ]
  },
  {
   "cell_type": "markdown",
   "id": "8997518b",
   "metadata": {},
   "source": [
    "Optimization: The parameters of the network are updated using an optimization algorithm, such as stochastic gradient descent (SGD), to minimize the loss function. The process of updating the parameters is typically done using backpropagation, which computes the gradient of the loss with respect to each parameter in the network."
   ]
  },
  {
   "cell_type": "markdown",
   "id": "1ef323f5",
   "metadata": {},
   "source": [
    "#### complete CNN project in python"
   ]
  },
  {
   "cell_type": "markdown",
   "id": "2fa35404",
   "metadata": {},
   "source": [
    "Data preparation:\n",
    "\n",
    "Load and preprocess the image data using libraries such as NumPy, Pandas, and OpenCV.\n",
    "\n",
    "Split the data into training, validation, and testing sets.\n",
    "\n",
    "Apply data augmentation techniques to increase the size of the training dataset.\n"
   ]
  },
  {
   "cell_type": "code",
   "execution_count": null,
   "id": "4e02583a",
   "metadata": {},
   "outputs": [],
   "source": []
  },
  {
   "cell_type": "markdown",
   "id": "542c6ffc",
   "metadata": {},
   "source": [
    "Model architecture definition:\n",
    "\n",
    "Define the architecture of the CNN using Keras or TensorFlow libraries.\n",
    "\n",
    "Add multiple convolutional and pooling layers to extract features from the input images.\n",
    "\n",
    "Flatten the output of the last convolutional layer to pass it to the fully connected layers.\n",
    "\n",
    "Add fully connected layers and an output layer with the appropriate number of neurons for the given task.\n",
    "\n",
    "Specify the loss function, optimizer, and evaluation metrics to use during training.\n"
   ]
  },
  {
   "cell_type": "code",
   "execution_count": null,
   "id": "56d63e2b",
   "metadata": {},
   "outputs": [],
   "source": [
    "from keras.models import Sequential\n",
    "from keras.layers import Conv2D, MaxPooling2D, Flatten, Dense\n",
    "\n",
    "# Define the architecture of the CNN\n",
    "model = Sequential()\n",
    "model.add(Conv2D(32, (3, 3), activation='relu', input_shape=(64, 64, 3)))\n",
    "#32: The number of output filters in the convolution. This means that the layer will learn 32 different feature maps or filters.\n",
    "#(3, 3): The size of the convolutional kernel or filter. In this case, the kernel size is 3x3.\n",
    "#activation='relu': The activation function to apply to the output of the convolutional layer. In this case, Rectified Linear Unit (ReLU) activation function is used.\n",
    "#input_shape=(64, 64, 3): The shape of the input data. This is a 3D tensor with a shape of (64, 64, 3), which corresponds to a 64x64 RGB image. The 3 in the end represents the number of color channels in the image, i.e., Red, Green and Blue.\n",
    "\"\"\"(64, 64, 3) is a shape tuple used to represent the dimensions of a \n",
    "3-channel image or a 3-dimensional array with 64 rows, 64 columns, and 3 color channels (Red, Green, and Blue). \n",
    "The first two dimensions represent the height and width of the image or array, and the third dimension represents the number of channels. In this case, since there are 3 channels, the shape tuple has a length of 3.\"\"\"\n",
    "\n",
    "model.add(MaxPooling2D((2, 2)))\n",
    "\"\"\"The MaxPooling2D layer can help to reduce the dimensionality of \n",
    "the feature maps and extract the most relevant information from the input images,\"\"\"\n",
    "model.add(Conv2D(64, (3, 3), activation='relu'))\n",
    "model.add(MaxPooling2D((2, 2)))\n",
    "model.add(Conv2D(128, (3, 3), activation='relu'))\n",
    "model.add(MaxPooling2D((2, 2)))\n",
    "model.add(Flatten())\n",
    "model.add(Dense(128, activation='relu'))\n",
    "model.add(Dense(1, activation='sigmoid'))\n",
    "\n",
    "# Compile the model\n",
    "model.compile(optimizer='adam', loss='binary_crossentropy', metrics=['accuracy'])"
   ]
  },
  {
   "cell_type": "code",
   "execution_count": null,
   "id": "dc0f65d5",
   "metadata": {},
   "outputs": [],
   "source": []
  },
  {
   "cell_type": "markdown",
   "id": "1b964237",
   "metadata": {},
   "source": [
    "Model training and evaluation:\n",
    "\n",
    "Train the model using the training dataset and the defined architecture.\n",
    "\n",
    "Monitor the training progress and tune the hyperparameters as necessary.\n",
    "\n",
    "Evaluate the model using the validation dataset and check for overfitting.\n",
    "\n",
    "Fine-tune the model based on the evaluation results."
   ]
  },
  {
   "cell_type": "code",
   "execution_count": null,
   "id": "72874d63",
   "metadata": {},
   "outputs": [],
   "source": [
    "# Compile the model\n",
    "model.compile(loss='categorical_crossentropy', optimizer='adam', metrics=['accuracy'])\n",
    "\n",
    "# Train the model\n",
    "model.fit(X_train, y_train, batch_size=64, epochs=10, validation_data=(X_test, y_test), verbose=1)"
   ]
  },
  {
   "cell_type": "markdown",
   "id": "7cdcbbbd",
   "metadata": {},
   "source": [
    "Prediction:\n",
    "\n",
    "Use the trained model to make predictions on new data.\n",
    "\n",
    "Preprocess the new data in the same way as the training data.\n",
    "\n",
    "Use the predict method in Keras or TensorFlow to get the predicted labels or probabilities for the new data."
   ]
  },
  {
   "cell_type": "code",
   "execution_count": null,
   "id": "5c78801c",
   "metadata": {},
   "outputs": [],
   "source": [
    "# Evaluate the model on the test data\n",
    "scores = model.evaluate(X_test, y_test, verbose=1)\n",
    "print(\"Accuracy: %.2f%%\" % (scores[1]*100))"
   ]
  },
  {
   "cell_type": "markdown",
   "id": "47f42c0b",
   "metadata": {},
   "source": [
    "Optimizers are algorithms used to update the parameters of a neural network during training in order to minimize the loss function. Keras provides several built-in optimizers that you can use to train your neural network models. Here are some of the commonly used optimizers in Keras:\n",
    "\n",
    "SGD (Stochastic Gradient Descent): This is a simple optimizer that updates the parameters in the direction of the negative gradient of the loss function. It is computationally efficient and easy to implement, but can be slow to converge and can get stuck in local minima.\n",
    "\n",
    "Adam (Adaptive Moment Estimation): This is an adaptive learning rate optimizer that combines the benefits of both Adagrad and RMSProp. It is computationally efficient, easy to implement, and works well in practice.\n",
    "\n",
    "RMSprop (Root Mean Square Propagation): This is an adaptive learning rate optimizer that divides the learning rate by a running average of the magnitudes of recent gradients. It helps to prevent the learning rate from decreasing too quickly and getting stuck in local minima.\n",
    "\n",
    "Adagrad (Adaptive Gradient Algorithm): This is an adaptive learning rate optimizer that updates the learning rate for each parameter based on the magnitude of the gradients. It works well for sparse data and can handle non-stationary objectives.\n",
    "\n",
    "Adadelta (Adaptive Delta): This is an extension of Adagrad that seeks to reduce its aggressive and monotonically decreasing learning rate. It uses a moving window of the root mean squared gradients to adaptively adjust the learning rate."
   ]
  },
  {
   "cell_type": "code",
   "execution_count": null,
   "id": "5b4b9d73",
   "metadata": {},
   "outputs": [],
   "source": [
    "\n"
   ]
  },
  {
   "cell_type": "code",
   "execution_count": 1,
   "id": "72178111",
   "metadata": {},
   "outputs": [
    {
     "name": "stdout",
     "output_type": "stream",
     "text": [
      "Epoch 1/10\n",
      "4/4 [==============================] - 4s 36ms/step - loss: 0.6912 - accuracy: 0.5800\n",
      "Epoch 2/10\n",
      "4/4 [==============================] - 0s 5ms/step - loss: 0.6880 - accuracy: 0.5800\n",
      "Epoch 3/10\n",
      "4/4 [==============================] - 0s 6ms/step - loss: 0.6864 - accuracy: 0.6200\n",
      "Epoch 4/10\n",
      "4/4 [==============================] - 0s 6ms/step - loss: 0.6850 - accuracy: 0.6200\n",
      "Epoch 5/10\n",
      "4/4 [==============================] - 0s 7ms/step - loss: 0.6835 - accuracy: 0.6100\n",
      "Epoch 6/10\n",
      "4/4 [==============================] - 0s 5ms/step - loss: 0.6823 - accuracy: 0.6000\n",
      "Epoch 7/10\n",
      "4/4 [==============================] - 0s 5ms/step - loss: 0.6816 - accuracy: 0.6000\n",
      "Epoch 8/10\n",
      "4/4 [==============================] - 0s 5ms/step - loss: 0.6808 - accuracy: 0.6100\n",
      "Epoch 9/10\n",
      "4/4 [==============================] - 0s 5ms/step - loss: 0.6801 - accuracy: 0.6000\n",
      "Epoch 10/10\n",
      "4/4 [==============================] - 0s 6ms/step - loss: 0.6793 - accuracy: 0.6000\n"
     ]
    },
    {
     "data": {
      "text/plain": [
       "<keras.callbacks.History at 0x2b27da6e6e0>"
      ]
     },
     "execution_count": 1,
     "metadata": {},
     "output_type": "execute_result"
    }
   ],
   "source": [
    "import numpy as np\n",
    "from keras.models import Model\n",
    "from keras.layers import Input, Dense\n",
    "\n",
    "# Generate some random input data\n",
    "input_data = np.random.rand(100, 10)\n",
    "\n",
    "# Define the input layer\n",
    "inputs = Input(shape=(10,))\n",
    "\n",
    "# Define the first hidden layer\n",
    "x = Dense(32, activation='relu')(inputs)\n",
    "\n",
    "# Define the second hidden layer\n",
    "x = Dense(16, activation='relu')(x)\n",
    "\n",
    "# Define the output layer\n",
    "outputs = Dense(1, activation='sigmoid')(x)\n",
    "\n",
    "# Create the Keras model\n",
    "model = Model(inputs=inputs, outputs=outputs)\n",
    "\n",
    "# Compile the model\n",
    "model.compile(optimizer='adam', loss='binary_crossentropy', metrics=['accuracy'])\n",
    "\n",
    "# Train the model\n",
    "labels = np.random.randint(0, 2, size=(100, 1))\n",
    "model.fit(input_data, labels, epochs=10, batch_size=32)"
   ]
  },
  {
   "cell_type": "code",
   "execution_count": 2,
   "id": "24b90eda",
   "metadata": {},
   "outputs": [
    {
     "name": "stdout",
     "output_type": "stream",
     "text": [
      "1/1 [==============================] - 1s 1s/step - loss: 0.6329 - accuracy: 0.8000\n",
      "Test loss: 0.63291335105896\n"
     ]
    }
   ],
   "source": [
    "# Test the model\n",
    "test_data = np.random.rand(10, 10)\n",
    "test_labels = np.random.randint(0, 2, size=(10, 1))\n",
    "loss, accuracy = model.evaluate(test_data, test_labels)\n",
    "print('Test loss:', loss)"
   ]
  },
  {
   "cell_type": "code",
   "execution_count": 3,
   "id": "34e6a312",
   "metadata": {},
   "outputs": [
    {
     "name": "stdout",
     "output_type": "stream",
     "text": [
      "Test accuracy: 0.800000011920929\n"
     ]
    }
   ],
   "source": [
    "print(f'Test accuracy: {accuracy}')"
   ]
  },
  {
   "cell_type": "markdown",
   "id": "d531a168",
   "metadata": {},
   "source": [
    "There are several types of neural networks, including:\n",
    "\n",
    "Feedforward Neural Networks (FFNN): This is the most basic type of neural network, where data flows only in one direction, from input to output. These networks are used for tasks such as image classification, speech recognition, and language translation.\n",
    "\n",
    "Convolutional Neural Networks (CNN): These networks are commonly used for image recognition tasks. They use convolutional layers to extract features from images.\n",
    "\n",
    "Recurrent Neural Networks (RNN): These networks are used for tasks that involve sequential data, such as time-series analysis and language modeling. They use feedback loops to process and store information from previous time steps.\n",
    "\n",
    "Long Short-Term Memory (LSTM) Networks: These are a type of RNN that are specifically designed to handle long-term dependencies. They are commonly used in natural language processing and speech recognition.\n",
    "\n",
    "Autoencoders: These networks are used for unsupervised learning, where the goal is to learn a compressed representation of the input data. They are commonly used for tasks such as image compression and anomaly detection.\n",
    "\n",
    "Generative Adversarial Networks (GANs): These networks are used for generating new data that is similar to the training data. They consist of a generator network that generates the data, and a discriminator network that tries to distinguish between the generated data and the real data.\n",
    "\n",
    "Reinforcement Learning Networks: These networks are used for teaching agents how to make decisions in a dynamic environment. They receive rewards for making good decisions and punishments for making bad ones."
   ]
  },
  {
   "cell_type": "code",
   "execution_count": null,
   "id": "e84ec13c",
   "metadata": {},
   "outputs": [],
   "source": []
  }
 ],
 "metadata": {
  "kernelspec": {
   "display_name": "Python 3 (ipykernel)",
   "language": "python",
   "name": "python3"
  },
  "language_info": {
   "codemirror_mode": {
    "name": "ipython",
    "version": 3
   },
   "file_extension": ".py",
   "mimetype": "text/x-python",
   "name": "python",
   "nbconvert_exporter": "python",
   "pygments_lexer": "ipython3",
   "version": "3.10.9"
  }
 },
 "nbformat": 4,
 "nbformat_minor": 5
}
