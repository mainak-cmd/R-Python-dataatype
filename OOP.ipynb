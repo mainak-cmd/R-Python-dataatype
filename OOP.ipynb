{
 "cells": [
  {
   "cell_type": "markdown",
   "id": "2bf1a0aa-161c-45a0-936d-2dfe07119111",
   "metadata": {},
   "source": [
    "## OOP"
   ]
  },
  {
   "cell_type": "markdown",
   "id": "43a29bba-dad6-40e1-85aa-c16bfb34636d",
   "metadata": {},
   "source": [
    "OOP, programs are designed as a collection of objects that interact with each other to perform tasks. An object is an instance of a class, which is a blueprint that defines the properties and behaviors of the objects."
   ]
  },
  {
   "cell_type": "markdown",
   "id": "5378d286-39ab-42ac-b028-075e18af9f30",
   "metadata": {},
   "source": [
    "There are typically considered to be four stages of Object-Oriented Programming (OOP) development. These stages are:\n",
    "\n",
    "Analysis: This is the stage where the problem is analyzed and the requirements for the software are gathered. It involves identifying the objects and their interactions that are needed to solve the problem.\n",
    "\n",
    "Design: This is the stage where the analysis is used to create a design for the software. It involves creating a class hierarchy, identifying the relationships between classes, and designing the interfaces for the objects.\n",
    "\n",
    "Implementation: This is the stage where the design is translated into code. It involves writing the code that will create the objects, define their properties and behaviors, and implement their interactions.\n",
    "\n",
    "Testing: This is the stage where the software is tested to ensure that it meets the requirements that were identified in the analysis stage. It involves testing the individual objects as well as the system as a whole."
   ]
  },
  {
   "cell_type": "markdown",
   "id": "f26fdc3c-9f53-40ff-960e-c2e9cb851dbe",
   "metadata": {},
   "source": [
    "### the \"four key principles\" or \"four pillars\" of object-oriented programming (OOP)"
   ]
  },
  {
   "cell_type": "markdown",
   "id": "bf3ae1d3-5296-4b49-ae9d-d9b92c61201d",
   "metadata": {},
   "source": [
    "Encapsulation: This principle emphasizes the importance of data hiding and the protection of the internal state of an object. It involves bundling data and methods that manipulate that data within a single unit, and only exposing an interface to interact with the object."
   ]
  },
  {
   "cell_type": "markdown",
   "id": "cea1eabe-a6db-4603-b992-ae52a48537e8",
   "metadata": {},
   "source": [
    "Abstraction: This principle involves modeling complex real-world systems by identifying the essential characteristics of an object and ignoring the rest. It allows for the creation of simplified models that can be easily understood and manipulated."
   ]
  },
  {
   "cell_type": "markdown",
   "id": "3f82d3ed-98e7-47bd-a7f3-f9936f7441ad",
   "metadata": {},
   "source": [
    "Inheritance: This principle involves creating new classes from existing classes by inheriting their properties and behaviors. It allows for code reuse and the creation of hierarchical relationships between classes."
   ]
  },
  {
   "cell_type": "markdown",
   "id": "6e4ddf94-b41f-49c2-bacb-55b94dc8a5e9",
   "metadata": {},
   "source": [
    "Polymorphism: This principle involves the ability of objects of different classes to be treated as if they were of the same class. It allows for the creation of generic code that can work with objects of different types."
   ]
  },
  {
   "cell_type": "markdown",
   "id": "8fae17a6-a7ca-4e23-baa6-12cbeb3b1d41",
   "metadata": {},
   "source": [
    "#### Encapsulation"
   ]
  },
  {
   "cell_type": "markdown",
   "id": "6ab5d8ae-ae3b-48a0-b517-950600a69eb0",
   "metadata": {},
   "source": [
    "Encapsulation is one of the fundamental principles of Object-Oriented Programming (OOP) that involves the bundling of data and methods that manipulate that data within a single unit."
   ]
  },
  {
   "cell_type": "markdown",
   "id": "6bcf50bc-2803-4469-be5b-117f37908029",
   "metadata": {},
   "source": [
    "#### only exposing an interface to interact with the object."
   ]
  },
  {
   "cell_type": "markdown",
   "id": "4d88e4ac-8520-4d07-b7a2-c01c2a8bd4a9",
   "metadata": {},
   "source": [
    "There are two main types of encapsulation in OOP"
   ]
  },
  {
   "cell_type": "markdown",
   "id": "48099ed4-6c69-465c-8cc3-cebcbdf80421",
   "metadata": {},
   "source": [
    "##### Access Modifiers-based Encapsulation: "
   ]
  },
  {
   "cell_type": "markdown",
   "id": "205c6c88-61c2-4211-ac0f-b253e109448a",
   "metadata": {},
   "source": [
    "This type of encapsulation is based on access modifiers that determine the accessibility of class members (fields, methods, properties, etc.) from outside the class. The most commonly used access modifiers are public, private, and protected. The public members are accessible from anywhere, private members are accessible only within the class, and protected members are accessible within the class and its derived classes."
   ]
  },
  {
   "cell_type": "markdown",
   "id": "d266a669-b2d4-42d4-9910-e5e3a350fbe7",
   "metadata": {},
   "source": [
    " This type of encapsulation involves the bundling of data and methods that manipulate that data within a single unit, and hiding the internal data from the outside world. This means that the data can only be accessed and modified through the methods defined in the class."
   ]
  },
  {
   "cell_type": "markdown",
   "id": "6315b79c-6d23-4ddd-8337-fcbf863adcc4",
   "metadata": {},
   "source": [
    "##### Interface-based Encapsulation:"
   ]
  },
  {
   "cell_type": "markdown",
   "id": "97c92322-4d2f-4279-927d-311b4cb4a88c",
   "metadata": {},
   "source": [
    "This type of encapsulation is based on interfaces, which define a set of methods that a class must implement. By using interfaces, you can hide the implementation details of a class and expose only the necessary methods to the outside world. This type of encapsulation allows you to create more flexible and reusable code, as different classes can implement the same interface and provide different implementations for the same methods."
   ]
  },
  {
   "cell_type": "markdown",
   "id": "37285dad-8912-4a61-a096-1a8b27fd860f",
   "metadata": {},
   "source": [
    "This type of encapsulation involves the bundling of related methods within a single unit, and hiding the details of the implementation from the outside world. This means that the methods can only be called through a defined interface, and the internal implementation is hidden from the user."
   ]
  },
  {
   "cell_type": "markdown",
   "id": "eec1337b-a34a-441b-98a3-752ae0213b19",
   "metadata": {},
   "source": [
    "### Abstraction"
   ]
  },
  {
   "cell_type": "markdown",
   "id": "ca414417-9e67-457b-92a2-a7bc52c32e88",
   "metadata": {},
   "source": [
    "involves simplifying complex systems by breaking them down into smaller, more manageable pieces. This is done by hiding unnecessary details and focusing on the essential features of a system."
   ]
  },
  {
   "cell_type": "markdown",
   "id": "713bbc2a-c005-48b0-ab5a-c88833b1af3d",
   "metadata": {},
   "source": [
    "Data Abstraction: This type of abstraction is concerned with hiding the implementation details of data objects and exposing only the necessary information to the outside world. "
   ]
  },
  {
   "cell_type": "markdown",
   "id": "1a433d49-36be-484c-8c3d-98db898707ba",
   "metadata": {},
   "source": [
    "it involves separating the interface of a data object from its implementation"
   ]
  },
  {
   "cell_type": "markdown",
   "id": "280dc93f-8a1d-4fdf-9d1b-e42771dc6eb5",
   "metadata": {},
   "source": [
    "Behavioral Abstraction: This type of abstraction is concerned with hiding the implementation details of methods and exposing only their functionality to the outside world. "
   ]
  },
  {
   "cell_type": "markdown",
   "id": "797bdd01-184b-4371-8806-473c5a9f3640",
   "metadata": {},
   "source": [
    "\n",
    "it involves separating the specification of a method from its implementation."
   ]
  },
  {
   "cell_type": "markdown",
   "id": "6de9b43f-2f9d-4e99-b59d-772a66cb7789",
   "metadata": {},
   "source": [
    "### Inheritance"
   ]
  },
  {
   "cell_type": "markdown",
   "id": "e1a5f1a5-99d6-4c4d-a19c-1b4997eeb7e4",
   "metadata": {},
   "source": [
    "Inheritance is a fundamental concept in object-oriented programming (OOP) that allows a class to inherit properties and methods from another class"
   ]
  },
  {
   "cell_type": "markdown",
   "id": "1e40127c-2c9f-4b56-aed4-ffe6acf4353a",
   "metadata": {},
   "source": [
    "The class that inherits from another class is called the subclass"
   ]
  },
  {
   "cell_type": "markdown",
   "id": "0ca5ebc9-d90e-489a-baf7-e982c15bb232",
   "metadata": {},
   "source": [
    " the class that is being inherited from is called the superclass or base class."
   ]
  },
  {
   "cell_type": "markdown",
   "id": "ea3fe962-ae8e-468c-b544-4a3b282c1c3c",
   "metadata": {},
   "source": [
    "Single Inheritance: In single inheritance, a subclass inherits properties and methods from a single superclass. This is the most common type of inheritance in OOP."
   ]
  },
  {
   "cell_type": "markdown",
   "id": "0838803d-112d-4b33-9d7e-a8fb102886a1",
   "metadata": {},
   "source": [
    "Multi-level Inheritance: In multi-level inheritance, a subclass inherits properties and methods from a superclass, which itself inherits from another superclass. This creates a hierarchy of classes with each level inheriting from the level above it."
   ]
  },
  {
   "cell_type": "markdown",
   "id": "df0c6c98-e91b-42a3-aeda-defab6f88b20",
   "metadata": {},
   "source": [
    "Hierarchical Inheritance: In hierarchical inheritance, multiple subclasses inherit from a single superclass. This can be useful when you want to create a set of related classes that share common properties and methods."
   ]
  },
  {
   "cell_type": "markdown",
   "id": "1ad52046-22b7-4c4a-975e-a5f60bbfae36",
   "metadata": {},
   "source": [
    "Hybrid Inheritance: Hybrid inheritance is a combination of two or more types of inheritance. For example, you might use multiple inheritance along with multi-level inheritance to create a complex class hierarchy."
   ]
  },
  {
   "cell_type": "markdown",
   "id": "07f7ad7c-24e7-4a31-ac42-324459b153c2",
   "metadata": {},
   "source": [
    "### Polymorphism"
   ]
  },
  {
   "cell_type": "markdown",
   "id": "401e8124-fe4f-42c0-a7b8-4385044de5e6",
   "metadata": {},
   "source": [
    "allows objects of different classes to be treated as if they were the same type of object. This is achieved through method overriding and method overloading."
   ]
  },
  {
   "cell_type": "markdown",
   "id": "414f63e0-41a8-43f8-bc1a-c7ffac517e84",
   "metadata": {},
   "source": [
    "\n",
    "Method Overloading: In method overloading, multiple methods can have the same name but different parameters. The appropriate method is chosen at compile time based on the number and types of arguments passed."
   ]
  },
  {
   "cell_type": "markdown",
   "id": "8697d67b-bb82-442d-a8f6-e4506afc53be",
   "metadata": {},
   "source": [
    "Method Overriding: In method overriding, a method in a subclass has the same name and signature as a method in the superclass. The subclass method replaces the superclass method when called on an object of the subclass."
   ]
  },
  {
   "cell_type": "markdown",
   "id": "46b5b36f-3f33-41a5-83ce-f59a766d7f27",
   "metadata": {},
   "source": [
    "Operator Overloading: In operator overloading, operators such as +, -, *, / can be overloaded to work with objects of a custom class. This allows you to define the behavior of these operators for your custom class."
   ]
  },
  {
   "cell_type": "markdown",
   "id": "f968ecc8-ae47-4083-91ed-20019eda2e01",
   "metadata": {},
   "source": [
    "Interface Polymorphism: In interface polymorphism, objects of different classes can be treated as objects of the same interface. This allows you to write code that can work with objects of different types as long as they implement the same interface."
   ]
  },
  {
   "cell_type": "markdown",
   "id": "9c38a5a1-9d44-4613-9aa0-25d7fbe7fb3a",
   "metadata": {},
   "source": [
    "#  Creating a new class creates a new type of object"
   ]
  },
  {
   "cell_type": "markdown",
   "id": "7b26e313-93ec-471e-81a3-8dfba4acdb84",
   "metadata": {},
   "source": [
    "## python classes provide all the standard features of Object Oriented Programming:"
   ]
  },
  {
   "cell_type": "markdown",
   "id": "57ef7640-00f3-4a7d-8278-4ac8d4351c9c",
   "metadata": {},
   "source": [
    "In Python, a namespace is a mapping between names and objects. Each namespace is created at different moments and has a different lifetime. "
   ]
  },
  {
   "cell_type": "markdown",
   "id": "2f7e3a64-594c-4aa0-be79-8796875d6f0d",
   "metadata": {},
   "source": [
    "Scopes in Python are the regions of the program in which a namespace can be accessed without a prefix."
   ]
  },
  {
   "cell_type": "markdown",
   "id": "c9772135-1b8d-4efa-b328-48ab5b7533cd",
   "metadata": {},
   "source": [
    "#### There are several types of namespaces and scopes in Python:\n"
   ]
  },
  {
   "cell_type": "markdown",
   "id": "0d200302-14fe-462f-a4c3-578526d69a97",
   "metadata": {},
   "source": [
    "Built-in Namespace: This is a namespace that contains all the built-in functions, modules, and variables in Python. It is automatically created when Python starts up and is always available.\n",
    "\n",
    "Global Namespace: This is a namespace that contains all the names defined at the top level of a module. It is created when the module is imported and lasts until the Python interpreter exits.\n",
    "\n",
    "Local Namespace: This is a namespace that contains all the names defined within a function. It is created when the function is called and is destroyed when the function returns.\n",
    "\n",
    "Enclosing Namespace: This is a namespace that contains all the names defined in the local scope of an enclosing function. It is created when a function is defined inside another function and lasts until the enclosing function returns."
   ]
  },
  {
   "cell_type": "markdown",
   "id": "d132d6d1-39ab-4bf9-8a4f-b142c5d5f990",
   "metadata": {},
   "source": [
    "###  LEGB rule"
   ]
  },
  {
   "cell_type": "markdown",
   "id": "01da306e-8376-426b-a4ca-8e64c7d180a6",
   "metadata": {},
   "source": [
    "When you reference a name in Python, the interpreter looks for it in the local namespace first, then in any enclosing namespaces, then in the global namespace, and finally in the built-in namespace. This is known as the LEGB rule."
   ]
  },
  {
   "cell_type": "code",
   "execution_count": 6,
   "id": "74645e9c-b8a8-48e7-9766-a63fab9f16c9",
   "metadata": {},
   "outputs": [
    {
     "name": "stdout",
     "output_type": "stream",
     "text": [
      "After local assignment: test spam\n",
      "After nonlocal assignment: nonlocal spam\n",
      "After global assignment: nonlocal spam\n",
      "None\n",
      "In global scope: global_outer spam\n"
     ]
    }
   ],
   "source": [
    "def do_global():\n",
    "        global spam\n",
    "        spam = \"global_outer spam\"\n",
    "\n",
    "def scope_test():\n",
    "    def do_local():\n",
    "        spam = \"local spam\"\n",
    "\n",
    "    def do_nonlocal():\n",
    "        nonlocal spam\n",
    "        spam = \"nonlocal spam\"\n",
    "\n",
    "    def do_global():\n",
    "        global spam\n",
    "        spam = \"global spam\"\n",
    "\n",
    "    spam = \"test spam\"\n",
    "    do_local()\n",
    "    print(\"After local assignment:\", spam)\n",
    "    do_nonlocal()\n",
    "    print(\"After nonlocal assignment:\", spam)\n",
    "    do_global()\n",
    "    print(\"After global assignment:\", spam)\n",
    "\n",
    "scope_test()\n",
    "print(do_global())\n",
    "print(\"In global scope:\", spam)"
   ]
  },
  {
   "cell_type": "markdown",
   "id": "1f2ea08d",
   "metadata": {},
   "source": [
    "Class: A class is a blueprint or template that defines the properties and behaviors of an object. In Python, a class is defined using the class keyword."
   ]
  },
  {
   "cell_type": "markdown",
   "id": "834352d0",
   "metadata": {},
   "source": [
    " a class is a blueprint or template for creating objects that have certain properties and behaviors. It defines the attributes and methods that objects of the class will have. "
   ]
  },
  {
   "cell_type": "markdown",
   "id": "56200f2f",
   "metadata": {},
   "source": [
    "#### instance of a class"
   ]
  },
  {
   "cell_type": "markdown",
   "id": "628c504f",
   "metadata": {},
   "source": [
    " an instance of a class is an object that is created based on the definition of a class. It is an individual occurrence of a class that has its own set of attributes and methods."
   ]
  },
  {
   "cell_type": "markdown",
   "id": "64160c80",
   "metadata": {},
   "source": [
    "### attributes"
   ]
  },
  {
   "cell_type": "markdown",
   "id": "19ec045e",
   "metadata": {},
   "source": [
    "Overall, attributes are an important part of object-oriented programming in Python, as they allow objects to store and manipulate data in a structured and organized way."
   ]
  },
  {
   "cell_type": "markdown",
   "id": "dd240acf",
   "metadata": {},
   "source": [
    "#### Instance attributes"
   ]
  },
  {
   "cell_type": "markdown",
   "id": "d7ea3e89",
   "metadata": {},
   "source": [
    "Instance attributes are specific to an instance of a class. They are created and assigned values within the class constructor (__init__() method) using the self keyword. Instance attributes are unique to each instance of the class and can have different values for each instance."
   ]
  },
  {
   "cell_type": "markdown",
   "id": "52999930",
   "metadata": {},
   "source": [
    "#### Instance attributes are unique to each instance of the class and can have different values for each instance."
   ]
  },
  {
   "cell_type": "code",
   "execution_count": 1,
   "id": "b8370cdd",
   "metadata": {},
   "outputs": [],
   "source": [
    "class Person:\n",
    "    def __init__(self, name, age):\n",
    "        self.name = name\n",
    "        self.age = age"
   ]
  },
  {
   "cell_type": "markdown",
   "id": "f05426a6",
   "metadata": {},
   "source": [
    "#### Class attributes"
   ]
  },
  {
   "cell_type": "markdown",
   "id": "0ce0f475",
   "metadata": {},
   "source": [
    "Class attributes, on the other hand, are shared among all instances of a class. They are defined outside the class constructor and are assigned using the class name. Class attributes are the same for every instance of the class."
   ]
  },
  {
   "cell_type": "code",
   "execution_count": 2,
   "id": "399cd6da",
   "metadata": {},
   "outputs": [],
   "source": [
    "class Dog:\n",
    "    species = 'mammal'\n",
    "    \n",
    "    def __init__(self, name, age):\n",
    "        self.name = name\n",
    "        self.age = age"
   ]
  },
  {
   "cell_type": "code",
   "execution_count": 3,
   "id": "f4bdc378",
   "metadata": {},
   "outputs": [
    {
     "name": "stdout",
     "output_type": "stream",
     "text": [
      "mammal\n",
      "mammal\n"
     ]
    }
   ],
   "source": [
    "print(Dog.species)   # Output: \"mammal\"\n",
    "\n",
    "my_dog = Dog(\"Fido\", 3)\n",
    "print(my_dog.species)   # Output: \"mammal\""
   ]
  },
  {
   "cell_type": "code",
   "execution_count": 4,
   "id": "a5fc6330",
   "metadata": {},
   "outputs": [
    {
     "name": "stdout",
     "output_type": "stream",
     "text": [
      "mammal\n",
      "reptile\n"
     ]
    }
   ],
   "source": [
    "my_dog.species = 'reptile'\n",
    "print(Dog.species)   # Output: \"mammal\"\n",
    "print(my_dog.species)   # Output: \"reptile\""
   ]
  },
  {
   "cell_type": "markdown",
   "id": "c85da83c",
   "metadata": {},
   "source": [
    "### method"
   ]
  },
  {
   "cell_type": "markdown",
   "id": "ec5e7459",
   "metadata": {},
   "source": [
    "a method is a function that is defined within a class and operates on instances of that class. A method is a behavior of an object, and can be called on an instance of the class using the dot notation."
   ]
  },
  {
   "cell_type": "code",
   "execution_count": 5,
   "id": "e411825a",
   "metadata": {},
   "outputs": [],
   "source": [
    "class Dog:\n",
    "    def __init__(self, name, age):\n",
    "        self.name = name\n",
    "        self.age = age\n",
    "        \n",
    "    def bark(self):\n",
    "        print(\"Woof!\")"
   ]
  },
  {
   "cell_type": "code",
   "execution_count": 6,
   "id": "6cb6a526",
   "metadata": {},
   "outputs": [
    {
     "name": "stdout",
     "output_type": "stream",
     "text": [
      "Woof!\n"
     ]
    }
   ],
   "source": [
    "my_dog = Dog(\"Fido\", 3)\n",
    "my_dog.bark() "
   ]
  },
  {
   "cell_type": "markdown",
   "id": "2e99d710",
   "metadata": {},
   "source": [
    "Instance methods: These are the most common type of methods in OOP. They are defined within a class and operate on an instance of that class. Instance methods typically take the instance itself (usually referred to as \"self\") as their first parameter.\n",
    "\n",
    "Class methods: These are methods that operate on the class itself, rather than on instances of the class. Class methods are defined using the \"@classmethod\" decorator, and take the class itself (usually referred to as \"cls\") as their first parameter.\n",
    "\n",
    "Static methods: These methods are similar to class methods in that they operate on the class itself, rather than on instances of the class. However, they don't receive any special first parameter (like \"cls\" for class methods), and they don't have access to the class's internal state. Static methods are defined using the \"@staticmethod\" decorator.\n",
    "\n",
    "Getter and setter methods: These are methods that are used to get and set the values of instance variables (i.e., attributes). Getter methods typically have names that start with \"get_\", and they return the current value of an attribute. Setter methods typically have names that start with \"set_\", and they set the value of an attribute to a new value.\n",
    "\n",
    "Special methods: These are methods that have special names (i.e., they start and end with two underscores) and are used to define how instances of a class behave in certain situations. For example, the \"init\" method is called when an instance of a class is created, and is used to initialize the instance's attributes. The \"str\" method is used to define how an instance of a class is converted to a string, and is often used for debugging purposes. There are many other special methods that can be used in Python."
   ]
  },
  {
   "cell_type": "markdown",
   "id": "54cb76f1",
   "metadata": {},
   "source": [
    "#### magic method"
   ]
  },
  {
   "cell_type": "markdown",
   "id": "811dfb18",
   "metadata": {},
   "source": [
    "These methods are invoked automatically by Python under certain circumstances, such as when an object is created, when it is printed, when it is compared with another object, and when it is used in arithmetic operations."
   ]
  },
  {
   "cell_type": "markdown",
   "id": "a76ec285",
   "metadata": {},
   "source": [
    "__init__(self, ...) : This method is called when an object is created and is used to initialize its state.\n",
    "\n",
    "__str__(self) : This method is called when the object is printed as a string. It returns a string representation of the object.\n",
    "\n",
    "__eq__(self, other) : This method is called when the object is compared for equality with another object. It returns True if the two objects are equal, False otherwise.\n",
    "\n",
    "__add__(self, other) : This method is called when the object is used in addition with another object. It returns the result of the addition.\n",
    "\n",
    "__len__(self) : This method is called when the built-in len() function is used on the object. It returns the length of the object.\n",
    "\n",
    "__getitem__(self, key) : This method is called when the object is indexed using the square bracket notation. It returns the value corresponding to the given key.\n",
    "\n",
    "__setitem__(self, key, value) : This method is called when the object is assigned a value using the square bracket notation. It sets the value corresponding to the given key."
   ]
  },
  {
   "cell_type": "markdown",
   "id": "ae2e9f98",
   "metadata": {},
   "source": [
    "Instance Methods:\n",
    "Instance methods are the most common type of method in OOP. They are defined within a class and operate on instances (objects) of that class. Instance methods always have the self parameter as the first argument, which refers to the instance of the class on which the method is called. Instance methods can access and modify instance variables."
   ]
  },
  {
   "cell_type": "code",
   "execution_count": null,
   "id": "a7fc6b01",
   "metadata": {},
   "outputs": [],
   "source": []
  }
 ],
 "metadata": {
  "kernelspec": {
   "display_name": "Python 3 (ipykernel)",
   "language": "python",
   "name": "python3"
  },
  "language_info": {
   "codemirror_mode": {
    "name": "ipython",
    "version": 3
   },
   "file_extension": ".py",
   "mimetype": "text/x-python",
   "name": "python",
   "nbconvert_exporter": "python",
   "pygments_lexer": "ipython3",
   "version": "3.10.9"
  }
 },
 "nbformat": 4,
 "nbformat_minor": 5
}
