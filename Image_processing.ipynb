{
 "cells": [
  {
   "cell_type": "markdown",
   "id": "39d868aa",
   "metadata": {},
   "source": [
    "Image processing typically involves a sequence of steps to transform and enhance images to extract useful information or improve their visual appearance. The basic steps in image processing are:\n",
    "\n",
    "Image Acquisition: The first step is to acquire the image from a source, such as a camera or scanner.\n",
    "\n",
    "Preprocessing: This step involves cleaning up the image by removing any unwanted noise or artifacts, correcting any distortions or defects, and enhancing the contrast or brightness.\n",
    "\n",
    "Segmentation: Segmentation is the process of dividing the image into smaller regions or objects, which can then be analyzed separately. This step is particularly important for object recognition or detection.\n",
    "\n",
    "Feature Extraction: This step involves extracting meaningful features from the segmented image regions. These features can include shape, texture, color, or other properties that can be used to identify or classify objects in the image.\n",
    "\n",
    "Classification: Classification is the process of assigning a label or category to the image based on its features. This step typically involves using a machine learning algorithm, such as a neural network, to learn the relationship between the image features and the corresponding labels.\n",
    "\n",
    "Post-processing: The final step is to perform any necessary post-processing on the image, such as filtering, smoothing, or sharpening, to improve its visual appearance or enhance the information extracted from it.\n",
    "\n",
    "It's important to note that these steps are not always performed sequentially, and some steps may be skipped or combined depending on the specific application and requirements of the image processing task."
   ]
  },
  {
   "cell_type": "markdown",
   "id": "341cee81",
   "metadata": {},
   "source": [
    "### Preprocessing"
   ]
  },
  {
   "cell_type": "markdown",
   "id": "255a4ee6",
   "metadata": {},
   "source": [
    "The steps of image processing generally involve the following:\n",
    "\n",
    "Image Acquisition: The process of capturing an image using a digital camera or scanner.\n",
    "\n",
    "Image Enhancement: The process of improving the quality of an image by adjusting its brightness, contrast, color, and sharpness.\n",
    "\n",
    "Image Restoration: The process of removing noise, blur, and other artifacts from an image to restore its original quality.\n",
    "\n",
    "Image Segmentation: The process of dividing an image into multiple regions or objects based on their characteristics, such as color, texture, and shape.\n",
    "\n",
    "Feature Extraction: The process of identifying and extracting meaningful features from an image, such as edges, corners, and textures.\n",
    "\n",
    "Object Recognition: The process of identifying and classifying objects in an image based on their features and characteristics.\n",
    "\n",
    "Object Tracking: The process of following the movement of an object in a sequence of images over time.\n",
    "\n",
    "Image Compression: The process of reducing the size of an image by removing redundant information while preserving its quality and content.\n",
    "\n",
    "Image Retrieval: The process of searching and retrieving images from a large database based on their content and similarity to a given query."
   ]
  },
  {
   "cell_type": "markdown",
   "id": "ee513552",
   "metadata": {},
   "source": [
    "### Image Enhancement"
   ]
  },
  {
   "cell_type": "markdown",
   "id": "c6ac8244",
   "metadata": {},
   "source": [
    "Image enhancement is the process of improving the visual quality of an image by adjusting its brightness, contrast, color, and other parameters. In Python, we can use various image processing libraries such as OpenCV and PIL to perform image enhancement."
   ]
  },
  {
   "cell_type": "code",
   "execution_count": 2,
   "id": "5c6c9430",
   "metadata": {},
   "outputs": [],
   "source": [
    "import cv2\n",
    "import numpy as np\n",
    "\n",
    "# Load the image\n",
    "img = cv2.imread(\"beautiful-rain.jpg\")\n",
    "\n",
    "# Convert the image to grayscale\n",
    "gray = cv2.cvtColor(img, cv2.COLOR_BGR2GRAY)\n",
    "\n",
    "# Perform histogram equalization\n",
    "equ = cv2.equalizeHist(gray)\n",
    "\n",
    "# Display the original and enhanced images side by side\n",
    "cv2.imshow(\"Original1\", img)\n",
    "cv2.imshow(\"Original\", gray)\n",
    "cv2.imshow(\"Enhanced\", equ)\n",
    "cv2.waitKey(0)\n",
    "cv2.destroyAllWindows()"
   ]
  },
  {
   "cell_type": "markdown",
   "id": "68ce7194",
   "metadata": {},
   "source": [
    "#### Perform histogram equalization"
   ]
  },
  {
   "cell_type": "markdown",
   "id": "542b959b",
   "metadata": {},
   "source": [
    "Histogram equalization is a method of image enhancement that improves the contrast of an image by redistributing its pixel intensities. In Python, we can use the OpenCV library to perform histogram equalization on an image."
   ]
  },
  {
   "cell_type": "markdown",
   "id": "de95fc10",
   "metadata": {},
   "source": [
    "Next, we perform histogram equalization using the cv2.equalizeHist() function, which enhances the contrast of the image by redistributing its pixel intensities."
   ]
  },
  {
   "cell_type": "markdown",
   "id": "480ab202",
   "metadata": {},
   "source": [
    "### Image Restoration"
   ]
  },
  {
   "cell_type": "markdown",
   "id": "7c000e38",
   "metadata": {},
   "source": [
    "Image restoration is the process of removing noise, blur, and other artifacts from an image to restore its original quality."
   ]
  },
  {
   "cell_type": "code",
   "execution_count": 3,
   "id": "d4a0b0a6",
   "metadata": {},
   "outputs": [],
   "source": [
    "import cv2\n",
    "\n",
    "# Load the image\n",
    "img = cv2.imread(\"beautiful-rain.jpg\")\n",
    "\n",
    "# Convert the image to grayscale\n",
    "gray = cv2.cvtColor(img, cv2.COLOR_BGR2GRAY)\n",
    "\n",
    "# Apply Non-Local Means filter for denoising\n",
    "denoised = cv2.fastNlMeansDenoising(gray, None, 10, 7, 21)\n",
    "\n",
    "# Display the original and denoised images side by side\n",
    "cv2.imshow(\"Original\", gray)\n",
    "cv2.imshow(\"Denoised\", denoised)\n",
    "cv2.waitKey(0)\n",
    "cv2.destroyAllWindows()"
   ]
  },
  {
   "cell_type": "markdown",
   "id": "77ee4153",
   "metadata": {},
   "source": [
    "we apply the Non-Local Means filter for denoising using the cv2.fastNlMeansDenoising() function. The NLM filter is a type of non-linear filter that estimates the original signal by comparing the pixel patches of the noisy image."
   ]
  },
  {
   "cell_type": "code",
   "execution_count": null,
   "id": "b518e817",
   "metadata": {},
   "outputs": [],
   "source": [
    "https://docs.opencv.org/4.x/d6/d00/tutorial_py_root.html\n",
    "\n",
    "\n"
   ]
  },
  {
   "cell_type": "markdown",
   "id": "1253ecd3",
   "metadata": {},
   "source": [
    "### Image Segmentation"
   ]
  },
  {
   "cell_type": "markdown",
   "id": "801f9c0c",
   "metadata": {},
   "source": [
    "Image segmentation is the process of dividing an image into multiple regions or segments based on their visual characteristics, such as color, texture, brightness, or other features."
   ]
  },
  {
   "cell_type": "markdown",
   "id": "09ffbcb9",
   "metadata": {},
   "source": [
    "##### Pixel intensities"
   ]
  },
  {
   "cell_type": "markdown",
   "id": "38b9903c",
   "metadata": {},
   "source": [
    "Pixel intensities refer to the values that define the brightness or color of a pixel in an image. For grayscale images, the intensity value is a single scalar value that typically ranges from 0 (black) to 255 (white) for an 8-bit image. For color images, the intensity value is a vector of three values (usually red, green, and blue) that define the color of the pixel."
   ]
  },
  {
   "cell_type": "code",
   "execution_count": 12,
   "id": "c215944b",
   "metadata": {},
   "outputs": [],
   "source": [
    "import cv2\n",
    "\n",
    "# Load the image\n",
    "img = cv2.imread(\"beautiful-rain.jpg\")\n",
    "\n",
    "intensity = img[1,3]\n",
    "(b, g, r) = intensity"
   ]
  },
  {
   "cell_type": "markdown",
   "id": "11d06c01",
   "metadata": {},
   "source": [
    "To access the color values of the pixel at row i and column j in a color image img, you can use the following code:"
   ]
  },
  {
   "cell_type": "code",
   "execution_count": 15,
   "id": "d5e5d86c",
   "metadata": {},
   "outputs": [
    {
     "data": {
      "text/plain": [
       "101"
      ]
     },
     "execution_count": 15,
     "metadata": {},
     "output_type": "execute_result"
    }
   ],
   "source": [
    "r"
   ]
  },
  {
   "cell_type": "markdown",
   "id": "b70acd1b",
   "metadata": {},
   "source": [
    " ###### image histogram"
   ]
  },
  {
   "cell_type": "markdown",
   "id": "93bda394",
   "metadata": {},
   "source": [
    "An image histogram is a graphical representation of the distribution of pixel intensities in an image. It plots the number of pixels that have a particular intensity value on the x-axis, against the number of pixels that have that intensity value on the y-axis.\n",
    "\n",
    "In other words, the histogram shows the frequency distribution of pixel intensities in an image. It is a useful tool in image processing and analysis, and can provide insights into the overall brightness, contrast, and color balance of an image."
   ]
  },
  {
   "cell_type": "code",
   "execution_count": 8,
   "id": "d44da097",
   "metadata": {},
   "outputs": [
    {
     "name": "stderr",
     "output_type": "stream",
     "text": [
      "Matplotlib is building the font cache; this may take a moment.\n"
     ]
    },
    {
     "data": {
      "image/png": "[encoded data removed]",
      "text/plain": [
       "<Figure size 640x480 with 1 Axes>"
      ]
     },
     "metadata": {},
     "output_type": "display_data"
    }
   ],
   "source": [
    "import cv2\n",
    "import matplotlib.pyplot as plt\n",
    "\n",
    "# Load an image in grayscale\n",
    "img = cv2.imread('beautiful-rain.jpg', 0)\n",
    "\n",
    "# Calculate the histogram\n",
    "hist = cv2.calcHist([img], [0], None, [256], [0, 256])\n",
    "\n",
    "# Plot the histogram\n",
    "plt.plot(hist)\n",
    "plt.xlim([0, 256])\n",
    "plt.xlabel('Pixel Intensity')\n",
    "plt.ylabel('Frequency')\n",
    "plt.show()"
   ]
  },
  {
   "cell_type": "code",
   "execution_count": null,
   "id": "54d7f62a",
   "metadata": {},
   "outputs": [],
   "source": []
  },
  {
   "cell_type": "markdown",
   "id": "83e88001",
   "metadata": {},
   "source": [
    "#### Types of segmentations"
   ]
  },
  {
   "cell_type": "markdown",
   "id": "e949f223",
   "metadata": {},
   "source": [
    "Thresholding: In thresholding, a fixed threshold value is used to separate the pixels of an image into different regions. The pixels with intensity values above the threshold are assigned to one region, while the pixels with intensity values below the threshold are assigned to another region.\n",
    "\n",
    "Edge-based segmentation: Edge-based segmentation involves detecting and linking edges or boundaries between regions in an image. This method relies on gradient or edge detection algorithms to identify abrupt changes in intensity or color.\n",
    "\n",
    "Region-based segmentation: Region-based segmentation involves grouping pixels in an image based on their similarity in color, texture, or other features. This method is typically based on clustering algorithms such as k-means or mean-shift.\n",
    "\n",
    "Watershed segmentation: Watershed segmentation is a method that treats the image as a topographic map and considers the intensity values as heights. This method uses flooding from local minima in the topographic surface to separate different regions."
   ]
  },
  {
   "cell_type": "markdown",
   "id": "b3ba826b",
   "metadata": {},
   "source": [
    "#### Thresholding"
   ]
  },
  {
   "cell_type": "markdown",
   "id": "9a2091b2",
   "metadata": {},
   "source": [
    "Simple thresholding:\n",
    "In simple thresholding, all the pixels with intensities above a predefined threshold value are set to 255 (white), while all the pixels below the threshold value are set to 0 (black). The threshold value is typically chosen based on trial and error or by analyzing the histogram of the image."
   ]
  },
  {
   "cell_type": "code",
   "execution_count": 1,
   "id": "f5a06968",
   "metadata": {},
   "outputs": [],
   "source": [
    "import cv2\n",
    "\n",
    "# Load an image in grayscale\n",
    "img = cv2.imread('beautiful-rain.jpg', 0)\n",
    "\n",
    "# Apply simple thresholding with a threshold of 100\n",
    "ret, thresh = cv2.threshold(img, 100, 255, cv2.THRESH_BINARY)\n",
    "\n",
    "# Display the thresholded image\n",
    "cv2.imshow('Thresholded Image', thresh)\n",
    "cv2.waitKey(0)\n",
    "cv2.destroyAllWindows()"
   ]
  },
  {
   "cell_type": "markdown",
   "id": "bb3d8c81",
   "metadata": {},
   "source": [
    "ret, thresholded_img = cv2.threshold(img, threshold_value, max_value, threshold_type)"
   ]
  },
  {
   "cell_type": "markdown",
   "id": "46bcaa2c",
   "metadata": {},
   "source": [
    "img: the input image\n",
    "threshold_value: the threshold value used for segmentation\n",
    "max_value: the maximum pixel value assigned to pixels that exceed the threshold\n",
    "threshold_type: the type of thresholding applied (in this case, binary thresholding)\n",
    "ret: the threshold value used by the function (in case of adaptive thresholding)"
   ]
  },
  {
   "cell_type": "markdown",
   "id": "85803f30",
   "metadata": {},
   "source": [
    " Adaptive thresholding methods use a local threshold value for each pixel based on the local neighborhood of the pixel. This is useful when the lighting conditions vary across the image, making it difficult to use a global threshold value.Adaptive thresholding:\n",
    "In adaptive thresholding, the threshold value is calculated for each pixel based on the local neighborhood of the pixel. This method is useful for images with varying lighting conditions or shadows."
   ]
  },
  {
   "cell_type": "code",
   "execution_count": 3,
   "id": "9d5ec719",
   "metadata": {},
   "outputs": [],
   "source": [
    "import cv2\n",
    "\n",
    "# Load an image in grayscale\n",
    "img = cv2.imread('beautiful-rain.jpg', 0)\n",
    "\n",
    "# Apply mean adaptive thresholding with a block size of 11 and a constant value of 2\n",
    "block_size = 11\n",
    "constant_value = 2\n",
    "threshold_type = cv2.ADAPTIVE_THRESH_MEAN_C\n",
    "thresholded_img = cv2.adaptiveThreshold(img, 255, threshold_type, cv2.THRESH_BINARY, block_size, constant_value)\n",
    "\n",
    "# Display the original and thresholded images\n",
    "cv2.imshow('Original Image', img)\n",
    "cv2.imshow('Thresholded Image', thresholded_img)\n",
    "cv2.waitKey(0)\n",
    "cv2.destroyAllWindows()"
   ]
  },
  {
   "cell_type": "markdown",
   "id": "aed54364",
   "metadata": {},
   "source": [
    "img: the input image\n",
    "max_value: the maximum pixel value assigned to pixels that exceed the threshold\n",
    "threshold_type: the type of adaptive thresholding applied (in this case, mean adaptive thresholding)\n",
    "threshold_method: the type of thresholding applied to the thresholded pixels (in this case, binary thresholding)\n",
    "block_size: the size of the local neighborhood used for calculating the adaptive threshold value\n",
    "constant_value: a constant subtracted from the mean or weighted mean calculated by the adaptive thresholding algorithm."
   ]
  },
  {
   "cell_type": "markdown",
   "id": "caccf3bf",
   "metadata": {},
   "source": [
    "Otsu's Thresholding: Otsu's thresholding is a global thresholding method that calculates an optimal threshold value based on the image histogram. It assumes that the image contains two classes of pixels (foreground and background) and tries to minimize the intra-class variance while maximizing the inter-class variance."
   ]
  },
  {
   "cell_type": "markdown",
   "id": "1a247477",
   "metadata": {},
   "source": [
    "The intra-class variance is a measure of the variation of pixel intensities within a single class or region of an image. It indicates how similar or homogeneous the pixels in a region are. The lower the intra-class variance, the more homogeneous the region is. Conversely, the higher the intra-class variance, the more varied the pixel intensities are within the region."
   ]
  },
  {
   "cell_type": "markdown",
   "id": "24a52b9a",
   "metadata": {},
   "source": [
    "The inter-class variance, on the other hand, is a measure of the variation of pixel intensities between different classes or regions of an image. It indicates how distinct or separable the different classes or regions are. The higher the inter-class variance, the more distinct the different classes or regions are. Conversely, the lower the inter-class variance, the more similar or overlapping the different classes or regions are."
   ]
  },
  {
   "cell_type": "code",
   "execution_count": 5,
   "id": "997df08c",
   "metadata": {},
   "outputs": [],
   "source": [
    "import cv2\n",
    "\n",
    "# Load an image in grayscale\n",
    "img = cv2.imread('beautiful-rain.jpg', 0)\n",
    "\n",
    "# Apply Otsu's thresholding\n",
    "threshold_value, thresholded_img = cv2.threshold(img, 0, 255, cv2.THRESH_BINARY + cv2.THRESH_OTSU)\n",
    "\n",
    "# Display the original and thresholded images\n",
    "cv2.imshow('Original Image', img)\n",
    "cv2.imshow('Thresholded Image', thresholded_img)\n",
    "cv2.waitKey(0)\n",
    "cv2.destroyAllWindows()"
   ]
  },
  {
   "cell_type": "markdown",
   "id": "1f9f8143",
   "metadata": {},
   "source": [
    "using the cv2.threshold() function. The function takes the following parameters:\n",
    "\n",
    "img: the input image\n",
    "thresh: the threshold value (in this case, we set it to 0 since Otsu's method determines the threshold automatically)\n",
    "maxval: the maximum pixel value assigned to pixels that exceed the threshold (in this case, we set it to 255)\n",
    "type: the type of thresholding applied to the thresholded pixels (in this case, we use cv2.THRESH_BINARY to binarize the image)\n",
    "flags: optional flags (in this case, we add the cv2.THRESH_OTSU flag to enable Otsu's thresholding)"
   ]
  },
  {
   "cell_type": "markdown",
   "id": "4be40a93",
   "metadata": {},
   "source": [
    "Foreground typically refers to the objects or regions of interest that we want to detect, segment, or analyze in an image. For example, in an image of a person walking in a park, the person is the foreground object that we want to detect or segment."
   ]
  },
  {
   "cell_type": "markdown",
   "id": "6fa3bea3",
   "metadata": {},
   "source": [
    "Background, on the other hand, refers to the rest of the image that does not contain the objects or regions of interest. In the same example of a person walking in a park, the background includes the trees, grass, sky, and other parts of the image that are not part of the person."
   ]
  },
  {
   "cell_type": "markdown",
   "id": "77eecc4d",
   "metadata": {},
   "source": [
    "Multi-level Thresholding: Multi-level thresholding is used when an image has more than two classes of pixels. It involves dividing the image into multiple regions based on multiple threshold values."
   ]
  },
  {
   "cell_type": "code",
   "execution_count": 20,
   "id": "832c012f",
   "metadata": {},
   "outputs": [],
   "source": [
    "import cv2\n",
    "import numpy as np\n",
    "\n",
    "# Load the source image\n",
    "img = cv2.imread('beautiful-rain.jpg', 0)\n",
    "\n",
    "# Apply Otsu's thresholding for multi-level thresholding\n",
    "maxval = 255\n",
    "retval, dst = cv2.threshold(img, 0, maxval, cv2.THRESH_BINARY+cv2.THRESH_OTSU)\n",
    "\n",
    "# Display the result\n",
    "cv2.imshow('Result', dst)\n",
    "cv2.waitKey(0)\n",
    "cv2.destroyAllWindows()"
   ]
  },
  {
   "cell_type": "markdown",
   "id": "aa7dd688",
   "metadata": {},
   "source": [
    "Color Thresholding: Color thresholding is used when the segmentation is based on color instead of intensity. In color thresholding, the image is segmented based on the presence or absence of certain colors or color ranges."
   ]
  },
  {
   "cell_type": "code",
   "execution_count": 21,
   "id": "902e15ee",
   "metadata": {},
   "outputs": [],
   "source": [
    "import cv2\n",
    "import numpy as np\n",
    "\n",
    "# Load an image\n",
    "img = cv2.imread('beautiful-rain.jpg')\n",
    "\n",
    "# Convert the image to HSV color space\n",
    "hsv_img = cv2.cvtColor(img, cv2.COLOR_BGR2HSV)\n",
    "\n",
    "# Define color range for yellow color\n",
    "lower_yellow = np.array([20, 100, 100])\n",
    "upper_yellow = np.array([30, 255, 255])\n",
    "\n",
    "# Threshold the image to extract yellow pixels\n",
    "yellow_mask = cv2.inRange(hsv_img, lower_yellow, upper_yellow)\n",
    "\n",
    "# Display the binary image\n",
    "cv2.imshow('Yellow Mask', yellow_mask)\n",
    "cv2.waitKey(0)\n",
    "cv2.destroyAllWindows()"
   ]
  },
  {
   "cell_type": "markdown",
   "id": "68546519",
   "metadata": {},
   "source": [
    "Edge-based thresholding: This method involves thresholding an image based on the edges or gradients present in the image. It is useful for segmenting objects with distinct edges or boundaries."
   ]
  },
  {
   "cell_type": "code",
   "execution_count": 22,
   "id": "d3f439f8",
   "metadata": {},
   "outputs": [],
   "source": [
    "import cv2\n",
    "import numpy as np\n",
    "\n",
    "# Load an image\n",
    "img = cv2.imread('beautiful-rain.jpg')\n",
    "\n",
    "# Convert the image to grayscale\n",
    "gray_img = cv2.cvtColor(img, cv2.COLOR_BGR2GRAY)\n",
    "\n",
    "# Apply Canny edge detection\n",
    "edges = cv2.Canny(gray_img, threshold1=50, threshold2=150)\n",
    "\n",
    "# Display the binary edge map\n",
    "cv2.imshow('Edges', edges)\n",
    "cv2.waitKey(0)\n",
    "cv2.destroyAllWindows()"
   ]
  },
  {
   "cell_type": "markdown",
   "id": "e74c7844",
   "metadata": {},
   "source": [
    "##### Watershed segmentation"
   ]
  },
  {
   "cell_type": "markdown",
   "id": "d513eddc",
   "metadata": {},
   "source": [
    "Watershed segmentation is a popular image processing technique used for segmenting objects with overlapping or touching boundaries. It is based on the analogy of a topographic map, where the gray-level intensity of an image represents the altitude of a terrain. The watershed algorithm identifies the ridges and valleys in the image and separates them to form distinct regions."
   ]
  },
  {
   "cell_type": "code",
   "execution_count": 23,
   "id": "a833640e",
   "metadata": {},
   "outputs": [],
   "source": [
    "import cv2\n",
    "import numpy as np\n",
    "\n",
    "# Load an image\n",
    "img = cv2.imread('beautiful-rain.jpg')\n",
    "\n",
    "# Convert the image to grayscale\n",
    "gray = cv2.cvtColor(img,cv2.COLOR_BGR2GRAY)\n",
    "\n",
    "# Apply Otsu's thresholding\n",
    "ret,thresh = cv2.threshold(gray,0,255,cv2.THRESH_BINARY_INV+cv2.THRESH_OTSU)\n",
    "\n",
    "# Morphological opening to remove noise\n",
    "kernel = np.ones((3,3),np.uint8)\n",
    "opening = cv2.morphologyEx(thresh,cv2.MORPH_OPEN,kernel,iterations=2)\n",
    "\n",
    "# Background region estimation\n",
    "sure_bg = cv2.dilate(opening,kernel,iterations=3)\n",
    "\n",
    "# Foreground region estimation\n",
    "dist_transform = cv2.distanceTransform(opening,cv2.DIST_L2,5)\n",
    "ret, sure_fg = cv2.threshold(dist_transform,0.5*dist_transform.max(),255,0)\n",
    "\n",
    "# Unknown region estimation\n",
    "sure_fg = np.uint8(sure_fg)\n",
    "unknown = cv2.subtract(sure_bg,sure_fg)\n",
    "\n",
    "# Label markers for watershed algorithm\n",
    "ret, markers = cv2.connectedComponents(sure_fg)\n",
    "markers = markers+1\n",
    "markers[unknown==255] = 0\n",
    "\n",
    "# Apply watershed algorithm\n",
    "markers = cv2.watershed(img,markers)\n",
    "img[markers == -1] = [255,0,0]\n",
    "\n",
    "# Display the segmented image\n",
    "cv2.imshow('Segmented Image', img)\n",
    "cv2.waitKey(0)\n",
    "cv2.destroyAllWindows()"
   ]
  },
  {
   "cell_type": "markdown",
   "id": "1ef70142",
   "metadata": {},
   "source": [
    "### Feature Extraction"
   ]
  },
  {
   "cell_type": "markdown",
   "id": "d8b5bc77",
   "metadata": {},
   "source": [
    "Feature extraction is the process of extracting relevant information or features from an image or a set of images. The extracted features can be used for a variety of applications such as object recognition, image classification, and image retrieval.\n",
    "\n"
   ]
  },
  {
   "cell_type": "markdown",
   "id": "8886c401",
   "metadata": {},
   "source": [
    "HOG (Histogram of Oriented Gradients): HOG is a popular feature descriptor that computes the distribution of oriented gradients in an image. It is widely used for object detection and pedestrian detection. In cv2, we can compute HOG features using the cv2.HOGDescriptor() function.\n",
    "\n",
    "SIFT (Scale-Invariant Feature Transform): SIFT is a popular feature descriptor that is invariant to scale, rotation, and illumination changes. It is widely used for image matching and object recognition. In cv2, we can compute SIFT features using the cv2.xfeatures2d.SIFT_create() function.\n",
    "\n",
    "SURF (Speeded-Up Robust Features): SURF is similar to SIFT, but it is faster and more efficient. It is also invariant to scale, rotation, and illumination changes. In cv2, we can compute SURF features using the cv2.xfeatures2d.SURF_create() function.\n",
    "\n",
    "ORB (Oriented FAST and Rotated BRIEF): ORB is a feature descriptor that combines the features of FAST (Features from Accelerated Segment Test) and BRIEF (Binary Robust Independent Elementary Features). It is fast, efficient, and invariant to scale, rotation, and illumination changes. In cv2, we can compute ORB features using the cv2.ORB_create() function.\n",
    "\n",
    "Deep Learning-based Feature Extraction: Deep learning-based feature extraction involves using pre-trained convolutional neural networks (CNNs) to extract features from images. CNNs have been shown to be highly effective for image recognition and classification tasks. In cv2, we can use pre-trained CNN models such as VGG, ResNet, and Inception for feature extraction."
   ]
  },
  {
   "cell_type": "markdown",
   "id": "6c1e5593",
   "metadata": {},
   "source": [
    "### Deep Learning-based Feature Extraction"
   ]
  },
  {
   "cell_type": "code",
   "execution_count": 26,
   "id": "b958e7d7",
   "metadata": {},
   "outputs": [
    {
     "name": "stdout",
     "output_type": "stream",
     "text": [
      "Downloading data from https://storage.googleapis.com/tensorflow/keras-applications/vgg16/vgg16_weights_tf_dim_ordering_tf_kernels_notop.h5\n",
      "58889256/58889256 [==============================] - 5s 0us/step\n",
      "1/1 [==============================] - 1s 1s/step\n",
      "(25088,)\n"
     ]
    }
   ],
   "source": [
    "import cv2\n",
    "import numpy as np\n",
    "from tensorflow.keras.applications.vgg16 import preprocess_input\n",
    "from tensorflow.keras.applications.vgg16 import VGG16\n",
    "\n",
    "# Load an image\n",
    "img = cv2.imread('beautiful-rain.jpg')\n",
    "\n",
    "# Resize the image to fit the input size of the CNN model\n",
    "img = cv2.resize(img, (224, 224))\n",
    "\n",
    "# Preprocess the image for the VGG16 model\n",
    "img = preprocess_input(img)\n",
    "\n",
    "# Load the VGG16 model\n",
    "model = VGG16(weights='imagenet', include_top=False)\n",
    "\n",
    "# Extract features from the image using the VGG16 model\n",
    "features = model.predict(np.array([img]))\n",
    "\n",
    "# Flatten the feature tensor to a 1D array\n",
    "features = features.flatten()\n",
    "\n",
    "# Print the shape of the feature vector\n",
    "print(features.shape)"
   ]
  },
  {
   "cell_type": "code",
   "execution_count": 27,
   "id": "dcdbf665",
   "metadata": {},
   "outputs": [
    {
     "name": "stdout",
     "output_type": "stream",
     "text": [
      "(25088,)\n"
     ]
    }
   ],
   "source": [
    "print(features.shape)"
   ]
  },
  {
   "cell_type": "markdown",
   "id": "bdf7de61",
   "metadata": {},
   "source": [
    "### Object recognitio"
   ]
  },
  {
   "cell_type": "markdown",
   "id": "b934ad23",
   "metadata": {},
   "source": [
    "Object recognition is the process of identifying and classifying objects in an image or video. It is a common application of computer vision and is used in various fields such as surveillance, robotics, and autonomous vehicles."
   ]
  },
  {
   "cell_type": "markdown",
   "id": "c1524e29",
   "metadata": {},
   "source": [
    "Haar Cascade Classifier: A Haar Cascade is a pre-trained classifier that is used to detect objects in images or videos. It uses features extracted from an object and compares them with a set of positive and negative training data to determine whether the object is present in the image. In cv2, we can use the cv2.CascadeClassifier() function to create a Haar Cascade Classifier and detect objects in images or videos.\n",
    "\n",
    "Deep Learning-based Object Detection: Deep learning-based object detection involves using pre-trained CNN models such as YOLO (You Only Look Once), Faster R-CNN (Region-based Convolutional Neural Network), and SSD (Single Shot Detector) to detect objects in images or videos. These models have achieved state-of-the-art performance in object detection and can detect objects with high accuracy and speed. In cv2, we can use pre-trained models such as TensorFlow Object Detection API or OpenCV DNN (Deep Neural Network) module to perform deep learning-based object detection.\n",
    "\n",
    "Feature Matching: Feature matching involves matching key features extracted from an object in an image with features extracted from the same object in other images or videos. In cv2, we can use feature extraction techniques such as SIFT, SURF, ORB, or HOG to extract features from an object and use feature matching algorithms such as brute force matching or FLANN (Fast Library for Approximate Nearest Neighbors) matching to match the features and detect the object."
   ]
  },
  {
   "cell_type": "markdown",
   "id": "b84d630c",
   "metadata": {},
   "source": [
    "#### Deep Learning-based Object Detection:"
   ]
  },
  {
   "cell_type": "markdown",
   "id": "deb13df2",
   "metadata": {},
   "source": [
    "run it on terminal"
   ]
  },
  {
   "cell_type": "code",
   "execution_count": null,
   "id": "6425e7f5",
   "metadata": {},
   "outputs": [],
   "source": [
    "wget https://pjreddie.com/media/files/yolov3.weights\n",
    "wget https://github.com/pjreddie/darknet/blob/master/cfg/yolov3.cfg"
   ]
  },
  {
   "cell_type": "code",
   "execution_count": 28,
   "id": "72f3545f",
   "metadata": {},
   "outputs": [
    {
     "ename": "error",
     "evalue": "OpenCV(4.7.0) D:\\a\\opencv-python\\opencv-python\\opencv\\modules\\dnn\\src\\darknet\\darknet_importer.cpp:210: error: (-212:Parsing error) Failed to open NetParameter file: yolov3.cfg in function 'cv::dnn::dnn4_v20221220::readNetFromDarknet'\n",
     "output_type": "error",
     "traceback": [
      "\u001b[1;31m---------------------------------------------------------------------------\u001b[0m",
      "\u001b[1;31merror\u001b[0m                                     Traceback (most recent call last)",
      "Cell \u001b[1;32mIn [28], line 4\u001b[0m\n\u001b[0;32m      1\u001b[0m \u001b[38;5;28;01mimport\u001b[39;00m \u001b[38;5;21;01mcv2\u001b[39;00m\n\u001b[0;32m      3\u001b[0m \u001b[38;5;66;03m# Load YOLOv3 model\u001b[39;00m\n\u001b[1;32m----> 4\u001b[0m net \u001b[38;5;241m=\u001b[39m \u001b[43mcv2\u001b[49m\u001b[38;5;241;43m.\u001b[39;49m\u001b[43mdnn\u001b[49m\u001b[38;5;241;43m.\u001b[39;49m\u001b[43mreadNetFromDarknet\u001b[49m\u001b[43m(\u001b[49m\u001b[38;5;124;43m'\u001b[39;49m\u001b[38;5;124;43myolov3.cfg\u001b[39;49m\u001b[38;5;124;43m'\u001b[39;49m\u001b[43m,\u001b[49m\u001b[43m \u001b[49m\u001b[38;5;124;43m'\u001b[39;49m\u001b[38;5;124;43myolov3.weights\u001b[39;49m\u001b[38;5;124;43m'\u001b[39;49m\u001b[43m)\u001b[49m\n\u001b[0;32m      6\u001b[0m \u001b[38;5;66;03m# Load class names\u001b[39;00m\n\u001b[0;32m      7\u001b[0m \u001b[38;5;28;01mwith\u001b[39;00m \u001b[38;5;28mopen\u001b[39m(\u001b[38;5;124m'\u001b[39m\u001b[38;5;124mcoco.names\u001b[39m\u001b[38;5;124m'\u001b[39m, \u001b[38;5;124m'\u001b[39m\u001b[38;5;124mr\u001b[39m\u001b[38;5;124m'\u001b[39m) \u001b[38;5;28;01mas\u001b[39;00m f:\n",
      "\u001b[1;31merror\u001b[0m: OpenCV(4.7.0) D:\\a\\opencv-python\\opencv-python\\opencv\\modules\\dnn\\src\\darknet\\darknet_importer.cpp:210: error: (-212:Parsing error) Failed to open NetParameter file: yolov3.cfg in function 'cv::dnn::dnn4_v20221220::readNetFromDarknet'\n"
     ]
    }
   ],
   "source": [
    "import cv2\n",
    "\n",
    "# Load YOLOv3 model\n",
    "net = cv2.dnn.readNetFromDarknet('yolov3.cfg', 'yolov3.weights')\n",
    "\n",
    "# Load class names\n",
    "with open('coco.names', 'r') as f:\n",
    "    classes = [line.strip() for line in f.readlines()]\n",
    "\n",
    "# Load image\n",
    "img = cv2.imread('beautiful-rain.jpg')\n",
    "\n",
    "# Create blob from image\n",
    "blob = cv2.dnn.blobFromImage(img, 1/255.0, (416, 416), swapRB=True, crop=False)\n",
    "\n",
    "# Set input blob for the network\n",
    "net.setInput(blob)\n",
    "\n",
    "# Get output layer names\n",
    "layer_names = net.getLayerNames()\n",
    "output_layers = [layer_names[i[0] - 1] for i in net.getUnconnectedOutLayers()]\n",
    "\n",
    "# Forward pass through the network\n",
    "outs = net.forward(output_layers)\n",
    "\n",
    "# Loop through the detections and draw bounding boxes\n",
    "for out in outs:\n",
    "    for detection in out:\n",
    "        scores = detection[5:]\n",
    "        class_id = np.argmax(scores)\n",
    "        confidence = scores[class_id]\n",
    "        if confidence > 0.5:\n",
    "            center_x = int(detection[0] * img.shape[1])\n",
    "            center_y = int(detection[1] * img.shape[0])\n",
    "            width = int(detection[2] * img.shape[1])\n",
    "            height = int(detection[3] * img.shape[0])\n",
    "            left = int(center_x - width/2)\n",
    "            top = int(center_y - height/2)\n",
    "            cv2.rectangle(img, (left, top), (left+width, top+height), (0, 255, 0), 2)\n",
    "            cv2.putText(img, classes[class_id], (left, top-5), cv2.FONT_HERSHEY_SIMPLEX, 0.5, (0, 255, 0), 2)\n",
    "\n",
    "# Display the image\n",
    "cv2.imshow('Object Detection', img)\n",
    "cv2.waitKey(0)\n",
    "cv2.destroyAllWindows()"
   ]
  },
  {
   "cell_type": "code",
   "execution_count": null,
   "id": "b1f5fd14",
   "metadata": {},
   "outputs": [],
   "source": []
  }
 ],
 "metadata": {
  "kernelspec": {
   "display_name": "Python 3 (ipykernel)",
   "language": "python",
   "name": "python3"
  },
  "language_info": {
   "codemirror_mode": {
    "name": "ipython",
    "version": 3
   },
   "file_extension": ".py",
   "mimetype": "text/x-python",
   "name": "python",
   "nbconvert_exporter": "python",
   "pygments_lexer": "ipython3",
   "version": "3.10.9"
  }
 },
 "nbformat": 4,
 "nbformat_minor": 5
}
